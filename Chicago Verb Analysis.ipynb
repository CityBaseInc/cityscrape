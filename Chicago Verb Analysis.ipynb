{
 "cells": [
  {
   "cell_type": "code",
   "execution_count": 34,
   "metadata": {},
   "outputs": [
    {
     "data": {
      "text/html": [
       "<script>requirejs.config({paths: { 'plotly': ['https://cdn.plot.ly/plotly-latest.min']},});if(!window.Plotly) {{require(['plotly'],function(plotly) {window.Plotly=plotly;});}}</script>"
      ],
      "text/vnd.plotly.v1+html": [
       "<script>requirejs.config({paths: { 'plotly': ['https://cdn.plot.ly/plotly-latest.min']},});if(!window.Plotly) {{require(['plotly'],function(plotly) {window.Plotly=plotly;});}}</script>"
      ]
     },
     "metadata": {},
     "output_type": "display_data"
    }
   ],
   "source": [
    "# #This provides access to data and to helper functions from previous weeks\n",
    "# import lucem_illud #pip install git+git://github.com/Computational-Content-Analysis-2018/lucem_illud.git\n",
    "\n",
    "import pandas as pd\n",
    "import nltk\n",
    "from nltk.corpus import stopwords\n",
    "from nltk import ngrams, bigrams\n",
    "# import docx\n",
    "\n",
    "import pdfminer.pdfinterp\n",
    "import pdfminer.converter\n",
    "import pdfminer.layout\n",
    "import pdfminer.pdfpage\n",
    "\n",
    "import wordcloud #Makes word clouds\n",
    "import numpy as np #For divergences/distances\n",
    "import scipy #For divergences/distances\n",
    "import seaborn as sns #makes our plots look nicer\n",
    "import matplotlib.pyplot as plt #For graphics\n",
    "\n",
    "import re \n",
    "import urllib.parse\n",
    "import io \n",
    "import json \n",
    "import os.path \n",
    "import os \n",
    "import time\n",
    "pd.set_option('max_colwidth',110)\n",
    "%matplotlib inline\n",
    "\n",
    "\n",
    "import plotly.plotly as py\n",
    "import plotly.graph_objs as go\n",
    "from plotly import __version__\n",
    "from plotly.offline import download_plotlyjs, init_notebook_mode, plot, iplot\n",
    "init_notebook_mode(connected=True)\n",
    "\n",
    "\n",
    "def bar_chart(labels, values, title='', xaxis = '', yaxis = '', xsize = 14, subtitle=''):\n",
    "    d = [go.Bar(\n",
    "            x=labels,\n",
    "            y=values,\n",
    "            text=values,\n",
    "            textposition = 'outside',\n",
    "            opacity=1)]\n",
    "\n",
    "    layout = go.Layout(\n",
    "        title='<b>'+title+'</b><br>'+subtitle,\n",
    "        xaxis=dict(\n",
    "            title=xaxis,\n",
    "            tickfont=dict(\n",
    "                size=xsize,\n",
    "                color='rgb(107, 107, 107)'\n",
    "            )\n",
    "        ),\n",
    "        yaxis=dict(\n",
    "            title=yaxis,\n",
    "            titlefont=dict(\n",
    "                size=16,\n",
    "                color='rgb(107, 107, 107)'\n",
    "            ),\n",
    "            tickfont=dict(\n",
    "                size=14,\n",
    "                color='rgb(107, 107, 107)'\n",
    "            )\n",
    "        ),\n",
    "    )\n",
    "\n",
    "    fig = go.Figure(data=d, layout=layout)\n",
    "    iplot(fig, filename='color-bar')\n",
    "    \n",
    "\n",
    "def viz(groupby_df, title = '', xaxis = '', yaxis = '', xsize = 14, subtitle=''):\n",
    "    labels = list(groupby_df.index)\n",
    "    values = list(groupby_df.values)\n",
    "    \n",
    "    d = [go.Bar(\n",
    "            x=labels,\n",
    "            y=values,\n",
    "            text=values,\n",
    "            textposition = 'outside',\n",
    "            opacity=1)]\n",
    "\n",
    "    layout = go.Layout(\n",
    "        title='<b>'+title+'</b><br>'+subtitle,\n",
    "        xaxis=dict(\n",
    "            title=xaxis,\n",
    "            tickfont=dict(\n",
    "                size=xsize,\n",
    "                color='rgb(107, 107, 107)'\n",
    "            )\n",
    "        ),\n",
    "        yaxis=dict(\n",
    "            title=yaxis,\n",
    "            titlefont=dict(\n",
    "                size=16,\n",
    "                color='rgb(107, 107, 107)'\n",
    "            ),\n",
    "            tickfont=dict(\n",
    "                size=14,\n",
    "                color='rgb(107, 107, 107)'\n",
    "            )\n",
    "        ),\n",
    "    )\n",
    "\n",
    "    fig = go.Figure(data=d, layout=layout)\n",
    "    iplot(fig, filename='color-bar')"
   ]
  },
  {
   "cell_type": "code",
   "execution_count": 5,
   "metadata": {
    "collapsed": true
   },
   "outputs": [],
   "source": [
    "stop_words_nltk = stopwords.words('english')\n",
    "#stop_words = [\"the\",\"it\",\"she\",\"he\", \"a\"] #Uncomment this line if you want to use your own list of stopwords.\n",
    "\n",
    "#The stemmers and lemmers need to be initialized before bing run\n",
    "porter = nltk.stem.porter.PorterStemmer()\n",
    "snowball = nltk.stem.snowball.SnowballStemmer('english')\n",
    "wordnet = nltk.stem.WordNetLemmatizer()\n",
    "\n",
    "def normlizeTokens(tokenLst, stopwordLst = None, stemmer = None, lemmer = None):\n",
    "    #We can use a generator here as we just need to iterate over it\n",
    "\n",
    "    #Lowering the case and removing non-words\n",
    "    workingIter = (w.lower() for w in tokenLst if w.isalpha())\n",
    "\n",
    "    #Now we can use the semmer, if provided\n",
    "    if stemmer is not None:\n",
    "        workingIter = (stemmer.stem(w) for w in workingIter)\n",
    "        \n",
    "    #And the lemmer\n",
    "    if lemmer is not None:\n",
    "        workingIter = (lemmer.lemmatize(w) for w in workingIter)\n",
    "    \n",
    "    #And remove the stopwords\n",
    "    if stopwordLst is not None:\n",
    "        workingIter = (w for w in workingIter if w not in stopwordLst)\n",
    "    #We will return a list with the stopwords removed\n",
    "    return list(workingIter)"
   ]
  },
  {
   "cell_type": "code",
   "execution_count": 6,
   "metadata": {
    "collapsed": true
   },
   "outputs": [],
   "source": [
    "path = 'C:/Users/vanguiano/Desktop/CoCWebsite/chiscrape/data/'\n",
    "data = pd.read_csv(path+'data_output_2_6_1_14_cleaned.csv', encoding = 'iso-8859-1', index_col = 0)"
   ]
  },
  {
   "cell_type": "code",
   "execution_count": 7,
   "metadata": {
    "collapsed": true
   },
   "outputs": [],
   "source": [
    "data = data.fillna('None')"
   ]
  },
  {
   "cell_type": "code",
   "execution_count": 8,
   "metadata": {
    "scrolled": true
   },
   "outputs": [
    {
     "name": "stdout",
     "output_type": "stream",
     "text": [
      "4082\n"
     ]
    }
   ],
   "source": [
    "webpages = data[(data['description_words'] != 'No text found') & (data['description_words'] != '')].reset_index(drop = True)\n",
    "print(len(webpages))\n",
    "webpages = data"
   ]
  },
  {
   "cell_type": "code",
   "execution_count": 9,
   "metadata": {
    "collapsed": true,
    "scrolled": false
   },
   "outputs": [],
   "source": [
    "stripped_rows = []\n",
    "for row in webpages['description_words']:\n",
    "    words = row.split(';')\n",
    "    stripped_words = []\n",
    "    for word in words:\n",
    "        stripped_words.append(word.strip())\n",
    "    stripped_rows.append(stripped_words)\n",
    "webpages['normalized_tokens'] = stripped_rows"
   ]
  },
  {
   "cell_type": "code",
   "execution_count": null,
   "metadata": {
    "collapsed": true
   },
   "outputs": [],
   "source": []
  },
  {
   "cell_type": "code",
   "execution_count": 10,
   "metadata": {
    "collapsed": true
   },
   "outputs": [],
   "source": [
    "webpages['stemmatized_tokens'] = webpages['normalized_tokens'].apply(lambda x: normlizeTokens(x, stemmer = snowball, lemmer = wordnet))"
   ]
  },
  {
   "cell_type": "code",
   "execution_count": 11,
   "metadata": {
    "collapsed": true
   },
   "outputs": [],
   "source": [
    "webpages['normalized_tokens_POS'] = [nltk.pos_tag(w) for w in webpages['normalized_tokens']]"
   ]
  },
  {
   "cell_type": "code",
   "execution_count": 12,
   "metadata": {
    "collapsed": true
   },
   "outputs": [],
   "source": [
    "webpages['stemmatized_tokens_POS'] = [nltk.pos_tag(w) for w in webpages['stemmatized_tokens']]"
   ]
  },
  {
   "cell_type": "code",
   "execution_count": 13,
   "metadata": {
    "collapsed": true
   },
   "outputs": [],
   "source": [
    "def most_frequent_pos(tagged_words, pos, num):\n",
    "    POS = nltk.ConditionalFreqDist((p, w) for w, p in tagged_words)\n",
    "    return POS[pos].most_common(5)\n",
    "webpages['most_frequent_verb'] = webpages['normalized_tokens_POS'].apply(lambda x: most_frequent_pos(x, 'VB', 10))\n",
    "webpages['most_frequent_present_tense_verb'] = webpages['normalized_tokens_POS'].apply(lambda x: most_frequent_pos(x, 'VBP', 10))\n",
    "webpages['most_frequent_past_tense_verb'] = webpages['normalized_tokens_POS'].apply(lambda x: most_frequent_pos(x, 'VBD', 10))\n",
    "webpages['most_frequent_noun'] = webpages['normalized_tokens_POS'].apply(lambda x: most_frequent_pos(x, 'NN', 10))"
   ]
  },
  {
   "cell_type": "code",
   "execution_count": 14,
   "metadata": {
    "collapsed": true
   },
   "outputs": [],
   "source": [
    "def clean_title(title):\n",
    "    if 'City of Chicago :: ' in title:\n",
    "        return title[19:]\n",
    "    return title\n",
    "webpages['title'] = webpages['title'].apply(clean_title)"
   ]
  },
  {
   "cell_type": "code",
   "execution_count": 15,
   "metadata": {
    "scrolled": true
   },
   "outputs": [
    {
     "data": {
      "text/plain": [
       "Index(['dept', 'title', 'url', 'button', 'i_want_to', 'nav',\n",
       "       'num_email_addresses', 'email_addresses', 'pdf_count', 'pdf_urls',\n",
       "       'ext_link_count', 'ext_links', 'outside_domain', 'description_words',\n",
       "       'services', 'dept_name', 'normalized_tokens', 'stemmatized_tokens',\n",
       "       'normalized_tokens_POS', 'stemmatized_tokens_POS', 'most_frequent_verb',\n",
       "       'most_frequent_present_tense_verb', 'most_frequent_past_tense_verb',\n",
       "       'most_frequent_noun'],\n",
       "      dtype='object')"
      ]
     },
     "execution_count": 15,
     "metadata": {},
     "output_type": "execute_result"
    }
   ],
   "source": [
    "webpages.columns"
   ]
  },
  {
   "cell_type": "code",
   "execution_count": 16,
   "metadata": {
    "collapsed": true
   },
   "outputs": [],
   "source": [
    "webpages = webpages[['dept_name','title', 'url', 'services','button', 'i_want_to', 'nav',\n",
    "       'num_email_addresses', 'email_addresses', 'pdf_count', 'pdf_urls',\n",
    "       'ext_link_count', 'ext_links', 'outside_domain', 'description_words', 'normalized_tokens', 'stemmatized_tokens',\n",
    "       'normalized_tokens_POS', 'stemmatized_tokens_POS', 'most_frequent_verb',\n",
    "       'most_frequent_present_tense_verb', 'most_frequent_past_tense_verb',\n",
    "       'most_frequent_noun']]"
   ]
  },
  {
   "cell_type": "code",
   "execution_count": null,
   "metadata": {
    "collapsed": true
   },
   "outputs": [],
   "source": [
    "webpages.to_csv('data/content_analysis_data.csv', sep = '`')"
   ]
  },
  {
   "cell_type": "code",
   "execution_count": 19,
   "metadata": {},
   "outputs": [],
   "source": [
    "webpages_POStoWord = nltk.ConditionalFreqDist((p, w) for w, p in webpages['normalized_tokens_POS'].sum())"
   ]
  },
  {
   "cell_type": "code",
   "execution_count": 20,
   "metadata": {
    "collapsed": true
   },
   "outputs": [],
   "source": [
    "webpages_S_POStoWord = nltk.ConditionalFreqDist((p, w) for w, p in webpages['stemmatized_tokens_POS'].sum())"
   ]
  },
  {
   "cell_type": "code",
   "execution_count": 21,
   "metadata": {},
   "outputs": [
    {
     "data": {
      "text/plain": [
       "[('make', 854),\n",
       " ('confer', 725),\n",
       " ('build', 643),\n",
       " ('need', 590),\n",
       " ('exist', 493),\n",
       " ('joc', 452),\n",
       " ('protect', 425),\n",
       " ('see', 421),\n",
       " ('follow', 413),\n",
       " ('find', 365),\n",
       " ('hear', 312),\n",
       " ('avenu', 281),\n",
       " ('amend', 268),\n",
       " ('know', 266),\n",
       " ('offer', 259),\n",
       " ('ave', 218),\n",
       " ('intend', 216),\n",
       " ('collect', 215),\n",
       " ('learn', 213),\n",
       " ('go', 208),\n",
       " ('maintain', 208),\n",
       " ('take', 207),\n",
       " ('train', 204),\n",
       " ('hold', 192),\n",
       " ('use', 188)]"
      ]
     },
     "execution_count": 21,
     "metadata": {},
     "output_type": "execute_result"
    }
   ],
   "source": [
    "webpages_S_POStoWord['VBP'].most_common(25)"
   ]
  },
  {
   "cell_type": "code",
   "execution_count": null,
   "metadata": {
    "collapsed": true
   },
   "outputs": [],
   "source": []
  },
  {
   "cell_type": "code",
   "execution_count": 22,
   "metadata": {
    "collapsed": true
   },
   "outputs": [],
   "source": [
    "def group_by_dept(data, dept, stemmatized = False):\n",
    "    data = data[data.dept_name == dept]\n",
    "    if stemmatized == False:\n",
    "        POStoWord = nltk.ConditionalFreqDist((p, w) for w, p in data['normalized_tokens_POS'].sum())\n",
    "    else:\n",
    "        POStoWord = nltk.ConditionalFreqDist((p, w) for w, p in data['stemmatized_tokens_POS'].sum())\n",
    "    return POStoWord"
   ]
  },
  {
   "cell_type": "code",
   "execution_count": null,
   "metadata": {
    "collapsed": true
   },
   "outputs": [],
   "source": []
  },
  {
   "cell_type": "code",
   "execution_count": 23,
   "metadata": {
    "scrolled": false
   },
   "outputs": [
    {
     "name": "stdout",
     "output_type": "stream",
     "text": [
      "Wall time: 0 ns\n"
     ]
    }
   ],
   "source": [
    "%time by_dept = {}\n",
    "for dept in webpages.dept_name.unique():\n",
    "    by_dept[dept] = group_by_dept(webpages, dept, False)"
   ]
  },
  {
   "cell_type": "code",
   "execution_count": 26,
   "metadata": {},
   "outputs": [],
   "source": [
    "dept_verbs = {}\n",
    "for dept in webpages.dept_name.unique():\n",
    "        dept_verbs[dept] = by_dept[dept]['VB'].most_common(15)"
   ]
  },
  {
   "cell_type": "code",
   "execution_count": null,
   "metadata": {},
   "outputs": [],
   "source": []
  },
  {
   "cell_type": "code",
   "execution_count": 48,
   "metadata": {
    "scrolled": true
   },
   "outputs": [
    {
     "data": {
      "application/vnd.plotly.v1+json": {
       "data": [
        {
         "opacity": 1,
         "text": [
          51,
          29,
          22,
          21,
          19,
          17,
          12,
          12,
          11,
          10,
          9,
          9,
          8,
          8,
          8
         ],
         "textposition": "outside",
         "type": "bar",
         "x": [
          "ensure",
          "obtain",
          "improve",
          "apply",
          "reduce",
          "find",
          "take",
          "make",
          "include",
          "comply",
          "required",
          "need",
          "like",
          "file",
          "save"
         ],
         "y": [
          51,
          29,
          22,
          21,
          19,
          17,
          12,
          12,
          11,
          10,
          9,
          9,
          8,
          8,
          8
         ]
        }
       ],
       "layout": {
        "title": "<b>Verbs for None</b><br>",
        "xaxis": {
         "tickfont": {
          "color": "rgb(107, 107, 107)",
          "size": 14
         },
         "title": ""
        },
        "yaxis": {
         "tickfont": {
          "color": "rgb(107, 107, 107)",
          "size": 14
         },
         "title": "",
         "titlefont": {
          "color": "rgb(107, 107, 107)",
          "size": 16
         }
        }
       }
      },
      "text/html": [
       "<div id=\"715c3dd2-aeed-438d-aabd-ef75ff1354c4\" style=\"height: 525px; width: 100%;\" class=\"plotly-graph-div\"></div><script type=\"text/javascript\">require([\"plotly\"], function(Plotly) { window.PLOTLYENV=window.PLOTLYENV || {};window.PLOTLYENV.BASE_URL=\"https://plot.ly\";Plotly.newPlot(\"715c3dd2-aeed-438d-aabd-ef75ff1354c4\", [{\"type\": \"bar\", \"x\": [\"ensure\", \"obtain\", \"improve\", \"apply\", \"reduce\", \"find\", \"take\", \"make\", \"include\", \"comply\", \"required\", \"need\", \"like\", \"file\", \"save\"], \"y\": [51, 29, 22, 21, 19, 17, 12, 12, 11, 10, 9, 9, 8, 8, 8], \"text\": [51, 29, 22, 21, 19, 17, 12, 12, 11, 10, 9, 9, 8, 8, 8], \"textposition\": \"outside\", \"opacity\": 1}], {\"title\": \"<b>Verbs for None</b><br>\", \"xaxis\": {\"title\": \"\", \"tickfont\": {\"size\": 14, \"color\": \"rgb(107, 107, 107)\"}}, \"yaxis\": {\"title\": \"\", \"titlefont\": {\"size\": 16, \"color\": \"rgb(107, 107, 107)\"}, \"tickfont\": {\"size\": 14, \"color\": \"rgb(107, 107, 107)\"}}}, {\"showLink\": true, \"linkText\": \"Export to plot.ly\"})});</script>"
      ],
      "text/vnd.plotly.v1+html": [
       "<div id=\"715c3dd2-aeed-438d-aabd-ef75ff1354c4\" style=\"height: 525px; width: 100%;\" class=\"plotly-graph-div\"></div><script type=\"text/javascript\">require([\"plotly\"], function(Plotly) { window.PLOTLYENV=window.PLOTLYENV || {};window.PLOTLYENV.BASE_URL=\"https://plot.ly\";Plotly.newPlot(\"715c3dd2-aeed-438d-aabd-ef75ff1354c4\", [{\"type\": \"bar\", \"x\": [\"ensure\", \"obtain\", \"improve\", \"apply\", \"reduce\", \"find\", \"take\", \"make\", \"include\", \"comply\", \"required\", \"need\", \"like\", \"file\", \"save\"], \"y\": [51, 29, 22, 21, 19, 17, 12, 12, 11, 10, 9, 9, 8, 8, 8], \"text\": [51, 29, 22, 21, 19, 17, 12, 12, 11, 10, 9, 9, 8, 8, 8], \"textposition\": \"outside\", \"opacity\": 1}], {\"title\": \"<b>Verbs for None</b><br>\", \"xaxis\": {\"title\": \"\", \"tickfont\": {\"size\": 14, \"color\": \"rgb(107, 107, 107)\"}}, \"yaxis\": {\"title\": \"\", \"titlefont\": {\"size\": 16, \"color\": \"rgb(107, 107, 107)\"}, \"tickfont\": {\"size\": 14, \"color\": \"rgb(107, 107, 107)\"}}}, {\"showLink\": true, \"linkText\": \"Export to plot.ly\"})});</script>"
      ]
     },
     "metadata": {},
     "output_type": "display_data"
    },
    {
     "data": {
      "application/vnd.plotly.v1+json": {
       "data": [
        {
         "opacity": 1,
         "text": [
          7,
          6,
          6,
          4,
          4,
          4,
          4,
          3,
          3,
          3,
          2,
          2,
          2,
          2,
          2
         ],
         "textposition": "outside",
         "type": "bar",
         "x": [
          "send",
          "apply",
          "ensure",
          "sms",
          "request",
          "find",
          "purpose",
          "obtain",
          "resolve",
          "improve",
          "text",
          "wish",
          "reply",
          "engage",
          "subscribe"
         ],
         "y": [
          7,
          6,
          6,
          4,
          4,
          4,
          4,
          3,
          3,
          3,
          2,
          2,
          2,
          2,
          2
         ]
        }
       ],
       "layout": {
        "title": "<b>Verbs for 311 City Services</b><br>",
        "xaxis": {
         "tickfont": {
          "color": "rgb(107, 107, 107)",
          "size": 14
         },
         "title": ""
        },
        "yaxis": {
         "tickfont": {
          "color": "rgb(107, 107, 107)",
          "size": 14
         },
         "title": "",
         "titlefont": {
          "color": "rgb(107, 107, 107)",
          "size": 16
         }
        }
       }
      },
      "text/html": [
       "<div id=\"0a570c58-a40d-4490-8337-16b69505da3d\" style=\"height: 525px; width: 100%;\" class=\"plotly-graph-div\"></div><script type=\"text/javascript\">require([\"plotly\"], function(Plotly) { window.PLOTLYENV=window.PLOTLYENV || {};window.PLOTLYENV.BASE_URL=\"https://plot.ly\";Plotly.newPlot(\"0a570c58-a40d-4490-8337-16b69505da3d\", [{\"type\": \"bar\", \"x\": [\"send\", \"apply\", \"ensure\", \"sms\", \"request\", \"find\", \"purpose\", \"obtain\", \"resolve\", \"improve\", \"text\", \"wish\", \"reply\", \"engage\", \"subscribe\"], \"y\": [7, 6, 6, 4, 4, 4, 4, 3, 3, 3, 2, 2, 2, 2, 2], \"text\": [7, 6, 6, 4, 4, 4, 4, 3, 3, 3, 2, 2, 2, 2, 2], \"textposition\": \"outside\", \"opacity\": 1}], {\"title\": \"<b>Verbs for 311 City Services</b><br>\", \"xaxis\": {\"title\": \"\", \"tickfont\": {\"size\": 14, \"color\": \"rgb(107, 107, 107)\"}}, \"yaxis\": {\"title\": \"\", \"titlefont\": {\"size\": 16, \"color\": \"rgb(107, 107, 107)\"}, \"tickfont\": {\"size\": 14, \"color\": \"rgb(107, 107, 107)\"}}}, {\"showLink\": true, \"linkText\": \"Export to plot.ly\"})});</script>"
      ],
      "text/vnd.plotly.v1+html": [
       "<div id=\"0a570c58-a40d-4490-8337-16b69505da3d\" style=\"height: 525px; width: 100%;\" class=\"plotly-graph-div\"></div><script type=\"text/javascript\">require([\"plotly\"], function(Plotly) { window.PLOTLYENV=window.PLOTLYENV || {};window.PLOTLYENV.BASE_URL=\"https://plot.ly\";Plotly.newPlot(\"0a570c58-a40d-4490-8337-16b69505da3d\", [{\"type\": \"bar\", \"x\": [\"send\", \"apply\", \"ensure\", \"sms\", \"request\", \"find\", \"purpose\", \"obtain\", \"resolve\", \"improve\", \"text\", \"wish\", \"reply\", \"engage\", \"subscribe\"], \"y\": [7, 6, 6, 4, 4, 4, 4, 3, 3, 3, 2, 2, 2, 2, 2], \"text\": [7, 6, 6, 4, 4, 4, 4, 3, 3, 3, 2, 2, 2, 2, 2], \"textposition\": \"outside\", \"opacity\": 1}], {\"title\": \"<b>Verbs for 311 City Services</b><br>\", \"xaxis\": {\"title\": \"\", \"tickfont\": {\"size\": 14, \"color\": \"rgb(107, 107, 107)\"}}, \"yaxis\": {\"title\": \"\", \"titlefont\": {\"size\": 16, \"color\": \"rgb(107, 107, 107)\"}, \"tickfont\": {\"size\": 14, \"color\": \"rgb(107, 107, 107)\"}}}, {\"showLink\": true, \"linkText\": \"Export to plot.ly\"})});</script>"
      ]
     },
     "metadata": {},
     "output_type": "display_data"
    },
    {
     "data": {
      "application/vnd.plotly.v1+json": {
       "data": [
        {
         "opacity": 1,
         "text": [
          45,
          18,
          17,
          15,
          12,
          11,
          10,
          9,
          8,
          8,
          7,
          6,
          6,
          5,
          5
         ],
         "textposition": "outside",
         "type": "bar",
         "x": [
          "keep",
          "take",
          "go",
          "get",
          "ensure",
          "make",
          "call",
          "remember",
          "help",
          "stay",
          "include",
          "consider",
          "remove",
          "see",
          "know"
         ],
         "y": [
          45,
          18,
          17,
          15,
          12,
          11,
          10,
          9,
          8,
          8,
          7,
          6,
          6,
          5,
          5
         ]
        }
       ],
       "layout": {
        "title": "<b>Verbs for Emergency Management & Communications</b><br>",
        "xaxis": {
         "tickfont": {
          "color": "rgb(107, 107, 107)",
          "size": 14
         },
         "title": ""
        },
        "yaxis": {
         "tickfont": {
          "color": "rgb(107, 107, 107)",
          "size": 14
         },
         "title": "",
         "titlefont": {
          "color": "rgb(107, 107, 107)",
          "size": 16
         }
        }
       }
      },
      "text/html": [
       "<div id=\"7036cd86-aed2-4ce5-a617-71c0ada1bedf\" style=\"height: 525px; width: 100%;\" class=\"plotly-graph-div\"></div><script type=\"text/javascript\">require([\"plotly\"], function(Plotly) { window.PLOTLYENV=window.PLOTLYENV || {};window.PLOTLYENV.BASE_URL=\"https://plot.ly\";Plotly.newPlot(\"7036cd86-aed2-4ce5-a617-71c0ada1bedf\", [{\"type\": \"bar\", \"x\": [\"keep\", \"take\", \"go\", \"get\", \"ensure\", \"make\", \"call\", \"remember\", \"help\", \"stay\", \"include\", \"consider\", \"remove\", \"see\", \"know\"], \"y\": [45, 18, 17, 15, 12, 11, 10, 9, 8, 8, 7, 6, 6, 5, 5], \"text\": [45, 18, 17, 15, 12, 11, 10, 9, 8, 8, 7, 6, 6, 5, 5], \"textposition\": \"outside\", \"opacity\": 1}], {\"title\": \"<b>Verbs for Emergency Management & Communications</b><br>\", \"xaxis\": {\"title\": \"\", \"tickfont\": {\"size\": 14, \"color\": \"rgb(107, 107, 107)\"}}, \"yaxis\": {\"title\": \"\", \"titlefont\": {\"size\": 16, \"color\": \"rgb(107, 107, 107)\"}, \"tickfont\": {\"size\": 14, \"color\": \"rgb(107, 107, 107)\"}}}, {\"showLink\": true, \"linkText\": \"Export to plot.ly\"})});</script>"
      ],
      "text/vnd.plotly.v1+html": [
       "<div id=\"7036cd86-aed2-4ce5-a617-71c0ada1bedf\" style=\"height: 525px; width: 100%;\" class=\"plotly-graph-div\"></div><script type=\"text/javascript\">require([\"plotly\"], function(Plotly) { window.PLOTLYENV=window.PLOTLYENV || {};window.PLOTLYENV.BASE_URL=\"https://plot.ly\";Plotly.newPlot(\"7036cd86-aed2-4ce5-a617-71c0ada1bedf\", [{\"type\": \"bar\", \"x\": [\"keep\", \"take\", \"go\", \"get\", \"ensure\", \"make\", \"call\", \"remember\", \"help\", \"stay\", \"include\", \"consider\", \"remove\", \"see\", \"know\"], \"y\": [45, 18, 17, 15, 12, 11, 10, 9, 8, 8, 7, 6, 6, 5, 5], \"text\": [45, 18, 17, 15, 12, 11, 10, 9, 8, 8, 7, 6, 6, 5, 5], \"textposition\": \"outside\", \"opacity\": 1}], {\"title\": \"<b>Verbs for Emergency Management & Communications</b><br>\", \"xaxis\": {\"title\": \"\", \"tickfont\": {\"size\": 14, \"color\": \"rgb(107, 107, 107)\"}}, \"yaxis\": {\"title\": \"\", \"titlefont\": {\"size\": 16, \"color\": \"rgb(107, 107, 107)\"}, \"tickfont\": {\"size\": 14, \"color\": \"rgb(107, 107, 107)\"}}}, {\"showLink\": true, \"linkText\": \"Export to plot.ly\"})});</script>"
      ]
     },
     "metadata": {},
     "output_type": "display_data"
    },
    {
     "data": {
      "application/vnd.plotly.v1+json": {
       "data": [
        {
         "opacity": 1,
         "text": [
          23,
          21,
          19,
          18,
          18,
          18,
          14,
          12,
          11,
          10,
          9,
          8,
          7,
          7,
          7
         ],
         "textposition": "outside",
         "type": "bar",
         "x": [
          "develop",
          "ensure",
          "improve",
          "temat",
          "belize",
          "gór?",
          "stronie",
          "obtain",
          "call",
          "apply",
          "reduce",
          "succeed",
          "build",
          "find",
          "take"
         ],
         "y": [
          23,
          21,
          19,
          18,
          18,
          18,
          14,
          12,
          11,
          10,
          9,
          8,
          7,
          7,
          7
         ]
        }
       ],
       "layout": {
        "title": "<b>Verbs for Office of the Mayor</b><br>",
        "xaxis": {
         "tickfont": {
          "color": "rgb(107, 107, 107)",
          "size": 14
         },
         "title": ""
        },
        "yaxis": {
         "tickfont": {
          "color": "rgb(107, 107, 107)",
          "size": 14
         },
         "title": "",
         "titlefont": {
          "color": "rgb(107, 107, 107)",
          "size": 16
         }
        }
       }
      },
      "text/html": [
       "<div id=\"999c6411-5f24-4f08-a83a-f5a0c4168f98\" style=\"height: 525px; width: 100%;\" class=\"plotly-graph-div\"></div><script type=\"text/javascript\">require([\"plotly\"], function(Plotly) { window.PLOTLYENV=window.PLOTLYENV || {};window.PLOTLYENV.BASE_URL=\"https://plot.ly\";Plotly.newPlot(\"999c6411-5f24-4f08-a83a-f5a0c4168f98\", [{\"type\": \"bar\", \"x\": [\"develop\", \"ensure\", \"improve\", \"temat\", \"belize\", \"g\\u00f3r?\", \"stronie\", \"obtain\", \"call\", \"apply\", \"reduce\", \"succeed\", \"build\", \"find\", \"take\"], \"y\": [23, 21, 19, 18, 18, 18, 14, 12, 11, 10, 9, 8, 7, 7, 7], \"text\": [23, 21, 19, 18, 18, 18, 14, 12, 11, 10, 9, 8, 7, 7, 7], \"textposition\": \"outside\", \"opacity\": 1}], {\"title\": \"<b>Verbs for Office of the Mayor</b><br>\", \"xaxis\": {\"title\": \"\", \"tickfont\": {\"size\": 14, \"color\": \"rgb(107, 107, 107)\"}}, \"yaxis\": {\"title\": \"\", \"titlefont\": {\"size\": 16, \"color\": \"rgb(107, 107, 107)\"}, \"tickfont\": {\"size\": 14, \"color\": \"rgb(107, 107, 107)\"}}}, {\"showLink\": true, \"linkText\": \"Export to plot.ly\"})});</script>"
      ],
      "text/vnd.plotly.v1+html": [
       "<div id=\"999c6411-5f24-4f08-a83a-f5a0c4168f98\" style=\"height: 525px; width: 100%;\" class=\"plotly-graph-div\"></div><script type=\"text/javascript\">require([\"plotly\"], function(Plotly) { window.PLOTLYENV=window.PLOTLYENV || {};window.PLOTLYENV.BASE_URL=\"https://plot.ly\";Plotly.newPlot(\"999c6411-5f24-4f08-a83a-f5a0c4168f98\", [{\"type\": \"bar\", \"x\": [\"develop\", \"ensure\", \"improve\", \"temat\", \"belize\", \"g\\u00f3r?\", \"stronie\", \"obtain\", \"call\", \"apply\", \"reduce\", \"succeed\", \"build\", \"find\", \"take\"], \"y\": [23, 21, 19, 18, 18, 18, 14, 12, 11, 10, 9, 8, 7, 7, 7], \"text\": [23, 21, 19, 18, 18, 18, 14, 12, 11, 10, 9, 8, 7, 7, 7], \"textposition\": \"outside\", \"opacity\": 1}], {\"title\": \"<b>Verbs for Office of the Mayor</b><br>\", \"xaxis\": {\"title\": \"\", \"tickfont\": {\"size\": 14, \"color\": \"rgb(107, 107, 107)\"}}, \"yaxis\": {\"title\": \"\", \"titlefont\": {\"size\": 16, \"color\": \"rgb(107, 107, 107)\"}, \"tickfont\": {\"size\": 14, \"color\": \"rgb(107, 107, 107)\"}}}, {\"showLink\": true, \"linkText\": \"Export to plot.ly\"})});</script>"
      ]
     },
     "metadata": {},
     "output_type": "display_data"
    },
    {
     "data": {
      "application/vnd.plotly.v1+json": {
       "data": [
        {
         "opacity": 1,
         "text": [
          4,
          2,
          2,
          2,
          2,
          2,
          1,
          1,
          1,
          1,
          1,
          1,
          1,
          1,
          1
         ],
         "textposition": "outside",
         "type": "bar",
         "x": [
          "ensure",
          "apply",
          "like",
          "include",
          "perform",
          "serve",
          "register",
          "required",
          "search",
          "require",
          "needed",
          "disclose",
          "file",
          "pay",
          "establish"
         ],
         "y": [
          4,
          2,
          2,
          2,
          2,
          2,
          1,
          1,
          1,
          1,
          1,
          1,
          1,
          1,
          1
         ]
        }
       ],
       "layout": {
        "title": "<b>Verbs for Department of Human Resources</b><br>",
        "xaxis": {
         "tickfont": {
          "color": "rgb(107, 107, 107)",
          "size": 14
         },
         "title": ""
        },
        "yaxis": {
         "tickfont": {
          "color": "rgb(107, 107, 107)",
          "size": 14
         },
         "title": "",
         "titlefont": {
          "color": "rgb(107, 107, 107)",
          "size": 16
         }
        }
       }
      },
      "text/html": [
       "<div id=\"2b16bdc1-5ea8-48c9-a9e0-9833d5881b46\" style=\"height: 525px; width: 100%;\" class=\"plotly-graph-div\"></div><script type=\"text/javascript\">require([\"plotly\"], function(Plotly) { window.PLOTLYENV=window.PLOTLYENV || {};window.PLOTLYENV.BASE_URL=\"https://plot.ly\";Plotly.newPlot(\"2b16bdc1-5ea8-48c9-a9e0-9833d5881b46\", [{\"type\": \"bar\", \"x\": [\"ensure\", \"apply\", \"like\", \"include\", \"perform\", \"serve\", \"register\", \"required\", \"search\", \"require\", \"needed\", \"disclose\", \"file\", \"pay\", \"establish\"], \"y\": [4, 2, 2, 2, 2, 2, 1, 1, 1, 1, 1, 1, 1, 1, 1], \"text\": [4, 2, 2, 2, 2, 2, 1, 1, 1, 1, 1, 1, 1, 1, 1], \"textposition\": \"outside\", \"opacity\": 1}], {\"title\": \"<b>Verbs for Department of Human Resources</b><br>\", \"xaxis\": {\"title\": \"\", \"tickfont\": {\"size\": 14, \"color\": \"rgb(107, 107, 107)\"}}, \"yaxis\": {\"title\": \"\", \"titlefont\": {\"size\": 16, \"color\": \"rgb(107, 107, 107)\"}, \"tickfont\": {\"size\": 14, \"color\": \"rgb(107, 107, 107)\"}}}, {\"showLink\": true, \"linkText\": \"Export to plot.ly\"})});</script>"
      ],
      "text/vnd.plotly.v1+html": [
       "<div id=\"2b16bdc1-5ea8-48c9-a9e0-9833d5881b46\" style=\"height: 525px; width: 100%;\" class=\"plotly-graph-div\"></div><script type=\"text/javascript\">require([\"plotly\"], function(Plotly) { window.PLOTLYENV=window.PLOTLYENV || {};window.PLOTLYENV.BASE_URL=\"https://plot.ly\";Plotly.newPlot(\"2b16bdc1-5ea8-48c9-a9e0-9833d5881b46\", [{\"type\": \"bar\", \"x\": [\"ensure\", \"apply\", \"like\", \"include\", \"perform\", \"serve\", \"register\", \"required\", \"search\", \"require\", \"needed\", \"disclose\", \"file\", \"pay\", \"establish\"], \"y\": [4, 2, 2, 2, 2, 2, 1, 1, 1, 1, 1, 1, 1, 1, 1], \"text\": [4, 2, 2, 2, 2, 2, 1, 1, 1, 1, 1, 1, 1, 1, 1], \"textposition\": \"outside\", \"opacity\": 1}], {\"title\": \"<b>Verbs for Department of Human Resources</b><br>\", \"xaxis\": {\"title\": \"\", \"tickfont\": {\"size\": 14, \"color\": \"rgb(107, 107, 107)\"}}, \"yaxis\": {\"title\": \"\", \"titlefont\": {\"size\": 16, \"color\": \"rgb(107, 107, 107)\"}, \"tickfont\": {\"size\": 14, \"color\": \"rgb(107, 107, 107)\"}}}, {\"showLink\": true, \"linkText\": \"Export to plot.ly\"})});</script>"
      ]
     },
     "metadata": {},
     "output_type": "display_data"
    },
    {
     "data": {
      "application/vnd.plotly.v1+json": {
       "data": [
        {
         "opacity": 1,
         "text": [
          42,
          22,
          12,
          10,
          9,
          9,
          9,
          7,
          7,
          7,
          7,
          6,
          6,
          6,
          6
         ],
         "textposition": "outside",
         "type": "bar",
         "x": [
          "obtain",
          "include",
          "ensure",
          "keep",
          "take",
          "reduce",
          "identify",
          "check",
          "replace",
          "require",
          "review",
          "remove",
          "required",
          "see",
          "meet"
         ],
         "y": [
          42,
          22,
          12,
          10,
          9,
          9,
          9,
          7,
          7,
          7,
          7,
          6,
          6,
          6,
          6
         ]
        }
       ],
       "layout": {
        "title": "<b>Verbs for Department of Buildings</b><br>",
        "xaxis": {
         "tickfont": {
          "color": "rgb(107, 107, 107)",
          "size": 14
         },
         "title": ""
        },
        "yaxis": {
         "tickfont": {
          "color": "rgb(107, 107, 107)",
          "size": 14
         },
         "title": "",
         "titlefont": {
          "color": "rgb(107, 107, 107)",
          "size": 16
         }
        }
       }
      },
      "text/html": [
       "<div id=\"f4c3b0ff-6cb3-42fb-b1f1-2bba4948a1e7\" style=\"height: 525px; width: 100%;\" class=\"plotly-graph-div\"></div><script type=\"text/javascript\">require([\"plotly\"], function(Plotly) { window.PLOTLYENV=window.PLOTLYENV || {};window.PLOTLYENV.BASE_URL=\"https://plot.ly\";Plotly.newPlot(\"f4c3b0ff-6cb3-42fb-b1f1-2bba4948a1e7\", [{\"type\": \"bar\", \"x\": [\"obtain\", \"include\", \"ensure\", \"keep\", \"take\", \"reduce\", \"identify\", \"check\", \"replace\", \"require\", \"review\", \"remove\", \"required\", \"see\", \"meet\"], \"y\": [42, 22, 12, 10, 9, 9, 9, 7, 7, 7, 7, 6, 6, 6, 6], \"text\": [42, 22, 12, 10, 9, 9, 9, 7, 7, 7, 7, 6, 6, 6, 6], \"textposition\": \"outside\", \"opacity\": 1}], {\"title\": \"<b>Verbs for Department of Buildings</b><br>\", \"xaxis\": {\"title\": \"\", \"tickfont\": {\"size\": 14, \"color\": \"rgb(107, 107, 107)\"}}, \"yaxis\": {\"title\": \"\", \"titlefont\": {\"size\": 16, \"color\": \"rgb(107, 107, 107)\"}, \"tickfont\": {\"size\": 14, \"color\": \"rgb(107, 107, 107)\"}}}, {\"showLink\": true, \"linkText\": \"Export to plot.ly\"})});</script>"
      ],
      "text/vnd.plotly.v1+html": [
       "<div id=\"f4c3b0ff-6cb3-42fb-b1f1-2bba4948a1e7\" style=\"height: 525px; width: 100%;\" class=\"plotly-graph-div\"></div><script type=\"text/javascript\">require([\"plotly\"], function(Plotly) { window.PLOTLYENV=window.PLOTLYENV || {};window.PLOTLYENV.BASE_URL=\"https://plot.ly\";Plotly.newPlot(\"f4c3b0ff-6cb3-42fb-b1f1-2bba4948a1e7\", [{\"type\": \"bar\", \"x\": [\"obtain\", \"include\", \"ensure\", \"keep\", \"take\", \"reduce\", \"identify\", \"check\", \"replace\", \"require\", \"review\", \"remove\", \"required\", \"see\", \"meet\"], \"y\": [42, 22, 12, 10, 9, 9, 9, 7, 7, 7, 7, 6, 6, 6, 6], \"text\": [42, 22, 12, 10, 9, 9, 9, 7, 7, 7, 7, 6, 6, 6, 6], \"textposition\": \"outside\", \"opacity\": 1}], {\"title\": \"<b>Verbs for Department of Buildings</b><br>\", \"xaxis\": {\"title\": \"\", \"tickfont\": {\"size\": 14, \"color\": \"rgb(107, 107, 107)\"}}, \"yaxis\": {\"title\": \"\", \"titlefont\": {\"size\": 16, \"color\": \"rgb(107, 107, 107)\"}, \"tickfont\": {\"size\": 14, \"color\": \"rgb(107, 107, 107)\"}}}, {\"showLink\": true, \"linkText\": \"Export to plot.ly\"})});</script>"
      ]
     },
     "metadata": {},
     "output_type": "display_data"
    },
    {
     "data": {
      "application/vnd.plotly.v1+json": {
       "data": [
        {
         "opacity": 1,
         "text": [
          59,
          33,
          24,
          20,
          18,
          16,
          15,
          15,
          13,
          12,
          10,
          10,
          10,
          10,
          10
         ],
         "textposition": "outside",
         "type": "bar",
         "x": [
          "obtain",
          "apply",
          "take",
          "check",
          "ensure",
          "provide",
          "keep",
          "get",
          "find",
          "reduce",
          "sell",
          "register",
          "meet",
          "request",
          "include"
         ],
         "y": [
          59,
          33,
          24,
          20,
          18,
          16,
          15,
          15,
          13,
          12,
          10,
          10,
          10,
          10,
          10
         ]
        }
       ],
       "layout": {
        "title": "<b>Verbs for Department of Business Affairs and Consumer Protection</b><br>",
        "xaxis": {
         "tickfont": {
          "color": "rgb(107, 107, 107)",
          "size": 14
         },
         "title": ""
        },
        "yaxis": {
         "tickfont": {
          "color": "rgb(107, 107, 107)",
          "size": 14
         },
         "title": "",
         "titlefont": {
          "color": "rgb(107, 107, 107)",
          "size": 16
         }
        }
       }
      },
      "text/html": [
       "<div id=\"58aa172d-2e27-492a-85e4-a2e3c77c94ba\" style=\"height: 525px; width: 100%;\" class=\"plotly-graph-div\"></div><script type=\"text/javascript\">require([\"plotly\"], function(Plotly) { window.PLOTLYENV=window.PLOTLYENV || {};window.PLOTLYENV.BASE_URL=\"https://plot.ly\";Plotly.newPlot(\"58aa172d-2e27-492a-85e4-a2e3c77c94ba\", [{\"type\": \"bar\", \"x\": [\"obtain\", \"apply\", \"take\", \"check\", \"ensure\", \"provide\", \"keep\", \"get\", \"find\", \"reduce\", \"sell\", \"register\", \"meet\", \"request\", \"include\"], \"y\": [59, 33, 24, 20, 18, 16, 15, 15, 13, 12, 10, 10, 10, 10, 10], \"text\": [59, 33, 24, 20, 18, 16, 15, 15, 13, 12, 10, 10, 10, 10, 10], \"textposition\": \"outside\", \"opacity\": 1}], {\"title\": \"<b>Verbs for Department of Business Affairs and Consumer Protection</b><br>\", \"xaxis\": {\"title\": \"\", \"tickfont\": {\"size\": 14, \"color\": \"rgb(107, 107, 107)\"}}, \"yaxis\": {\"title\": \"\", \"titlefont\": {\"size\": 16, \"color\": \"rgb(107, 107, 107)\"}, \"tickfont\": {\"size\": 14, \"color\": \"rgb(107, 107, 107)\"}}}, {\"showLink\": true, \"linkText\": \"Export to plot.ly\"})});</script>"
      ],
      "text/vnd.plotly.v1+html": [
       "<div id=\"58aa172d-2e27-492a-85e4-a2e3c77c94ba\" style=\"height: 525px; width: 100%;\" class=\"plotly-graph-div\"></div><script type=\"text/javascript\">require([\"plotly\"], function(Plotly) { window.PLOTLYENV=window.PLOTLYENV || {};window.PLOTLYENV.BASE_URL=\"https://plot.ly\";Plotly.newPlot(\"58aa172d-2e27-492a-85e4-a2e3c77c94ba\", [{\"type\": \"bar\", \"x\": [\"obtain\", \"apply\", \"take\", \"check\", \"ensure\", \"provide\", \"keep\", \"get\", \"find\", \"reduce\", \"sell\", \"register\", \"meet\", \"request\", \"include\"], \"y\": [59, 33, 24, 20, 18, 16, 15, 15, 13, 12, 10, 10, 10, 10, 10], \"text\": [59, 33, 24, 20, 18, 16, 15, 15, 13, 12, 10, 10, 10, 10, 10], \"textposition\": \"outside\", \"opacity\": 1}], {\"title\": \"<b>Verbs for Department of Business Affairs and Consumer Protection</b><br>\", \"xaxis\": {\"title\": \"\", \"tickfont\": {\"size\": 14, \"color\": \"rgb(107, 107, 107)\"}}, \"yaxis\": {\"title\": \"\", \"titlefont\": {\"size\": 16, \"color\": \"rgb(107, 107, 107)\"}, \"tickfont\": {\"size\": 14, \"color\": \"rgb(107, 107, 107)\"}}}, {\"showLink\": true, \"linkText\": \"Export to plot.ly\"})});</script>"
      ]
     },
     "metadata": {},
     "output_type": "display_data"
    },
    {
     "data": {
      "application/vnd.plotly.v1+json": {
       "data": [
        {
         "opacity": 1,
         "text": [
          7,
          3,
          2,
          2,
          2,
          1,
          1,
          1,
          1,
          1,
          1,
          1,
          1,
          1
         ],
         "textposition": "outside",
         "type": "bar",
         "x": [
          "find",
          "get",
          "apply",
          "go",
          "present",
          "page",
          "visit",
          "buy",
          "like",
          "participate",
          "pay",
          "remove",
          "see",
          "replace"
         ],
         "y": [
          7,
          3,
          2,
          2,
          2,
          1,
          1,
          1,
          1,
          1,
          1,
          1,
          1,
          1
         ]
        }
       ],
       "layout": {
        "title": "<b>Verbs for Other</b><br>",
        "xaxis": {
         "tickfont": {
          "color": "rgb(107, 107, 107)",
          "size": 14
         },
         "title": ""
        },
        "yaxis": {
         "tickfont": {
          "color": "rgb(107, 107, 107)",
          "size": 14
         },
         "title": "",
         "titlefont": {
          "color": "rgb(107, 107, 107)",
          "size": 16
         }
        }
       }
      },
      "text/html": [
       "<div id=\"4426989e-d942-437b-86c1-56004f7be720\" style=\"height: 525px; width: 100%;\" class=\"plotly-graph-div\"></div><script type=\"text/javascript\">require([\"plotly\"], function(Plotly) { window.PLOTLYENV=window.PLOTLYENV || {};window.PLOTLYENV.BASE_URL=\"https://plot.ly\";Plotly.newPlot(\"4426989e-d942-437b-86c1-56004f7be720\", [{\"type\": \"bar\", \"x\": [\"find\", \"get\", \"apply\", \"go\", \"present\", \"page\", \"visit\", \"buy\", \"like\", \"participate\", \"pay\", \"remove\", \"see\", \"replace\"], \"y\": [7, 3, 2, 2, 2, 1, 1, 1, 1, 1, 1, 1, 1, 1], \"text\": [7, 3, 2, 2, 2, 1, 1, 1, 1, 1, 1, 1, 1, 1], \"textposition\": \"outside\", \"opacity\": 1}], {\"title\": \"<b>Verbs for Other</b><br>\", \"xaxis\": {\"title\": \"\", \"tickfont\": {\"size\": 14, \"color\": \"rgb(107, 107, 107)\"}}, \"yaxis\": {\"title\": \"\", \"titlefont\": {\"size\": 16, \"color\": \"rgb(107, 107, 107)\"}, \"tickfont\": {\"size\": 14, \"color\": \"rgb(107, 107, 107)\"}}}, {\"showLink\": true, \"linkText\": \"Export to plot.ly\"})});</script>"
      ],
      "text/vnd.plotly.v1+html": [
       "<div id=\"4426989e-d942-437b-86c1-56004f7be720\" style=\"height: 525px; width: 100%;\" class=\"plotly-graph-div\"></div><script type=\"text/javascript\">require([\"plotly\"], function(Plotly) { window.PLOTLYENV=window.PLOTLYENV || {};window.PLOTLYENV.BASE_URL=\"https://plot.ly\";Plotly.newPlot(\"4426989e-d942-437b-86c1-56004f7be720\", [{\"type\": \"bar\", \"x\": [\"find\", \"get\", \"apply\", \"go\", \"present\", \"page\", \"visit\", \"buy\", \"like\", \"participate\", \"pay\", \"remove\", \"see\", \"replace\"], \"y\": [7, 3, 2, 2, 2, 1, 1, 1, 1, 1, 1, 1, 1, 1], \"text\": [7, 3, 2, 2, 2, 1, 1, 1, 1, 1, 1, 1, 1, 1], \"textposition\": \"outside\", \"opacity\": 1}], {\"title\": \"<b>Verbs for Other</b><br>\", \"xaxis\": {\"title\": \"\", \"tickfont\": {\"size\": 14, \"color\": \"rgb(107, 107, 107)\"}}, \"yaxis\": {\"title\": \"\", \"titlefont\": {\"size\": 16, \"color\": \"rgb(107, 107, 107)\"}, \"tickfont\": {\"size\": 14, \"color\": \"rgb(107, 107, 107)\"}}}, {\"showLink\": true, \"linkText\": \"Export to plot.ly\"})});</script>"
      ]
     },
     "metadata": {},
     "output_type": "display_data"
    },
    {
     "data": {
      "application/vnd.plotly.v1+json": {
       "data": [
        {
         "opacity": 1,
         "text": [
          48,
          29,
          28,
          15,
          15,
          15,
          13,
          12,
          12,
          11,
          11,
          10,
          10,
          9,
          9
         ],
         "textposition": "outside",
         "type": "bar",
         "x": [
          "ensure",
          "reduce",
          "get",
          "take",
          "identify",
          "improve",
          "apply",
          "provide",
          "remove",
          "obtain",
          "need",
          "keep",
          "check",
          "disease",
          "develop"
         ],
         "y": [
          48,
          29,
          28,
          15,
          15,
          15,
          13,
          12,
          12,
          11,
          11,
          10,
          10,
          9,
          9
         ]
        }
       ],
       "layout": {
        "title": "<b>Verbs for Department of Public Health</b><br>",
        "xaxis": {
         "tickfont": {
          "color": "rgb(107, 107, 107)",
          "size": 14
         },
         "title": ""
        },
        "yaxis": {
         "tickfont": {
          "color": "rgb(107, 107, 107)",
          "size": 14
         },
         "title": "",
         "titlefont": {
          "color": "rgb(107, 107, 107)",
          "size": 16
         }
        }
       }
      },
      "text/html": [
       "<div id=\"d93521ae-f0f8-4a34-b087-2f42177161f8\" style=\"height: 525px; width: 100%;\" class=\"plotly-graph-div\"></div><script type=\"text/javascript\">require([\"plotly\"], function(Plotly) { window.PLOTLYENV=window.PLOTLYENV || {};window.PLOTLYENV.BASE_URL=\"https://plot.ly\";Plotly.newPlot(\"d93521ae-f0f8-4a34-b087-2f42177161f8\", [{\"type\": \"bar\", \"x\": [\"ensure\", \"reduce\", \"get\", \"take\", \"identify\", \"improve\", \"apply\", \"provide\", \"remove\", \"obtain\", \"need\", \"keep\", \"check\", \"disease\", \"develop\"], \"y\": [48, 29, 28, 15, 15, 15, 13, 12, 12, 11, 11, 10, 10, 9, 9], \"text\": [48, 29, 28, 15, 15, 15, 13, 12, 12, 11, 11, 10, 10, 9, 9], \"textposition\": \"outside\", \"opacity\": 1}], {\"title\": \"<b>Verbs for Department of Public Health</b><br>\", \"xaxis\": {\"title\": \"\", \"tickfont\": {\"size\": 14, \"color\": \"rgb(107, 107, 107)\"}}, \"yaxis\": {\"title\": \"\", \"titlefont\": {\"size\": 16, \"color\": \"rgb(107, 107, 107)\"}, \"tickfont\": {\"size\": 14, \"color\": \"rgb(107, 107, 107)\"}}}, {\"showLink\": true, \"linkText\": \"Export to plot.ly\"})});</script>"
      ],
      "text/vnd.plotly.v1+html": [
       "<div id=\"d93521ae-f0f8-4a34-b087-2f42177161f8\" style=\"height: 525px; width: 100%;\" class=\"plotly-graph-div\"></div><script type=\"text/javascript\">require([\"plotly\"], function(Plotly) { window.PLOTLYENV=window.PLOTLYENV || {};window.PLOTLYENV.BASE_URL=\"https://plot.ly\";Plotly.newPlot(\"d93521ae-f0f8-4a34-b087-2f42177161f8\", [{\"type\": \"bar\", \"x\": [\"ensure\", \"reduce\", \"get\", \"take\", \"identify\", \"improve\", \"apply\", \"provide\", \"remove\", \"obtain\", \"need\", \"keep\", \"check\", \"disease\", \"develop\"], \"y\": [48, 29, 28, 15, 15, 15, 13, 12, 12, 11, 11, 10, 10, 9, 9], \"text\": [48, 29, 28, 15, 15, 15, 13, 12, 12, 11, 11, 10, 10, 9, 9], \"textposition\": \"outside\", \"opacity\": 1}], {\"title\": \"<b>Verbs for Department of Public Health</b><br>\", \"xaxis\": {\"title\": \"\", \"tickfont\": {\"size\": 14, \"color\": \"rgb(107, 107, 107)\"}}, \"yaxis\": {\"title\": \"\", \"titlefont\": {\"size\": 16, \"color\": \"rgb(107, 107, 107)\"}, \"tickfont\": {\"size\": 14, \"color\": \"rgb(107, 107, 107)\"}}}, {\"showLink\": true, \"linkText\": \"Export to plot.ly\"})});</script>"
      ]
     },
     "metadata": {},
     "output_type": "display_data"
    },
    {
     "data": {
      "application/vnd.plotly.v1+json": {
       "data": [
        {
         "opacity": 1,
         "text": [
          79,
          26,
          19,
          13,
          13,
          10,
          9,
          9,
          7,
          6,
          6,
          5,
          5,
          5,
          5
         ],
         "textposition": "outside",
         "type": "bar",
         "x": [
          "na",
          "know",
          "remove",
          "call",
          "check",
          "earth911",
          "keep",
          "reduce",
          "contact",
          "ensure",
          "nawww.chicagorecycles.org",
          "obtain",
          "identify",
          "provide",
          "pay"
         ],
         "y": [
          79,
          26,
          19,
          13,
          13,
          10,
          9,
          9,
          7,
          6,
          6,
          5,
          5,
          5,
          5
         ]
        }
       ],
       "layout": {
        "title": "<b>Verbs for Department of Streets and Sanitation</b><br>",
        "xaxis": {
         "tickfont": {
          "color": "rgb(107, 107, 107)",
          "size": 14
         },
         "title": ""
        },
        "yaxis": {
         "tickfont": {
          "color": "rgb(107, 107, 107)",
          "size": 14
         },
         "title": "",
         "titlefont": {
          "color": "rgb(107, 107, 107)",
          "size": 16
         }
        }
       }
      },
      "text/html": [
       "<div id=\"4352b380-6450-4e65-ac9a-e053089a2fdb\" style=\"height: 525px; width: 100%;\" class=\"plotly-graph-div\"></div><script type=\"text/javascript\">require([\"plotly\"], function(Plotly) { window.PLOTLYENV=window.PLOTLYENV || {};window.PLOTLYENV.BASE_URL=\"https://plot.ly\";Plotly.newPlot(\"4352b380-6450-4e65-ac9a-e053089a2fdb\", [{\"type\": \"bar\", \"x\": [\"na\", \"know\", \"remove\", \"call\", \"check\", \"earth911\", \"keep\", \"reduce\", \"contact\", \"ensure\", \"nawww.chicagorecycles.org\", \"obtain\", \"identify\", \"provide\", \"pay\"], \"y\": [79, 26, 19, 13, 13, 10, 9, 9, 7, 6, 6, 5, 5, 5, 5], \"text\": [79, 26, 19, 13, 13, 10, 9, 9, 7, 6, 6, 5, 5, 5, 5], \"textposition\": \"outside\", \"opacity\": 1}], {\"title\": \"<b>Verbs for Department of Streets and Sanitation</b><br>\", \"xaxis\": {\"title\": \"\", \"tickfont\": {\"size\": 14, \"color\": \"rgb(107, 107, 107)\"}}, \"yaxis\": {\"title\": \"\", \"titlefont\": {\"size\": 16, \"color\": \"rgb(107, 107, 107)\"}, \"tickfont\": {\"size\": 14, \"color\": \"rgb(107, 107, 107)\"}}}, {\"showLink\": true, \"linkText\": \"Export to plot.ly\"})});</script>"
      ],
      "text/vnd.plotly.v1+html": [
       "<div id=\"4352b380-6450-4e65-ac9a-e053089a2fdb\" style=\"height: 525px; width: 100%;\" class=\"plotly-graph-div\"></div><script type=\"text/javascript\">require([\"plotly\"], function(Plotly) { window.PLOTLYENV=window.PLOTLYENV || {};window.PLOTLYENV.BASE_URL=\"https://plot.ly\";Plotly.newPlot(\"4352b380-6450-4e65-ac9a-e053089a2fdb\", [{\"type\": \"bar\", \"x\": [\"na\", \"know\", \"remove\", \"call\", \"check\", \"earth911\", \"keep\", \"reduce\", \"contact\", \"ensure\", \"nawww.chicagorecycles.org\", \"obtain\", \"identify\", \"provide\", \"pay\"], \"y\": [79, 26, 19, 13, 13, 10, 9, 9, 7, 6, 6, 5, 5, 5, 5], \"text\": [79, 26, 19, 13, 13, 10, 9, 9, 7, 6, 6, 5, 5, 5, 5], \"textposition\": \"outside\", \"opacity\": 1}], {\"title\": \"<b>Verbs for Department of Streets and Sanitation</b><br>\", \"xaxis\": {\"title\": \"\", \"tickfont\": {\"size\": 14, \"color\": \"rgb(107, 107, 107)\"}}, \"yaxis\": {\"title\": \"\", \"titlefont\": {\"size\": 16, \"color\": \"rgb(107, 107, 107)\"}, \"tickfont\": {\"size\": 14, \"color\": \"rgb(107, 107, 107)\"}}}, {\"showLink\": true, \"linkText\": \"Export to plot.ly\"})});</script>"
      ]
     },
     "metadata": {},
     "output_type": "display_data"
    },
    {
     "data": {
      "application/vnd.plotly.v1+json": {
       "data": [
        {
         "opacity": 1,
         "text": [
          12,
          11,
          7,
          6,
          6,
          6,
          5,
          5,
          4,
          4,
          4,
          4,
          3,
          3,
          3
         ],
         "textposition": "outside",
         "type": "bar",
         "x": [
          "ensure",
          "obtain",
          "get",
          "like",
          "ask",
          "take",
          "provide",
          "include",
          "identify",
          "establish",
          "make",
          "allow",
          "call",
          "reach",
          "consider"
         ],
         "y": [
          12,
          11,
          7,
          6,
          6,
          6,
          5,
          5,
          4,
          4,
          4,
          4,
          3,
          3,
          3
         ]
        }
       ],
       "layout": {
        "title": "<b>Verbs for Mayor's Office for People with Disabilities</b><br>",
        "xaxis": {
         "tickfont": {
          "color": "rgb(107, 107, 107)",
          "size": 14
         },
         "title": ""
        },
        "yaxis": {
         "tickfont": {
          "color": "rgb(107, 107, 107)",
          "size": 14
         },
         "title": "",
         "titlefont": {
          "color": "rgb(107, 107, 107)",
          "size": 16
         }
        }
       }
      },
      "text/html": [
       "<div id=\"a629dec0-5e8a-496c-9461-8b7df962125b\" style=\"height: 525px; width: 100%;\" class=\"plotly-graph-div\"></div><script type=\"text/javascript\">require([\"plotly\"], function(Plotly) { window.PLOTLYENV=window.PLOTLYENV || {};window.PLOTLYENV.BASE_URL=\"https://plot.ly\";Plotly.newPlot(\"a629dec0-5e8a-496c-9461-8b7df962125b\", [{\"type\": \"bar\", \"x\": [\"ensure\", \"obtain\", \"get\", \"like\", \"ask\", \"take\", \"provide\", \"include\", \"identify\", \"establish\", \"make\", \"allow\", \"call\", \"reach\", \"consider\"], \"y\": [12, 11, 7, 6, 6, 6, 5, 5, 4, 4, 4, 4, 3, 3, 3], \"text\": [12, 11, 7, 6, 6, 6, 5, 5, 4, 4, 4, 4, 3, 3, 3], \"textposition\": \"outside\", \"opacity\": 1}], {\"title\": \"<b>Verbs for Mayor's Office for People with Disabilities</b><br>\", \"xaxis\": {\"title\": \"\", \"tickfont\": {\"size\": 14, \"color\": \"rgb(107, 107, 107)\"}}, \"yaxis\": {\"title\": \"\", \"titlefont\": {\"size\": 16, \"color\": \"rgb(107, 107, 107)\"}, \"tickfont\": {\"size\": 14, \"color\": \"rgb(107, 107, 107)\"}}}, {\"showLink\": true, \"linkText\": \"Export to plot.ly\"})});</script>"
      ],
      "text/vnd.plotly.v1+html": [
       "<div id=\"a629dec0-5e8a-496c-9461-8b7df962125b\" style=\"height: 525px; width: 100%;\" class=\"plotly-graph-div\"></div><script type=\"text/javascript\">require([\"plotly\"], function(Plotly) { window.PLOTLYENV=window.PLOTLYENV || {};window.PLOTLYENV.BASE_URL=\"https://plot.ly\";Plotly.newPlot(\"a629dec0-5e8a-496c-9461-8b7df962125b\", [{\"type\": \"bar\", \"x\": [\"ensure\", \"obtain\", \"get\", \"like\", \"ask\", \"take\", \"provide\", \"include\", \"identify\", \"establish\", \"make\", \"allow\", \"call\", \"reach\", \"consider\"], \"y\": [12, 11, 7, 6, 6, 6, 5, 5, 4, 4, 4, 4, 3, 3, 3], \"text\": [12, 11, 7, 6, 6, 6, 5, 5, 4, 4, 4, 4, 3, 3, 3], \"textposition\": \"outside\", \"opacity\": 1}], {\"title\": \"<b>Verbs for Mayor's Office for People with Disabilities</b><br>\", \"xaxis\": {\"title\": \"\", \"tickfont\": {\"size\": 14, \"color\": \"rgb(107, 107, 107)\"}}, \"yaxis\": {\"title\": \"\", \"titlefont\": {\"size\": 16, \"color\": \"rgb(107, 107, 107)\"}, \"tickfont\": {\"size\": 14, \"color\": \"rgb(107, 107, 107)\"}}}, {\"showLink\": true, \"linkText\": \"Export to plot.ly\"})});</script>"
      ]
     },
     "metadata": {},
     "output_type": "display_data"
    },
    {
     "data": {
      "application/vnd.plotly.v1+json": {
       "data": [
        {
         "opacity": 1,
         "text": [
          37,
          29,
          27,
          25,
          15,
          11,
          11,
          11,
          10,
          10,
          9,
          9,
          8,
          8,
          8
         ],
         "textposition": "outside",
         "type": "bar",
         "x": [
          "printed",
          "pay",
          "obtain",
          "apply",
          "ensure",
          "like",
          "get",
          "take",
          "paid",
          "made",
          "park",
          "call",
          "contest",
          "keep",
          "check"
         ],
         "y": [
          37,
          29,
          27,
          25,
          15,
          11,
          11,
          11,
          10,
          10,
          9,
          9,
          8,
          8,
          8
         ]
        }
       ],
       "layout": {
        "title": "<b>Verbs for Department of Finance</b><br>",
        "xaxis": {
         "tickfont": {
          "color": "rgb(107, 107, 107)",
          "size": 14
         },
         "title": ""
        },
        "yaxis": {
         "tickfont": {
          "color": "rgb(107, 107, 107)",
          "size": 14
         },
         "title": "",
         "titlefont": {
          "color": "rgb(107, 107, 107)",
          "size": 16
         }
        }
       }
      },
      "text/html": [
       "<div id=\"d7720a56-768c-4002-b42f-6a6e3a6baf14\" style=\"height: 525px; width: 100%;\" class=\"plotly-graph-div\"></div><script type=\"text/javascript\">require([\"plotly\"], function(Plotly) { window.PLOTLYENV=window.PLOTLYENV || {};window.PLOTLYENV.BASE_URL=\"https://plot.ly\";Plotly.newPlot(\"d7720a56-768c-4002-b42f-6a6e3a6baf14\", [{\"type\": \"bar\", \"x\": [\"printed\", \"pay\", \"obtain\", \"apply\", \"ensure\", \"like\", \"get\", \"take\", \"paid\", \"made\", \"park\", \"call\", \"contest\", \"keep\", \"check\"], \"y\": [37, 29, 27, 25, 15, 11, 11, 11, 10, 10, 9, 9, 8, 8, 8], \"text\": [37, 29, 27, 25, 15, 11, 11, 11, 10, 10, 9, 9, 8, 8, 8], \"textposition\": \"outside\", \"opacity\": 1}], {\"title\": \"<b>Verbs for Department of Finance</b><br>\", \"xaxis\": {\"title\": \"\", \"tickfont\": {\"size\": 14, \"color\": \"rgb(107, 107, 107)\"}}, \"yaxis\": {\"title\": \"\", \"titlefont\": {\"size\": 16, \"color\": \"rgb(107, 107, 107)\"}, \"tickfont\": {\"size\": 14, \"color\": \"rgb(107, 107, 107)\"}}}, {\"showLink\": true, \"linkText\": \"Export to plot.ly\"})});</script>"
      ],
      "text/vnd.plotly.v1+html": [
       "<div id=\"d7720a56-768c-4002-b42f-6a6e3a6baf14\" style=\"height: 525px; width: 100%;\" class=\"plotly-graph-div\"></div><script type=\"text/javascript\">require([\"plotly\"], function(Plotly) { window.PLOTLYENV=window.PLOTLYENV || {};window.PLOTLYENV.BASE_URL=\"https://plot.ly\";Plotly.newPlot(\"d7720a56-768c-4002-b42f-6a6e3a6baf14\", [{\"type\": \"bar\", \"x\": [\"printed\", \"pay\", \"obtain\", \"apply\", \"ensure\", \"like\", \"get\", \"take\", \"paid\", \"made\", \"park\", \"call\", \"contest\", \"keep\", \"check\"], \"y\": [37, 29, 27, 25, 15, 11, 11, 11, 10, 10, 9, 9, 8, 8, 8], \"text\": [37, 29, 27, 25, 15, 11, 11, 11, 10, 10, 9, 9, 8, 8, 8], \"textposition\": \"outside\", \"opacity\": 1}], {\"title\": \"<b>Verbs for Department of Finance</b><br>\", \"xaxis\": {\"title\": \"\", \"tickfont\": {\"size\": 14, \"color\": \"rgb(107, 107, 107)\"}}, \"yaxis\": {\"title\": \"\", \"titlefont\": {\"size\": 16, \"color\": \"rgb(107, 107, 107)\"}, \"tickfont\": {\"size\": 14, \"color\": \"rgb(107, 107, 107)\"}}}, {\"showLink\": true, \"linkText\": \"Export to plot.ly\"})});</script>"
      ]
     },
     "metadata": {},
     "output_type": "display_data"
    },
    {
     "data": {
      "application/vnd.plotly.v1+json": {
       "data": [
        {
         "opacity": 1,
         "text": [
          191,
          36,
          27,
          26,
          26,
          20,
          17,
          17,
          14,
          14,
          13,
          13,
          12,
          12,
          11
         ],
         "textposition": "outside",
         "type": "bar",
         "x": [
          "remove",
          "improve",
          "provide",
          "ensure",
          "include",
          "submit",
          "replace",
          "june",
          "establish",
          "meet",
          "reduce",
          "map",
          "apply",
          "required",
          "support"
         ],
         "y": [
          191,
          36,
          27,
          26,
          26,
          20,
          17,
          17,
          14,
          14,
          13,
          13,
          12,
          12,
          11
         ]
        }
       ],
       "layout": {
        "title": "<b>Verbs for Department of Planning and Development</b><br>",
        "xaxis": {
         "tickfont": {
          "color": "rgb(107, 107, 107)",
          "size": 14
         },
         "title": ""
        },
        "yaxis": {
         "tickfont": {
          "color": "rgb(107, 107, 107)",
          "size": 14
         },
         "title": "",
         "titlefont": {
          "color": "rgb(107, 107, 107)",
          "size": 16
         }
        }
       }
      },
      "text/html": [
       "<div id=\"f748a252-5898-4012-bc05-b2696003cb80\" style=\"height: 525px; width: 100%;\" class=\"plotly-graph-div\"></div><script type=\"text/javascript\">require([\"plotly\"], function(Plotly) { window.PLOTLYENV=window.PLOTLYENV || {};window.PLOTLYENV.BASE_URL=\"https://plot.ly\";Plotly.newPlot(\"f748a252-5898-4012-bc05-b2696003cb80\", [{\"type\": \"bar\", \"x\": [\"remove\", \"improve\", \"provide\", \"ensure\", \"include\", \"submit\", \"replace\", \"june\", \"establish\", \"meet\", \"reduce\", \"map\", \"apply\", \"required\", \"support\"], \"y\": [191, 36, 27, 26, 26, 20, 17, 17, 14, 14, 13, 13, 12, 12, 11], \"text\": [191, 36, 27, 26, 26, 20, 17, 17, 14, 14, 13, 13, 12, 12, 11], \"textposition\": \"outside\", \"opacity\": 1}], {\"title\": \"<b>Verbs for Department of Planning and Development</b><br>\", \"xaxis\": {\"title\": \"\", \"tickfont\": {\"size\": 14, \"color\": \"rgb(107, 107, 107)\"}}, \"yaxis\": {\"title\": \"\", \"titlefont\": {\"size\": 16, \"color\": \"rgb(107, 107, 107)\"}, \"tickfont\": {\"size\": 14, \"color\": \"rgb(107, 107, 107)\"}}}, {\"showLink\": true, \"linkText\": \"Export to plot.ly\"})});</script>"
      ],
      "text/vnd.plotly.v1+html": [
       "<div id=\"f748a252-5898-4012-bc05-b2696003cb80\" style=\"height: 525px; width: 100%;\" class=\"plotly-graph-div\"></div><script type=\"text/javascript\">require([\"plotly\"], function(Plotly) { window.PLOTLYENV=window.PLOTLYENV || {};window.PLOTLYENV.BASE_URL=\"https://plot.ly\";Plotly.newPlot(\"f748a252-5898-4012-bc05-b2696003cb80\", [{\"type\": \"bar\", \"x\": [\"remove\", \"improve\", \"provide\", \"ensure\", \"include\", \"submit\", \"replace\", \"june\", \"establish\", \"meet\", \"reduce\", \"map\", \"apply\", \"required\", \"support\"], \"y\": [191, 36, 27, 26, 26, 20, 17, 17, 14, 14, 13, 13, 12, 12, 11], \"text\": [191, 36, 27, 26, 26, 20, 17, 17, 14, 14, 13, 13, 12, 12, 11], \"textposition\": \"outside\", \"opacity\": 1}], {\"title\": \"<b>Verbs for Department of Planning and Development</b><br>\", \"xaxis\": {\"title\": \"\", \"tickfont\": {\"size\": 14, \"color\": \"rgb(107, 107, 107)\"}}, \"yaxis\": {\"title\": \"\", \"titlefont\": {\"size\": 16, \"color\": \"rgb(107, 107, 107)\"}, \"tickfont\": {\"size\": 14, \"color\": \"rgb(107, 107, 107)\"}}}, {\"showLink\": true, \"linkText\": \"Export to plot.ly\"})});</script>"
      ]
     },
     "metadata": {},
     "output_type": "display_data"
    },
    {
     "data": {
      "application/vnd.plotly.v1+json": {
       "data": [
        {
         "opacity": 1,
         "text": [
          21,
          16,
          16,
          9,
          9,
          9,
          9,
          8,
          8,
          8,
          8,
          7,
          7,
          6,
          6
         ],
         "textposition": "outside",
         "type": "bar",
         "x": [
          "improve",
          "reduce",
          "ensure",
          "include",
          "see",
          "obtain",
          "submit",
          "identify",
          "stop",
          "make",
          "provide",
          "minimize",
          "get",
          "replace",
          "meet"
         ],
         "y": [
          21,
          16,
          16,
          9,
          9,
          9,
          9,
          8,
          8,
          8,
          8,
          7,
          7,
          6,
          6
         ]
        }
       ],
       "layout": {
        "title": "<b>Verbs for Department of Transportation</b><br>",
        "xaxis": {
         "tickfont": {
          "color": "rgb(107, 107, 107)",
          "size": 14
         },
         "title": ""
        },
        "yaxis": {
         "tickfont": {
          "color": "rgb(107, 107, 107)",
          "size": 14
         },
         "title": "",
         "titlefont": {
          "color": "rgb(107, 107, 107)",
          "size": 16
         }
        }
       }
      },
      "text/html": [
       "<div id=\"67705f68-733f-4fae-af89-7e89aaaebe19\" style=\"height: 525px; width: 100%;\" class=\"plotly-graph-div\"></div><script type=\"text/javascript\">require([\"plotly\"], function(Plotly) { window.PLOTLYENV=window.PLOTLYENV || {};window.PLOTLYENV.BASE_URL=\"https://plot.ly\";Plotly.newPlot(\"67705f68-733f-4fae-af89-7e89aaaebe19\", [{\"type\": \"bar\", \"x\": [\"improve\", \"reduce\", \"ensure\", \"include\", \"see\", \"obtain\", \"submit\", \"identify\", \"stop\", \"make\", \"provide\", \"minimize\", \"get\", \"replace\", \"meet\"], \"y\": [21, 16, 16, 9, 9, 9, 9, 8, 8, 8, 8, 7, 7, 6, 6], \"text\": [21, 16, 16, 9, 9, 9, 9, 8, 8, 8, 8, 7, 7, 6, 6], \"textposition\": \"outside\", \"opacity\": 1}], {\"title\": \"<b>Verbs for Department of Transportation</b><br>\", \"xaxis\": {\"title\": \"\", \"tickfont\": {\"size\": 14, \"color\": \"rgb(107, 107, 107)\"}}, \"yaxis\": {\"title\": \"\", \"titlefont\": {\"size\": 16, \"color\": \"rgb(107, 107, 107)\"}, \"tickfont\": {\"size\": 14, \"color\": \"rgb(107, 107, 107)\"}}}, {\"showLink\": true, \"linkText\": \"Export to plot.ly\"})});</script>"
      ],
      "text/vnd.plotly.v1+html": [
       "<div id=\"67705f68-733f-4fae-af89-7e89aaaebe19\" style=\"height: 525px; width: 100%;\" class=\"plotly-graph-div\"></div><script type=\"text/javascript\">require([\"plotly\"], function(Plotly) { window.PLOTLYENV=window.PLOTLYENV || {};window.PLOTLYENV.BASE_URL=\"https://plot.ly\";Plotly.newPlot(\"67705f68-733f-4fae-af89-7e89aaaebe19\", [{\"type\": \"bar\", \"x\": [\"improve\", \"reduce\", \"ensure\", \"include\", \"see\", \"obtain\", \"submit\", \"identify\", \"stop\", \"make\", \"provide\", \"minimize\", \"get\", \"replace\", \"meet\"], \"y\": [21, 16, 16, 9, 9, 9, 9, 8, 8, 8, 8, 7, 7, 6, 6], \"text\": [21, 16, 16, 9, 9, 9, 9, 8, 8, 8, 8, 7, 7, 6, 6], \"textposition\": \"outside\", \"opacity\": 1}], {\"title\": \"<b>Verbs for Department of Transportation</b><br>\", \"xaxis\": {\"title\": \"\", \"tickfont\": {\"size\": 14, \"color\": \"rgb(107, 107, 107)\"}}, \"yaxis\": {\"title\": \"\", \"titlefont\": {\"size\": 16, \"color\": \"rgb(107, 107, 107)\"}, \"tickfont\": {\"size\": 14, \"color\": \"rgb(107, 107, 107)\"}}}, {\"showLink\": true, \"linkText\": \"Export to plot.ly\"})});</script>"
      ]
     },
     "metadata": {},
     "output_type": "display_data"
    },
    {
     "data": {
      "application/vnd.plotly.v1+json": {
       "data": [
        {
         "opacity": 1,
         "text": [
          21,
          10,
          10,
          8,
          7,
          6,
          6,
          6,
          5,
          5,
          4,
          4,
          4,
          4,
          4
         ],
         "textposition": "outside",
         "type": "bar",
         "x": [
          "prebid",
          "rfq",
          "june",
          "replace",
          "provide",
          "rfp",
          "ensure",
          "take",
          "december",
          "check",
          "like",
          "start",
          "enterprise",
          "buy",
          "request"
         ],
         "y": [
          21,
          10,
          10,
          8,
          7,
          6,
          6,
          6,
          5,
          5,
          4,
          4,
          4,
          4,
          4
         ]
        }
       ],
       "layout": {
        "title": "<b>Verbs for Department of Procurement Services</b><br>",
        "xaxis": {
         "tickfont": {
          "color": "rgb(107, 107, 107)",
          "size": 14
         },
         "title": ""
        },
        "yaxis": {
         "tickfont": {
          "color": "rgb(107, 107, 107)",
          "size": 14
         },
         "title": "",
         "titlefont": {
          "color": "rgb(107, 107, 107)",
          "size": 16
         }
        }
       }
      },
      "text/html": [
       "<div id=\"5372c2e1-ab58-456e-b912-1a1f7f1810a3\" style=\"height: 525px; width: 100%;\" class=\"plotly-graph-div\"></div><script type=\"text/javascript\">require([\"plotly\"], function(Plotly) { window.PLOTLYENV=window.PLOTLYENV || {};window.PLOTLYENV.BASE_URL=\"https://plot.ly\";Plotly.newPlot(\"5372c2e1-ab58-456e-b912-1a1f7f1810a3\", [{\"type\": \"bar\", \"x\": [\"prebid\", \"rfq\", \"june\", \"replace\", \"provide\", \"rfp\", \"ensure\", \"take\", \"december\", \"check\", \"like\", \"start\", \"enterprise\", \"buy\", \"request\"], \"y\": [21, 10, 10, 8, 7, 6, 6, 6, 5, 5, 4, 4, 4, 4, 4], \"text\": [21, 10, 10, 8, 7, 6, 6, 6, 5, 5, 4, 4, 4, 4, 4], \"textposition\": \"outside\", \"opacity\": 1}], {\"title\": \"<b>Verbs for Department of Procurement Services</b><br>\", \"xaxis\": {\"title\": \"\", \"tickfont\": {\"size\": 14, \"color\": \"rgb(107, 107, 107)\"}}, \"yaxis\": {\"title\": \"\", \"titlefont\": {\"size\": 16, \"color\": \"rgb(107, 107, 107)\"}, \"tickfont\": {\"size\": 14, \"color\": \"rgb(107, 107, 107)\"}}}, {\"showLink\": true, \"linkText\": \"Export to plot.ly\"})});</script>"
      ],
      "text/vnd.plotly.v1+html": [
       "<div id=\"5372c2e1-ab58-456e-b912-1a1f7f1810a3\" style=\"height: 525px; width: 100%;\" class=\"plotly-graph-div\"></div><script type=\"text/javascript\">require([\"plotly\"], function(Plotly) { window.PLOTLYENV=window.PLOTLYENV || {};window.PLOTLYENV.BASE_URL=\"https://plot.ly\";Plotly.newPlot(\"5372c2e1-ab58-456e-b912-1a1f7f1810a3\", [{\"type\": \"bar\", \"x\": [\"prebid\", \"rfq\", \"june\", \"replace\", \"provide\", \"rfp\", \"ensure\", \"take\", \"december\", \"check\", \"like\", \"start\", \"enterprise\", \"buy\", \"request\"], \"y\": [21, 10, 10, 8, 7, 6, 6, 6, 5, 5, 4, 4, 4, 4, 4], \"text\": [21, 10, 10, 8, 7, 6, 6, 6, 5, 5, 4, 4, 4, 4, 4], \"textposition\": \"outside\", \"opacity\": 1}], {\"title\": \"<b>Verbs for Department of Procurement Services</b><br>\", \"xaxis\": {\"title\": \"\", \"tickfont\": {\"size\": 14, \"color\": \"rgb(107, 107, 107)\"}}, \"yaxis\": {\"title\": \"\", \"titlefont\": {\"size\": 16, \"color\": \"rgb(107, 107, 107)\"}, \"tickfont\": {\"size\": 14, \"color\": \"rgb(107, 107, 107)\"}}}, {\"showLink\": true, \"linkText\": \"Export to plot.ly\"})});</script>"
      ]
     },
     "metadata": {},
     "output_type": "display_data"
    },
    {
     "data": {
      "application/vnd.plotly.v1+json": {
       "data": [
        {
         "opacity": 1,
         "text": [
          7,
          4,
          3,
          2,
          2,
          2,
          2,
          2,
          1,
          1,
          1,
          1,
          1,
          1,
          1
         ],
         "textposition": "outside",
         "type": "bar",
         "x": [
          "reduce",
          "remove",
          "rooftop",
          "obtain",
          "lessen",
          "eliminate",
          "include",
          "like",
          "acquire",
          "pay",
          "reuse",
          "begin",
          "improve",
          "build",
          "keep"
         ],
         "y": [
          7,
          4,
          3,
          2,
          2,
          2,
          2,
          2,
          1,
          1,
          1,
          1,
          1,
          1,
          1
         ]
        }
       ],
       "layout": {
        "title": "<b>Verbs for Department of Fleet and Facility Management</b><br>",
        "xaxis": {
         "tickfont": {
          "color": "rgb(107, 107, 107)",
          "size": 14
         },
         "title": ""
        },
        "yaxis": {
         "tickfont": {
          "color": "rgb(107, 107, 107)",
          "size": 14
         },
         "title": "",
         "titlefont": {
          "color": "rgb(107, 107, 107)",
          "size": 16
         }
        }
       }
      },
      "text/html": [
       "<div id=\"c00f452c-ce8d-4192-a8ba-be48c51b1d76\" style=\"height: 525px; width: 100%;\" class=\"plotly-graph-div\"></div><script type=\"text/javascript\">require([\"plotly\"], function(Plotly) { window.PLOTLYENV=window.PLOTLYENV || {};window.PLOTLYENV.BASE_URL=\"https://plot.ly\";Plotly.newPlot(\"c00f452c-ce8d-4192-a8ba-be48c51b1d76\", [{\"type\": \"bar\", \"x\": [\"reduce\", \"remove\", \"rooftop\", \"obtain\", \"lessen\", \"eliminate\", \"include\", \"like\", \"acquire\", \"pay\", \"reuse\", \"begin\", \"improve\", \"build\", \"keep\"], \"y\": [7, 4, 3, 2, 2, 2, 2, 2, 1, 1, 1, 1, 1, 1, 1], \"text\": [7, 4, 3, 2, 2, 2, 2, 2, 1, 1, 1, 1, 1, 1, 1], \"textposition\": \"outside\", \"opacity\": 1}], {\"title\": \"<b>Verbs for Department of Fleet and Facility Management</b><br>\", \"xaxis\": {\"title\": \"\", \"tickfont\": {\"size\": 14, \"color\": \"rgb(107, 107, 107)\"}}, \"yaxis\": {\"title\": \"\", \"titlefont\": {\"size\": 16, \"color\": \"rgb(107, 107, 107)\"}, \"tickfont\": {\"size\": 14, \"color\": \"rgb(107, 107, 107)\"}}}, {\"showLink\": true, \"linkText\": \"Export to plot.ly\"})});</script>"
      ],
      "text/vnd.plotly.v1+html": [
       "<div id=\"c00f452c-ce8d-4192-a8ba-be48c51b1d76\" style=\"height: 525px; width: 100%;\" class=\"plotly-graph-div\"></div><script type=\"text/javascript\">require([\"plotly\"], function(Plotly) { window.PLOTLYENV=window.PLOTLYENV || {};window.PLOTLYENV.BASE_URL=\"https://plot.ly\";Plotly.newPlot(\"c00f452c-ce8d-4192-a8ba-be48c51b1d76\", [{\"type\": \"bar\", \"x\": [\"reduce\", \"remove\", \"rooftop\", \"obtain\", \"lessen\", \"eliminate\", \"include\", \"like\", \"acquire\", \"pay\", \"reuse\", \"begin\", \"improve\", \"build\", \"keep\"], \"y\": [7, 4, 3, 2, 2, 2, 2, 2, 1, 1, 1, 1, 1, 1, 1], \"text\": [7, 4, 3, 2, 2, 2, 2, 2, 1, 1, 1, 1, 1, 1, 1], \"textposition\": \"outside\", \"opacity\": 1}], {\"title\": \"<b>Verbs for Department of Fleet and Facility Management</b><br>\", \"xaxis\": {\"title\": \"\", \"tickfont\": {\"size\": 14, \"color\": \"rgb(107, 107, 107)\"}}, \"yaxis\": {\"title\": \"\", \"titlefont\": {\"size\": 16, \"color\": \"rgb(107, 107, 107)\"}, \"tickfont\": {\"size\": 14, \"color\": \"rgb(107, 107, 107)\"}}}, {\"showLink\": true, \"linkText\": \"Export to plot.ly\"})});</script>"
      ]
     },
     "metadata": {},
     "output_type": "display_data"
    },
    {
     "data": {
      "application/vnd.plotly.v1+json": {
       "data": [
        {
         "opacity": 1,
         "text": [
          7,
          5,
          5,
          5,
          5,
          5,
          5,
          5,
          4,
          4,
          4,
          4,
          3,
          3,
          3
         ],
         "textposition": "outside",
         "type": "bar",
         "x": [
          "settle",
          "identify",
          "include",
          "see",
          "keep",
          "take",
          "prepare",
          "file",
          "occurred",
          "receive",
          "make",
          "need",
          "reduce",
          "develop",
          "cotten"
         ],
         "y": [
          7,
          5,
          5,
          5,
          5,
          5,
          5,
          5,
          4,
          4,
          4,
          4,
          3,
          3,
          3
         ]
        }
       ],
       "layout": {
        "title": "<b>Verbs for Commission on Human Relations</b><br>",
        "xaxis": {
         "tickfont": {
          "color": "rgb(107, 107, 107)",
          "size": 14
         },
         "title": ""
        },
        "yaxis": {
         "tickfont": {
          "color": "rgb(107, 107, 107)",
          "size": 14
         },
         "title": "",
         "titlefont": {
          "color": "rgb(107, 107, 107)",
          "size": 16
         }
        }
       }
      },
      "text/html": [
       "<div id=\"51289833-4557-4f85-9bab-aca302d5d258\" style=\"height: 525px; width: 100%;\" class=\"plotly-graph-div\"></div><script type=\"text/javascript\">require([\"plotly\"], function(Plotly) { window.PLOTLYENV=window.PLOTLYENV || {};window.PLOTLYENV.BASE_URL=\"https://plot.ly\";Plotly.newPlot(\"51289833-4557-4f85-9bab-aca302d5d258\", [{\"type\": \"bar\", \"x\": [\"settle\", \"identify\", \"include\", \"see\", \"keep\", \"take\", \"prepare\", \"file\", \"occurred\", \"receive\", \"make\", \"need\", \"reduce\", \"develop\", \"cotten\"], \"y\": [7, 5, 5, 5, 5, 5, 5, 5, 4, 4, 4, 4, 3, 3, 3], \"text\": [7, 5, 5, 5, 5, 5, 5, 5, 4, 4, 4, 4, 3, 3, 3], \"textposition\": \"outside\", \"opacity\": 1}], {\"title\": \"<b>Verbs for Commission on Human Relations</b><br>\", \"xaxis\": {\"title\": \"\", \"tickfont\": {\"size\": 14, \"color\": \"rgb(107, 107, 107)\"}}, \"yaxis\": {\"title\": \"\", \"titlefont\": {\"size\": 16, \"color\": \"rgb(107, 107, 107)\"}, \"tickfont\": {\"size\": 14, \"color\": \"rgb(107, 107, 107)\"}}}, {\"showLink\": true, \"linkText\": \"Export to plot.ly\"})});</script>"
      ],
      "text/vnd.plotly.v1+html": [
       "<div id=\"51289833-4557-4f85-9bab-aca302d5d258\" style=\"height: 525px; width: 100%;\" class=\"plotly-graph-div\"></div><script type=\"text/javascript\">require([\"plotly\"], function(Plotly) { window.PLOTLYENV=window.PLOTLYENV || {};window.PLOTLYENV.BASE_URL=\"https://plot.ly\";Plotly.newPlot(\"51289833-4557-4f85-9bab-aca302d5d258\", [{\"type\": \"bar\", \"x\": [\"settle\", \"identify\", \"include\", \"see\", \"keep\", \"take\", \"prepare\", \"file\", \"occurred\", \"receive\", \"make\", \"need\", \"reduce\", \"develop\", \"cotten\"], \"y\": [7, 5, 5, 5, 5, 5, 5, 5, 4, 4, 4, 4, 3, 3, 3], \"text\": [7, 5, 5, 5, 5, 5, 5, 5, 4, 4, 4, 4, 3, 3, 3], \"textposition\": \"outside\", \"opacity\": 1}], {\"title\": \"<b>Verbs for Commission on Human Relations</b><br>\", \"xaxis\": {\"title\": \"\", \"tickfont\": {\"size\": 14, \"color\": \"rgb(107, 107, 107)\"}}, \"yaxis\": {\"title\": \"\", \"titlefont\": {\"size\": 16, \"color\": \"rgb(107, 107, 107)\"}, \"tickfont\": {\"size\": 14, \"color\": \"rgb(107, 107, 107)\"}}}, {\"showLink\": true, \"linkText\": \"Export to plot.ly\"})});</script>"
      ]
     },
     "metadata": {},
     "output_type": "display_data"
    },
    {
     "data": {
      "application/vnd.plotly.v1+json": {
       "data": [
        {
         "opacity": 1,
         "text": [
          2,
          1,
          1,
          1,
          1,
          1,
          1,
          1,
          1
         ],
         "textposition": "outside",
         "type": "bar",
         "x": [
          "improve",
          "include",
          "copa",
          "reduce",
          "police",
          "cook",
          "hill",
          "develop",
          "ensure"
         ],
         "y": [
          2,
          1,
          1,
          1,
          1,
          1,
          1,
          1,
          1
         ]
        }
       ],
       "layout": {
        "title": "<b>Verbs for Civilian Office of Police Accountability</b><br>",
        "xaxis": {
         "tickfont": {
          "color": "rgb(107, 107, 107)",
          "size": 14
         },
         "title": ""
        },
        "yaxis": {
         "tickfont": {
          "color": "rgb(107, 107, 107)",
          "size": 14
         },
         "title": "",
         "titlefont": {
          "color": "rgb(107, 107, 107)",
          "size": 16
         }
        }
       }
      },
      "text/html": [
       "<div id=\"dbdf9099-5307-45a9-8a7a-7ff1b15eb33d\" style=\"height: 525px; width: 100%;\" class=\"plotly-graph-div\"></div><script type=\"text/javascript\">require([\"plotly\"], function(Plotly) { window.PLOTLYENV=window.PLOTLYENV || {};window.PLOTLYENV.BASE_URL=\"https://plot.ly\";Plotly.newPlot(\"dbdf9099-5307-45a9-8a7a-7ff1b15eb33d\", [{\"type\": \"bar\", \"x\": [\"improve\", \"include\", \"copa\", \"reduce\", \"police\", \"cook\", \"hill\", \"develop\", \"ensure\"], \"y\": [2, 1, 1, 1, 1, 1, 1, 1, 1], \"text\": [2, 1, 1, 1, 1, 1, 1, 1, 1], \"textposition\": \"outside\", \"opacity\": 1}], {\"title\": \"<b>Verbs for Civilian Office of Police Accountability</b><br>\", \"xaxis\": {\"title\": \"\", \"tickfont\": {\"size\": 14, \"color\": \"rgb(107, 107, 107)\"}}, \"yaxis\": {\"title\": \"\", \"titlefont\": {\"size\": 16, \"color\": \"rgb(107, 107, 107)\"}, \"tickfont\": {\"size\": 14, \"color\": \"rgb(107, 107, 107)\"}}}, {\"showLink\": true, \"linkText\": \"Export to plot.ly\"})});</script>"
      ],
      "text/vnd.plotly.v1+html": [
       "<div id=\"dbdf9099-5307-45a9-8a7a-7ff1b15eb33d\" style=\"height: 525px; width: 100%;\" class=\"plotly-graph-div\"></div><script type=\"text/javascript\">require([\"plotly\"], function(Plotly) { window.PLOTLYENV=window.PLOTLYENV || {};window.PLOTLYENV.BASE_URL=\"https://plot.ly\";Plotly.newPlot(\"dbdf9099-5307-45a9-8a7a-7ff1b15eb33d\", [{\"type\": \"bar\", \"x\": [\"improve\", \"include\", \"copa\", \"reduce\", \"police\", \"cook\", \"hill\", \"develop\", \"ensure\"], \"y\": [2, 1, 1, 1, 1, 1, 1, 1, 1], \"text\": [2, 1, 1, 1, 1, 1, 1, 1, 1], \"textposition\": \"outside\", \"opacity\": 1}], {\"title\": \"<b>Verbs for Civilian Office of Police Accountability</b><br>\", \"xaxis\": {\"title\": \"\", \"tickfont\": {\"size\": 14, \"color\": \"rgb(107, 107, 107)\"}}, \"yaxis\": {\"title\": \"\", \"titlefont\": {\"size\": 16, \"color\": \"rgb(107, 107, 107)\"}, \"tickfont\": {\"size\": 14, \"color\": \"rgb(107, 107, 107)\"}}}, {\"showLink\": true, \"linkText\": \"Export to plot.ly\"})});</script>"
      ]
     },
     "metadata": {},
     "output_type": "display_data"
    },
    {
     "data": {
      "application/vnd.plotly.v1+json": {
       "data": [
        {
         "opacity": 1,
         "text": [
          8,
          7,
          6,
          4,
          3,
          2,
          2,
          2,
          2,
          2,
          2,
          2,
          2,
          2,
          2
         ],
         "textposition": "outside",
         "type": "bar",
         "x": [
          "take",
          "keep",
          "get",
          "check",
          "ensure",
          "require",
          "kitten",
          "june",
          "september",
          "follow",
          "contact",
          "permit",
          "dog",
          "like",
          "improve"
         ],
         "y": [
          8,
          7,
          6,
          4,
          3,
          2,
          2,
          2,
          2,
          2,
          2,
          2,
          2,
          2,
          2
         ]
        }
       ],
       "layout": {
        "title": "<b>Verbs for Department of Animal Care and Control</b><br>",
        "xaxis": {
         "tickfont": {
          "color": "rgb(107, 107, 107)",
          "size": 14
         },
         "title": ""
        },
        "yaxis": {
         "tickfont": {
          "color": "rgb(107, 107, 107)",
          "size": 14
         },
         "title": "",
         "titlefont": {
          "color": "rgb(107, 107, 107)",
          "size": 16
         }
        }
       }
      },
      "text/html": [
       "<div id=\"ee7ea53d-6f37-4341-aed5-ccedcb2e234f\" style=\"height: 525px; width: 100%;\" class=\"plotly-graph-div\"></div><script type=\"text/javascript\">require([\"plotly\"], function(Plotly) { window.PLOTLYENV=window.PLOTLYENV || {};window.PLOTLYENV.BASE_URL=\"https://plot.ly\";Plotly.newPlot(\"ee7ea53d-6f37-4341-aed5-ccedcb2e234f\", [{\"type\": \"bar\", \"x\": [\"take\", \"keep\", \"get\", \"check\", \"ensure\", \"require\", \"kitten\", \"june\", \"september\", \"follow\", \"contact\", \"permit\", \"dog\", \"like\", \"improve\"], \"y\": [8, 7, 6, 4, 3, 2, 2, 2, 2, 2, 2, 2, 2, 2, 2], \"text\": [8, 7, 6, 4, 3, 2, 2, 2, 2, 2, 2, 2, 2, 2, 2], \"textposition\": \"outside\", \"opacity\": 1}], {\"title\": \"<b>Verbs for Department of Animal Care and Control</b><br>\", \"xaxis\": {\"title\": \"\", \"tickfont\": {\"size\": 14, \"color\": \"rgb(107, 107, 107)\"}}, \"yaxis\": {\"title\": \"\", \"titlefont\": {\"size\": 16, \"color\": \"rgb(107, 107, 107)\"}, \"tickfont\": {\"size\": 14, \"color\": \"rgb(107, 107, 107)\"}}}, {\"showLink\": true, \"linkText\": \"Export to plot.ly\"})});</script>"
      ],
      "text/vnd.plotly.v1+html": [
       "<div id=\"ee7ea53d-6f37-4341-aed5-ccedcb2e234f\" style=\"height: 525px; width: 100%;\" class=\"plotly-graph-div\"></div><script type=\"text/javascript\">require([\"plotly\"], function(Plotly) { window.PLOTLYENV=window.PLOTLYENV || {};window.PLOTLYENV.BASE_URL=\"https://plot.ly\";Plotly.newPlot(\"ee7ea53d-6f37-4341-aed5-ccedcb2e234f\", [{\"type\": \"bar\", \"x\": [\"take\", \"keep\", \"get\", \"check\", \"ensure\", \"require\", \"kitten\", \"june\", \"september\", \"follow\", \"contact\", \"permit\", \"dog\", \"like\", \"improve\"], \"y\": [8, 7, 6, 4, 3, 2, 2, 2, 2, 2, 2, 2, 2, 2, 2], \"text\": [8, 7, 6, 4, 3, 2, 2, 2, 2, 2, 2, 2, 2, 2, 2], \"textposition\": \"outside\", \"opacity\": 1}], {\"title\": \"<b>Verbs for Department of Animal Care and Control</b><br>\", \"xaxis\": {\"title\": \"\", \"tickfont\": {\"size\": 14, \"color\": \"rgb(107, 107, 107)\"}}, \"yaxis\": {\"title\": \"\", \"titlefont\": {\"size\": 16, \"color\": \"rgb(107, 107, 107)\"}, \"tickfont\": {\"size\": 14, \"color\": \"rgb(107, 107, 107)\"}}}, {\"showLink\": true, \"linkText\": \"Export to plot.ly\"})});</script>"
      ]
     },
     "metadata": {},
     "output_type": "display_data"
    },
    {
     "data": {
      "application/vnd.plotly.v1+json": {
       "data": [
        {
         "opacity": 1,
         "text": [
          1,
          1,
          1,
          1,
          1,
          1
         ],
         "textposition": "outside",
         "type": "bar",
         "x": [
          "find",
          "help",
          "include",
          "like",
          "build",
          "present"
         ],
         "y": [
          1,
          1,
          1,
          1,
          1,
          1
         ]
        }
       ],
       "layout": {
        "title": "<b>Verbs for Chicago Police Department</b><br>",
        "xaxis": {
         "tickfont": {
          "color": "rgb(107, 107, 107)",
          "size": 14
         },
         "title": ""
        },
        "yaxis": {
         "tickfont": {
          "color": "rgb(107, 107, 107)",
          "size": 14
         },
         "title": "",
         "titlefont": {
          "color": "rgb(107, 107, 107)",
          "size": 16
         }
        }
       }
      },
      "text/html": [
       "<div id=\"e9c80edf-978e-427e-9915-887022d4a072\" style=\"height: 525px; width: 100%;\" class=\"plotly-graph-div\"></div><script type=\"text/javascript\">require([\"plotly\"], function(Plotly) { window.PLOTLYENV=window.PLOTLYENV || {};window.PLOTLYENV.BASE_URL=\"https://plot.ly\";Plotly.newPlot(\"e9c80edf-978e-427e-9915-887022d4a072\", [{\"type\": \"bar\", \"x\": [\"find\", \"help\", \"include\", \"like\", \"build\", \"present\"], \"y\": [1, 1, 1, 1, 1, 1], \"text\": [1, 1, 1, 1, 1, 1], \"textposition\": \"outside\", \"opacity\": 1}], {\"title\": \"<b>Verbs for Chicago Police Department</b><br>\", \"xaxis\": {\"title\": \"\", \"tickfont\": {\"size\": 14, \"color\": \"rgb(107, 107, 107)\"}}, \"yaxis\": {\"title\": \"\", \"titlefont\": {\"size\": 16, \"color\": \"rgb(107, 107, 107)\"}, \"tickfont\": {\"size\": 14, \"color\": \"rgb(107, 107, 107)\"}}}, {\"showLink\": true, \"linkText\": \"Export to plot.ly\"})});</script>"
      ],
      "text/vnd.plotly.v1+html": [
       "<div id=\"e9c80edf-978e-427e-9915-887022d4a072\" style=\"height: 525px; width: 100%;\" class=\"plotly-graph-div\"></div><script type=\"text/javascript\">require([\"plotly\"], function(Plotly) { window.PLOTLYENV=window.PLOTLYENV || {};window.PLOTLYENV.BASE_URL=\"https://plot.ly\";Plotly.newPlot(\"e9c80edf-978e-427e-9915-887022d4a072\", [{\"type\": \"bar\", \"x\": [\"find\", \"help\", \"include\", \"like\", \"build\", \"present\"], \"y\": [1, 1, 1, 1, 1, 1], \"text\": [1, 1, 1, 1, 1, 1], \"textposition\": \"outside\", \"opacity\": 1}], {\"title\": \"<b>Verbs for Chicago Police Department</b><br>\", \"xaxis\": {\"title\": \"\", \"tickfont\": {\"size\": 14, \"color\": \"rgb(107, 107, 107)\"}}, \"yaxis\": {\"title\": \"\", \"titlefont\": {\"size\": 16, \"color\": \"rgb(107, 107, 107)\"}, \"tickfont\": {\"size\": 14, \"color\": \"rgb(107, 107, 107)\"}}}, {\"showLink\": true, \"linkText\": \"Export to plot.ly\"})});</script>"
      ]
     },
     "metadata": {},
     "output_type": "display_data"
    },
    {
     "data": {
      "application/vnd.plotly.v1+json": {
       "data": [
        {
         "opacity": 1,
         "text": [
          17,
          11,
          10,
          10,
          8,
          8,
          7,
          7,
          7,
          6,
          5,
          4,
          4,
          4,
          3
         ],
         "textposition": "outside",
         "type": "bar",
         "x": [
          "obtain",
          "present",
          "include",
          "provide",
          "comply",
          "designate",
          "take",
          "ensure",
          "meet",
          "enforceable",
          "provided",
          "apply",
          "made",
          "require",
          "paid"
         ],
         "y": [
          17,
          11,
          10,
          10,
          8,
          8,
          7,
          7,
          7,
          6,
          5,
          4,
          4,
          4,
          3
         ]
        }
       ],
       "layout": {
        "title": "<b>Verbs for Chicago Fire Department</b><br>",
        "xaxis": {
         "tickfont": {
          "color": "rgb(107, 107, 107)",
          "size": 14
         },
         "title": ""
        },
        "yaxis": {
         "tickfont": {
          "color": "rgb(107, 107, 107)",
          "size": 14
         },
         "title": "",
         "titlefont": {
          "color": "rgb(107, 107, 107)",
          "size": 16
         }
        }
       }
      },
      "text/html": [
       "<div id=\"ca46e496-a409-4bb3-bf43-9218953cf897\" style=\"height: 525px; width: 100%;\" class=\"plotly-graph-div\"></div><script type=\"text/javascript\">require([\"plotly\"], function(Plotly) { window.PLOTLYENV=window.PLOTLYENV || {};window.PLOTLYENV.BASE_URL=\"https://plot.ly\";Plotly.newPlot(\"ca46e496-a409-4bb3-bf43-9218953cf897\", [{\"type\": \"bar\", \"x\": [\"obtain\", \"present\", \"include\", \"provide\", \"comply\", \"designate\", \"take\", \"ensure\", \"meet\", \"enforceable\", \"provided\", \"apply\", \"made\", \"require\", \"paid\"], \"y\": [17, 11, 10, 10, 8, 8, 7, 7, 7, 6, 5, 4, 4, 4, 3], \"text\": [17, 11, 10, 10, 8, 8, 7, 7, 7, 6, 5, 4, 4, 4, 3], \"textposition\": \"outside\", \"opacity\": 1}], {\"title\": \"<b>Verbs for Chicago Fire Department</b><br>\", \"xaxis\": {\"title\": \"\", \"tickfont\": {\"size\": 14, \"color\": \"rgb(107, 107, 107)\"}}, \"yaxis\": {\"title\": \"\", \"titlefont\": {\"size\": 16, \"color\": \"rgb(107, 107, 107)\"}, \"tickfont\": {\"size\": 14, \"color\": \"rgb(107, 107, 107)\"}}}, {\"showLink\": true, \"linkText\": \"Export to plot.ly\"})});</script>"
      ],
      "text/vnd.plotly.v1+html": [
       "<div id=\"ca46e496-a409-4bb3-bf43-9218953cf897\" style=\"height: 525px; width: 100%;\" class=\"plotly-graph-div\"></div><script type=\"text/javascript\">require([\"plotly\"], function(Plotly) { window.PLOTLYENV=window.PLOTLYENV || {};window.PLOTLYENV.BASE_URL=\"https://plot.ly\";Plotly.newPlot(\"ca46e496-a409-4bb3-bf43-9218953cf897\", [{\"type\": \"bar\", \"x\": [\"obtain\", \"present\", \"include\", \"provide\", \"comply\", \"designate\", \"take\", \"ensure\", \"meet\", \"enforceable\", \"provided\", \"apply\", \"made\", \"require\", \"paid\"], \"y\": [17, 11, 10, 10, 8, 8, 7, 7, 7, 6, 5, 4, 4, 4, 3], \"text\": [17, 11, 10, 10, 8, 8, 7, 7, 7, 6, 5, 4, 4, 4, 3], \"textposition\": \"outside\", \"opacity\": 1}], {\"title\": \"<b>Verbs for Chicago Fire Department</b><br>\", \"xaxis\": {\"title\": \"\", \"tickfont\": {\"size\": 14, \"color\": \"rgb(107, 107, 107)\"}}, \"yaxis\": {\"title\": \"\", \"titlefont\": {\"size\": 16, \"color\": \"rgb(107, 107, 107)\"}, \"tickfont\": {\"size\": 14, \"color\": \"rgb(107, 107, 107)\"}}}, {\"showLink\": true, \"linkText\": \"Export to plot.ly\"})});</script>"
      ]
     },
     "metadata": {},
     "output_type": "display_data"
    },
    {
     "data": {
      "application/vnd.plotly.v1+json": {
       "data": [
        {
         "opacity": 1,
         "text": [
          12,
          8,
          6,
          5,
          4,
          4,
          4,
          4,
          4,
          4,
          4,
          3,
          3,
          3,
          3
         ],
         "textposition": "outside",
         "type": "bar",
         "x": [
          "include",
          "get",
          "provide",
          "obtain",
          "ensure",
          "review",
          "involve",
          "result",
          "assigned",
          "take",
          "finance",
          "identify",
          "receive",
          "submit",
          "begin"
         ],
         "y": [
          12,
          8,
          6,
          5,
          4,
          4,
          4,
          4,
          4,
          4,
          4,
          3,
          3,
          3,
          3
         ]
        }
       ],
       "layout": {
        "title": "<b>Verbs for Department of Law</b><br>",
        "xaxis": {
         "tickfont": {
          "color": "rgb(107, 107, 107)",
          "size": 14
         },
         "title": ""
        },
        "yaxis": {
         "tickfont": {
          "color": "rgb(107, 107, 107)",
          "size": 14
         },
         "title": "",
         "titlefont": {
          "color": "rgb(107, 107, 107)",
          "size": 16
         }
        }
       }
      },
      "text/html": [
       "<div id=\"a58125cf-85ec-42d2-be42-d3585b43de03\" style=\"height: 525px; width: 100%;\" class=\"plotly-graph-div\"></div><script type=\"text/javascript\">require([\"plotly\"], function(Plotly) { window.PLOTLYENV=window.PLOTLYENV || {};window.PLOTLYENV.BASE_URL=\"https://plot.ly\";Plotly.newPlot(\"a58125cf-85ec-42d2-be42-d3585b43de03\", [{\"type\": \"bar\", \"x\": [\"include\", \"get\", \"provide\", \"obtain\", \"ensure\", \"review\", \"involve\", \"result\", \"assigned\", \"take\", \"finance\", \"identify\", \"receive\", \"submit\", \"begin\"], \"y\": [12, 8, 6, 5, 4, 4, 4, 4, 4, 4, 4, 3, 3, 3, 3], \"text\": [12, 8, 6, 5, 4, 4, 4, 4, 4, 4, 4, 3, 3, 3, 3], \"textposition\": \"outside\", \"opacity\": 1}], {\"title\": \"<b>Verbs for Department of Law</b><br>\", \"xaxis\": {\"title\": \"\", \"tickfont\": {\"size\": 14, \"color\": \"rgb(107, 107, 107)\"}}, \"yaxis\": {\"title\": \"\", \"titlefont\": {\"size\": 16, \"color\": \"rgb(107, 107, 107)\"}, \"tickfont\": {\"size\": 14, \"color\": \"rgb(107, 107, 107)\"}}}, {\"showLink\": true, \"linkText\": \"Export to plot.ly\"})});</script>"
      ],
      "text/vnd.plotly.v1+html": [
       "<div id=\"a58125cf-85ec-42d2-be42-d3585b43de03\" style=\"height: 525px; width: 100%;\" class=\"plotly-graph-div\"></div><script type=\"text/javascript\">require([\"plotly\"], function(Plotly) { window.PLOTLYENV=window.PLOTLYENV || {};window.PLOTLYENV.BASE_URL=\"https://plot.ly\";Plotly.newPlot(\"a58125cf-85ec-42d2-be42-d3585b43de03\", [{\"type\": \"bar\", \"x\": [\"include\", \"get\", \"provide\", \"obtain\", \"ensure\", \"review\", \"involve\", \"result\", \"assigned\", \"take\", \"finance\", \"identify\", \"receive\", \"submit\", \"begin\"], \"y\": [12, 8, 6, 5, 4, 4, 4, 4, 4, 4, 4, 3, 3, 3, 3], \"text\": [12, 8, 6, 5, 4, 4, 4, 4, 4, 4, 4, 3, 3, 3, 3], \"textposition\": \"outside\", \"opacity\": 1}], {\"title\": \"<b>Verbs for Department of Law</b><br>\", \"xaxis\": {\"title\": \"\", \"tickfont\": {\"size\": 14, \"color\": \"rgb(107, 107, 107)\"}}, \"yaxis\": {\"title\": \"\", \"titlefont\": {\"size\": 16, \"color\": \"rgb(107, 107, 107)\"}, \"tickfont\": {\"size\": 14, \"color\": \"rgb(107, 107, 107)\"}}}, {\"showLink\": true, \"linkText\": \"Export to plot.ly\"})});</script>"
      ]
     },
     "metadata": {},
     "output_type": "display_data"
    },
    {
     "data": {
      "application/vnd.plotly.v1+json": {
       "data": [
        {
         "opacity": 1,
         "text": [
          27,
          16,
          15,
          13,
          12,
          9,
          8,
          8,
          7,
          7,
          6,
          6,
          6,
          6,
          5
         ],
         "textposition": "outside",
         "type": "bar",
         "x": [
          "ensure",
          "keep",
          "start",
          "develop",
          "identify",
          "improve",
          "obtain",
          "help",
          "take",
          "create",
          "find",
          "meet",
          "succeed",
          "get",
          "qualify"
         ],
         "y": [
          27,
          16,
          15,
          13,
          12,
          9,
          8,
          8,
          7,
          7,
          6,
          6,
          6,
          6,
          5
         ]
        }
       ],
       "layout": {
        "title": "<b>Verbs for Department of Family & Support Services</b><br>",
        "xaxis": {
         "tickfont": {
          "color": "rgb(107, 107, 107)",
          "size": 14
         },
         "title": ""
        },
        "yaxis": {
         "tickfont": {
          "color": "rgb(107, 107, 107)",
          "size": 14
         },
         "title": "",
         "titlefont": {
          "color": "rgb(107, 107, 107)",
          "size": 16
         }
        }
       }
      },
      "text/html": [
       "<div id=\"1d1332c0-8fa4-41dd-bee5-93bf22005eb9\" style=\"height: 525px; width: 100%;\" class=\"plotly-graph-div\"></div><script type=\"text/javascript\">require([\"plotly\"], function(Plotly) { window.PLOTLYENV=window.PLOTLYENV || {};window.PLOTLYENV.BASE_URL=\"https://plot.ly\";Plotly.newPlot(\"1d1332c0-8fa4-41dd-bee5-93bf22005eb9\", [{\"type\": \"bar\", \"x\": [\"ensure\", \"keep\", \"start\", \"develop\", \"identify\", \"improve\", \"obtain\", \"help\", \"take\", \"create\", \"find\", \"meet\", \"succeed\", \"get\", \"qualify\"], \"y\": [27, 16, 15, 13, 12, 9, 8, 8, 7, 7, 6, 6, 6, 6, 5], \"text\": [27, 16, 15, 13, 12, 9, 8, 8, 7, 7, 6, 6, 6, 6, 5], \"textposition\": \"outside\", \"opacity\": 1}], {\"title\": \"<b>Verbs for Department of Family & Support Services</b><br>\", \"xaxis\": {\"title\": \"\", \"tickfont\": {\"size\": 14, \"color\": \"rgb(107, 107, 107)\"}}, \"yaxis\": {\"title\": \"\", \"titlefont\": {\"size\": 16, \"color\": \"rgb(107, 107, 107)\"}, \"tickfont\": {\"size\": 14, \"color\": \"rgb(107, 107, 107)\"}}}, {\"showLink\": true, \"linkText\": \"Export to plot.ly\"})});</script>"
      ],
      "text/vnd.plotly.v1+html": [
       "<div id=\"1d1332c0-8fa4-41dd-bee5-93bf22005eb9\" style=\"height: 525px; width: 100%;\" class=\"plotly-graph-div\"></div><script type=\"text/javascript\">require([\"plotly\"], function(Plotly) { window.PLOTLYENV=window.PLOTLYENV || {};window.PLOTLYENV.BASE_URL=\"https://plot.ly\";Plotly.newPlot(\"1d1332c0-8fa4-41dd-bee5-93bf22005eb9\", [{\"type\": \"bar\", \"x\": [\"ensure\", \"keep\", \"start\", \"develop\", \"identify\", \"improve\", \"obtain\", \"help\", \"take\", \"create\", \"find\", \"meet\", \"succeed\", \"get\", \"qualify\"], \"y\": [27, 16, 15, 13, 12, 9, 8, 8, 7, 7, 6, 6, 6, 6, 5], \"text\": [27, 16, 15, 13, 12, 9, 8, 8, 7, 7, 6, 6, 6, 6, 5], \"textposition\": \"outside\", \"opacity\": 1}], {\"title\": \"<b>Verbs for Department of Family & Support Services</b><br>\", \"xaxis\": {\"title\": \"\", \"tickfont\": {\"size\": 14, \"color\": \"rgb(107, 107, 107)\"}}, \"yaxis\": {\"title\": \"\", \"titlefont\": {\"size\": 16, \"color\": \"rgb(107, 107, 107)\"}, \"tickfont\": {\"size\": 14, \"color\": \"rgb(107, 107, 107)\"}}}, {\"showLink\": true, \"linkText\": \"Export to plot.ly\"})});</script>"
      ]
     },
     "metadata": {},
     "output_type": "display_data"
    },
    {
     "data": {
      "application/vnd.plotly.v1+json": {
       "data": [
        {
         "opacity": 1,
         "text": [
          81,
          35,
          32,
          18,
          16,
          15,
          15,
          15,
          15,
          14,
          13,
          12,
          11,
          11,
          11
         ],
         "textposition": "outside",
         "type": "bar",
         "x": [
          "take",
          "get",
          "september",
          "develop",
          "participate",
          "bring",
          "go",
          "cultural",
          "love",
          "ensure",
          "create",
          "see",
          "dcase",
          "find",
          "make"
         ],
         "y": [
          81,
          35,
          32,
          18,
          16,
          15,
          15,
          15,
          15,
          14,
          13,
          12,
          11,
          11,
          11
         ]
        }
       ],
       "layout": {
        "title": "<b>Verbs for Department of Cultural Affairs and Special Events</b><br>",
        "xaxis": {
         "tickfont": {
          "color": "rgb(107, 107, 107)",
          "size": 14
         },
         "title": ""
        },
        "yaxis": {
         "tickfont": {
          "color": "rgb(107, 107, 107)",
          "size": 14
         },
         "title": "",
         "titlefont": {
          "color": "rgb(107, 107, 107)",
          "size": 16
         }
        }
       }
      },
      "text/html": [
       "<div id=\"eccd59e0-1d00-46fa-9c88-bdc5856107e3\" style=\"height: 525px; width: 100%;\" class=\"plotly-graph-div\"></div><script type=\"text/javascript\">require([\"plotly\"], function(Plotly) { window.PLOTLYENV=window.PLOTLYENV || {};window.PLOTLYENV.BASE_URL=\"https://plot.ly\";Plotly.newPlot(\"eccd59e0-1d00-46fa-9c88-bdc5856107e3\", [{\"type\": \"bar\", \"x\": [\"take\", \"get\", \"september\", \"develop\", \"participate\", \"bring\", \"go\", \"cultural\", \"love\", \"ensure\", \"create\", \"see\", \"dcase\", \"find\", \"make\"], \"y\": [81, 35, 32, 18, 16, 15, 15, 15, 15, 14, 13, 12, 11, 11, 11], \"text\": [81, 35, 32, 18, 16, 15, 15, 15, 15, 14, 13, 12, 11, 11, 11], \"textposition\": \"outside\", \"opacity\": 1}], {\"title\": \"<b>Verbs for Department of Cultural Affairs and Special Events</b><br>\", \"xaxis\": {\"title\": \"\", \"tickfont\": {\"size\": 14, \"color\": \"rgb(107, 107, 107)\"}}, \"yaxis\": {\"title\": \"\", \"titlefont\": {\"size\": 16, \"color\": \"rgb(107, 107, 107)\"}, \"tickfont\": {\"size\": 14, \"color\": \"rgb(107, 107, 107)\"}}}, {\"showLink\": true, \"linkText\": \"Export to plot.ly\"})});</script>"
      ],
      "text/vnd.plotly.v1+html": [
       "<div id=\"eccd59e0-1d00-46fa-9c88-bdc5856107e3\" style=\"height: 525px; width: 100%;\" class=\"plotly-graph-div\"></div><script type=\"text/javascript\">require([\"plotly\"], function(Plotly) { window.PLOTLYENV=window.PLOTLYENV || {};window.PLOTLYENV.BASE_URL=\"https://plot.ly\";Plotly.newPlot(\"eccd59e0-1d00-46fa-9c88-bdc5856107e3\", [{\"type\": \"bar\", \"x\": [\"take\", \"get\", \"september\", \"develop\", \"participate\", \"bring\", \"go\", \"cultural\", \"love\", \"ensure\", \"create\", \"see\", \"dcase\", \"find\", \"make\"], \"y\": [81, 35, 32, 18, 16, 15, 15, 15, 15, 14, 13, 12, 11, 11, 11], \"text\": [81, 35, 32, 18, 16, 15, 15, 15, 15, 14, 13, 12, 11, 11, 11], \"textposition\": \"outside\", \"opacity\": 1}], {\"title\": \"<b>Verbs for Department of Cultural Affairs and Special Events</b><br>\", \"xaxis\": {\"title\": \"\", \"tickfont\": {\"size\": 14, \"color\": \"rgb(107, 107, 107)\"}}, \"yaxis\": {\"title\": \"\", \"titlefont\": {\"size\": 16, \"color\": \"rgb(107, 107, 107)\"}, \"tickfont\": {\"size\": 14, \"color\": \"rgb(107, 107, 107)\"}}}, {\"showLink\": true, \"linkText\": \"Export to plot.ly\"})});</script>"
      ]
     },
     "metadata": {},
     "output_type": "display_data"
    },
    {
     "data": {
      "application/vnd.plotly.v1+json": {
       "data": [
        {
         "opacity": 1,
         "text": [
          2,
          1,
          1,
          1,
          1
         ],
         "textposition": "outside",
         "type": "bar",
         "x": [
          "ensure",
          "watchdog",
          "issue",
          "include",
          "like"
         ],
         "y": [
          2,
          1,
          1,
          1,
          1
         ]
        }
       ],
       "layout": {
        "title": "<b>Verbs for Office of the Inspector General</b><br>",
        "xaxis": {
         "tickfont": {
          "color": "rgb(107, 107, 107)",
          "size": 14
         },
         "title": ""
        },
        "yaxis": {
         "tickfont": {
          "color": "rgb(107, 107, 107)",
          "size": 14
         },
         "title": "",
         "titlefont": {
          "color": "rgb(107, 107, 107)",
          "size": 16
         }
        }
       }
      },
      "text/html": [
       "<div id=\"0761da0c-df6a-41df-bb47-ac28cd366322\" style=\"height: 525px; width: 100%;\" class=\"plotly-graph-div\"></div><script type=\"text/javascript\">require([\"plotly\"], function(Plotly) { window.PLOTLYENV=window.PLOTLYENV || {};window.PLOTLYENV.BASE_URL=\"https://plot.ly\";Plotly.newPlot(\"0761da0c-df6a-41df-bb47-ac28cd366322\", [{\"type\": \"bar\", \"x\": [\"ensure\", \"watchdog\", \"issue\", \"include\", \"like\"], \"y\": [2, 1, 1, 1, 1], \"text\": [2, 1, 1, 1, 1], \"textposition\": \"outside\", \"opacity\": 1}], {\"title\": \"<b>Verbs for Office of the Inspector General</b><br>\", \"xaxis\": {\"title\": \"\", \"tickfont\": {\"size\": 14, \"color\": \"rgb(107, 107, 107)\"}}, \"yaxis\": {\"title\": \"\", \"titlefont\": {\"size\": 16, \"color\": \"rgb(107, 107, 107)\"}, \"tickfont\": {\"size\": 14, \"color\": \"rgb(107, 107, 107)\"}}}, {\"showLink\": true, \"linkText\": \"Export to plot.ly\"})});</script>"
      ],
      "text/vnd.plotly.v1+html": [
       "<div id=\"0761da0c-df6a-41df-bb47-ac28cd366322\" style=\"height: 525px; width: 100%;\" class=\"plotly-graph-div\"></div><script type=\"text/javascript\">require([\"plotly\"], function(Plotly) { window.PLOTLYENV=window.PLOTLYENV || {};window.PLOTLYENV.BASE_URL=\"https://plot.ly\";Plotly.newPlot(\"0761da0c-df6a-41df-bb47-ac28cd366322\", [{\"type\": \"bar\", \"x\": [\"ensure\", \"watchdog\", \"issue\", \"include\", \"like\"], \"y\": [2, 1, 1, 1, 1], \"text\": [2, 1, 1, 1, 1], \"textposition\": \"outside\", \"opacity\": 1}], {\"title\": \"<b>Verbs for Office of the Inspector General</b><br>\", \"xaxis\": {\"title\": \"\", \"tickfont\": {\"size\": 14, \"color\": \"rgb(107, 107, 107)\"}}, \"yaxis\": {\"title\": \"\", \"titlefont\": {\"size\": 16, \"color\": \"rgb(107, 107, 107)\"}, \"tickfont\": {\"size\": 14, \"color\": \"rgb(107, 107, 107)\"}}}, {\"showLink\": true, \"linkText\": \"Export to plot.ly\"})});</script>"
      ]
     },
     "metadata": {},
     "output_type": "display_data"
    },
    {
     "data": {
      "application/vnd.plotly.v1+json": {
       "data": [
        {
         "opacity": 1,
         "text": [
          37,
          19,
          16,
          13,
          12,
          12,
          12,
          10,
          10,
          9,
          8,
          8,
          8,
          7,
          7
         ],
         "textposition": "outside",
         "type": "bar",
         "x": [
          "relied",
          "file",
          "include",
          "answer",
          "disclose",
          "make",
          "add",
          "take",
          "report",
          "constitute",
          "click",
          "provide",
          "june",
          "accept",
          "attached"
         ],
         "y": [
          37,
          19,
          16,
          13,
          12,
          12,
          12,
          10,
          10,
          9,
          8,
          8,
          8,
          7,
          7
         ]
        }
       ],
       "layout": {
        "title": "<b>Verbs for Board of Ethics</b><br>",
        "xaxis": {
         "tickfont": {
          "color": "rgb(107, 107, 107)",
          "size": 14
         },
         "title": ""
        },
        "yaxis": {
         "tickfont": {
          "color": "rgb(107, 107, 107)",
          "size": 14
         },
         "title": "",
         "titlefont": {
          "color": "rgb(107, 107, 107)",
          "size": 16
         }
        }
       }
      },
      "text/html": [
       "<div id=\"8d906c6c-e00b-480d-991b-8979ded3c04f\" style=\"height: 525px; width: 100%;\" class=\"plotly-graph-div\"></div><script type=\"text/javascript\">require([\"plotly\"], function(Plotly) { window.PLOTLYENV=window.PLOTLYENV || {};window.PLOTLYENV.BASE_URL=\"https://plot.ly\";Plotly.newPlot(\"8d906c6c-e00b-480d-991b-8979ded3c04f\", [{\"type\": \"bar\", \"x\": [\"relied\", \"file\", \"include\", \"answer\", \"disclose\", \"make\", \"add\", \"take\", \"report\", \"constitute\", \"click\", \"provide\", \"june\", \"accept\", \"attached\"], \"y\": [37, 19, 16, 13, 12, 12, 12, 10, 10, 9, 8, 8, 8, 7, 7], \"text\": [37, 19, 16, 13, 12, 12, 12, 10, 10, 9, 8, 8, 8, 7, 7], \"textposition\": \"outside\", \"opacity\": 1}], {\"title\": \"<b>Verbs for Board of Ethics</b><br>\", \"xaxis\": {\"title\": \"\", \"tickfont\": {\"size\": 14, \"color\": \"rgb(107, 107, 107)\"}}, \"yaxis\": {\"title\": \"\", \"titlefont\": {\"size\": 16, \"color\": \"rgb(107, 107, 107)\"}, \"tickfont\": {\"size\": 14, \"color\": \"rgb(107, 107, 107)\"}}}, {\"showLink\": true, \"linkText\": \"Export to plot.ly\"})});</script>"
      ],
      "text/vnd.plotly.v1+html": [
       "<div id=\"8d906c6c-e00b-480d-991b-8979ded3c04f\" style=\"height: 525px; width: 100%;\" class=\"plotly-graph-div\"></div><script type=\"text/javascript\">require([\"plotly\"], function(Plotly) { window.PLOTLYENV=window.PLOTLYENV || {};window.PLOTLYENV.BASE_URL=\"https://plot.ly\";Plotly.newPlot(\"8d906c6c-e00b-480d-991b-8979ded3c04f\", [{\"type\": \"bar\", \"x\": [\"relied\", \"file\", \"include\", \"answer\", \"disclose\", \"make\", \"add\", \"take\", \"report\", \"constitute\", \"click\", \"provide\", \"june\", \"accept\", \"attached\"], \"y\": [37, 19, 16, 13, 12, 12, 12, 10, 10, 9, 8, 8, 8, 7, 7], \"text\": [37, 19, 16, 13, 12, 12, 12, 10, 10, 9, 8, 8, 8, 7, 7], \"textposition\": \"outside\", \"opacity\": 1}], {\"title\": \"<b>Verbs for Board of Ethics</b><br>\", \"xaxis\": {\"title\": \"\", \"tickfont\": {\"size\": 14, \"color\": \"rgb(107, 107, 107)\"}}, \"yaxis\": {\"title\": \"\", \"titlefont\": {\"size\": 16, \"color\": \"rgb(107, 107, 107)\"}, \"tickfont\": {\"size\": 14, \"color\": \"rgb(107, 107, 107)\"}}}, {\"showLink\": true, \"linkText\": \"Export to plot.ly\"})});</script>"
      ]
     },
     "metadata": {},
     "output_type": "display_data"
    },
    {
     "data": {
      "application/vnd.plotly.v1+json": {
       "data": [
        {
         "opacity": 1,
         "text": [
          1,
          1,
          1,
          1,
          1,
          1,
          1,
          1
         ],
         "textposition": "outside",
         "type": "bar",
         "x": [
          "require",
          "get",
          "establish",
          "include",
          "allow",
          "respond",
          "like",
          "present"
         ],
         "y": [
          1,
          1,
          1,
          1,
          1,
          1,
          1,
          1
         ]
        }
       ],
       "layout": {
        "title": "<b>Verbs for Chicago Public Library</b><br>",
        "xaxis": {
         "tickfont": {
          "color": "rgb(107, 107, 107)",
          "size": 14
         },
         "title": ""
        },
        "yaxis": {
         "tickfont": {
          "color": "rgb(107, 107, 107)",
          "size": 14
         },
         "title": "",
         "titlefont": {
          "color": "rgb(107, 107, 107)",
          "size": 16
         }
        }
       }
      },
      "text/html": [
       "<div id=\"e44242e9-2c5f-4125-84fe-5a28df8875f8\" style=\"height: 525px; width: 100%;\" class=\"plotly-graph-div\"></div><script type=\"text/javascript\">require([\"plotly\"], function(Plotly) { window.PLOTLYENV=window.PLOTLYENV || {};window.PLOTLYENV.BASE_URL=\"https://plot.ly\";Plotly.newPlot(\"e44242e9-2c5f-4125-84fe-5a28df8875f8\", [{\"type\": \"bar\", \"x\": [\"require\", \"get\", \"establish\", \"include\", \"allow\", \"respond\", \"like\", \"present\"], \"y\": [1, 1, 1, 1, 1, 1, 1, 1], \"text\": [1, 1, 1, 1, 1, 1, 1, 1], \"textposition\": \"outside\", \"opacity\": 1}], {\"title\": \"<b>Verbs for Chicago Public Library</b><br>\", \"xaxis\": {\"title\": \"\", \"tickfont\": {\"size\": 14, \"color\": \"rgb(107, 107, 107)\"}}, \"yaxis\": {\"title\": \"\", \"titlefont\": {\"size\": 16, \"color\": \"rgb(107, 107, 107)\"}, \"tickfont\": {\"size\": 14, \"color\": \"rgb(107, 107, 107)\"}}}, {\"showLink\": true, \"linkText\": \"Export to plot.ly\"})});</script>"
      ],
      "text/vnd.plotly.v1+html": [
       "<div id=\"e44242e9-2c5f-4125-84fe-5a28df8875f8\" style=\"height: 525px; width: 100%;\" class=\"plotly-graph-div\"></div><script type=\"text/javascript\">require([\"plotly\"], function(Plotly) { window.PLOTLYENV=window.PLOTLYENV || {};window.PLOTLYENV.BASE_URL=\"https://plot.ly\";Plotly.newPlot(\"e44242e9-2c5f-4125-84fe-5a28df8875f8\", [{\"type\": \"bar\", \"x\": [\"require\", \"get\", \"establish\", \"include\", \"allow\", \"respond\", \"like\", \"present\"], \"y\": [1, 1, 1, 1, 1, 1, 1, 1], \"text\": [1, 1, 1, 1, 1, 1, 1, 1], \"textposition\": \"outside\", \"opacity\": 1}], {\"title\": \"<b>Verbs for Chicago Public Library</b><br>\", \"xaxis\": {\"title\": \"\", \"tickfont\": {\"size\": 14, \"color\": \"rgb(107, 107, 107)\"}}, \"yaxis\": {\"title\": \"\", \"titlefont\": {\"size\": 16, \"color\": \"rgb(107, 107, 107)\"}, \"tickfont\": {\"size\": 14, \"color\": \"rgb(107, 107, 107)\"}}}, {\"showLink\": true, \"linkText\": \"Export to plot.ly\"})});</script>"
      ]
     },
     "metadata": {},
     "output_type": "display_data"
    },
    {
     "data": {
      "application/vnd.plotly.v1+json": {
       "data": [
        {
         "opacity": 1,
         "text": [
          28,
          17,
          9,
          9,
          8,
          7,
          7,
          7,
          7,
          6,
          6,
          6,
          6,
          6,
          5
         ],
         "textposition": "outside",
         "type": "bar",
         "x": [
          "reduce",
          "street",
          "grove",
          "ensure",
          "kimball",
          "lake",
          "take",
          "get",
          "kildare",
          "remove",
          "end",
          "accelerated",
          "june",
          "improve",
          "rockwell"
         ],
         "y": [
          28,
          17,
          9,
          9,
          8,
          7,
          7,
          7,
          7,
          6,
          6,
          6,
          6,
          6,
          5
         ]
        }
       ],
       "layout": {
        "title": "<b>Verbs for Department of Water Management</b><br>",
        "xaxis": {
         "tickfont": {
          "color": "rgb(107, 107, 107)",
          "size": 14
         },
         "title": ""
        },
        "yaxis": {
         "tickfont": {
          "color": "rgb(107, 107, 107)",
          "size": 14
         },
         "title": "",
         "titlefont": {
          "color": "rgb(107, 107, 107)",
          "size": 16
         }
        }
       }
      },
      "text/html": [
       "<div id=\"f000bb08-af6d-45e4-839c-90e9d57247aa\" style=\"height: 525px; width: 100%;\" class=\"plotly-graph-div\"></div><script type=\"text/javascript\">require([\"plotly\"], function(Plotly) { window.PLOTLYENV=window.PLOTLYENV || {};window.PLOTLYENV.BASE_URL=\"https://plot.ly\";Plotly.newPlot(\"f000bb08-af6d-45e4-839c-90e9d57247aa\", [{\"type\": \"bar\", \"x\": [\"reduce\", \"street\", \"grove\", \"ensure\", \"kimball\", \"lake\", \"take\", \"get\", \"kildare\", \"remove\", \"end\", \"accelerated\", \"june\", \"improve\", \"rockwell\"], \"y\": [28, 17, 9, 9, 8, 7, 7, 7, 7, 6, 6, 6, 6, 6, 5], \"text\": [28, 17, 9, 9, 8, 7, 7, 7, 7, 6, 6, 6, 6, 6, 5], \"textposition\": \"outside\", \"opacity\": 1}], {\"title\": \"<b>Verbs for Department of Water Management</b><br>\", \"xaxis\": {\"title\": \"\", \"tickfont\": {\"size\": 14, \"color\": \"rgb(107, 107, 107)\"}}, \"yaxis\": {\"title\": \"\", \"titlefont\": {\"size\": 16, \"color\": \"rgb(107, 107, 107)\"}, \"tickfont\": {\"size\": 14, \"color\": \"rgb(107, 107, 107)\"}}}, {\"showLink\": true, \"linkText\": \"Export to plot.ly\"})});</script>"
      ],
      "text/vnd.plotly.v1+html": [
       "<div id=\"f000bb08-af6d-45e4-839c-90e9d57247aa\" style=\"height: 525px; width: 100%;\" class=\"plotly-graph-div\"></div><script type=\"text/javascript\">require([\"plotly\"], function(Plotly) { window.PLOTLYENV=window.PLOTLYENV || {};window.PLOTLYENV.BASE_URL=\"https://plot.ly\";Plotly.newPlot(\"f000bb08-af6d-45e4-839c-90e9d57247aa\", [{\"type\": \"bar\", \"x\": [\"reduce\", \"street\", \"grove\", \"ensure\", \"kimball\", \"lake\", \"take\", \"get\", \"kildare\", \"remove\", \"end\", \"accelerated\", \"june\", \"improve\", \"rockwell\"], \"y\": [28, 17, 9, 9, 8, 7, 7, 7, 7, 6, 6, 6, 6, 6, 5], \"text\": [28, 17, 9, 9, 8, 7, 7, 7, 7, 6, 6, 6, 6, 6, 5], \"textposition\": \"outside\", \"opacity\": 1}], {\"title\": \"<b>Verbs for Department of Water Management</b><br>\", \"xaxis\": {\"title\": \"\", \"tickfont\": {\"size\": 14, \"color\": \"rgb(107, 107, 107)\"}}, \"yaxis\": {\"title\": \"\", \"titlefont\": {\"size\": 16, \"color\": \"rgb(107, 107, 107)\"}, \"tickfont\": {\"size\": 14, \"color\": \"rgb(107, 107, 107)\"}}}, {\"showLink\": true, \"linkText\": \"Export to plot.ly\"})});</script>"
      ]
     },
     "metadata": {},
     "output_type": "display_data"
    },
    {
     "data": {
      "application/vnd.plotly.v1+json": {
       "data": [
        {
         "opacity": 1,
         "text": [
          20,
          14,
          7,
          3,
          3,
          3,
          3,
          2,
          2,
          2,
          2,
          2,
          2,
          2,
          2
         ],
         "textposition": "outside",
         "type": "bar",
         "x": [
          "develop",
          "ensure",
          "improve",
          "reduce",
          "include",
          "establish",
          "build",
          "deliver",
          "inquired",
          "online",
          "track",
          "provide",
          "keep",
          "need",
          "get"
         ],
         "y": [
          20,
          14,
          7,
          3,
          3,
          3,
          3,
          2,
          2,
          2,
          2,
          2,
          2,
          2,
          2
         ]
        }
       ],
       "layout": {
        "title": "<b>Verbs for Department of Innovation and Technology</b><br>",
        "xaxis": {
         "tickfont": {
          "color": "rgb(107, 107, 107)",
          "size": 14
         },
         "title": ""
        },
        "yaxis": {
         "tickfont": {
          "color": "rgb(107, 107, 107)",
          "size": 14
         },
         "title": "",
         "titlefont": {
          "color": "rgb(107, 107, 107)",
          "size": 16
         }
        }
       }
      },
      "text/html": [
       "<div id=\"a59e1592-ba27-498a-ab41-df65d8a020b9\" style=\"height: 525px; width: 100%;\" class=\"plotly-graph-div\"></div><script type=\"text/javascript\">require([\"plotly\"], function(Plotly) { window.PLOTLYENV=window.PLOTLYENV || {};window.PLOTLYENV.BASE_URL=\"https://plot.ly\";Plotly.newPlot(\"a59e1592-ba27-498a-ab41-df65d8a020b9\", [{\"type\": \"bar\", \"x\": [\"develop\", \"ensure\", \"improve\", \"reduce\", \"include\", \"establish\", \"build\", \"deliver\", \"inquired\", \"online\", \"track\", \"provide\", \"keep\", \"need\", \"get\"], \"y\": [20, 14, 7, 3, 3, 3, 3, 2, 2, 2, 2, 2, 2, 2, 2], \"text\": [20, 14, 7, 3, 3, 3, 3, 2, 2, 2, 2, 2, 2, 2, 2], \"textposition\": \"outside\", \"opacity\": 1}], {\"title\": \"<b>Verbs for Department of Innovation and Technology</b><br>\", \"xaxis\": {\"title\": \"\", \"tickfont\": {\"size\": 14, \"color\": \"rgb(107, 107, 107)\"}}, \"yaxis\": {\"title\": \"\", \"titlefont\": {\"size\": 16, \"color\": \"rgb(107, 107, 107)\"}, \"tickfont\": {\"size\": 14, \"color\": \"rgb(107, 107, 107)\"}}}, {\"showLink\": true, \"linkText\": \"Export to plot.ly\"})});</script>"
      ],
      "text/vnd.plotly.v1+html": [
       "<div id=\"a59e1592-ba27-498a-ab41-df65d8a020b9\" style=\"height: 525px; width: 100%;\" class=\"plotly-graph-div\"></div><script type=\"text/javascript\">require([\"plotly\"], function(Plotly) { window.PLOTLYENV=window.PLOTLYENV || {};window.PLOTLYENV.BASE_URL=\"https://plot.ly\";Plotly.newPlot(\"a59e1592-ba27-498a-ab41-df65d8a020b9\", [{\"type\": \"bar\", \"x\": [\"develop\", \"ensure\", \"improve\", \"reduce\", \"include\", \"establish\", \"build\", \"deliver\", \"inquired\", \"online\", \"track\", \"provide\", \"keep\", \"need\", \"get\"], \"y\": [20, 14, 7, 3, 3, 3, 3, 2, 2, 2, 2, 2, 2, 2, 2], \"text\": [20, 14, 7, 3, 3, 3, 3, 2, 2, 2, 2, 2, 2, 2, 2], \"textposition\": \"outside\", \"opacity\": 1}], {\"title\": \"<b>Verbs for Department of Innovation and Technology</b><br>\", \"xaxis\": {\"title\": \"\", \"tickfont\": {\"size\": 14, \"color\": \"rgb(107, 107, 107)\"}}, \"yaxis\": {\"title\": \"\", \"titlefont\": {\"size\": 16, \"color\": \"rgb(107, 107, 107)\"}, \"tickfont\": {\"size\": 14, \"color\": \"rgb(107, 107, 107)\"}}}, {\"showLink\": true, \"linkText\": \"Export to plot.ly\"})});</script>"
      ]
     },
     "metadata": {},
     "output_type": "display_data"
    },
    {
     "data": {
      "application/vnd.plotly.v1+json": {
       "data": [
        {
         "opacity": 1,
         "text": [
          18,
          16,
          11,
          10,
          10,
          10,
          10,
          9,
          8,
          6,
          6,
          6,
          5,
          5,
          5
         ],
         "textposition": "outside",
         "type": "bar",
         "x": [
          "include",
          "file",
          "obtain",
          "apply",
          "made",
          "appear",
          "request",
          "contact",
          "pay",
          "provide",
          "subject",
          "desk",
          "impose",
          "ensure",
          "set"
         ],
         "y": [
          18,
          16,
          11,
          10,
          10,
          10,
          10,
          9,
          8,
          6,
          6,
          6,
          5,
          5,
          5
         ]
        }
       ],
       "layout": {
        "title": "<b>Verbs for Department of Administrative Hearings</b><br>",
        "xaxis": {
         "tickfont": {
          "color": "rgb(107, 107, 107)",
          "size": 14
         },
         "title": ""
        },
        "yaxis": {
         "tickfont": {
          "color": "rgb(107, 107, 107)",
          "size": 14
         },
         "title": "",
         "titlefont": {
          "color": "rgb(107, 107, 107)",
          "size": 16
         }
        }
       }
      },
      "text/html": [
       "<div id=\"bd0c4465-e31a-45b2-a92e-083f46d9ab00\" style=\"height: 525px; width: 100%;\" class=\"plotly-graph-div\"></div><script type=\"text/javascript\">require([\"plotly\"], function(Plotly) { window.PLOTLYENV=window.PLOTLYENV || {};window.PLOTLYENV.BASE_URL=\"https://plot.ly\";Plotly.newPlot(\"bd0c4465-e31a-45b2-a92e-083f46d9ab00\", [{\"type\": \"bar\", \"x\": [\"include\", \"file\", \"obtain\", \"apply\", \"made\", \"appear\", \"request\", \"contact\", \"pay\", \"provide\", \"subject\", \"desk\", \"impose\", \"ensure\", \"set\"], \"y\": [18, 16, 11, 10, 10, 10, 10, 9, 8, 6, 6, 6, 5, 5, 5], \"text\": [18, 16, 11, 10, 10, 10, 10, 9, 8, 6, 6, 6, 5, 5, 5], \"textposition\": \"outside\", \"opacity\": 1}], {\"title\": \"<b>Verbs for Department of Administrative Hearings</b><br>\", \"xaxis\": {\"title\": \"\", \"tickfont\": {\"size\": 14, \"color\": \"rgb(107, 107, 107)\"}}, \"yaxis\": {\"title\": \"\", \"titlefont\": {\"size\": 16, \"color\": \"rgb(107, 107, 107)\"}, \"tickfont\": {\"size\": 14, \"color\": \"rgb(107, 107, 107)\"}}}, {\"showLink\": true, \"linkText\": \"Export to plot.ly\"})});</script>"
      ],
      "text/vnd.plotly.v1+html": [
       "<div id=\"bd0c4465-e31a-45b2-a92e-083f46d9ab00\" style=\"height: 525px; width: 100%;\" class=\"plotly-graph-div\"></div><script type=\"text/javascript\">require([\"plotly\"], function(Plotly) { window.PLOTLYENV=window.PLOTLYENV || {};window.PLOTLYENV.BASE_URL=\"https://plot.ly\";Plotly.newPlot(\"bd0c4465-e31a-45b2-a92e-083f46d9ab00\", [{\"type\": \"bar\", \"x\": [\"include\", \"file\", \"obtain\", \"apply\", \"made\", \"appear\", \"request\", \"contact\", \"pay\", \"provide\", \"subject\", \"desk\", \"impose\", \"ensure\", \"set\"], \"y\": [18, 16, 11, 10, 10, 10, 10, 9, 8, 6, 6, 6, 5, 5, 5], \"text\": [18, 16, 11, 10, 10, 10, 10, 9, 8, 6, 6, 6, 5, 5, 5], \"textposition\": \"outside\", \"opacity\": 1}], {\"title\": \"<b>Verbs for Department of Administrative Hearings</b><br>\", \"xaxis\": {\"title\": \"\", \"tickfont\": {\"size\": 14, \"color\": \"rgb(107, 107, 107)\"}}, \"yaxis\": {\"title\": \"\", \"titlefont\": {\"size\": 16, \"color\": \"rgb(107, 107, 107)\"}, \"tickfont\": {\"size\": 14, \"color\": \"rgb(107, 107, 107)\"}}}, {\"showLink\": true, \"linkText\": \"Export to plot.ly\"})});</script>"
      ]
     },
     "metadata": {},
     "output_type": "display_data"
    },
    {
     "data": {
      "application/vnd.plotly.v1+json": {
       "data": [
        {
         "opacity": 1,
         "text": [
          1,
          1,
          1,
          1,
          1,
          1
         ],
         "textposition": "outside",
         "type": "bar",
         "x": [
          "include",
          "like",
          "present",
          "ensure",
          "enhance",
          "grow"
         ],
         "y": [
          1,
          1,
          1,
          1,
          1,
          1
         ]
        }
       ],
       "layout": {
        "title": "<b>Verbs for Department of Aviation</b><br>",
        "xaxis": {
         "tickfont": {
          "color": "rgb(107, 107, 107)",
          "size": 14
         },
         "title": ""
        },
        "yaxis": {
         "tickfont": {
          "color": "rgb(107, 107, 107)",
          "size": 14
         },
         "title": "",
         "titlefont": {
          "color": "rgb(107, 107, 107)",
          "size": 16
         }
        }
       }
      },
      "text/html": [
       "<div id=\"a2bba02a-d6df-476c-ba5d-1a9230edb9b9\" style=\"height: 525px; width: 100%;\" class=\"plotly-graph-div\"></div><script type=\"text/javascript\">require([\"plotly\"], function(Plotly) { window.PLOTLYENV=window.PLOTLYENV || {};window.PLOTLYENV.BASE_URL=\"https://plot.ly\";Plotly.newPlot(\"a2bba02a-d6df-476c-ba5d-1a9230edb9b9\", [{\"type\": \"bar\", \"x\": [\"include\", \"like\", \"present\", \"ensure\", \"enhance\", \"grow\"], \"y\": [1, 1, 1, 1, 1, 1], \"text\": [1, 1, 1, 1, 1, 1], \"textposition\": \"outside\", \"opacity\": 1}], {\"title\": \"<b>Verbs for Department of Aviation</b><br>\", \"xaxis\": {\"title\": \"\", \"tickfont\": {\"size\": 14, \"color\": \"rgb(107, 107, 107)\"}}, \"yaxis\": {\"title\": \"\", \"titlefont\": {\"size\": 16, \"color\": \"rgb(107, 107, 107)\"}, \"tickfont\": {\"size\": 14, \"color\": \"rgb(107, 107, 107)\"}}}, {\"showLink\": true, \"linkText\": \"Export to plot.ly\"})});</script>"
      ],
      "text/vnd.plotly.v1+html": [
       "<div id=\"a2bba02a-d6df-476c-ba5d-1a9230edb9b9\" style=\"height: 525px; width: 100%;\" class=\"plotly-graph-div\"></div><script type=\"text/javascript\">require([\"plotly\"], function(Plotly) { window.PLOTLYENV=window.PLOTLYENV || {};window.PLOTLYENV.BASE_URL=\"https://plot.ly\";Plotly.newPlot(\"a2bba02a-d6df-476c-ba5d-1a9230edb9b9\", [{\"type\": \"bar\", \"x\": [\"include\", \"like\", \"present\", \"ensure\", \"enhance\", \"grow\"], \"y\": [1, 1, 1, 1, 1, 1], \"text\": [1, 1, 1, 1, 1, 1], \"textposition\": \"outside\", \"opacity\": 1}], {\"title\": \"<b>Verbs for Department of Aviation</b><br>\", \"xaxis\": {\"title\": \"\", \"tickfont\": {\"size\": 14, \"color\": \"rgb(107, 107, 107)\"}}, \"yaxis\": {\"title\": \"\", \"titlefont\": {\"size\": 16, \"color\": \"rgb(107, 107, 107)\"}, \"tickfont\": {\"size\": 14, \"color\": \"rgb(107, 107, 107)\"}}}, {\"showLink\": true, \"linkText\": \"Export to plot.ly\"})});</script>"
      ]
     },
     "metadata": {},
     "output_type": "display_data"
    },
    {
     "data": {
      "application/vnd.plotly.v1+json": {
       "data": [
        {
         "opacity": 1,
         "text": [
          4,
          4,
          3,
          3,
          2,
          2,
          1,
          1,
          1,
          1,
          1,
          1,
          1,
          1,
          1
         ],
         "textposition": "outside",
         "type": "bar",
         "x": [
          "see",
          "pb",
          "nos",
          "blue",
          "add",
          "september",
          "investigate",
          "refer",
          "resolve",
          "deemed",
          "recuse",
          "contact",
          "take",
          "thursday",
          "include"
         ],
         "y": [
          4,
          4,
          3,
          3,
          2,
          2,
          1,
          1,
          1,
          1,
          1,
          1,
          1,
          1,
          1
         ]
        }
       ],
       "layout": {
        "title": "<b>Verbs for Chicago Police Board</b><br>",
        "xaxis": {
         "tickfont": {
          "color": "rgb(107, 107, 107)",
          "size": 14
         },
         "title": ""
        },
        "yaxis": {
         "tickfont": {
          "color": "rgb(107, 107, 107)",
          "size": 14
         },
         "title": "",
         "titlefont": {
          "color": "rgb(107, 107, 107)",
          "size": 16
         }
        }
       }
      },
      "text/html": [
       "<div id=\"b54acbf3-c166-4efa-b0c3-5ad7a78d7da4\" style=\"height: 525px; width: 100%;\" class=\"plotly-graph-div\"></div><script type=\"text/javascript\">require([\"plotly\"], function(Plotly) { window.PLOTLYENV=window.PLOTLYENV || {};window.PLOTLYENV.BASE_URL=\"https://plot.ly\";Plotly.newPlot(\"b54acbf3-c166-4efa-b0c3-5ad7a78d7da4\", [{\"type\": \"bar\", \"x\": [\"see\", \"pb\", \"nos\", \"blue\", \"add\", \"september\", \"investigate\", \"refer\", \"resolve\", \"deemed\", \"recuse\", \"contact\", \"take\", \"thursday\", \"include\"], \"y\": [4, 4, 3, 3, 2, 2, 1, 1, 1, 1, 1, 1, 1, 1, 1], \"text\": [4, 4, 3, 3, 2, 2, 1, 1, 1, 1, 1, 1, 1, 1, 1], \"textposition\": \"outside\", \"opacity\": 1}], {\"title\": \"<b>Verbs for Chicago Police Board</b><br>\", \"xaxis\": {\"title\": \"\", \"tickfont\": {\"size\": 14, \"color\": \"rgb(107, 107, 107)\"}}, \"yaxis\": {\"title\": \"\", \"titlefont\": {\"size\": 16, \"color\": \"rgb(107, 107, 107)\"}, \"tickfont\": {\"size\": 14, \"color\": \"rgb(107, 107, 107)\"}}}, {\"showLink\": true, \"linkText\": \"Export to plot.ly\"})});</script>"
      ],
      "text/vnd.plotly.v1+html": [
       "<div id=\"b54acbf3-c166-4efa-b0c3-5ad7a78d7da4\" style=\"height: 525px; width: 100%;\" class=\"plotly-graph-div\"></div><script type=\"text/javascript\">require([\"plotly\"], function(Plotly) { window.PLOTLYENV=window.PLOTLYENV || {};window.PLOTLYENV.BASE_URL=\"https://plot.ly\";Plotly.newPlot(\"b54acbf3-c166-4efa-b0c3-5ad7a78d7da4\", [{\"type\": \"bar\", \"x\": [\"see\", \"pb\", \"nos\", \"blue\", \"add\", \"september\", \"investigate\", \"refer\", \"resolve\", \"deemed\", \"recuse\", \"contact\", \"take\", \"thursday\", \"include\"], \"y\": [4, 4, 3, 3, 2, 2, 1, 1, 1, 1, 1, 1, 1, 1, 1], \"text\": [4, 4, 3, 3, 2, 2, 1, 1, 1, 1, 1, 1, 1, 1, 1], \"textposition\": \"outside\", \"opacity\": 1}], {\"title\": \"<b>Verbs for Chicago Police Board</b><br>\", \"xaxis\": {\"title\": \"\", \"tickfont\": {\"size\": 14, \"color\": \"rgb(107, 107, 107)\"}}, \"yaxis\": {\"title\": \"\", \"titlefont\": {\"size\": 16, \"color\": \"rgb(107, 107, 107)\"}, \"tickfont\": {\"size\": 14, \"color\": \"rgb(107, 107, 107)\"}}}, {\"showLink\": true, \"linkText\": \"Export to plot.ly\"})});</script>"
      ]
     },
     "metadata": {},
     "output_type": "display_data"
    },
    {
     "data": {
      "application/vnd.plotly.v1+json": {
       "data": [
        {
         "opacity": 1,
         "text": [
          1,
          1,
          1,
          1
         ],
         "textposition": "outside",
         "type": "bar",
         "x": [
          "visit",
          "contact",
          "take",
          "improve"
         ],
         "y": [
          1,
          1,
          1,
          1
         ]
        }
       ],
       "layout": {
        "title": "<b>Verbs for City of Chicago TV</b><br>",
        "xaxis": {
         "tickfont": {
          "color": "rgb(107, 107, 107)",
          "size": 14
         },
         "title": ""
        },
        "yaxis": {
         "tickfont": {
          "color": "rgb(107, 107, 107)",
          "size": 14
         },
         "title": "",
         "titlefont": {
          "color": "rgb(107, 107, 107)",
          "size": 16
         }
        }
       }
      },
      "text/html": [
       "<div id=\"f9d3b82a-1994-448f-be7b-a971c7694cdf\" style=\"height: 525px; width: 100%;\" class=\"plotly-graph-div\"></div><script type=\"text/javascript\">require([\"plotly\"], function(Plotly) { window.PLOTLYENV=window.PLOTLYENV || {};window.PLOTLYENV.BASE_URL=\"https://plot.ly\";Plotly.newPlot(\"f9d3b82a-1994-448f-be7b-a971c7694cdf\", [{\"type\": \"bar\", \"x\": [\"visit\", \"contact\", \"take\", \"improve\"], \"y\": [1, 1, 1, 1], \"text\": [1, 1, 1, 1], \"textposition\": \"outside\", \"opacity\": 1}], {\"title\": \"<b>Verbs for City of Chicago TV</b><br>\", \"xaxis\": {\"title\": \"\", \"tickfont\": {\"size\": 14, \"color\": \"rgb(107, 107, 107)\"}}, \"yaxis\": {\"title\": \"\", \"titlefont\": {\"size\": 16, \"color\": \"rgb(107, 107, 107)\"}, \"tickfont\": {\"size\": 14, \"color\": \"rgb(107, 107, 107)\"}}}, {\"showLink\": true, \"linkText\": \"Export to plot.ly\"})});</script>"
      ],
      "text/vnd.plotly.v1+html": [
       "<div id=\"f9d3b82a-1994-448f-be7b-a971c7694cdf\" style=\"height: 525px; width: 100%;\" class=\"plotly-graph-div\"></div><script type=\"text/javascript\">require([\"plotly\"], function(Plotly) { window.PLOTLYENV=window.PLOTLYENV || {};window.PLOTLYENV.BASE_URL=\"https://plot.ly\";Plotly.newPlot(\"f9d3b82a-1994-448f-be7b-a971c7694cdf\", [{\"type\": \"bar\", \"x\": [\"visit\", \"contact\", \"take\", \"improve\"], \"y\": [1, 1, 1, 1], \"text\": [1, 1, 1, 1], \"textposition\": \"outside\", \"opacity\": 1}], {\"title\": \"<b>Verbs for City of Chicago TV</b><br>\", \"xaxis\": {\"title\": \"\", \"tickfont\": {\"size\": 14, \"color\": \"rgb(107, 107, 107)\"}}, \"yaxis\": {\"title\": \"\", \"titlefont\": {\"size\": 16, \"color\": \"rgb(107, 107, 107)\"}, \"tickfont\": {\"size\": 14, \"color\": \"rgb(107, 107, 107)\"}}}, {\"showLink\": true, \"linkText\": \"Export to plot.ly\"})});</script>"
      ]
     },
     "metadata": {},
     "output_type": "display_data"
    },
    {
     "data": {
      "application/vnd.plotly.v1+json": {
       "data": [
        {
         "opacity": 1,
         "text": [],
         "textposition": "outside",
         "type": "bar",
         "x": [],
         "y": []
        }
       ],
       "layout": {
        "title": "<b>Verbs for Department of Compliance</b><br>",
        "xaxis": {
         "tickfont": {
          "color": "rgb(107, 107, 107)",
          "size": 14
         },
         "title": ""
        },
        "yaxis": {
         "tickfont": {
          "color": "rgb(107, 107, 107)",
          "size": 14
         },
         "title": "",
         "titlefont": {
          "color": "rgb(107, 107, 107)",
          "size": 16
         }
        }
       }
      },
      "text/html": [
       "<div id=\"fb0a94b9-2ebd-428a-853b-f7a478cac0b7\" style=\"height: 525px; width: 100%;\" class=\"plotly-graph-div\"></div><script type=\"text/javascript\">require([\"plotly\"], function(Plotly) { window.PLOTLYENV=window.PLOTLYENV || {};window.PLOTLYENV.BASE_URL=\"https://plot.ly\";Plotly.newPlot(\"fb0a94b9-2ebd-428a-853b-f7a478cac0b7\", [{\"type\": \"bar\", \"x\": [], \"y\": [], \"text\": [], \"textposition\": \"outside\", \"opacity\": 1}], {\"title\": \"<b>Verbs for Department of Compliance</b><br>\", \"xaxis\": {\"title\": \"\", \"tickfont\": {\"size\": 14, \"color\": \"rgb(107, 107, 107)\"}}, \"yaxis\": {\"title\": \"\", \"titlefont\": {\"size\": 16, \"color\": \"rgb(107, 107, 107)\"}, \"tickfont\": {\"size\": 14, \"color\": \"rgb(107, 107, 107)\"}}}, {\"showLink\": true, \"linkText\": \"Export to plot.ly\"})});</script>"
      ],
      "text/vnd.plotly.v1+html": [
       "<div id=\"fb0a94b9-2ebd-428a-853b-f7a478cac0b7\" style=\"height: 525px; width: 100%;\" class=\"plotly-graph-div\"></div><script type=\"text/javascript\">require([\"plotly\"], function(Plotly) { window.PLOTLYENV=window.PLOTLYENV || {};window.PLOTLYENV.BASE_URL=\"https://plot.ly\";Plotly.newPlot(\"fb0a94b9-2ebd-428a-853b-f7a478cac0b7\", [{\"type\": \"bar\", \"x\": [], \"y\": [], \"text\": [], \"textposition\": \"outside\", \"opacity\": 1}], {\"title\": \"<b>Verbs for Department of Compliance</b><br>\", \"xaxis\": {\"title\": \"\", \"tickfont\": {\"size\": 14, \"color\": \"rgb(107, 107, 107)\"}}, \"yaxis\": {\"title\": \"\", \"titlefont\": {\"size\": 16, \"color\": \"rgb(107, 107, 107)\"}, \"tickfont\": {\"size\": 14, \"color\": \"rgb(107, 107, 107)\"}}}, {\"showLink\": true, \"linkText\": \"Export to plot.ly\"})});</script>"
      ]
     },
     "metadata": {},
     "output_type": "display_data"
    },
    {
     "data": {
      "application/vnd.plotly.v1+json": {
       "data": [
        {
         "opacity": 1,
         "text": [
          1,
          1,
          1,
          1
         ],
         "textposition": "outside",
         "type": "bar",
         "x": [
          "june",
          "include",
          "like",
          "present"
         ],
         "y": [
          1,
          1,
          1,
          1
         ]
        }
       ],
       "layout": {
        "title": "<b>Verbs for License Appeal Commission</b><br>",
        "xaxis": {
         "tickfont": {
          "color": "rgb(107, 107, 107)",
          "size": 14
         },
         "title": ""
        },
        "yaxis": {
         "tickfont": {
          "color": "rgb(107, 107, 107)",
          "size": 14
         },
         "title": "",
         "titlefont": {
          "color": "rgb(107, 107, 107)",
          "size": 16
         }
        }
       }
      },
      "text/html": [
       "<div id=\"acaa94ce-e6ef-461e-bfb7-dc26563b183c\" style=\"height: 525px; width: 100%;\" class=\"plotly-graph-div\"></div><script type=\"text/javascript\">require([\"plotly\"], function(Plotly) { window.PLOTLYENV=window.PLOTLYENV || {};window.PLOTLYENV.BASE_URL=\"https://plot.ly\";Plotly.newPlot(\"acaa94ce-e6ef-461e-bfb7-dc26563b183c\", [{\"type\": \"bar\", \"x\": [\"june\", \"include\", \"like\", \"present\"], \"y\": [1, 1, 1, 1], \"text\": [1, 1, 1, 1], \"textposition\": \"outside\", \"opacity\": 1}], {\"title\": \"<b>Verbs for License Appeal Commission</b><br>\", \"xaxis\": {\"title\": \"\", \"tickfont\": {\"size\": 14, \"color\": \"rgb(107, 107, 107)\"}}, \"yaxis\": {\"title\": \"\", \"titlefont\": {\"size\": 16, \"color\": \"rgb(107, 107, 107)\"}, \"tickfont\": {\"size\": 14, \"color\": \"rgb(107, 107, 107)\"}}}, {\"showLink\": true, \"linkText\": \"Export to plot.ly\"})});</script>"
      ],
      "text/vnd.plotly.v1+html": [
       "<div id=\"acaa94ce-e6ef-461e-bfb7-dc26563b183c\" style=\"height: 525px; width: 100%;\" class=\"plotly-graph-div\"></div><script type=\"text/javascript\">require([\"plotly\"], function(Plotly) { window.PLOTLYENV=window.PLOTLYENV || {};window.PLOTLYENV.BASE_URL=\"https://plot.ly\";Plotly.newPlot(\"acaa94ce-e6ef-461e-bfb7-dc26563b183c\", [{\"type\": \"bar\", \"x\": [\"june\", \"include\", \"like\", \"present\"], \"y\": [1, 1, 1, 1], \"text\": [1, 1, 1, 1], \"textposition\": \"outside\", \"opacity\": 1}], {\"title\": \"<b>Verbs for License Appeal Commission</b><br>\", \"xaxis\": {\"title\": \"\", \"tickfont\": {\"size\": 14, \"color\": \"rgb(107, 107, 107)\"}}, \"yaxis\": {\"title\": \"\", \"titlefont\": {\"size\": 16, \"color\": \"rgb(107, 107, 107)\"}, \"tickfont\": {\"size\": 14, \"color\": \"rgb(107, 107, 107)\"}}}, {\"showLink\": true, \"linkText\": \"Export to plot.ly\"})});</script>"
      ]
     },
     "metadata": {},
     "output_type": "display_data"
    },
    {
     "data": {
      "application/vnd.plotly.v1+json": {
       "data": [
        {
         "opacity": 1,
         "text": [
          3,
          2,
          2,
          2,
          2,
          2,
          2,
          2,
          2,
          2,
          2,
          2,
          2,
          2,
          1
         ],
         "textposition": "outside",
         "type": "bar",
         "x": [
          "ensure",
          "develop",
          "replace",
          "improve",
          "occurred",
          "keep",
          "update",
          "differ",
          "turn",
          "missing",
          "held",
          "approve",
          "affect",
          "include",
          "inform"
         ],
         "y": [
          3,
          2,
          2,
          2,
          2,
          2,
          2,
          2,
          2,
          2,
          2,
          2,
          2,
          2,
          1
         ]
        }
       ],
       "layout": {
        "title": "<b>Verbs for Office of Budget and Management</b><br>",
        "xaxis": {
         "tickfont": {
          "color": "rgb(107, 107, 107)",
          "size": 14
         },
         "title": ""
        },
        "yaxis": {
         "tickfont": {
          "color": "rgb(107, 107, 107)",
          "size": 14
         },
         "title": "",
         "titlefont": {
          "color": "rgb(107, 107, 107)",
          "size": 16
         }
        }
       }
      },
      "text/html": [
       "<div id=\"804cae10-7dea-4621-838e-5fcb4fd8e20f\" style=\"height: 525px; width: 100%;\" class=\"plotly-graph-div\"></div><script type=\"text/javascript\">require([\"plotly\"], function(Plotly) { window.PLOTLYENV=window.PLOTLYENV || {};window.PLOTLYENV.BASE_URL=\"https://plot.ly\";Plotly.newPlot(\"804cae10-7dea-4621-838e-5fcb4fd8e20f\", [{\"type\": \"bar\", \"x\": [\"ensure\", \"develop\", \"replace\", \"improve\", \"occurred\", \"keep\", \"update\", \"differ\", \"turn\", \"missing\", \"held\", \"approve\", \"affect\", \"include\", \"inform\"], \"y\": [3, 2, 2, 2, 2, 2, 2, 2, 2, 2, 2, 2, 2, 2, 1], \"text\": [3, 2, 2, 2, 2, 2, 2, 2, 2, 2, 2, 2, 2, 2, 1], \"textposition\": \"outside\", \"opacity\": 1}], {\"title\": \"<b>Verbs for Office of Budget and Management</b><br>\", \"xaxis\": {\"title\": \"\", \"tickfont\": {\"size\": 14, \"color\": \"rgb(107, 107, 107)\"}}, \"yaxis\": {\"title\": \"\", \"titlefont\": {\"size\": 16, \"color\": \"rgb(107, 107, 107)\"}, \"tickfont\": {\"size\": 14, \"color\": \"rgb(107, 107, 107)\"}}}, {\"showLink\": true, \"linkText\": \"Export to plot.ly\"})});</script>"
      ],
      "text/vnd.plotly.v1+html": [
       "<div id=\"804cae10-7dea-4621-838e-5fcb4fd8e20f\" style=\"height: 525px; width: 100%;\" class=\"plotly-graph-div\"></div><script type=\"text/javascript\">require([\"plotly\"], function(Plotly) { window.PLOTLYENV=window.PLOTLYENV || {};window.PLOTLYENV.BASE_URL=\"https://plot.ly\";Plotly.newPlot(\"804cae10-7dea-4621-838e-5fcb4fd8e20f\", [{\"type\": \"bar\", \"x\": [\"ensure\", \"develop\", \"replace\", \"improve\", \"occurred\", \"keep\", \"update\", \"differ\", \"turn\", \"missing\", \"held\", \"approve\", \"affect\", \"include\", \"inform\"], \"y\": [3, 2, 2, 2, 2, 2, 2, 2, 2, 2, 2, 2, 2, 2, 1], \"text\": [3, 2, 2, 2, 2, 2, 2, 2, 2, 2, 2, 2, 2, 2, 1], \"textposition\": \"outside\", \"opacity\": 1}], {\"title\": \"<b>Verbs for Office of Budget and Management</b><br>\", \"xaxis\": {\"title\": \"\", \"tickfont\": {\"size\": 14, \"color\": \"rgb(107, 107, 107)\"}}, \"yaxis\": {\"title\": \"\", \"titlefont\": {\"size\": 16, \"color\": \"rgb(107, 107, 107)\"}, \"tickfont\": {\"size\": 14, \"color\": \"rgb(107, 107, 107)\"}}}, {\"showLink\": true, \"linkText\": \"Export to plot.ly\"})});</script>"
      ]
     },
     "metadata": {},
     "output_type": "display_data"
    }
   ],
   "source": [
    "def spli(dept):\n",
    "    v = [y for x,y in dept_verbs[dept]]\n",
    "    l = [x for x,y in dept_verbs[dept]]\n",
    "    return bar_chart(l,v,'Verbs for '+ str(dept))\n",
    "for dept in dept_verbs:\n",
    "    spli(dept)"
   ]
  },
  {
   "cell_type": "code",
   "execution_count": 49,
   "metadata": {
    "scrolled": true
   },
   "outputs": [
    {
     "data": {
      "application/vnd.plotly.v1+json": {
       "data": [
        {
         "opacity": 1,
         "text": [
          51,
          29,
          22,
          21,
          19,
          17,
          12,
          12,
          11,
          10,
          9,
          9,
          8,
          8,
          8
         ],
         "textposition": "outside",
         "type": "bar",
         "x": [
          "ensure",
          "obtain",
          "improve",
          "apply",
          "reduce",
          "find",
          "take",
          "make",
          "include",
          "comply",
          "required",
          "need",
          "like",
          "file",
          "save"
         ],
         "y": [
          51,
          29,
          22,
          21,
          19,
          17,
          12,
          12,
          11,
          10,
          9,
          9,
          8,
          8,
          8
         ]
        }
       ],
       "layout": {
        "title": "<b>Verbs for None</b><br>",
        "xaxis": {
         "tickfont": {
          "color": "rgb(107, 107, 107)",
          "size": 14
         },
         "title": ""
        },
        "yaxis": {
         "tickfont": {
          "color": "rgb(107, 107, 107)",
          "size": 14
         },
         "title": "",
         "titlefont": {
          "color": "rgb(107, 107, 107)",
          "size": 16
         }
        }
       }
      },
      "text/html": [
       "<div id=\"53b19609-1add-4778-a389-3984faec7bcb\" style=\"height: 525px; width: 100%;\" class=\"plotly-graph-div\"></div><script type=\"text/javascript\">require([\"plotly\"], function(Plotly) { window.PLOTLYENV=window.PLOTLYENV || {};window.PLOTLYENV.BASE_URL=\"https://plot.ly\";Plotly.newPlot(\"53b19609-1add-4778-a389-3984faec7bcb\", [{\"type\": \"bar\", \"x\": [\"ensure\", \"obtain\", \"improve\", \"apply\", \"reduce\", \"find\", \"take\", \"make\", \"include\", \"comply\", \"required\", \"need\", \"like\", \"file\", \"save\"], \"y\": [51, 29, 22, 21, 19, 17, 12, 12, 11, 10, 9, 9, 8, 8, 8], \"text\": [51, 29, 22, 21, 19, 17, 12, 12, 11, 10, 9, 9, 8, 8, 8], \"textposition\": \"outside\", \"opacity\": 1}], {\"title\": \"<b>Verbs for None</b><br>\", \"xaxis\": {\"title\": \"\", \"tickfont\": {\"size\": 14, \"color\": \"rgb(107, 107, 107)\"}}, \"yaxis\": {\"title\": \"\", \"titlefont\": {\"size\": 16, \"color\": \"rgb(107, 107, 107)\"}, \"tickfont\": {\"size\": 14, \"color\": \"rgb(107, 107, 107)\"}}}, {\"showLink\": true, \"linkText\": \"Export to plot.ly\"})});</script>"
      ],
      "text/vnd.plotly.v1+html": [
       "<div id=\"53b19609-1add-4778-a389-3984faec7bcb\" style=\"height: 525px; width: 100%;\" class=\"plotly-graph-div\"></div><script type=\"text/javascript\">require([\"plotly\"], function(Plotly) { window.PLOTLYENV=window.PLOTLYENV || {};window.PLOTLYENV.BASE_URL=\"https://plot.ly\";Plotly.newPlot(\"53b19609-1add-4778-a389-3984faec7bcb\", [{\"type\": \"bar\", \"x\": [\"ensure\", \"obtain\", \"improve\", \"apply\", \"reduce\", \"find\", \"take\", \"make\", \"include\", \"comply\", \"required\", \"need\", \"like\", \"file\", \"save\"], \"y\": [51, 29, 22, 21, 19, 17, 12, 12, 11, 10, 9, 9, 8, 8, 8], \"text\": [51, 29, 22, 21, 19, 17, 12, 12, 11, 10, 9, 9, 8, 8, 8], \"textposition\": \"outside\", \"opacity\": 1}], {\"title\": \"<b>Verbs for None</b><br>\", \"xaxis\": {\"title\": \"\", \"tickfont\": {\"size\": 14, \"color\": \"rgb(107, 107, 107)\"}}, \"yaxis\": {\"title\": \"\", \"titlefont\": {\"size\": 16, \"color\": \"rgb(107, 107, 107)\"}, \"tickfont\": {\"size\": 14, \"color\": \"rgb(107, 107, 107)\"}}}, {\"showLink\": true, \"linkText\": \"Export to plot.ly\"})});</script>"
      ]
     },
     "metadata": {},
     "output_type": "display_data"
    },
    {
     "data": {
      "application/vnd.plotly.v1+json": {
       "data": [
        {
         "opacity": 1,
         "text": [
          7,
          6,
          6,
          4,
          4,
          4,
          4,
          3,
          3,
          3,
          2,
          2,
          2,
          2,
          2
         ],
         "textposition": "outside",
         "type": "bar",
         "x": [
          "send",
          "apply",
          "ensure",
          "sms",
          "request",
          "find",
          "purpose",
          "obtain",
          "resolve",
          "improve",
          "text",
          "wish",
          "reply",
          "engage",
          "subscribe"
         ],
         "y": [
          7,
          6,
          6,
          4,
          4,
          4,
          4,
          3,
          3,
          3,
          2,
          2,
          2,
          2,
          2
         ]
        }
       ],
       "layout": {
        "title": "<b>Verbs for 311 City Services</b><br>",
        "xaxis": {
         "tickfont": {
          "color": "rgb(107, 107, 107)",
          "size": 14
         },
         "title": ""
        },
        "yaxis": {
         "tickfont": {
          "color": "rgb(107, 107, 107)",
          "size": 14
         },
         "title": "",
         "titlefont": {
          "color": "rgb(107, 107, 107)",
          "size": 16
         }
        }
       }
      },
      "text/html": [
       "<div id=\"9aa93290-6674-4ee2-8b59-210035c7bcdf\" style=\"height: 525px; width: 100%;\" class=\"plotly-graph-div\"></div><script type=\"text/javascript\">require([\"plotly\"], function(Plotly) { window.PLOTLYENV=window.PLOTLYENV || {};window.PLOTLYENV.BASE_URL=\"https://plot.ly\";Plotly.newPlot(\"9aa93290-6674-4ee2-8b59-210035c7bcdf\", [{\"type\": \"bar\", \"x\": [\"send\", \"apply\", \"ensure\", \"sms\", \"request\", \"find\", \"purpose\", \"obtain\", \"resolve\", \"improve\", \"text\", \"wish\", \"reply\", \"engage\", \"subscribe\"], \"y\": [7, 6, 6, 4, 4, 4, 4, 3, 3, 3, 2, 2, 2, 2, 2], \"text\": [7, 6, 6, 4, 4, 4, 4, 3, 3, 3, 2, 2, 2, 2, 2], \"textposition\": \"outside\", \"opacity\": 1}], {\"title\": \"<b>Verbs for 311 City Services</b><br>\", \"xaxis\": {\"title\": \"\", \"tickfont\": {\"size\": 14, \"color\": \"rgb(107, 107, 107)\"}}, \"yaxis\": {\"title\": \"\", \"titlefont\": {\"size\": 16, \"color\": \"rgb(107, 107, 107)\"}, \"tickfont\": {\"size\": 14, \"color\": \"rgb(107, 107, 107)\"}}}, {\"showLink\": true, \"linkText\": \"Export to plot.ly\"})});</script>"
      ],
      "text/vnd.plotly.v1+html": [
       "<div id=\"9aa93290-6674-4ee2-8b59-210035c7bcdf\" style=\"height: 525px; width: 100%;\" class=\"plotly-graph-div\"></div><script type=\"text/javascript\">require([\"plotly\"], function(Plotly) { window.PLOTLYENV=window.PLOTLYENV || {};window.PLOTLYENV.BASE_URL=\"https://plot.ly\";Plotly.newPlot(\"9aa93290-6674-4ee2-8b59-210035c7bcdf\", [{\"type\": \"bar\", \"x\": [\"send\", \"apply\", \"ensure\", \"sms\", \"request\", \"find\", \"purpose\", \"obtain\", \"resolve\", \"improve\", \"text\", \"wish\", \"reply\", \"engage\", \"subscribe\"], \"y\": [7, 6, 6, 4, 4, 4, 4, 3, 3, 3, 2, 2, 2, 2, 2], \"text\": [7, 6, 6, 4, 4, 4, 4, 3, 3, 3, 2, 2, 2, 2, 2], \"textposition\": \"outside\", \"opacity\": 1}], {\"title\": \"<b>Verbs for 311 City Services</b><br>\", \"xaxis\": {\"title\": \"\", \"tickfont\": {\"size\": 14, \"color\": \"rgb(107, 107, 107)\"}}, \"yaxis\": {\"title\": \"\", \"titlefont\": {\"size\": 16, \"color\": \"rgb(107, 107, 107)\"}, \"tickfont\": {\"size\": 14, \"color\": \"rgb(107, 107, 107)\"}}}, {\"showLink\": true, \"linkText\": \"Export to plot.ly\"})});</script>"
      ]
     },
     "metadata": {},
     "output_type": "display_data"
    },
    {
     "data": {
      "application/vnd.plotly.v1+json": {
       "data": [
        {
         "opacity": 1,
         "text": [
          45,
          18,
          17,
          15,
          12,
          11,
          10,
          9,
          8,
          8,
          7,
          6,
          6,
          5,
          5
         ],
         "textposition": "outside",
         "type": "bar",
         "x": [
          "keep",
          "take",
          "go",
          "get",
          "ensure",
          "make",
          "call",
          "remember",
          "help",
          "stay",
          "include",
          "consider",
          "remove",
          "see",
          "know"
         ],
         "y": [
          45,
          18,
          17,
          15,
          12,
          11,
          10,
          9,
          8,
          8,
          7,
          6,
          6,
          5,
          5
         ]
        }
       ],
       "layout": {
        "title": "<b>Verbs for Emergency Management & Communications</b><br>",
        "xaxis": {
         "tickfont": {
          "color": "rgb(107, 107, 107)",
          "size": 14
         },
         "title": ""
        },
        "yaxis": {
         "tickfont": {
          "color": "rgb(107, 107, 107)",
          "size": 14
         },
         "title": "",
         "titlefont": {
          "color": "rgb(107, 107, 107)",
          "size": 16
         }
        }
       }
      },
      "text/html": [
       "<div id=\"16567d44-2566-496b-bea3-b8624e115ce3\" style=\"height: 525px; width: 100%;\" class=\"plotly-graph-div\"></div><script type=\"text/javascript\">require([\"plotly\"], function(Plotly) { window.PLOTLYENV=window.PLOTLYENV || {};window.PLOTLYENV.BASE_URL=\"https://plot.ly\";Plotly.newPlot(\"16567d44-2566-496b-bea3-b8624e115ce3\", [{\"type\": \"bar\", \"x\": [\"keep\", \"take\", \"go\", \"get\", \"ensure\", \"make\", \"call\", \"remember\", \"help\", \"stay\", \"include\", \"consider\", \"remove\", \"see\", \"know\"], \"y\": [45, 18, 17, 15, 12, 11, 10, 9, 8, 8, 7, 6, 6, 5, 5], \"text\": [45, 18, 17, 15, 12, 11, 10, 9, 8, 8, 7, 6, 6, 5, 5], \"textposition\": \"outside\", \"opacity\": 1}], {\"title\": \"<b>Verbs for Emergency Management & Communications</b><br>\", \"xaxis\": {\"title\": \"\", \"tickfont\": {\"size\": 14, \"color\": \"rgb(107, 107, 107)\"}}, \"yaxis\": {\"title\": \"\", \"titlefont\": {\"size\": 16, \"color\": \"rgb(107, 107, 107)\"}, \"tickfont\": {\"size\": 14, \"color\": \"rgb(107, 107, 107)\"}}}, {\"showLink\": true, \"linkText\": \"Export to plot.ly\"})});</script>"
      ],
      "text/vnd.plotly.v1+html": [
       "<div id=\"16567d44-2566-496b-bea3-b8624e115ce3\" style=\"height: 525px; width: 100%;\" class=\"plotly-graph-div\"></div><script type=\"text/javascript\">require([\"plotly\"], function(Plotly) { window.PLOTLYENV=window.PLOTLYENV || {};window.PLOTLYENV.BASE_URL=\"https://plot.ly\";Plotly.newPlot(\"16567d44-2566-496b-bea3-b8624e115ce3\", [{\"type\": \"bar\", \"x\": [\"keep\", \"take\", \"go\", \"get\", \"ensure\", \"make\", \"call\", \"remember\", \"help\", \"stay\", \"include\", \"consider\", \"remove\", \"see\", \"know\"], \"y\": [45, 18, 17, 15, 12, 11, 10, 9, 8, 8, 7, 6, 6, 5, 5], \"text\": [45, 18, 17, 15, 12, 11, 10, 9, 8, 8, 7, 6, 6, 5, 5], \"textposition\": \"outside\", \"opacity\": 1}], {\"title\": \"<b>Verbs for Emergency Management & Communications</b><br>\", \"xaxis\": {\"title\": \"\", \"tickfont\": {\"size\": 14, \"color\": \"rgb(107, 107, 107)\"}}, \"yaxis\": {\"title\": \"\", \"titlefont\": {\"size\": 16, \"color\": \"rgb(107, 107, 107)\"}, \"tickfont\": {\"size\": 14, \"color\": \"rgb(107, 107, 107)\"}}}, {\"showLink\": true, \"linkText\": \"Export to plot.ly\"})});</script>"
      ]
     },
     "metadata": {},
     "output_type": "display_data"
    },
    {
     "data": {
      "application/vnd.plotly.v1+json": {
       "data": [
        {
         "opacity": 1,
         "text": [
          23,
          21,
          19,
          18,
          18,
          18,
          14,
          12,
          11,
          10,
          9,
          8,
          7,
          7,
          7
         ],
         "textposition": "outside",
         "type": "bar",
         "x": [
          "develop",
          "ensure",
          "improve",
          "temat",
          "belize",
          "gór?",
          "stronie",
          "obtain",
          "call",
          "apply",
          "reduce",
          "succeed",
          "build",
          "find",
          "take"
         ],
         "y": [
          23,
          21,
          19,
          18,
          18,
          18,
          14,
          12,
          11,
          10,
          9,
          8,
          7,
          7,
          7
         ]
        }
       ],
       "layout": {
        "title": "<b>Verbs for Office of the Mayor</b><br>",
        "xaxis": {
         "tickfont": {
          "color": "rgb(107, 107, 107)",
          "size": 14
         },
         "title": ""
        },
        "yaxis": {
         "tickfont": {
          "color": "rgb(107, 107, 107)",
          "size": 14
         },
         "title": "",
         "titlefont": {
          "color": "rgb(107, 107, 107)",
          "size": 16
         }
        }
       }
      },
      "text/html": [
       "<div id=\"4a011562-7af0-493d-9cd3-6c0f88a3634b\" style=\"height: 525px; width: 100%;\" class=\"plotly-graph-div\"></div><script type=\"text/javascript\">require([\"plotly\"], function(Plotly) { window.PLOTLYENV=window.PLOTLYENV || {};window.PLOTLYENV.BASE_URL=\"https://plot.ly\";Plotly.newPlot(\"4a011562-7af0-493d-9cd3-6c0f88a3634b\", [{\"type\": \"bar\", \"x\": [\"develop\", \"ensure\", \"improve\", \"temat\", \"belize\", \"g\\u00f3r?\", \"stronie\", \"obtain\", \"call\", \"apply\", \"reduce\", \"succeed\", \"build\", \"find\", \"take\"], \"y\": [23, 21, 19, 18, 18, 18, 14, 12, 11, 10, 9, 8, 7, 7, 7], \"text\": [23, 21, 19, 18, 18, 18, 14, 12, 11, 10, 9, 8, 7, 7, 7], \"textposition\": \"outside\", \"opacity\": 1}], {\"title\": \"<b>Verbs for Office of the Mayor</b><br>\", \"xaxis\": {\"title\": \"\", \"tickfont\": {\"size\": 14, \"color\": \"rgb(107, 107, 107)\"}}, \"yaxis\": {\"title\": \"\", \"titlefont\": {\"size\": 16, \"color\": \"rgb(107, 107, 107)\"}, \"tickfont\": {\"size\": 14, \"color\": \"rgb(107, 107, 107)\"}}}, {\"showLink\": true, \"linkText\": \"Export to plot.ly\"})});</script>"
      ],
      "text/vnd.plotly.v1+html": [
       "<div id=\"4a011562-7af0-493d-9cd3-6c0f88a3634b\" style=\"height: 525px; width: 100%;\" class=\"plotly-graph-div\"></div><script type=\"text/javascript\">require([\"plotly\"], function(Plotly) { window.PLOTLYENV=window.PLOTLYENV || {};window.PLOTLYENV.BASE_URL=\"https://plot.ly\";Plotly.newPlot(\"4a011562-7af0-493d-9cd3-6c0f88a3634b\", [{\"type\": \"bar\", \"x\": [\"develop\", \"ensure\", \"improve\", \"temat\", \"belize\", \"g\\u00f3r?\", \"stronie\", \"obtain\", \"call\", \"apply\", \"reduce\", \"succeed\", \"build\", \"find\", \"take\"], \"y\": [23, 21, 19, 18, 18, 18, 14, 12, 11, 10, 9, 8, 7, 7, 7], \"text\": [23, 21, 19, 18, 18, 18, 14, 12, 11, 10, 9, 8, 7, 7, 7], \"textposition\": \"outside\", \"opacity\": 1}], {\"title\": \"<b>Verbs for Office of the Mayor</b><br>\", \"xaxis\": {\"title\": \"\", \"tickfont\": {\"size\": 14, \"color\": \"rgb(107, 107, 107)\"}}, \"yaxis\": {\"title\": \"\", \"titlefont\": {\"size\": 16, \"color\": \"rgb(107, 107, 107)\"}, \"tickfont\": {\"size\": 14, \"color\": \"rgb(107, 107, 107)\"}}}, {\"showLink\": true, \"linkText\": \"Export to plot.ly\"})});</script>"
      ]
     },
     "metadata": {},
     "output_type": "display_data"
    },
    {
     "data": {
      "application/vnd.plotly.v1+json": {
       "data": [
        {
         "opacity": 1,
         "text": [
          4,
          2,
          2,
          2,
          2,
          2,
          1,
          1,
          1,
          1,
          1,
          1,
          1,
          1,
          1
         ],
         "textposition": "outside",
         "type": "bar",
         "x": [
          "ensure",
          "apply",
          "like",
          "include",
          "perform",
          "serve",
          "register",
          "required",
          "search",
          "require",
          "needed",
          "disclose",
          "file",
          "pay",
          "establish"
         ],
         "y": [
          4,
          2,
          2,
          2,
          2,
          2,
          1,
          1,
          1,
          1,
          1,
          1,
          1,
          1,
          1
         ]
        }
       ],
       "layout": {
        "title": "<b>Verbs for Department of Human Resources</b><br>",
        "xaxis": {
         "tickfont": {
          "color": "rgb(107, 107, 107)",
          "size": 14
         },
         "title": ""
        },
        "yaxis": {
         "tickfont": {
          "color": "rgb(107, 107, 107)",
          "size": 14
         },
         "title": "",
         "titlefont": {
          "color": "rgb(107, 107, 107)",
          "size": 16
         }
        }
       }
      },
      "text/html": [
       "<div id=\"f90883c2-2000-4d1f-938d-aaf5d01a4eb1\" style=\"height: 525px; width: 100%;\" class=\"plotly-graph-div\"></div><script type=\"text/javascript\">require([\"plotly\"], function(Plotly) { window.PLOTLYENV=window.PLOTLYENV || {};window.PLOTLYENV.BASE_URL=\"https://plot.ly\";Plotly.newPlot(\"f90883c2-2000-4d1f-938d-aaf5d01a4eb1\", [{\"type\": \"bar\", \"x\": [\"ensure\", \"apply\", \"like\", \"include\", \"perform\", \"serve\", \"register\", \"required\", \"search\", \"require\", \"needed\", \"disclose\", \"file\", \"pay\", \"establish\"], \"y\": [4, 2, 2, 2, 2, 2, 1, 1, 1, 1, 1, 1, 1, 1, 1], \"text\": [4, 2, 2, 2, 2, 2, 1, 1, 1, 1, 1, 1, 1, 1, 1], \"textposition\": \"outside\", \"opacity\": 1}], {\"title\": \"<b>Verbs for Department of Human Resources</b><br>\", \"xaxis\": {\"title\": \"\", \"tickfont\": {\"size\": 14, \"color\": \"rgb(107, 107, 107)\"}}, \"yaxis\": {\"title\": \"\", \"titlefont\": {\"size\": 16, \"color\": \"rgb(107, 107, 107)\"}, \"tickfont\": {\"size\": 14, \"color\": \"rgb(107, 107, 107)\"}}}, {\"showLink\": true, \"linkText\": \"Export to plot.ly\"})});</script>"
      ],
      "text/vnd.plotly.v1+html": [
       "<div id=\"f90883c2-2000-4d1f-938d-aaf5d01a4eb1\" style=\"height: 525px; width: 100%;\" class=\"plotly-graph-div\"></div><script type=\"text/javascript\">require([\"plotly\"], function(Plotly) { window.PLOTLYENV=window.PLOTLYENV || {};window.PLOTLYENV.BASE_URL=\"https://plot.ly\";Plotly.newPlot(\"f90883c2-2000-4d1f-938d-aaf5d01a4eb1\", [{\"type\": \"bar\", \"x\": [\"ensure\", \"apply\", \"like\", \"include\", \"perform\", \"serve\", \"register\", \"required\", \"search\", \"require\", \"needed\", \"disclose\", \"file\", \"pay\", \"establish\"], \"y\": [4, 2, 2, 2, 2, 2, 1, 1, 1, 1, 1, 1, 1, 1, 1], \"text\": [4, 2, 2, 2, 2, 2, 1, 1, 1, 1, 1, 1, 1, 1, 1], \"textposition\": \"outside\", \"opacity\": 1}], {\"title\": \"<b>Verbs for Department of Human Resources</b><br>\", \"xaxis\": {\"title\": \"\", \"tickfont\": {\"size\": 14, \"color\": \"rgb(107, 107, 107)\"}}, \"yaxis\": {\"title\": \"\", \"titlefont\": {\"size\": 16, \"color\": \"rgb(107, 107, 107)\"}, \"tickfont\": {\"size\": 14, \"color\": \"rgb(107, 107, 107)\"}}}, {\"showLink\": true, \"linkText\": \"Export to plot.ly\"})});</script>"
      ]
     },
     "metadata": {},
     "output_type": "display_data"
    },
    {
     "data": {
      "application/vnd.plotly.v1+json": {
       "data": [
        {
         "opacity": 1,
         "text": [
          42,
          22,
          12,
          10,
          9,
          9,
          9,
          7,
          7,
          7,
          7,
          6,
          6,
          6,
          6
         ],
         "textposition": "outside",
         "type": "bar",
         "x": [
          "obtain",
          "include",
          "ensure",
          "keep",
          "take",
          "reduce",
          "identify",
          "check",
          "replace",
          "require",
          "review",
          "remove",
          "required",
          "see",
          "meet"
         ],
         "y": [
          42,
          22,
          12,
          10,
          9,
          9,
          9,
          7,
          7,
          7,
          7,
          6,
          6,
          6,
          6
         ]
        }
       ],
       "layout": {
        "title": "<b>Verbs for Department of Buildings</b><br>",
        "xaxis": {
         "tickfont": {
          "color": "rgb(107, 107, 107)",
          "size": 14
         },
         "title": ""
        },
        "yaxis": {
         "tickfont": {
          "color": "rgb(107, 107, 107)",
          "size": 14
         },
         "title": "",
         "titlefont": {
          "color": "rgb(107, 107, 107)",
          "size": 16
         }
        }
       }
      },
      "text/html": [
       "<div id=\"dfc8fc8b-739a-4bd3-9809-63c7cbd23b35\" style=\"height: 525px; width: 100%;\" class=\"plotly-graph-div\"></div><script type=\"text/javascript\">require([\"plotly\"], function(Plotly) { window.PLOTLYENV=window.PLOTLYENV || {};window.PLOTLYENV.BASE_URL=\"https://plot.ly\";Plotly.newPlot(\"dfc8fc8b-739a-4bd3-9809-63c7cbd23b35\", [{\"type\": \"bar\", \"x\": [\"obtain\", \"include\", \"ensure\", \"keep\", \"take\", \"reduce\", \"identify\", \"check\", \"replace\", \"require\", \"review\", \"remove\", \"required\", \"see\", \"meet\"], \"y\": [42, 22, 12, 10, 9, 9, 9, 7, 7, 7, 7, 6, 6, 6, 6], \"text\": [42, 22, 12, 10, 9, 9, 9, 7, 7, 7, 7, 6, 6, 6, 6], \"textposition\": \"outside\", \"opacity\": 1}], {\"title\": \"<b>Verbs for Department of Buildings</b><br>\", \"xaxis\": {\"title\": \"\", \"tickfont\": {\"size\": 14, \"color\": \"rgb(107, 107, 107)\"}}, \"yaxis\": {\"title\": \"\", \"titlefont\": {\"size\": 16, \"color\": \"rgb(107, 107, 107)\"}, \"tickfont\": {\"size\": 14, \"color\": \"rgb(107, 107, 107)\"}}}, {\"showLink\": true, \"linkText\": \"Export to plot.ly\"})});</script>"
      ],
      "text/vnd.plotly.v1+html": [
       "<div id=\"dfc8fc8b-739a-4bd3-9809-63c7cbd23b35\" style=\"height: 525px; width: 100%;\" class=\"plotly-graph-div\"></div><script type=\"text/javascript\">require([\"plotly\"], function(Plotly) { window.PLOTLYENV=window.PLOTLYENV || {};window.PLOTLYENV.BASE_URL=\"https://plot.ly\";Plotly.newPlot(\"dfc8fc8b-739a-4bd3-9809-63c7cbd23b35\", [{\"type\": \"bar\", \"x\": [\"obtain\", \"include\", \"ensure\", \"keep\", \"take\", \"reduce\", \"identify\", \"check\", \"replace\", \"require\", \"review\", \"remove\", \"required\", \"see\", \"meet\"], \"y\": [42, 22, 12, 10, 9, 9, 9, 7, 7, 7, 7, 6, 6, 6, 6], \"text\": [42, 22, 12, 10, 9, 9, 9, 7, 7, 7, 7, 6, 6, 6, 6], \"textposition\": \"outside\", \"opacity\": 1}], {\"title\": \"<b>Verbs for Department of Buildings</b><br>\", \"xaxis\": {\"title\": \"\", \"tickfont\": {\"size\": 14, \"color\": \"rgb(107, 107, 107)\"}}, \"yaxis\": {\"title\": \"\", \"titlefont\": {\"size\": 16, \"color\": \"rgb(107, 107, 107)\"}, \"tickfont\": {\"size\": 14, \"color\": \"rgb(107, 107, 107)\"}}}, {\"showLink\": true, \"linkText\": \"Export to plot.ly\"})});</script>"
      ]
     },
     "metadata": {},
     "output_type": "display_data"
    },
    {
     "data": {
      "application/vnd.plotly.v1+json": {
       "data": [
        {
         "opacity": 1,
         "text": [
          59,
          33,
          24,
          20,
          18,
          16,
          15,
          15,
          13,
          12,
          10,
          10,
          10,
          10,
          10
         ],
         "textposition": "outside",
         "type": "bar",
         "x": [
          "obtain",
          "apply",
          "take",
          "check",
          "ensure",
          "provide",
          "keep",
          "get",
          "find",
          "reduce",
          "sell",
          "register",
          "meet",
          "request",
          "include"
         ],
         "y": [
          59,
          33,
          24,
          20,
          18,
          16,
          15,
          15,
          13,
          12,
          10,
          10,
          10,
          10,
          10
         ]
        }
       ],
       "layout": {
        "title": "<b>Verbs for Department of Business Affairs and Consumer Protection</b><br>",
        "xaxis": {
         "tickfont": {
          "color": "rgb(107, 107, 107)",
          "size": 14
         },
         "title": ""
        },
        "yaxis": {
         "tickfont": {
          "color": "rgb(107, 107, 107)",
          "size": 14
         },
         "title": "",
         "titlefont": {
          "color": "rgb(107, 107, 107)",
          "size": 16
         }
        }
       }
      },
      "text/html": [
       "<div id=\"2bac4ce5-a811-4501-a1d1-d99f9a4f0865\" style=\"height: 525px; width: 100%;\" class=\"plotly-graph-div\"></div><script type=\"text/javascript\">require([\"plotly\"], function(Plotly) { window.PLOTLYENV=window.PLOTLYENV || {};window.PLOTLYENV.BASE_URL=\"https://plot.ly\";Plotly.newPlot(\"2bac4ce5-a811-4501-a1d1-d99f9a4f0865\", [{\"type\": \"bar\", \"x\": [\"obtain\", \"apply\", \"take\", \"check\", \"ensure\", \"provide\", \"keep\", \"get\", \"find\", \"reduce\", \"sell\", \"register\", \"meet\", \"request\", \"include\"], \"y\": [59, 33, 24, 20, 18, 16, 15, 15, 13, 12, 10, 10, 10, 10, 10], \"text\": [59, 33, 24, 20, 18, 16, 15, 15, 13, 12, 10, 10, 10, 10, 10], \"textposition\": \"outside\", \"opacity\": 1}], {\"title\": \"<b>Verbs for Department of Business Affairs and Consumer Protection</b><br>\", \"xaxis\": {\"title\": \"\", \"tickfont\": {\"size\": 14, \"color\": \"rgb(107, 107, 107)\"}}, \"yaxis\": {\"title\": \"\", \"titlefont\": {\"size\": 16, \"color\": \"rgb(107, 107, 107)\"}, \"tickfont\": {\"size\": 14, \"color\": \"rgb(107, 107, 107)\"}}}, {\"showLink\": true, \"linkText\": \"Export to plot.ly\"})});</script>"
      ],
      "text/vnd.plotly.v1+html": [
       "<div id=\"2bac4ce5-a811-4501-a1d1-d99f9a4f0865\" style=\"height: 525px; width: 100%;\" class=\"plotly-graph-div\"></div><script type=\"text/javascript\">require([\"plotly\"], function(Plotly) { window.PLOTLYENV=window.PLOTLYENV || {};window.PLOTLYENV.BASE_URL=\"https://plot.ly\";Plotly.newPlot(\"2bac4ce5-a811-4501-a1d1-d99f9a4f0865\", [{\"type\": \"bar\", \"x\": [\"obtain\", \"apply\", \"take\", \"check\", \"ensure\", \"provide\", \"keep\", \"get\", \"find\", \"reduce\", \"sell\", \"register\", \"meet\", \"request\", \"include\"], \"y\": [59, 33, 24, 20, 18, 16, 15, 15, 13, 12, 10, 10, 10, 10, 10], \"text\": [59, 33, 24, 20, 18, 16, 15, 15, 13, 12, 10, 10, 10, 10, 10], \"textposition\": \"outside\", \"opacity\": 1}], {\"title\": \"<b>Verbs for Department of Business Affairs and Consumer Protection</b><br>\", \"xaxis\": {\"title\": \"\", \"tickfont\": {\"size\": 14, \"color\": \"rgb(107, 107, 107)\"}}, \"yaxis\": {\"title\": \"\", \"titlefont\": {\"size\": 16, \"color\": \"rgb(107, 107, 107)\"}, \"tickfont\": {\"size\": 14, \"color\": \"rgb(107, 107, 107)\"}}}, {\"showLink\": true, \"linkText\": \"Export to plot.ly\"})});</script>"
      ]
     },
     "metadata": {},
     "output_type": "display_data"
    },
    {
     "data": {
      "application/vnd.plotly.v1+json": {
       "data": [
        {
         "opacity": 1,
         "text": [
          7,
          3,
          2,
          2,
          2,
          1,
          1,
          1,
          1,
          1,
          1,
          1,
          1,
          1
         ],
         "textposition": "outside",
         "type": "bar",
         "x": [
          "find",
          "get",
          "apply",
          "go",
          "present",
          "page",
          "visit",
          "buy",
          "like",
          "participate",
          "pay",
          "remove",
          "see",
          "replace"
         ],
         "y": [
          7,
          3,
          2,
          2,
          2,
          1,
          1,
          1,
          1,
          1,
          1,
          1,
          1,
          1
         ]
        }
       ],
       "layout": {
        "title": "<b>Verbs for Other</b><br>",
        "xaxis": {
         "tickfont": {
          "color": "rgb(107, 107, 107)",
          "size": 14
         },
         "title": ""
        },
        "yaxis": {
         "tickfont": {
          "color": "rgb(107, 107, 107)",
          "size": 14
         },
         "title": "",
         "titlefont": {
          "color": "rgb(107, 107, 107)",
          "size": 16
         }
        }
       }
      },
      "text/html": [
       "<div id=\"3586616a-6dcd-4375-b760-29480e52d6e5\" style=\"height: 525px; width: 100%;\" class=\"plotly-graph-div\"></div><script type=\"text/javascript\">require([\"plotly\"], function(Plotly) { window.PLOTLYENV=window.PLOTLYENV || {};window.PLOTLYENV.BASE_URL=\"https://plot.ly\";Plotly.newPlot(\"3586616a-6dcd-4375-b760-29480e52d6e5\", [{\"type\": \"bar\", \"x\": [\"find\", \"get\", \"apply\", \"go\", \"present\", \"page\", \"visit\", \"buy\", \"like\", \"participate\", \"pay\", \"remove\", \"see\", \"replace\"], \"y\": [7, 3, 2, 2, 2, 1, 1, 1, 1, 1, 1, 1, 1, 1], \"text\": [7, 3, 2, 2, 2, 1, 1, 1, 1, 1, 1, 1, 1, 1], \"textposition\": \"outside\", \"opacity\": 1}], {\"title\": \"<b>Verbs for Other</b><br>\", \"xaxis\": {\"title\": \"\", \"tickfont\": {\"size\": 14, \"color\": \"rgb(107, 107, 107)\"}}, \"yaxis\": {\"title\": \"\", \"titlefont\": {\"size\": 16, \"color\": \"rgb(107, 107, 107)\"}, \"tickfont\": {\"size\": 14, \"color\": \"rgb(107, 107, 107)\"}}}, {\"showLink\": true, \"linkText\": \"Export to plot.ly\"})});</script>"
      ],
      "text/vnd.plotly.v1+html": [
       "<div id=\"3586616a-6dcd-4375-b760-29480e52d6e5\" style=\"height: 525px; width: 100%;\" class=\"plotly-graph-div\"></div><script type=\"text/javascript\">require([\"plotly\"], function(Plotly) { window.PLOTLYENV=window.PLOTLYENV || {};window.PLOTLYENV.BASE_URL=\"https://plot.ly\";Plotly.newPlot(\"3586616a-6dcd-4375-b760-29480e52d6e5\", [{\"type\": \"bar\", \"x\": [\"find\", \"get\", \"apply\", \"go\", \"present\", \"page\", \"visit\", \"buy\", \"like\", \"participate\", \"pay\", \"remove\", \"see\", \"replace\"], \"y\": [7, 3, 2, 2, 2, 1, 1, 1, 1, 1, 1, 1, 1, 1], \"text\": [7, 3, 2, 2, 2, 1, 1, 1, 1, 1, 1, 1, 1, 1], \"textposition\": \"outside\", \"opacity\": 1}], {\"title\": \"<b>Verbs for Other</b><br>\", \"xaxis\": {\"title\": \"\", \"tickfont\": {\"size\": 14, \"color\": \"rgb(107, 107, 107)\"}}, \"yaxis\": {\"title\": \"\", \"titlefont\": {\"size\": 16, \"color\": \"rgb(107, 107, 107)\"}, \"tickfont\": {\"size\": 14, \"color\": \"rgb(107, 107, 107)\"}}}, {\"showLink\": true, \"linkText\": \"Export to plot.ly\"})});</script>"
      ]
     },
     "metadata": {},
     "output_type": "display_data"
    },
    {
     "data": {
      "application/vnd.plotly.v1+json": {
       "data": [
        {
         "opacity": 1,
         "text": [
          48,
          29,
          28,
          15,
          15,
          15,
          13,
          12,
          12,
          11,
          11,
          10,
          10,
          9,
          9
         ],
         "textposition": "outside",
         "type": "bar",
         "x": [
          "ensure",
          "reduce",
          "get",
          "take",
          "identify",
          "improve",
          "apply",
          "provide",
          "remove",
          "obtain",
          "need",
          "keep",
          "check",
          "disease",
          "develop"
         ],
         "y": [
          48,
          29,
          28,
          15,
          15,
          15,
          13,
          12,
          12,
          11,
          11,
          10,
          10,
          9,
          9
         ]
        }
       ],
       "layout": {
        "title": "<b>Verbs for Department of Public Health</b><br>",
        "xaxis": {
         "tickfont": {
          "color": "rgb(107, 107, 107)",
          "size": 14
         },
         "title": ""
        },
        "yaxis": {
         "tickfont": {
          "color": "rgb(107, 107, 107)",
          "size": 14
         },
         "title": "",
         "titlefont": {
          "color": "rgb(107, 107, 107)",
          "size": 16
         }
        }
       }
      },
      "text/html": [
       "<div id=\"30189d35-5dec-47b3-bebe-e1d88fc03af5\" style=\"height: 525px; width: 100%;\" class=\"plotly-graph-div\"></div><script type=\"text/javascript\">require([\"plotly\"], function(Plotly) { window.PLOTLYENV=window.PLOTLYENV || {};window.PLOTLYENV.BASE_URL=\"https://plot.ly\";Plotly.newPlot(\"30189d35-5dec-47b3-bebe-e1d88fc03af5\", [{\"type\": \"bar\", \"x\": [\"ensure\", \"reduce\", \"get\", \"take\", \"identify\", \"improve\", \"apply\", \"provide\", \"remove\", \"obtain\", \"need\", \"keep\", \"check\", \"disease\", \"develop\"], \"y\": [48, 29, 28, 15, 15, 15, 13, 12, 12, 11, 11, 10, 10, 9, 9], \"text\": [48, 29, 28, 15, 15, 15, 13, 12, 12, 11, 11, 10, 10, 9, 9], \"textposition\": \"outside\", \"opacity\": 1}], {\"title\": \"<b>Verbs for Department of Public Health</b><br>\", \"xaxis\": {\"title\": \"\", \"tickfont\": {\"size\": 14, \"color\": \"rgb(107, 107, 107)\"}}, \"yaxis\": {\"title\": \"\", \"titlefont\": {\"size\": 16, \"color\": \"rgb(107, 107, 107)\"}, \"tickfont\": {\"size\": 14, \"color\": \"rgb(107, 107, 107)\"}}}, {\"showLink\": true, \"linkText\": \"Export to plot.ly\"})});</script>"
      ],
      "text/vnd.plotly.v1+html": [
       "<div id=\"30189d35-5dec-47b3-bebe-e1d88fc03af5\" style=\"height: 525px; width: 100%;\" class=\"plotly-graph-div\"></div><script type=\"text/javascript\">require([\"plotly\"], function(Plotly) { window.PLOTLYENV=window.PLOTLYENV || {};window.PLOTLYENV.BASE_URL=\"https://plot.ly\";Plotly.newPlot(\"30189d35-5dec-47b3-bebe-e1d88fc03af5\", [{\"type\": \"bar\", \"x\": [\"ensure\", \"reduce\", \"get\", \"take\", \"identify\", \"improve\", \"apply\", \"provide\", \"remove\", \"obtain\", \"need\", \"keep\", \"check\", \"disease\", \"develop\"], \"y\": [48, 29, 28, 15, 15, 15, 13, 12, 12, 11, 11, 10, 10, 9, 9], \"text\": [48, 29, 28, 15, 15, 15, 13, 12, 12, 11, 11, 10, 10, 9, 9], \"textposition\": \"outside\", \"opacity\": 1}], {\"title\": \"<b>Verbs for Department of Public Health</b><br>\", \"xaxis\": {\"title\": \"\", \"tickfont\": {\"size\": 14, \"color\": \"rgb(107, 107, 107)\"}}, \"yaxis\": {\"title\": \"\", \"titlefont\": {\"size\": 16, \"color\": \"rgb(107, 107, 107)\"}, \"tickfont\": {\"size\": 14, \"color\": \"rgb(107, 107, 107)\"}}}, {\"showLink\": true, \"linkText\": \"Export to plot.ly\"})});</script>"
      ]
     },
     "metadata": {},
     "output_type": "display_data"
    },
    {
     "data": {
      "application/vnd.plotly.v1+json": {
       "data": [
        {
         "opacity": 1,
         "text": [
          79,
          26,
          19,
          13,
          13,
          10,
          9,
          9,
          7,
          6,
          6,
          5,
          5,
          5,
          5
         ],
         "textposition": "outside",
         "type": "bar",
         "x": [
          "na",
          "know",
          "remove",
          "call",
          "check",
          "earth911",
          "keep",
          "reduce",
          "contact",
          "ensure",
          "nawww.chicagorecycles.org",
          "obtain",
          "identify",
          "provide",
          "pay"
         ],
         "y": [
          79,
          26,
          19,
          13,
          13,
          10,
          9,
          9,
          7,
          6,
          6,
          5,
          5,
          5,
          5
         ]
        }
       ],
       "layout": {
        "title": "<b>Verbs for Department of Streets and Sanitation</b><br>",
        "xaxis": {
         "tickfont": {
          "color": "rgb(107, 107, 107)",
          "size": 14
         },
         "title": ""
        },
        "yaxis": {
         "tickfont": {
          "color": "rgb(107, 107, 107)",
          "size": 14
         },
         "title": "",
         "titlefont": {
          "color": "rgb(107, 107, 107)",
          "size": 16
         }
        }
       }
      },
      "text/html": [
       "<div id=\"ac1b2d54-14fa-49e1-a1bf-04a189fc9611\" style=\"height: 525px; width: 100%;\" class=\"plotly-graph-div\"></div><script type=\"text/javascript\">require([\"plotly\"], function(Plotly) { window.PLOTLYENV=window.PLOTLYENV || {};window.PLOTLYENV.BASE_URL=\"https://plot.ly\";Plotly.newPlot(\"ac1b2d54-14fa-49e1-a1bf-04a189fc9611\", [{\"type\": \"bar\", \"x\": [\"na\", \"know\", \"remove\", \"call\", \"check\", \"earth911\", \"keep\", \"reduce\", \"contact\", \"ensure\", \"nawww.chicagorecycles.org\", \"obtain\", \"identify\", \"provide\", \"pay\"], \"y\": [79, 26, 19, 13, 13, 10, 9, 9, 7, 6, 6, 5, 5, 5, 5], \"text\": [79, 26, 19, 13, 13, 10, 9, 9, 7, 6, 6, 5, 5, 5, 5], \"textposition\": \"outside\", \"opacity\": 1}], {\"title\": \"<b>Verbs for Department of Streets and Sanitation</b><br>\", \"xaxis\": {\"title\": \"\", \"tickfont\": {\"size\": 14, \"color\": \"rgb(107, 107, 107)\"}}, \"yaxis\": {\"title\": \"\", \"titlefont\": {\"size\": 16, \"color\": \"rgb(107, 107, 107)\"}, \"tickfont\": {\"size\": 14, \"color\": \"rgb(107, 107, 107)\"}}}, {\"showLink\": true, \"linkText\": \"Export to plot.ly\"})});</script>"
      ],
      "text/vnd.plotly.v1+html": [
       "<div id=\"ac1b2d54-14fa-49e1-a1bf-04a189fc9611\" style=\"height: 525px; width: 100%;\" class=\"plotly-graph-div\"></div><script type=\"text/javascript\">require([\"plotly\"], function(Plotly) { window.PLOTLYENV=window.PLOTLYENV || {};window.PLOTLYENV.BASE_URL=\"https://plot.ly\";Plotly.newPlot(\"ac1b2d54-14fa-49e1-a1bf-04a189fc9611\", [{\"type\": \"bar\", \"x\": [\"na\", \"know\", \"remove\", \"call\", \"check\", \"earth911\", \"keep\", \"reduce\", \"contact\", \"ensure\", \"nawww.chicagorecycles.org\", \"obtain\", \"identify\", \"provide\", \"pay\"], \"y\": [79, 26, 19, 13, 13, 10, 9, 9, 7, 6, 6, 5, 5, 5, 5], \"text\": [79, 26, 19, 13, 13, 10, 9, 9, 7, 6, 6, 5, 5, 5, 5], \"textposition\": \"outside\", \"opacity\": 1}], {\"title\": \"<b>Verbs for Department of Streets and Sanitation</b><br>\", \"xaxis\": {\"title\": \"\", \"tickfont\": {\"size\": 14, \"color\": \"rgb(107, 107, 107)\"}}, \"yaxis\": {\"title\": \"\", \"titlefont\": {\"size\": 16, \"color\": \"rgb(107, 107, 107)\"}, \"tickfont\": {\"size\": 14, \"color\": \"rgb(107, 107, 107)\"}}}, {\"showLink\": true, \"linkText\": \"Export to plot.ly\"})});</script>"
      ]
     },
     "metadata": {},
     "output_type": "display_data"
    },
    {
     "data": {
      "application/vnd.plotly.v1+json": {
       "data": [
        {
         "opacity": 1,
         "text": [
          12,
          11,
          7,
          6,
          6,
          6,
          5,
          5,
          4,
          4,
          4,
          4,
          3,
          3,
          3
         ],
         "textposition": "outside",
         "type": "bar",
         "x": [
          "ensure",
          "obtain",
          "get",
          "like",
          "ask",
          "take",
          "provide",
          "include",
          "identify",
          "establish",
          "make",
          "allow",
          "call",
          "reach",
          "consider"
         ],
         "y": [
          12,
          11,
          7,
          6,
          6,
          6,
          5,
          5,
          4,
          4,
          4,
          4,
          3,
          3,
          3
         ]
        }
       ],
       "layout": {
        "title": "<b>Verbs for Mayor's Office for People with Disabilities</b><br>",
        "xaxis": {
         "tickfont": {
          "color": "rgb(107, 107, 107)",
          "size": 14
         },
         "title": ""
        },
        "yaxis": {
         "tickfont": {
          "color": "rgb(107, 107, 107)",
          "size": 14
         },
         "title": "",
         "titlefont": {
          "color": "rgb(107, 107, 107)",
          "size": 16
         }
        }
       }
      },
      "text/html": [
       "<div id=\"6a4d371a-b04f-4810-8eb3-4afa649b1e3c\" style=\"height: 525px; width: 100%;\" class=\"plotly-graph-div\"></div><script type=\"text/javascript\">require([\"plotly\"], function(Plotly) { window.PLOTLYENV=window.PLOTLYENV || {};window.PLOTLYENV.BASE_URL=\"https://plot.ly\";Plotly.newPlot(\"6a4d371a-b04f-4810-8eb3-4afa649b1e3c\", [{\"type\": \"bar\", \"x\": [\"ensure\", \"obtain\", \"get\", \"like\", \"ask\", \"take\", \"provide\", \"include\", \"identify\", \"establish\", \"make\", \"allow\", \"call\", \"reach\", \"consider\"], \"y\": [12, 11, 7, 6, 6, 6, 5, 5, 4, 4, 4, 4, 3, 3, 3], \"text\": [12, 11, 7, 6, 6, 6, 5, 5, 4, 4, 4, 4, 3, 3, 3], \"textposition\": \"outside\", \"opacity\": 1}], {\"title\": \"<b>Verbs for Mayor's Office for People with Disabilities</b><br>\", \"xaxis\": {\"title\": \"\", \"tickfont\": {\"size\": 14, \"color\": \"rgb(107, 107, 107)\"}}, \"yaxis\": {\"title\": \"\", \"titlefont\": {\"size\": 16, \"color\": \"rgb(107, 107, 107)\"}, \"tickfont\": {\"size\": 14, \"color\": \"rgb(107, 107, 107)\"}}}, {\"showLink\": true, \"linkText\": \"Export to plot.ly\"})});</script>"
      ],
      "text/vnd.plotly.v1+html": [
       "<div id=\"6a4d371a-b04f-4810-8eb3-4afa649b1e3c\" style=\"height: 525px; width: 100%;\" class=\"plotly-graph-div\"></div><script type=\"text/javascript\">require([\"plotly\"], function(Plotly) { window.PLOTLYENV=window.PLOTLYENV || {};window.PLOTLYENV.BASE_URL=\"https://plot.ly\";Plotly.newPlot(\"6a4d371a-b04f-4810-8eb3-4afa649b1e3c\", [{\"type\": \"bar\", \"x\": [\"ensure\", \"obtain\", \"get\", \"like\", \"ask\", \"take\", \"provide\", \"include\", \"identify\", \"establish\", \"make\", \"allow\", \"call\", \"reach\", \"consider\"], \"y\": [12, 11, 7, 6, 6, 6, 5, 5, 4, 4, 4, 4, 3, 3, 3], \"text\": [12, 11, 7, 6, 6, 6, 5, 5, 4, 4, 4, 4, 3, 3, 3], \"textposition\": \"outside\", \"opacity\": 1}], {\"title\": \"<b>Verbs for Mayor's Office for People with Disabilities</b><br>\", \"xaxis\": {\"title\": \"\", \"tickfont\": {\"size\": 14, \"color\": \"rgb(107, 107, 107)\"}}, \"yaxis\": {\"title\": \"\", \"titlefont\": {\"size\": 16, \"color\": \"rgb(107, 107, 107)\"}, \"tickfont\": {\"size\": 14, \"color\": \"rgb(107, 107, 107)\"}}}, {\"showLink\": true, \"linkText\": \"Export to plot.ly\"})});</script>"
      ]
     },
     "metadata": {},
     "output_type": "display_data"
    },
    {
     "data": {
      "application/vnd.plotly.v1+json": {
       "data": [
        {
         "opacity": 1,
         "text": [
          37,
          29,
          27,
          25,
          15,
          11,
          11,
          11,
          10,
          10,
          9,
          9,
          8,
          8,
          8
         ],
         "textposition": "outside",
         "type": "bar",
         "x": [
          "printed",
          "pay",
          "obtain",
          "apply",
          "ensure",
          "like",
          "get",
          "take",
          "paid",
          "made",
          "park",
          "call",
          "contest",
          "keep",
          "check"
         ],
         "y": [
          37,
          29,
          27,
          25,
          15,
          11,
          11,
          11,
          10,
          10,
          9,
          9,
          8,
          8,
          8
         ]
        }
       ],
       "layout": {
        "title": "<b>Verbs for Department of Finance</b><br>",
        "xaxis": {
         "tickfont": {
          "color": "rgb(107, 107, 107)",
          "size": 14
         },
         "title": ""
        },
        "yaxis": {
         "tickfont": {
          "color": "rgb(107, 107, 107)",
          "size": 14
         },
         "title": "",
         "titlefont": {
          "color": "rgb(107, 107, 107)",
          "size": 16
         }
        }
       }
      },
      "text/html": [
       "<div id=\"eab7ffcd-dd38-4317-a4a8-32025cda98b4\" style=\"height: 525px; width: 100%;\" class=\"plotly-graph-div\"></div><script type=\"text/javascript\">require([\"plotly\"], function(Plotly) { window.PLOTLYENV=window.PLOTLYENV || {};window.PLOTLYENV.BASE_URL=\"https://plot.ly\";Plotly.newPlot(\"eab7ffcd-dd38-4317-a4a8-32025cda98b4\", [{\"type\": \"bar\", \"x\": [\"printed\", \"pay\", \"obtain\", \"apply\", \"ensure\", \"like\", \"get\", \"take\", \"paid\", \"made\", \"park\", \"call\", \"contest\", \"keep\", \"check\"], \"y\": [37, 29, 27, 25, 15, 11, 11, 11, 10, 10, 9, 9, 8, 8, 8], \"text\": [37, 29, 27, 25, 15, 11, 11, 11, 10, 10, 9, 9, 8, 8, 8], \"textposition\": \"outside\", \"opacity\": 1}], {\"title\": \"<b>Verbs for Department of Finance</b><br>\", \"xaxis\": {\"title\": \"\", \"tickfont\": {\"size\": 14, \"color\": \"rgb(107, 107, 107)\"}}, \"yaxis\": {\"title\": \"\", \"titlefont\": {\"size\": 16, \"color\": \"rgb(107, 107, 107)\"}, \"tickfont\": {\"size\": 14, \"color\": \"rgb(107, 107, 107)\"}}}, {\"showLink\": true, \"linkText\": \"Export to plot.ly\"})});</script>"
      ],
      "text/vnd.plotly.v1+html": [
       "<div id=\"eab7ffcd-dd38-4317-a4a8-32025cda98b4\" style=\"height: 525px; width: 100%;\" class=\"plotly-graph-div\"></div><script type=\"text/javascript\">require([\"plotly\"], function(Plotly) { window.PLOTLYENV=window.PLOTLYENV || {};window.PLOTLYENV.BASE_URL=\"https://plot.ly\";Plotly.newPlot(\"eab7ffcd-dd38-4317-a4a8-32025cda98b4\", [{\"type\": \"bar\", \"x\": [\"printed\", \"pay\", \"obtain\", \"apply\", \"ensure\", \"like\", \"get\", \"take\", \"paid\", \"made\", \"park\", \"call\", \"contest\", \"keep\", \"check\"], \"y\": [37, 29, 27, 25, 15, 11, 11, 11, 10, 10, 9, 9, 8, 8, 8], \"text\": [37, 29, 27, 25, 15, 11, 11, 11, 10, 10, 9, 9, 8, 8, 8], \"textposition\": \"outside\", \"opacity\": 1}], {\"title\": \"<b>Verbs for Department of Finance</b><br>\", \"xaxis\": {\"title\": \"\", \"tickfont\": {\"size\": 14, \"color\": \"rgb(107, 107, 107)\"}}, \"yaxis\": {\"title\": \"\", \"titlefont\": {\"size\": 16, \"color\": \"rgb(107, 107, 107)\"}, \"tickfont\": {\"size\": 14, \"color\": \"rgb(107, 107, 107)\"}}}, {\"showLink\": true, \"linkText\": \"Export to plot.ly\"})});</script>"
      ]
     },
     "metadata": {},
     "output_type": "display_data"
    },
    {
     "data": {
      "application/vnd.plotly.v1+json": {
       "data": [
        {
         "opacity": 1,
         "text": [
          191,
          36,
          27,
          26,
          26,
          20,
          17,
          17,
          14,
          14,
          13,
          13,
          12,
          12,
          11
         ],
         "textposition": "outside",
         "type": "bar",
         "x": [
          "remove",
          "improve",
          "provide",
          "ensure",
          "include",
          "submit",
          "replace",
          "june",
          "establish",
          "meet",
          "reduce",
          "map",
          "apply",
          "required",
          "support"
         ],
         "y": [
          191,
          36,
          27,
          26,
          26,
          20,
          17,
          17,
          14,
          14,
          13,
          13,
          12,
          12,
          11
         ]
        }
       ],
       "layout": {
        "title": "<b>Verbs for Department of Planning and Development</b><br>",
        "xaxis": {
         "tickfont": {
          "color": "rgb(107, 107, 107)",
          "size": 14
         },
         "title": ""
        },
        "yaxis": {
         "tickfont": {
          "color": "rgb(107, 107, 107)",
          "size": 14
         },
         "title": "",
         "titlefont": {
          "color": "rgb(107, 107, 107)",
          "size": 16
         }
        }
       }
      },
      "text/html": [
       "<div id=\"e3465bcd-4b2b-4acf-842c-7f6ab349e88d\" style=\"height: 525px; width: 100%;\" class=\"plotly-graph-div\"></div><script type=\"text/javascript\">require([\"plotly\"], function(Plotly) { window.PLOTLYENV=window.PLOTLYENV || {};window.PLOTLYENV.BASE_URL=\"https://plot.ly\";Plotly.newPlot(\"e3465bcd-4b2b-4acf-842c-7f6ab349e88d\", [{\"type\": \"bar\", \"x\": [\"remove\", \"improve\", \"provide\", \"ensure\", \"include\", \"submit\", \"replace\", \"june\", \"establish\", \"meet\", \"reduce\", \"map\", \"apply\", \"required\", \"support\"], \"y\": [191, 36, 27, 26, 26, 20, 17, 17, 14, 14, 13, 13, 12, 12, 11], \"text\": [191, 36, 27, 26, 26, 20, 17, 17, 14, 14, 13, 13, 12, 12, 11], \"textposition\": \"outside\", \"opacity\": 1}], {\"title\": \"<b>Verbs for Department of Planning and Development</b><br>\", \"xaxis\": {\"title\": \"\", \"tickfont\": {\"size\": 14, \"color\": \"rgb(107, 107, 107)\"}}, \"yaxis\": {\"title\": \"\", \"titlefont\": {\"size\": 16, \"color\": \"rgb(107, 107, 107)\"}, \"tickfont\": {\"size\": 14, \"color\": \"rgb(107, 107, 107)\"}}}, {\"showLink\": true, \"linkText\": \"Export to plot.ly\"})});</script>"
      ],
      "text/vnd.plotly.v1+html": [
       "<div id=\"e3465bcd-4b2b-4acf-842c-7f6ab349e88d\" style=\"height: 525px; width: 100%;\" class=\"plotly-graph-div\"></div><script type=\"text/javascript\">require([\"plotly\"], function(Plotly) { window.PLOTLYENV=window.PLOTLYENV || {};window.PLOTLYENV.BASE_URL=\"https://plot.ly\";Plotly.newPlot(\"e3465bcd-4b2b-4acf-842c-7f6ab349e88d\", [{\"type\": \"bar\", \"x\": [\"remove\", \"improve\", \"provide\", \"ensure\", \"include\", \"submit\", \"replace\", \"june\", \"establish\", \"meet\", \"reduce\", \"map\", \"apply\", \"required\", \"support\"], \"y\": [191, 36, 27, 26, 26, 20, 17, 17, 14, 14, 13, 13, 12, 12, 11], \"text\": [191, 36, 27, 26, 26, 20, 17, 17, 14, 14, 13, 13, 12, 12, 11], \"textposition\": \"outside\", \"opacity\": 1}], {\"title\": \"<b>Verbs for Department of Planning and Development</b><br>\", \"xaxis\": {\"title\": \"\", \"tickfont\": {\"size\": 14, \"color\": \"rgb(107, 107, 107)\"}}, \"yaxis\": {\"title\": \"\", \"titlefont\": {\"size\": 16, \"color\": \"rgb(107, 107, 107)\"}, \"tickfont\": {\"size\": 14, \"color\": \"rgb(107, 107, 107)\"}}}, {\"showLink\": true, \"linkText\": \"Export to plot.ly\"})});</script>"
      ]
     },
     "metadata": {},
     "output_type": "display_data"
    },
    {
     "data": {
      "application/vnd.plotly.v1+json": {
       "data": [
        {
         "opacity": 1,
         "text": [
          21,
          16,
          16,
          9,
          9,
          9,
          9,
          8,
          8,
          8,
          8,
          7,
          7,
          6,
          6
         ],
         "textposition": "outside",
         "type": "bar",
         "x": [
          "improve",
          "reduce",
          "ensure",
          "include",
          "see",
          "obtain",
          "submit",
          "identify",
          "stop",
          "make",
          "provide",
          "minimize",
          "get",
          "replace",
          "meet"
         ],
         "y": [
          21,
          16,
          16,
          9,
          9,
          9,
          9,
          8,
          8,
          8,
          8,
          7,
          7,
          6,
          6
         ]
        }
       ],
       "layout": {
        "title": "<b>Verbs for Department of Transportation</b><br>",
        "xaxis": {
         "tickfont": {
          "color": "rgb(107, 107, 107)",
          "size": 14
         },
         "title": ""
        },
        "yaxis": {
         "tickfont": {
          "color": "rgb(107, 107, 107)",
          "size": 14
         },
         "title": "",
         "titlefont": {
          "color": "rgb(107, 107, 107)",
          "size": 16
         }
        }
       }
      },
      "text/html": [
       "<div id=\"80b2dba6-73d0-4328-8edf-f46f82377127\" style=\"height: 525px; width: 100%;\" class=\"plotly-graph-div\"></div><script type=\"text/javascript\">require([\"plotly\"], function(Plotly) { window.PLOTLYENV=window.PLOTLYENV || {};window.PLOTLYENV.BASE_URL=\"https://plot.ly\";Plotly.newPlot(\"80b2dba6-73d0-4328-8edf-f46f82377127\", [{\"type\": \"bar\", \"x\": [\"improve\", \"reduce\", \"ensure\", \"include\", \"see\", \"obtain\", \"submit\", \"identify\", \"stop\", \"make\", \"provide\", \"minimize\", \"get\", \"replace\", \"meet\"], \"y\": [21, 16, 16, 9, 9, 9, 9, 8, 8, 8, 8, 7, 7, 6, 6], \"text\": [21, 16, 16, 9, 9, 9, 9, 8, 8, 8, 8, 7, 7, 6, 6], \"textposition\": \"outside\", \"opacity\": 1}], {\"title\": \"<b>Verbs for Department of Transportation</b><br>\", \"xaxis\": {\"title\": \"\", \"tickfont\": {\"size\": 14, \"color\": \"rgb(107, 107, 107)\"}}, \"yaxis\": {\"title\": \"\", \"titlefont\": {\"size\": 16, \"color\": \"rgb(107, 107, 107)\"}, \"tickfont\": {\"size\": 14, \"color\": \"rgb(107, 107, 107)\"}}}, {\"showLink\": true, \"linkText\": \"Export to plot.ly\"})});</script>"
      ],
      "text/vnd.plotly.v1+html": [
       "<div id=\"80b2dba6-73d0-4328-8edf-f46f82377127\" style=\"height: 525px; width: 100%;\" class=\"plotly-graph-div\"></div><script type=\"text/javascript\">require([\"plotly\"], function(Plotly) { window.PLOTLYENV=window.PLOTLYENV || {};window.PLOTLYENV.BASE_URL=\"https://plot.ly\";Plotly.newPlot(\"80b2dba6-73d0-4328-8edf-f46f82377127\", [{\"type\": \"bar\", \"x\": [\"improve\", \"reduce\", \"ensure\", \"include\", \"see\", \"obtain\", \"submit\", \"identify\", \"stop\", \"make\", \"provide\", \"minimize\", \"get\", \"replace\", \"meet\"], \"y\": [21, 16, 16, 9, 9, 9, 9, 8, 8, 8, 8, 7, 7, 6, 6], \"text\": [21, 16, 16, 9, 9, 9, 9, 8, 8, 8, 8, 7, 7, 6, 6], \"textposition\": \"outside\", \"opacity\": 1}], {\"title\": \"<b>Verbs for Department of Transportation</b><br>\", \"xaxis\": {\"title\": \"\", \"tickfont\": {\"size\": 14, \"color\": \"rgb(107, 107, 107)\"}}, \"yaxis\": {\"title\": \"\", \"titlefont\": {\"size\": 16, \"color\": \"rgb(107, 107, 107)\"}, \"tickfont\": {\"size\": 14, \"color\": \"rgb(107, 107, 107)\"}}}, {\"showLink\": true, \"linkText\": \"Export to plot.ly\"})});</script>"
      ]
     },
     "metadata": {},
     "output_type": "display_data"
    },
    {
     "data": {
      "application/vnd.plotly.v1+json": {
       "data": [
        {
         "opacity": 1,
         "text": [
          21,
          10,
          10,
          8,
          7,
          6,
          6,
          6,
          5,
          5,
          4,
          4,
          4,
          4,
          4
         ],
         "textposition": "outside",
         "type": "bar",
         "x": [
          "prebid",
          "rfq",
          "june",
          "replace",
          "provide",
          "rfp",
          "ensure",
          "take",
          "december",
          "check",
          "like",
          "start",
          "enterprise",
          "buy",
          "request"
         ],
         "y": [
          21,
          10,
          10,
          8,
          7,
          6,
          6,
          6,
          5,
          5,
          4,
          4,
          4,
          4,
          4
         ]
        }
       ],
       "layout": {
        "title": "<b>Verbs for Department of Procurement Services</b><br>",
        "xaxis": {
         "tickfont": {
          "color": "rgb(107, 107, 107)",
          "size": 14
         },
         "title": ""
        },
        "yaxis": {
         "tickfont": {
          "color": "rgb(107, 107, 107)",
          "size": 14
         },
         "title": "",
         "titlefont": {
          "color": "rgb(107, 107, 107)",
          "size": 16
         }
        }
       }
      },
      "text/html": [
       "<div id=\"68ef4292-9797-494c-891f-4e235ee3c23a\" style=\"height: 525px; width: 100%;\" class=\"plotly-graph-div\"></div><script type=\"text/javascript\">require([\"plotly\"], function(Plotly) { window.PLOTLYENV=window.PLOTLYENV || {};window.PLOTLYENV.BASE_URL=\"https://plot.ly\";Plotly.newPlot(\"68ef4292-9797-494c-891f-4e235ee3c23a\", [{\"type\": \"bar\", \"x\": [\"prebid\", \"rfq\", \"june\", \"replace\", \"provide\", \"rfp\", \"ensure\", \"take\", \"december\", \"check\", \"like\", \"start\", \"enterprise\", \"buy\", \"request\"], \"y\": [21, 10, 10, 8, 7, 6, 6, 6, 5, 5, 4, 4, 4, 4, 4], \"text\": [21, 10, 10, 8, 7, 6, 6, 6, 5, 5, 4, 4, 4, 4, 4], \"textposition\": \"outside\", \"opacity\": 1}], {\"title\": \"<b>Verbs for Department of Procurement Services</b><br>\", \"xaxis\": {\"title\": \"\", \"tickfont\": {\"size\": 14, \"color\": \"rgb(107, 107, 107)\"}}, \"yaxis\": {\"title\": \"\", \"titlefont\": {\"size\": 16, \"color\": \"rgb(107, 107, 107)\"}, \"tickfont\": {\"size\": 14, \"color\": \"rgb(107, 107, 107)\"}}}, {\"showLink\": true, \"linkText\": \"Export to plot.ly\"})});</script>"
      ],
      "text/vnd.plotly.v1+html": [
       "<div id=\"68ef4292-9797-494c-891f-4e235ee3c23a\" style=\"height: 525px; width: 100%;\" class=\"plotly-graph-div\"></div><script type=\"text/javascript\">require([\"plotly\"], function(Plotly) { window.PLOTLYENV=window.PLOTLYENV || {};window.PLOTLYENV.BASE_URL=\"https://plot.ly\";Plotly.newPlot(\"68ef4292-9797-494c-891f-4e235ee3c23a\", [{\"type\": \"bar\", \"x\": [\"prebid\", \"rfq\", \"june\", \"replace\", \"provide\", \"rfp\", \"ensure\", \"take\", \"december\", \"check\", \"like\", \"start\", \"enterprise\", \"buy\", \"request\"], \"y\": [21, 10, 10, 8, 7, 6, 6, 6, 5, 5, 4, 4, 4, 4, 4], \"text\": [21, 10, 10, 8, 7, 6, 6, 6, 5, 5, 4, 4, 4, 4, 4], \"textposition\": \"outside\", \"opacity\": 1}], {\"title\": \"<b>Verbs for Department of Procurement Services</b><br>\", \"xaxis\": {\"title\": \"\", \"tickfont\": {\"size\": 14, \"color\": \"rgb(107, 107, 107)\"}}, \"yaxis\": {\"title\": \"\", \"titlefont\": {\"size\": 16, \"color\": \"rgb(107, 107, 107)\"}, \"tickfont\": {\"size\": 14, \"color\": \"rgb(107, 107, 107)\"}}}, {\"showLink\": true, \"linkText\": \"Export to plot.ly\"})});</script>"
      ]
     },
     "metadata": {},
     "output_type": "display_data"
    },
    {
     "data": {
      "application/vnd.plotly.v1+json": {
       "data": [
        {
         "opacity": 1,
         "text": [
          7,
          4,
          3,
          2,
          2,
          2,
          2,
          2,
          1,
          1,
          1,
          1,
          1,
          1,
          1
         ],
         "textposition": "outside",
         "type": "bar",
         "x": [
          "reduce",
          "remove",
          "rooftop",
          "obtain",
          "lessen",
          "eliminate",
          "include",
          "like",
          "acquire",
          "pay",
          "reuse",
          "begin",
          "improve",
          "build",
          "keep"
         ],
         "y": [
          7,
          4,
          3,
          2,
          2,
          2,
          2,
          2,
          1,
          1,
          1,
          1,
          1,
          1,
          1
         ]
        }
       ],
       "layout": {
        "title": "<b>Verbs for Department of Fleet and Facility Management</b><br>",
        "xaxis": {
         "tickfont": {
          "color": "rgb(107, 107, 107)",
          "size": 14
         },
         "title": ""
        },
        "yaxis": {
         "tickfont": {
          "color": "rgb(107, 107, 107)",
          "size": 14
         },
         "title": "",
         "titlefont": {
          "color": "rgb(107, 107, 107)",
          "size": 16
         }
        }
       }
      },
      "text/html": [
       "<div id=\"e774dda0-b265-4a57-985f-f2e322d491c4\" style=\"height: 525px; width: 100%;\" class=\"plotly-graph-div\"></div><script type=\"text/javascript\">require([\"plotly\"], function(Plotly) { window.PLOTLYENV=window.PLOTLYENV || {};window.PLOTLYENV.BASE_URL=\"https://plot.ly\";Plotly.newPlot(\"e774dda0-b265-4a57-985f-f2e322d491c4\", [{\"type\": \"bar\", \"x\": [\"reduce\", \"remove\", \"rooftop\", \"obtain\", \"lessen\", \"eliminate\", \"include\", \"like\", \"acquire\", \"pay\", \"reuse\", \"begin\", \"improve\", \"build\", \"keep\"], \"y\": [7, 4, 3, 2, 2, 2, 2, 2, 1, 1, 1, 1, 1, 1, 1], \"text\": [7, 4, 3, 2, 2, 2, 2, 2, 1, 1, 1, 1, 1, 1, 1], \"textposition\": \"outside\", \"opacity\": 1}], {\"title\": \"<b>Verbs for Department of Fleet and Facility Management</b><br>\", \"xaxis\": {\"title\": \"\", \"tickfont\": {\"size\": 14, \"color\": \"rgb(107, 107, 107)\"}}, \"yaxis\": {\"title\": \"\", \"titlefont\": {\"size\": 16, \"color\": \"rgb(107, 107, 107)\"}, \"tickfont\": {\"size\": 14, \"color\": \"rgb(107, 107, 107)\"}}}, {\"showLink\": true, \"linkText\": \"Export to plot.ly\"})});</script>"
      ],
      "text/vnd.plotly.v1+html": [
       "<div id=\"e774dda0-b265-4a57-985f-f2e322d491c4\" style=\"height: 525px; width: 100%;\" class=\"plotly-graph-div\"></div><script type=\"text/javascript\">require([\"plotly\"], function(Plotly) { window.PLOTLYENV=window.PLOTLYENV || {};window.PLOTLYENV.BASE_URL=\"https://plot.ly\";Plotly.newPlot(\"e774dda0-b265-4a57-985f-f2e322d491c4\", [{\"type\": \"bar\", \"x\": [\"reduce\", \"remove\", \"rooftop\", \"obtain\", \"lessen\", \"eliminate\", \"include\", \"like\", \"acquire\", \"pay\", \"reuse\", \"begin\", \"improve\", \"build\", \"keep\"], \"y\": [7, 4, 3, 2, 2, 2, 2, 2, 1, 1, 1, 1, 1, 1, 1], \"text\": [7, 4, 3, 2, 2, 2, 2, 2, 1, 1, 1, 1, 1, 1, 1], \"textposition\": \"outside\", \"opacity\": 1}], {\"title\": \"<b>Verbs for Department of Fleet and Facility Management</b><br>\", \"xaxis\": {\"title\": \"\", \"tickfont\": {\"size\": 14, \"color\": \"rgb(107, 107, 107)\"}}, \"yaxis\": {\"title\": \"\", \"titlefont\": {\"size\": 16, \"color\": \"rgb(107, 107, 107)\"}, \"tickfont\": {\"size\": 14, \"color\": \"rgb(107, 107, 107)\"}}}, {\"showLink\": true, \"linkText\": \"Export to plot.ly\"})});</script>"
      ]
     },
     "metadata": {},
     "output_type": "display_data"
    },
    {
     "data": {
      "application/vnd.plotly.v1+json": {
       "data": [
        {
         "opacity": 1,
         "text": [
          7,
          5,
          5,
          5,
          5,
          5,
          5,
          5,
          4,
          4,
          4,
          4,
          3,
          3,
          3
         ],
         "textposition": "outside",
         "type": "bar",
         "x": [
          "settle",
          "identify",
          "include",
          "see",
          "keep",
          "take",
          "prepare",
          "file",
          "occurred",
          "receive",
          "make",
          "need",
          "reduce",
          "develop",
          "cotten"
         ],
         "y": [
          7,
          5,
          5,
          5,
          5,
          5,
          5,
          5,
          4,
          4,
          4,
          4,
          3,
          3,
          3
         ]
        }
       ],
       "layout": {
        "title": "<b>Verbs for Commission on Human Relations</b><br>",
        "xaxis": {
         "tickfont": {
          "color": "rgb(107, 107, 107)",
          "size": 14
         },
         "title": ""
        },
        "yaxis": {
         "tickfont": {
          "color": "rgb(107, 107, 107)",
          "size": 14
         },
         "title": "",
         "titlefont": {
          "color": "rgb(107, 107, 107)",
          "size": 16
         }
        }
       }
      },
      "text/html": [
       "<div id=\"19cc543d-25c0-40de-a989-4da88c9cd9bb\" style=\"height: 525px; width: 100%;\" class=\"plotly-graph-div\"></div><script type=\"text/javascript\">require([\"plotly\"], function(Plotly) { window.PLOTLYENV=window.PLOTLYENV || {};window.PLOTLYENV.BASE_URL=\"https://plot.ly\";Plotly.newPlot(\"19cc543d-25c0-40de-a989-4da88c9cd9bb\", [{\"type\": \"bar\", \"x\": [\"settle\", \"identify\", \"include\", \"see\", \"keep\", \"take\", \"prepare\", \"file\", \"occurred\", \"receive\", \"make\", \"need\", \"reduce\", \"develop\", \"cotten\"], \"y\": [7, 5, 5, 5, 5, 5, 5, 5, 4, 4, 4, 4, 3, 3, 3], \"text\": [7, 5, 5, 5, 5, 5, 5, 5, 4, 4, 4, 4, 3, 3, 3], \"textposition\": \"outside\", \"opacity\": 1}], {\"title\": \"<b>Verbs for Commission on Human Relations</b><br>\", \"xaxis\": {\"title\": \"\", \"tickfont\": {\"size\": 14, \"color\": \"rgb(107, 107, 107)\"}}, \"yaxis\": {\"title\": \"\", \"titlefont\": {\"size\": 16, \"color\": \"rgb(107, 107, 107)\"}, \"tickfont\": {\"size\": 14, \"color\": \"rgb(107, 107, 107)\"}}}, {\"showLink\": true, \"linkText\": \"Export to plot.ly\"})});</script>"
      ],
      "text/vnd.plotly.v1+html": [
       "<div id=\"19cc543d-25c0-40de-a989-4da88c9cd9bb\" style=\"height: 525px; width: 100%;\" class=\"plotly-graph-div\"></div><script type=\"text/javascript\">require([\"plotly\"], function(Plotly) { window.PLOTLYENV=window.PLOTLYENV || {};window.PLOTLYENV.BASE_URL=\"https://plot.ly\";Plotly.newPlot(\"19cc543d-25c0-40de-a989-4da88c9cd9bb\", [{\"type\": \"bar\", \"x\": [\"settle\", \"identify\", \"include\", \"see\", \"keep\", \"take\", \"prepare\", \"file\", \"occurred\", \"receive\", \"make\", \"need\", \"reduce\", \"develop\", \"cotten\"], \"y\": [7, 5, 5, 5, 5, 5, 5, 5, 4, 4, 4, 4, 3, 3, 3], \"text\": [7, 5, 5, 5, 5, 5, 5, 5, 4, 4, 4, 4, 3, 3, 3], \"textposition\": \"outside\", \"opacity\": 1}], {\"title\": \"<b>Verbs for Commission on Human Relations</b><br>\", \"xaxis\": {\"title\": \"\", \"tickfont\": {\"size\": 14, \"color\": \"rgb(107, 107, 107)\"}}, \"yaxis\": {\"title\": \"\", \"titlefont\": {\"size\": 16, \"color\": \"rgb(107, 107, 107)\"}, \"tickfont\": {\"size\": 14, \"color\": \"rgb(107, 107, 107)\"}}}, {\"showLink\": true, \"linkText\": \"Export to plot.ly\"})});</script>"
      ]
     },
     "metadata": {},
     "output_type": "display_data"
    },
    {
     "data": {
      "application/vnd.plotly.v1+json": {
       "data": [
        {
         "opacity": 1,
         "text": [
          2,
          1,
          1,
          1,
          1,
          1,
          1,
          1,
          1
         ],
         "textposition": "outside",
         "type": "bar",
         "x": [
          "improve",
          "include",
          "copa",
          "reduce",
          "police",
          "cook",
          "hill",
          "develop",
          "ensure"
         ],
         "y": [
          2,
          1,
          1,
          1,
          1,
          1,
          1,
          1,
          1
         ]
        }
       ],
       "layout": {
        "title": "<b>Verbs for Civilian Office of Police Accountability</b><br>",
        "xaxis": {
         "tickfont": {
          "color": "rgb(107, 107, 107)",
          "size": 14
         },
         "title": ""
        },
        "yaxis": {
         "tickfont": {
          "color": "rgb(107, 107, 107)",
          "size": 14
         },
         "title": "",
         "titlefont": {
          "color": "rgb(107, 107, 107)",
          "size": 16
         }
        }
       }
      },
      "text/html": [
       "<div id=\"dde8fe23-2740-469a-b9f5-36522cc330db\" style=\"height: 525px; width: 100%;\" class=\"plotly-graph-div\"></div><script type=\"text/javascript\">require([\"plotly\"], function(Plotly) { window.PLOTLYENV=window.PLOTLYENV || {};window.PLOTLYENV.BASE_URL=\"https://plot.ly\";Plotly.newPlot(\"dde8fe23-2740-469a-b9f5-36522cc330db\", [{\"type\": \"bar\", \"x\": [\"improve\", \"include\", \"copa\", \"reduce\", \"police\", \"cook\", \"hill\", \"develop\", \"ensure\"], \"y\": [2, 1, 1, 1, 1, 1, 1, 1, 1], \"text\": [2, 1, 1, 1, 1, 1, 1, 1, 1], \"textposition\": \"outside\", \"opacity\": 1}], {\"title\": \"<b>Verbs for Civilian Office of Police Accountability</b><br>\", \"xaxis\": {\"title\": \"\", \"tickfont\": {\"size\": 14, \"color\": \"rgb(107, 107, 107)\"}}, \"yaxis\": {\"title\": \"\", \"titlefont\": {\"size\": 16, \"color\": \"rgb(107, 107, 107)\"}, \"tickfont\": {\"size\": 14, \"color\": \"rgb(107, 107, 107)\"}}}, {\"showLink\": true, \"linkText\": \"Export to plot.ly\"})});</script>"
      ],
      "text/vnd.plotly.v1+html": [
       "<div id=\"dde8fe23-2740-469a-b9f5-36522cc330db\" style=\"height: 525px; width: 100%;\" class=\"plotly-graph-div\"></div><script type=\"text/javascript\">require([\"plotly\"], function(Plotly) { window.PLOTLYENV=window.PLOTLYENV || {};window.PLOTLYENV.BASE_URL=\"https://plot.ly\";Plotly.newPlot(\"dde8fe23-2740-469a-b9f5-36522cc330db\", [{\"type\": \"bar\", \"x\": [\"improve\", \"include\", \"copa\", \"reduce\", \"police\", \"cook\", \"hill\", \"develop\", \"ensure\"], \"y\": [2, 1, 1, 1, 1, 1, 1, 1, 1], \"text\": [2, 1, 1, 1, 1, 1, 1, 1, 1], \"textposition\": \"outside\", \"opacity\": 1}], {\"title\": \"<b>Verbs for Civilian Office of Police Accountability</b><br>\", \"xaxis\": {\"title\": \"\", \"tickfont\": {\"size\": 14, \"color\": \"rgb(107, 107, 107)\"}}, \"yaxis\": {\"title\": \"\", \"titlefont\": {\"size\": 16, \"color\": \"rgb(107, 107, 107)\"}, \"tickfont\": {\"size\": 14, \"color\": \"rgb(107, 107, 107)\"}}}, {\"showLink\": true, \"linkText\": \"Export to plot.ly\"})});</script>"
      ]
     },
     "metadata": {},
     "output_type": "display_data"
    },
    {
     "data": {
      "application/vnd.plotly.v1+json": {
       "data": [
        {
         "opacity": 1,
         "text": [
          8,
          7,
          6,
          4,
          3,
          2,
          2,
          2,
          2,
          2,
          2,
          2,
          2,
          2,
          2
         ],
         "textposition": "outside",
         "type": "bar",
         "x": [
          "take",
          "keep",
          "get",
          "check",
          "ensure",
          "require",
          "kitten",
          "june",
          "september",
          "follow",
          "contact",
          "permit",
          "dog",
          "like",
          "improve"
         ],
         "y": [
          8,
          7,
          6,
          4,
          3,
          2,
          2,
          2,
          2,
          2,
          2,
          2,
          2,
          2,
          2
         ]
        }
       ],
       "layout": {
        "title": "<b>Verbs for Department of Animal Care and Control</b><br>",
        "xaxis": {
         "tickfont": {
          "color": "rgb(107, 107, 107)",
          "size": 14
         },
         "title": ""
        },
        "yaxis": {
         "tickfont": {
          "color": "rgb(107, 107, 107)",
          "size": 14
         },
         "title": "",
         "titlefont": {
          "color": "rgb(107, 107, 107)",
          "size": 16
         }
        }
       }
      },
      "text/html": [
       "<div id=\"66605f55-d2c9-40f6-88a7-c294f117f7cd\" style=\"height: 525px; width: 100%;\" class=\"plotly-graph-div\"></div><script type=\"text/javascript\">require([\"plotly\"], function(Plotly) { window.PLOTLYENV=window.PLOTLYENV || {};window.PLOTLYENV.BASE_URL=\"https://plot.ly\";Plotly.newPlot(\"66605f55-d2c9-40f6-88a7-c294f117f7cd\", [{\"type\": \"bar\", \"x\": [\"take\", \"keep\", \"get\", \"check\", \"ensure\", \"require\", \"kitten\", \"june\", \"september\", \"follow\", \"contact\", \"permit\", \"dog\", \"like\", \"improve\"], \"y\": [8, 7, 6, 4, 3, 2, 2, 2, 2, 2, 2, 2, 2, 2, 2], \"text\": [8, 7, 6, 4, 3, 2, 2, 2, 2, 2, 2, 2, 2, 2, 2], \"textposition\": \"outside\", \"opacity\": 1}], {\"title\": \"<b>Verbs for Department of Animal Care and Control</b><br>\", \"xaxis\": {\"title\": \"\", \"tickfont\": {\"size\": 14, \"color\": \"rgb(107, 107, 107)\"}}, \"yaxis\": {\"title\": \"\", \"titlefont\": {\"size\": 16, \"color\": \"rgb(107, 107, 107)\"}, \"tickfont\": {\"size\": 14, \"color\": \"rgb(107, 107, 107)\"}}}, {\"showLink\": true, \"linkText\": \"Export to plot.ly\"})});</script>"
      ],
      "text/vnd.plotly.v1+html": [
       "<div id=\"66605f55-d2c9-40f6-88a7-c294f117f7cd\" style=\"height: 525px; width: 100%;\" class=\"plotly-graph-div\"></div><script type=\"text/javascript\">require([\"plotly\"], function(Plotly) { window.PLOTLYENV=window.PLOTLYENV || {};window.PLOTLYENV.BASE_URL=\"https://plot.ly\";Plotly.newPlot(\"66605f55-d2c9-40f6-88a7-c294f117f7cd\", [{\"type\": \"bar\", \"x\": [\"take\", \"keep\", \"get\", \"check\", \"ensure\", \"require\", \"kitten\", \"june\", \"september\", \"follow\", \"contact\", \"permit\", \"dog\", \"like\", \"improve\"], \"y\": [8, 7, 6, 4, 3, 2, 2, 2, 2, 2, 2, 2, 2, 2, 2], \"text\": [8, 7, 6, 4, 3, 2, 2, 2, 2, 2, 2, 2, 2, 2, 2], \"textposition\": \"outside\", \"opacity\": 1}], {\"title\": \"<b>Verbs for Department of Animal Care and Control</b><br>\", \"xaxis\": {\"title\": \"\", \"tickfont\": {\"size\": 14, \"color\": \"rgb(107, 107, 107)\"}}, \"yaxis\": {\"title\": \"\", \"titlefont\": {\"size\": 16, \"color\": \"rgb(107, 107, 107)\"}, \"tickfont\": {\"size\": 14, \"color\": \"rgb(107, 107, 107)\"}}}, {\"showLink\": true, \"linkText\": \"Export to plot.ly\"})});</script>"
      ]
     },
     "metadata": {},
     "output_type": "display_data"
    },
    {
     "data": {
      "application/vnd.plotly.v1+json": {
       "data": [
        {
         "opacity": 1,
         "text": [
          1,
          1,
          1,
          1,
          1,
          1
         ],
         "textposition": "outside",
         "type": "bar",
         "x": [
          "find",
          "help",
          "include",
          "like",
          "build",
          "present"
         ],
         "y": [
          1,
          1,
          1,
          1,
          1,
          1
         ]
        }
       ],
       "layout": {
        "title": "<b>Verbs for Chicago Police Department</b><br>",
        "xaxis": {
         "tickfont": {
          "color": "rgb(107, 107, 107)",
          "size": 14
         },
         "title": ""
        },
        "yaxis": {
         "tickfont": {
          "color": "rgb(107, 107, 107)",
          "size": 14
         },
         "title": "",
         "titlefont": {
          "color": "rgb(107, 107, 107)",
          "size": 16
         }
        }
       }
      },
      "text/html": [
       "<div id=\"110dd852-de8f-4c15-aed4-5eb685c52fde\" style=\"height: 525px; width: 100%;\" class=\"plotly-graph-div\"></div><script type=\"text/javascript\">require([\"plotly\"], function(Plotly) { window.PLOTLYENV=window.PLOTLYENV || {};window.PLOTLYENV.BASE_URL=\"https://plot.ly\";Plotly.newPlot(\"110dd852-de8f-4c15-aed4-5eb685c52fde\", [{\"type\": \"bar\", \"x\": [\"find\", \"help\", \"include\", \"like\", \"build\", \"present\"], \"y\": [1, 1, 1, 1, 1, 1], \"text\": [1, 1, 1, 1, 1, 1], \"textposition\": \"outside\", \"opacity\": 1}], {\"title\": \"<b>Verbs for Chicago Police Department</b><br>\", \"xaxis\": {\"title\": \"\", \"tickfont\": {\"size\": 14, \"color\": \"rgb(107, 107, 107)\"}}, \"yaxis\": {\"title\": \"\", \"titlefont\": {\"size\": 16, \"color\": \"rgb(107, 107, 107)\"}, \"tickfont\": {\"size\": 14, \"color\": \"rgb(107, 107, 107)\"}}}, {\"showLink\": true, \"linkText\": \"Export to plot.ly\"})});</script>"
      ],
      "text/vnd.plotly.v1+html": [
       "<div id=\"110dd852-de8f-4c15-aed4-5eb685c52fde\" style=\"height: 525px; width: 100%;\" class=\"plotly-graph-div\"></div><script type=\"text/javascript\">require([\"plotly\"], function(Plotly) { window.PLOTLYENV=window.PLOTLYENV || {};window.PLOTLYENV.BASE_URL=\"https://plot.ly\";Plotly.newPlot(\"110dd852-de8f-4c15-aed4-5eb685c52fde\", [{\"type\": \"bar\", \"x\": [\"find\", \"help\", \"include\", \"like\", \"build\", \"present\"], \"y\": [1, 1, 1, 1, 1, 1], \"text\": [1, 1, 1, 1, 1, 1], \"textposition\": \"outside\", \"opacity\": 1}], {\"title\": \"<b>Verbs for Chicago Police Department</b><br>\", \"xaxis\": {\"title\": \"\", \"tickfont\": {\"size\": 14, \"color\": \"rgb(107, 107, 107)\"}}, \"yaxis\": {\"title\": \"\", \"titlefont\": {\"size\": 16, \"color\": \"rgb(107, 107, 107)\"}, \"tickfont\": {\"size\": 14, \"color\": \"rgb(107, 107, 107)\"}}}, {\"showLink\": true, \"linkText\": \"Export to plot.ly\"})});</script>"
      ]
     },
     "metadata": {},
     "output_type": "display_data"
    },
    {
     "data": {
      "application/vnd.plotly.v1+json": {
       "data": [
        {
         "opacity": 1,
         "text": [
          17,
          11,
          10,
          10,
          8,
          8,
          7,
          7,
          7,
          6,
          5,
          4,
          4,
          4,
          3
         ],
         "textposition": "outside",
         "type": "bar",
         "x": [
          "obtain",
          "present",
          "include",
          "provide",
          "comply",
          "designate",
          "take",
          "ensure",
          "meet",
          "enforceable",
          "provided",
          "apply",
          "made",
          "require",
          "paid"
         ],
         "y": [
          17,
          11,
          10,
          10,
          8,
          8,
          7,
          7,
          7,
          6,
          5,
          4,
          4,
          4,
          3
         ]
        }
       ],
       "layout": {
        "title": "<b>Verbs for Chicago Fire Department</b><br>",
        "xaxis": {
         "tickfont": {
          "color": "rgb(107, 107, 107)",
          "size": 14
         },
         "title": ""
        },
        "yaxis": {
         "tickfont": {
          "color": "rgb(107, 107, 107)",
          "size": 14
         },
         "title": "",
         "titlefont": {
          "color": "rgb(107, 107, 107)",
          "size": 16
         }
        }
       }
      },
      "text/html": [
       "<div id=\"de3137c1-5e79-4e94-b247-6713f3821c26\" style=\"height: 525px; width: 100%;\" class=\"plotly-graph-div\"></div><script type=\"text/javascript\">require([\"plotly\"], function(Plotly) { window.PLOTLYENV=window.PLOTLYENV || {};window.PLOTLYENV.BASE_URL=\"https://plot.ly\";Plotly.newPlot(\"de3137c1-5e79-4e94-b247-6713f3821c26\", [{\"type\": \"bar\", \"x\": [\"obtain\", \"present\", \"include\", \"provide\", \"comply\", \"designate\", \"take\", \"ensure\", \"meet\", \"enforceable\", \"provided\", \"apply\", \"made\", \"require\", \"paid\"], \"y\": [17, 11, 10, 10, 8, 8, 7, 7, 7, 6, 5, 4, 4, 4, 3], \"text\": [17, 11, 10, 10, 8, 8, 7, 7, 7, 6, 5, 4, 4, 4, 3], \"textposition\": \"outside\", \"opacity\": 1}], {\"title\": \"<b>Verbs for Chicago Fire Department</b><br>\", \"xaxis\": {\"title\": \"\", \"tickfont\": {\"size\": 14, \"color\": \"rgb(107, 107, 107)\"}}, \"yaxis\": {\"title\": \"\", \"titlefont\": {\"size\": 16, \"color\": \"rgb(107, 107, 107)\"}, \"tickfont\": {\"size\": 14, \"color\": \"rgb(107, 107, 107)\"}}}, {\"showLink\": true, \"linkText\": \"Export to plot.ly\"})});</script>"
      ],
      "text/vnd.plotly.v1+html": [
       "<div id=\"de3137c1-5e79-4e94-b247-6713f3821c26\" style=\"height: 525px; width: 100%;\" class=\"plotly-graph-div\"></div><script type=\"text/javascript\">require([\"plotly\"], function(Plotly) { window.PLOTLYENV=window.PLOTLYENV || {};window.PLOTLYENV.BASE_URL=\"https://plot.ly\";Plotly.newPlot(\"de3137c1-5e79-4e94-b247-6713f3821c26\", [{\"type\": \"bar\", \"x\": [\"obtain\", \"present\", \"include\", \"provide\", \"comply\", \"designate\", \"take\", \"ensure\", \"meet\", \"enforceable\", \"provided\", \"apply\", \"made\", \"require\", \"paid\"], \"y\": [17, 11, 10, 10, 8, 8, 7, 7, 7, 6, 5, 4, 4, 4, 3], \"text\": [17, 11, 10, 10, 8, 8, 7, 7, 7, 6, 5, 4, 4, 4, 3], \"textposition\": \"outside\", \"opacity\": 1}], {\"title\": \"<b>Verbs for Chicago Fire Department</b><br>\", \"xaxis\": {\"title\": \"\", \"tickfont\": {\"size\": 14, \"color\": \"rgb(107, 107, 107)\"}}, \"yaxis\": {\"title\": \"\", \"titlefont\": {\"size\": 16, \"color\": \"rgb(107, 107, 107)\"}, \"tickfont\": {\"size\": 14, \"color\": \"rgb(107, 107, 107)\"}}}, {\"showLink\": true, \"linkText\": \"Export to plot.ly\"})});</script>"
      ]
     },
     "metadata": {},
     "output_type": "display_data"
    },
    {
     "data": {
      "application/vnd.plotly.v1+json": {
       "data": [
        {
         "opacity": 1,
         "text": [
          12,
          8,
          6,
          5,
          4,
          4,
          4,
          4,
          4,
          4,
          4,
          3,
          3,
          3,
          3
         ],
         "textposition": "outside",
         "type": "bar",
         "x": [
          "include",
          "get",
          "provide",
          "obtain",
          "ensure",
          "review",
          "involve",
          "result",
          "assigned",
          "take",
          "finance",
          "identify",
          "receive",
          "submit",
          "begin"
         ],
         "y": [
          12,
          8,
          6,
          5,
          4,
          4,
          4,
          4,
          4,
          4,
          4,
          3,
          3,
          3,
          3
         ]
        }
       ],
       "layout": {
        "title": "<b>Verbs for Department of Law</b><br>",
        "xaxis": {
         "tickfont": {
          "color": "rgb(107, 107, 107)",
          "size": 14
         },
         "title": ""
        },
        "yaxis": {
         "tickfont": {
          "color": "rgb(107, 107, 107)",
          "size": 14
         },
         "title": "",
         "titlefont": {
          "color": "rgb(107, 107, 107)",
          "size": 16
         }
        }
       }
      },
      "text/html": [
       "<div id=\"ff604a11-5ba4-4a03-8a4a-61391a43362d\" style=\"height: 525px; width: 100%;\" class=\"plotly-graph-div\"></div><script type=\"text/javascript\">require([\"plotly\"], function(Plotly) { window.PLOTLYENV=window.PLOTLYENV || {};window.PLOTLYENV.BASE_URL=\"https://plot.ly\";Plotly.newPlot(\"ff604a11-5ba4-4a03-8a4a-61391a43362d\", [{\"type\": \"bar\", \"x\": [\"include\", \"get\", \"provide\", \"obtain\", \"ensure\", \"review\", \"involve\", \"result\", \"assigned\", \"take\", \"finance\", \"identify\", \"receive\", \"submit\", \"begin\"], \"y\": [12, 8, 6, 5, 4, 4, 4, 4, 4, 4, 4, 3, 3, 3, 3], \"text\": [12, 8, 6, 5, 4, 4, 4, 4, 4, 4, 4, 3, 3, 3, 3], \"textposition\": \"outside\", \"opacity\": 1}], {\"title\": \"<b>Verbs for Department of Law</b><br>\", \"xaxis\": {\"title\": \"\", \"tickfont\": {\"size\": 14, \"color\": \"rgb(107, 107, 107)\"}}, \"yaxis\": {\"title\": \"\", \"titlefont\": {\"size\": 16, \"color\": \"rgb(107, 107, 107)\"}, \"tickfont\": {\"size\": 14, \"color\": \"rgb(107, 107, 107)\"}}}, {\"showLink\": true, \"linkText\": \"Export to plot.ly\"})});</script>"
      ],
      "text/vnd.plotly.v1+html": [
       "<div id=\"ff604a11-5ba4-4a03-8a4a-61391a43362d\" style=\"height: 525px; width: 100%;\" class=\"plotly-graph-div\"></div><script type=\"text/javascript\">require([\"plotly\"], function(Plotly) { window.PLOTLYENV=window.PLOTLYENV || {};window.PLOTLYENV.BASE_URL=\"https://plot.ly\";Plotly.newPlot(\"ff604a11-5ba4-4a03-8a4a-61391a43362d\", [{\"type\": \"bar\", \"x\": [\"include\", \"get\", \"provide\", \"obtain\", \"ensure\", \"review\", \"involve\", \"result\", \"assigned\", \"take\", \"finance\", \"identify\", \"receive\", \"submit\", \"begin\"], \"y\": [12, 8, 6, 5, 4, 4, 4, 4, 4, 4, 4, 3, 3, 3, 3], \"text\": [12, 8, 6, 5, 4, 4, 4, 4, 4, 4, 4, 3, 3, 3, 3], \"textposition\": \"outside\", \"opacity\": 1}], {\"title\": \"<b>Verbs for Department of Law</b><br>\", \"xaxis\": {\"title\": \"\", \"tickfont\": {\"size\": 14, \"color\": \"rgb(107, 107, 107)\"}}, \"yaxis\": {\"title\": \"\", \"titlefont\": {\"size\": 16, \"color\": \"rgb(107, 107, 107)\"}, \"tickfont\": {\"size\": 14, \"color\": \"rgb(107, 107, 107)\"}}}, {\"showLink\": true, \"linkText\": \"Export to plot.ly\"})});</script>"
      ]
     },
     "metadata": {},
     "output_type": "display_data"
    },
    {
     "data": {
      "application/vnd.plotly.v1+json": {
       "data": [
        {
         "opacity": 1,
         "text": [
          27,
          16,
          15,
          13,
          12,
          9,
          8,
          8,
          7,
          7,
          6,
          6,
          6,
          6,
          5
         ],
         "textposition": "outside",
         "type": "bar",
         "x": [
          "ensure",
          "keep",
          "start",
          "develop",
          "identify",
          "improve",
          "obtain",
          "help",
          "take",
          "create",
          "find",
          "meet",
          "succeed",
          "get",
          "qualify"
         ],
         "y": [
          27,
          16,
          15,
          13,
          12,
          9,
          8,
          8,
          7,
          7,
          6,
          6,
          6,
          6,
          5
         ]
        }
       ],
       "layout": {
        "title": "<b>Verbs for Department of Family & Support Services</b><br>",
        "xaxis": {
         "tickfont": {
          "color": "rgb(107, 107, 107)",
          "size": 14
         },
         "title": ""
        },
        "yaxis": {
         "tickfont": {
          "color": "rgb(107, 107, 107)",
          "size": 14
         },
         "title": "",
         "titlefont": {
          "color": "rgb(107, 107, 107)",
          "size": 16
         }
        }
       }
      },
      "text/html": [
       "<div id=\"6e231725-1168-4a84-b207-65ae1ab01d21\" style=\"height: 525px; width: 100%;\" class=\"plotly-graph-div\"></div><script type=\"text/javascript\">require([\"plotly\"], function(Plotly) { window.PLOTLYENV=window.PLOTLYENV || {};window.PLOTLYENV.BASE_URL=\"https://plot.ly\";Plotly.newPlot(\"6e231725-1168-4a84-b207-65ae1ab01d21\", [{\"type\": \"bar\", \"x\": [\"ensure\", \"keep\", \"start\", \"develop\", \"identify\", \"improve\", \"obtain\", \"help\", \"take\", \"create\", \"find\", \"meet\", \"succeed\", \"get\", \"qualify\"], \"y\": [27, 16, 15, 13, 12, 9, 8, 8, 7, 7, 6, 6, 6, 6, 5], \"text\": [27, 16, 15, 13, 12, 9, 8, 8, 7, 7, 6, 6, 6, 6, 5], \"textposition\": \"outside\", \"opacity\": 1}], {\"title\": \"<b>Verbs for Department of Family & Support Services</b><br>\", \"xaxis\": {\"title\": \"\", \"tickfont\": {\"size\": 14, \"color\": \"rgb(107, 107, 107)\"}}, \"yaxis\": {\"title\": \"\", \"titlefont\": {\"size\": 16, \"color\": \"rgb(107, 107, 107)\"}, \"tickfont\": {\"size\": 14, \"color\": \"rgb(107, 107, 107)\"}}}, {\"showLink\": true, \"linkText\": \"Export to plot.ly\"})});</script>"
      ],
      "text/vnd.plotly.v1+html": [
       "<div id=\"6e231725-1168-4a84-b207-65ae1ab01d21\" style=\"height: 525px; width: 100%;\" class=\"plotly-graph-div\"></div><script type=\"text/javascript\">require([\"plotly\"], function(Plotly) { window.PLOTLYENV=window.PLOTLYENV || {};window.PLOTLYENV.BASE_URL=\"https://plot.ly\";Plotly.newPlot(\"6e231725-1168-4a84-b207-65ae1ab01d21\", [{\"type\": \"bar\", \"x\": [\"ensure\", \"keep\", \"start\", \"develop\", \"identify\", \"improve\", \"obtain\", \"help\", \"take\", \"create\", \"find\", \"meet\", \"succeed\", \"get\", \"qualify\"], \"y\": [27, 16, 15, 13, 12, 9, 8, 8, 7, 7, 6, 6, 6, 6, 5], \"text\": [27, 16, 15, 13, 12, 9, 8, 8, 7, 7, 6, 6, 6, 6, 5], \"textposition\": \"outside\", \"opacity\": 1}], {\"title\": \"<b>Verbs for Department of Family & Support Services</b><br>\", \"xaxis\": {\"title\": \"\", \"tickfont\": {\"size\": 14, \"color\": \"rgb(107, 107, 107)\"}}, \"yaxis\": {\"title\": \"\", \"titlefont\": {\"size\": 16, \"color\": \"rgb(107, 107, 107)\"}, \"tickfont\": {\"size\": 14, \"color\": \"rgb(107, 107, 107)\"}}}, {\"showLink\": true, \"linkText\": \"Export to plot.ly\"})});</script>"
      ]
     },
     "metadata": {},
     "output_type": "display_data"
    },
    {
     "data": {
      "application/vnd.plotly.v1+json": {
       "data": [
        {
         "opacity": 1,
         "text": [
          81,
          35,
          32,
          18,
          16,
          15,
          15,
          15,
          15,
          14,
          13,
          12,
          11,
          11,
          11
         ],
         "textposition": "outside",
         "type": "bar",
         "x": [
          "take",
          "get",
          "september",
          "develop",
          "participate",
          "bring",
          "go",
          "cultural",
          "love",
          "ensure",
          "create",
          "see",
          "dcase",
          "find",
          "make"
         ],
         "y": [
          81,
          35,
          32,
          18,
          16,
          15,
          15,
          15,
          15,
          14,
          13,
          12,
          11,
          11,
          11
         ]
        }
       ],
       "layout": {
        "title": "<b>Verbs for Department of Cultural Affairs and Special Events</b><br>",
        "xaxis": {
         "tickfont": {
          "color": "rgb(107, 107, 107)",
          "size": 14
         },
         "title": ""
        },
        "yaxis": {
         "tickfont": {
          "color": "rgb(107, 107, 107)",
          "size": 14
         },
         "title": "",
         "titlefont": {
          "color": "rgb(107, 107, 107)",
          "size": 16
         }
        }
       }
      },
      "text/html": [
       "<div id=\"dc1d212c-ee76-4507-a456-9b5c47b69ec1\" style=\"height: 525px; width: 100%;\" class=\"plotly-graph-div\"></div><script type=\"text/javascript\">require([\"plotly\"], function(Plotly) { window.PLOTLYENV=window.PLOTLYENV || {};window.PLOTLYENV.BASE_URL=\"https://plot.ly\";Plotly.newPlot(\"dc1d212c-ee76-4507-a456-9b5c47b69ec1\", [{\"type\": \"bar\", \"x\": [\"take\", \"get\", \"september\", \"develop\", \"participate\", \"bring\", \"go\", \"cultural\", \"love\", \"ensure\", \"create\", \"see\", \"dcase\", \"find\", \"make\"], \"y\": [81, 35, 32, 18, 16, 15, 15, 15, 15, 14, 13, 12, 11, 11, 11], \"text\": [81, 35, 32, 18, 16, 15, 15, 15, 15, 14, 13, 12, 11, 11, 11], \"textposition\": \"outside\", \"opacity\": 1}], {\"title\": \"<b>Verbs for Department of Cultural Affairs and Special Events</b><br>\", \"xaxis\": {\"title\": \"\", \"tickfont\": {\"size\": 14, \"color\": \"rgb(107, 107, 107)\"}}, \"yaxis\": {\"title\": \"\", \"titlefont\": {\"size\": 16, \"color\": \"rgb(107, 107, 107)\"}, \"tickfont\": {\"size\": 14, \"color\": \"rgb(107, 107, 107)\"}}}, {\"showLink\": true, \"linkText\": \"Export to plot.ly\"})});</script>"
      ],
      "text/vnd.plotly.v1+html": [
       "<div id=\"dc1d212c-ee76-4507-a456-9b5c47b69ec1\" style=\"height: 525px; width: 100%;\" class=\"plotly-graph-div\"></div><script type=\"text/javascript\">require([\"plotly\"], function(Plotly) { window.PLOTLYENV=window.PLOTLYENV || {};window.PLOTLYENV.BASE_URL=\"https://plot.ly\";Plotly.newPlot(\"dc1d212c-ee76-4507-a456-9b5c47b69ec1\", [{\"type\": \"bar\", \"x\": [\"take\", \"get\", \"september\", \"develop\", \"participate\", \"bring\", \"go\", \"cultural\", \"love\", \"ensure\", \"create\", \"see\", \"dcase\", \"find\", \"make\"], \"y\": [81, 35, 32, 18, 16, 15, 15, 15, 15, 14, 13, 12, 11, 11, 11], \"text\": [81, 35, 32, 18, 16, 15, 15, 15, 15, 14, 13, 12, 11, 11, 11], \"textposition\": \"outside\", \"opacity\": 1}], {\"title\": \"<b>Verbs for Department of Cultural Affairs and Special Events</b><br>\", \"xaxis\": {\"title\": \"\", \"tickfont\": {\"size\": 14, \"color\": \"rgb(107, 107, 107)\"}}, \"yaxis\": {\"title\": \"\", \"titlefont\": {\"size\": 16, \"color\": \"rgb(107, 107, 107)\"}, \"tickfont\": {\"size\": 14, \"color\": \"rgb(107, 107, 107)\"}}}, {\"showLink\": true, \"linkText\": \"Export to plot.ly\"})});</script>"
      ]
     },
     "metadata": {},
     "output_type": "display_data"
    },
    {
     "data": {
      "application/vnd.plotly.v1+json": {
       "data": [
        {
         "opacity": 1,
         "text": [
          2,
          1,
          1,
          1,
          1
         ],
         "textposition": "outside",
         "type": "bar",
         "x": [
          "ensure",
          "watchdog",
          "issue",
          "include",
          "like"
         ],
         "y": [
          2,
          1,
          1,
          1,
          1
         ]
        }
       ],
       "layout": {
        "title": "<b>Verbs for Office of the Inspector General</b><br>",
        "xaxis": {
         "tickfont": {
          "color": "rgb(107, 107, 107)",
          "size": 14
         },
         "title": ""
        },
        "yaxis": {
         "tickfont": {
          "color": "rgb(107, 107, 107)",
          "size": 14
         },
         "title": "",
         "titlefont": {
          "color": "rgb(107, 107, 107)",
          "size": 16
         }
        }
       }
      },
      "text/html": [
       "<div id=\"0be8df90-84d5-4a2e-a84c-3bcb864f2085\" style=\"height: 525px; width: 100%;\" class=\"plotly-graph-div\"></div><script type=\"text/javascript\">require([\"plotly\"], function(Plotly) { window.PLOTLYENV=window.PLOTLYENV || {};window.PLOTLYENV.BASE_URL=\"https://plot.ly\";Plotly.newPlot(\"0be8df90-84d5-4a2e-a84c-3bcb864f2085\", [{\"type\": \"bar\", \"x\": [\"ensure\", \"watchdog\", \"issue\", \"include\", \"like\"], \"y\": [2, 1, 1, 1, 1], \"text\": [2, 1, 1, 1, 1], \"textposition\": \"outside\", \"opacity\": 1}], {\"title\": \"<b>Verbs for Office of the Inspector General</b><br>\", \"xaxis\": {\"title\": \"\", \"tickfont\": {\"size\": 14, \"color\": \"rgb(107, 107, 107)\"}}, \"yaxis\": {\"title\": \"\", \"titlefont\": {\"size\": 16, \"color\": \"rgb(107, 107, 107)\"}, \"tickfont\": {\"size\": 14, \"color\": \"rgb(107, 107, 107)\"}}}, {\"showLink\": true, \"linkText\": \"Export to plot.ly\"})});</script>"
      ],
      "text/vnd.plotly.v1+html": [
       "<div id=\"0be8df90-84d5-4a2e-a84c-3bcb864f2085\" style=\"height: 525px; width: 100%;\" class=\"plotly-graph-div\"></div><script type=\"text/javascript\">require([\"plotly\"], function(Plotly) { window.PLOTLYENV=window.PLOTLYENV || {};window.PLOTLYENV.BASE_URL=\"https://plot.ly\";Plotly.newPlot(\"0be8df90-84d5-4a2e-a84c-3bcb864f2085\", [{\"type\": \"bar\", \"x\": [\"ensure\", \"watchdog\", \"issue\", \"include\", \"like\"], \"y\": [2, 1, 1, 1, 1], \"text\": [2, 1, 1, 1, 1], \"textposition\": \"outside\", \"opacity\": 1}], {\"title\": \"<b>Verbs for Office of the Inspector General</b><br>\", \"xaxis\": {\"title\": \"\", \"tickfont\": {\"size\": 14, \"color\": \"rgb(107, 107, 107)\"}}, \"yaxis\": {\"title\": \"\", \"titlefont\": {\"size\": 16, \"color\": \"rgb(107, 107, 107)\"}, \"tickfont\": {\"size\": 14, \"color\": \"rgb(107, 107, 107)\"}}}, {\"showLink\": true, \"linkText\": \"Export to plot.ly\"})});</script>"
      ]
     },
     "metadata": {},
     "output_type": "display_data"
    },
    {
     "data": {
      "application/vnd.plotly.v1+json": {
       "data": [
        {
         "opacity": 1,
         "text": [
          37,
          19,
          16,
          13,
          12,
          12,
          12,
          10,
          10,
          9,
          8,
          8,
          8,
          7,
          7
         ],
         "textposition": "outside",
         "type": "bar",
         "x": [
          "relied",
          "file",
          "include",
          "answer",
          "disclose",
          "make",
          "add",
          "take",
          "report",
          "constitute",
          "click",
          "provide",
          "june",
          "accept",
          "attached"
         ],
         "y": [
          37,
          19,
          16,
          13,
          12,
          12,
          12,
          10,
          10,
          9,
          8,
          8,
          8,
          7,
          7
         ]
        }
       ],
       "layout": {
        "title": "<b>Verbs for Board of Ethics</b><br>",
        "xaxis": {
         "tickfont": {
          "color": "rgb(107, 107, 107)",
          "size": 14
         },
         "title": ""
        },
        "yaxis": {
         "tickfont": {
          "color": "rgb(107, 107, 107)",
          "size": 14
         },
         "title": "",
         "titlefont": {
          "color": "rgb(107, 107, 107)",
          "size": 16
         }
        }
       }
      },
      "text/html": [
       "<div id=\"5ea699aa-6d18-4cf1-8030-94bac05c82b3\" style=\"height: 525px; width: 100%;\" class=\"plotly-graph-div\"></div><script type=\"text/javascript\">require([\"plotly\"], function(Plotly) { window.PLOTLYENV=window.PLOTLYENV || {};window.PLOTLYENV.BASE_URL=\"https://plot.ly\";Plotly.newPlot(\"5ea699aa-6d18-4cf1-8030-94bac05c82b3\", [{\"type\": \"bar\", \"x\": [\"relied\", \"file\", \"include\", \"answer\", \"disclose\", \"make\", \"add\", \"take\", \"report\", \"constitute\", \"click\", \"provide\", \"june\", \"accept\", \"attached\"], \"y\": [37, 19, 16, 13, 12, 12, 12, 10, 10, 9, 8, 8, 8, 7, 7], \"text\": [37, 19, 16, 13, 12, 12, 12, 10, 10, 9, 8, 8, 8, 7, 7], \"textposition\": \"outside\", \"opacity\": 1}], {\"title\": \"<b>Verbs for Board of Ethics</b><br>\", \"xaxis\": {\"title\": \"\", \"tickfont\": {\"size\": 14, \"color\": \"rgb(107, 107, 107)\"}}, \"yaxis\": {\"title\": \"\", \"titlefont\": {\"size\": 16, \"color\": \"rgb(107, 107, 107)\"}, \"tickfont\": {\"size\": 14, \"color\": \"rgb(107, 107, 107)\"}}}, {\"showLink\": true, \"linkText\": \"Export to plot.ly\"})});</script>"
      ],
      "text/vnd.plotly.v1+html": [
       "<div id=\"5ea699aa-6d18-4cf1-8030-94bac05c82b3\" style=\"height: 525px; width: 100%;\" class=\"plotly-graph-div\"></div><script type=\"text/javascript\">require([\"plotly\"], function(Plotly) { window.PLOTLYENV=window.PLOTLYENV || {};window.PLOTLYENV.BASE_URL=\"https://plot.ly\";Plotly.newPlot(\"5ea699aa-6d18-4cf1-8030-94bac05c82b3\", [{\"type\": \"bar\", \"x\": [\"relied\", \"file\", \"include\", \"answer\", \"disclose\", \"make\", \"add\", \"take\", \"report\", \"constitute\", \"click\", \"provide\", \"june\", \"accept\", \"attached\"], \"y\": [37, 19, 16, 13, 12, 12, 12, 10, 10, 9, 8, 8, 8, 7, 7], \"text\": [37, 19, 16, 13, 12, 12, 12, 10, 10, 9, 8, 8, 8, 7, 7], \"textposition\": \"outside\", \"opacity\": 1}], {\"title\": \"<b>Verbs for Board of Ethics</b><br>\", \"xaxis\": {\"title\": \"\", \"tickfont\": {\"size\": 14, \"color\": \"rgb(107, 107, 107)\"}}, \"yaxis\": {\"title\": \"\", \"titlefont\": {\"size\": 16, \"color\": \"rgb(107, 107, 107)\"}, \"tickfont\": {\"size\": 14, \"color\": \"rgb(107, 107, 107)\"}}}, {\"showLink\": true, \"linkText\": \"Export to plot.ly\"})});</script>"
      ]
     },
     "metadata": {},
     "output_type": "display_data"
    },
    {
     "data": {
      "application/vnd.plotly.v1+json": {
       "data": [
        {
         "opacity": 1,
         "text": [
          1,
          1,
          1,
          1,
          1,
          1,
          1,
          1
         ],
         "textposition": "outside",
         "type": "bar",
         "x": [
          "require",
          "get",
          "establish",
          "include",
          "allow",
          "respond",
          "like",
          "present"
         ],
         "y": [
          1,
          1,
          1,
          1,
          1,
          1,
          1,
          1
         ]
        }
       ],
       "layout": {
        "title": "<b>Verbs for Chicago Public Library</b><br>",
        "xaxis": {
         "tickfont": {
          "color": "rgb(107, 107, 107)",
          "size": 14
         },
         "title": ""
        },
        "yaxis": {
         "tickfont": {
          "color": "rgb(107, 107, 107)",
          "size": 14
         },
         "title": "",
         "titlefont": {
          "color": "rgb(107, 107, 107)",
          "size": 16
         }
        }
       }
      },
      "text/html": [
       "<div id=\"c40307f9-99e9-4786-b506-8794e0725a46\" style=\"height: 525px; width: 100%;\" class=\"plotly-graph-div\"></div><script type=\"text/javascript\">require([\"plotly\"], function(Plotly) { window.PLOTLYENV=window.PLOTLYENV || {};window.PLOTLYENV.BASE_URL=\"https://plot.ly\";Plotly.newPlot(\"c40307f9-99e9-4786-b506-8794e0725a46\", [{\"type\": \"bar\", \"x\": [\"require\", \"get\", \"establish\", \"include\", \"allow\", \"respond\", \"like\", \"present\"], \"y\": [1, 1, 1, 1, 1, 1, 1, 1], \"text\": [1, 1, 1, 1, 1, 1, 1, 1], \"textposition\": \"outside\", \"opacity\": 1}], {\"title\": \"<b>Verbs for Chicago Public Library</b><br>\", \"xaxis\": {\"title\": \"\", \"tickfont\": {\"size\": 14, \"color\": \"rgb(107, 107, 107)\"}}, \"yaxis\": {\"title\": \"\", \"titlefont\": {\"size\": 16, \"color\": \"rgb(107, 107, 107)\"}, \"tickfont\": {\"size\": 14, \"color\": \"rgb(107, 107, 107)\"}}}, {\"showLink\": true, \"linkText\": \"Export to plot.ly\"})});</script>"
      ],
      "text/vnd.plotly.v1+html": [
       "<div id=\"c40307f9-99e9-4786-b506-8794e0725a46\" style=\"height: 525px; width: 100%;\" class=\"plotly-graph-div\"></div><script type=\"text/javascript\">require([\"plotly\"], function(Plotly) { window.PLOTLYENV=window.PLOTLYENV || {};window.PLOTLYENV.BASE_URL=\"https://plot.ly\";Plotly.newPlot(\"c40307f9-99e9-4786-b506-8794e0725a46\", [{\"type\": \"bar\", \"x\": [\"require\", \"get\", \"establish\", \"include\", \"allow\", \"respond\", \"like\", \"present\"], \"y\": [1, 1, 1, 1, 1, 1, 1, 1], \"text\": [1, 1, 1, 1, 1, 1, 1, 1], \"textposition\": \"outside\", \"opacity\": 1}], {\"title\": \"<b>Verbs for Chicago Public Library</b><br>\", \"xaxis\": {\"title\": \"\", \"tickfont\": {\"size\": 14, \"color\": \"rgb(107, 107, 107)\"}}, \"yaxis\": {\"title\": \"\", \"titlefont\": {\"size\": 16, \"color\": \"rgb(107, 107, 107)\"}, \"tickfont\": {\"size\": 14, \"color\": \"rgb(107, 107, 107)\"}}}, {\"showLink\": true, \"linkText\": \"Export to plot.ly\"})});</script>"
      ]
     },
     "metadata": {},
     "output_type": "display_data"
    },
    {
     "data": {
      "application/vnd.plotly.v1+json": {
       "data": [
        {
         "opacity": 1,
         "text": [
          28,
          17,
          9,
          9,
          8,
          7,
          7,
          7,
          7,
          6,
          6,
          6,
          6,
          6,
          5
         ],
         "textposition": "outside",
         "type": "bar",
         "x": [
          "reduce",
          "street",
          "grove",
          "ensure",
          "kimball",
          "lake",
          "take",
          "get",
          "kildare",
          "remove",
          "end",
          "accelerated",
          "june",
          "improve",
          "rockwell"
         ],
         "y": [
          28,
          17,
          9,
          9,
          8,
          7,
          7,
          7,
          7,
          6,
          6,
          6,
          6,
          6,
          5
         ]
        }
       ],
       "layout": {
        "title": "<b>Verbs for Department of Water Management</b><br>",
        "xaxis": {
         "tickfont": {
          "color": "rgb(107, 107, 107)",
          "size": 14
         },
         "title": ""
        },
        "yaxis": {
         "tickfont": {
          "color": "rgb(107, 107, 107)",
          "size": 14
         },
         "title": "",
         "titlefont": {
          "color": "rgb(107, 107, 107)",
          "size": 16
         }
        }
       }
      },
      "text/html": [
       "<div id=\"9ee466a8-f0c2-4a20-ba21-e590127913cd\" style=\"height: 525px; width: 100%;\" class=\"plotly-graph-div\"></div><script type=\"text/javascript\">require([\"plotly\"], function(Plotly) { window.PLOTLYENV=window.PLOTLYENV || {};window.PLOTLYENV.BASE_URL=\"https://plot.ly\";Plotly.newPlot(\"9ee466a8-f0c2-4a20-ba21-e590127913cd\", [{\"type\": \"bar\", \"x\": [\"reduce\", \"street\", \"grove\", \"ensure\", \"kimball\", \"lake\", \"take\", \"get\", \"kildare\", \"remove\", \"end\", \"accelerated\", \"june\", \"improve\", \"rockwell\"], \"y\": [28, 17, 9, 9, 8, 7, 7, 7, 7, 6, 6, 6, 6, 6, 5], \"text\": [28, 17, 9, 9, 8, 7, 7, 7, 7, 6, 6, 6, 6, 6, 5], \"textposition\": \"outside\", \"opacity\": 1}], {\"title\": \"<b>Verbs for Department of Water Management</b><br>\", \"xaxis\": {\"title\": \"\", \"tickfont\": {\"size\": 14, \"color\": \"rgb(107, 107, 107)\"}}, \"yaxis\": {\"title\": \"\", \"titlefont\": {\"size\": 16, \"color\": \"rgb(107, 107, 107)\"}, \"tickfont\": {\"size\": 14, \"color\": \"rgb(107, 107, 107)\"}}}, {\"showLink\": true, \"linkText\": \"Export to plot.ly\"})});</script>"
      ],
      "text/vnd.plotly.v1+html": [
       "<div id=\"9ee466a8-f0c2-4a20-ba21-e590127913cd\" style=\"height: 525px; width: 100%;\" class=\"plotly-graph-div\"></div><script type=\"text/javascript\">require([\"plotly\"], function(Plotly) { window.PLOTLYENV=window.PLOTLYENV || {};window.PLOTLYENV.BASE_URL=\"https://plot.ly\";Plotly.newPlot(\"9ee466a8-f0c2-4a20-ba21-e590127913cd\", [{\"type\": \"bar\", \"x\": [\"reduce\", \"street\", \"grove\", \"ensure\", \"kimball\", \"lake\", \"take\", \"get\", \"kildare\", \"remove\", \"end\", \"accelerated\", \"june\", \"improve\", \"rockwell\"], \"y\": [28, 17, 9, 9, 8, 7, 7, 7, 7, 6, 6, 6, 6, 6, 5], \"text\": [28, 17, 9, 9, 8, 7, 7, 7, 7, 6, 6, 6, 6, 6, 5], \"textposition\": \"outside\", \"opacity\": 1}], {\"title\": \"<b>Verbs for Department of Water Management</b><br>\", \"xaxis\": {\"title\": \"\", \"tickfont\": {\"size\": 14, \"color\": \"rgb(107, 107, 107)\"}}, \"yaxis\": {\"title\": \"\", \"titlefont\": {\"size\": 16, \"color\": \"rgb(107, 107, 107)\"}, \"tickfont\": {\"size\": 14, \"color\": \"rgb(107, 107, 107)\"}}}, {\"showLink\": true, \"linkText\": \"Export to plot.ly\"})});</script>"
      ]
     },
     "metadata": {},
     "output_type": "display_data"
    },
    {
     "data": {
      "application/vnd.plotly.v1+json": {
       "data": [
        {
         "opacity": 1,
         "text": [
          20,
          14,
          7,
          3,
          3,
          3,
          3,
          2,
          2,
          2,
          2,
          2,
          2,
          2,
          2
         ],
         "textposition": "outside",
         "type": "bar",
         "x": [
          "develop",
          "ensure",
          "improve",
          "reduce",
          "include",
          "establish",
          "build",
          "deliver",
          "inquired",
          "online",
          "track",
          "provide",
          "keep",
          "need",
          "get"
         ],
         "y": [
          20,
          14,
          7,
          3,
          3,
          3,
          3,
          2,
          2,
          2,
          2,
          2,
          2,
          2,
          2
         ]
        }
       ],
       "layout": {
        "title": "<b>Verbs for Department of Innovation and Technology</b><br>",
        "xaxis": {
         "tickfont": {
          "color": "rgb(107, 107, 107)",
          "size": 14
         },
         "title": ""
        },
        "yaxis": {
         "tickfont": {
          "color": "rgb(107, 107, 107)",
          "size": 14
         },
         "title": "",
         "titlefont": {
          "color": "rgb(107, 107, 107)",
          "size": 16
         }
        }
       }
      },
      "text/html": [
       "<div id=\"43a25eff-088d-4ea9-98fa-3e5ebdb028f2\" style=\"height: 525px; width: 100%;\" class=\"plotly-graph-div\"></div><script type=\"text/javascript\">require([\"plotly\"], function(Plotly) { window.PLOTLYENV=window.PLOTLYENV || {};window.PLOTLYENV.BASE_URL=\"https://plot.ly\";Plotly.newPlot(\"43a25eff-088d-4ea9-98fa-3e5ebdb028f2\", [{\"type\": \"bar\", \"x\": [\"develop\", \"ensure\", \"improve\", \"reduce\", \"include\", \"establish\", \"build\", \"deliver\", \"inquired\", \"online\", \"track\", \"provide\", \"keep\", \"need\", \"get\"], \"y\": [20, 14, 7, 3, 3, 3, 3, 2, 2, 2, 2, 2, 2, 2, 2], \"text\": [20, 14, 7, 3, 3, 3, 3, 2, 2, 2, 2, 2, 2, 2, 2], \"textposition\": \"outside\", \"opacity\": 1}], {\"title\": \"<b>Verbs for Department of Innovation and Technology</b><br>\", \"xaxis\": {\"title\": \"\", \"tickfont\": {\"size\": 14, \"color\": \"rgb(107, 107, 107)\"}}, \"yaxis\": {\"title\": \"\", \"titlefont\": {\"size\": 16, \"color\": \"rgb(107, 107, 107)\"}, \"tickfont\": {\"size\": 14, \"color\": \"rgb(107, 107, 107)\"}}}, {\"showLink\": true, \"linkText\": \"Export to plot.ly\"})});</script>"
      ],
      "text/vnd.plotly.v1+html": [
       "<div id=\"43a25eff-088d-4ea9-98fa-3e5ebdb028f2\" style=\"height: 525px; width: 100%;\" class=\"plotly-graph-div\"></div><script type=\"text/javascript\">require([\"plotly\"], function(Plotly) { window.PLOTLYENV=window.PLOTLYENV || {};window.PLOTLYENV.BASE_URL=\"https://plot.ly\";Plotly.newPlot(\"43a25eff-088d-4ea9-98fa-3e5ebdb028f2\", [{\"type\": \"bar\", \"x\": [\"develop\", \"ensure\", \"improve\", \"reduce\", \"include\", \"establish\", \"build\", \"deliver\", \"inquired\", \"online\", \"track\", \"provide\", \"keep\", \"need\", \"get\"], \"y\": [20, 14, 7, 3, 3, 3, 3, 2, 2, 2, 2, 2, 2, 2, 2], \"text\": [20, 14, 7, 3, 3, 3, 3, 2, 2, 2, 2, 2, 2, 2, 2], \"textposition\": \"outside\", \"opacity\": 1}], {\"title\": \"<b>Verbs for Department of Innovation and Technology</b><br>\", \"xaxis\": {\"title\": \"\", \"tickfont\": {\"size\": 14, \"color\": \"rgb(107, 107, 107)\"}}, \"yaxis\": {\"title\": \"\", \"titlefont\": {\"size\": 16, \"color\": \"rgb(107, 107, 107)\"}, \"tickfont\": {\"size\": 14, \"color\": \"rgb(107, 107, 107)\"}}}, {\"showLink\": true, \"linkText\": \"Export to plot.ly\"})});</script>"
      ]
     },
     "metadata": {},
     "output_type": "display_data"
    },
    {
     "data": {
      "application/vnd.plotly.v1+json": {
       "data": [
        {
         "opacity": 1,
         "text": [
          18,
          16,
          11,
          10,
          10,
          10,
          10,
          9,
          8,
          6,
          6,
          6,
          5,
          5,
          5
         ],
         "textposition": "outside",
         "type": "bar",
         "x": [
          "include",
          "file",
          "obtain",
          "apply",
          "made",
          "appear",
          "request",
          "contact",
          "pay",
          "provide",
          "subject",
          "desk",
          "impose",
          "ensure",
          "set"
         ],
         "y": [
          18,
          16,
          11,
          10,
          10,
          10,
          10,
          9,
          8,
          6,
          6,
          6,
          5,
          5,
          5
         ]
        }
       ],
       "layout": {
        "title": "<b>Verbs for Department of Administrative Hearings</b><br>",
        "xaxis": {
         "tickfont": {
          "color": "rgb(107, 107, 107)",
          "size": 14
         },
         "title": ""
        },
        "yaxis": {
         "tickfont": {
          "color": "rgb(107, 107, 107)",
          "size": 14
         },
         "title": "",
         "titlefont": {
          "color": "rgb(107, 107, 107)",
          "size": 16
         }
        }
       }
      },
      "text/html": [
       "<div id=\"213c5f1f-ace1-432e-a31c-adf840bd9fef\" style=\"height: 525px; width: 100%;\" class=\"plotly-graph-div\"></div><script type=\"text/javascript\">require([\"plotly\"], function(Plotly) { window.PLOTLYENV=window.PLOTLYENV || {};window.PLOTLYENV.BASE_URL=\"https://plot.ly\";Plotly.newPlot(\"213c5f1f-ace1-432e-a31c-adf840bd9fef\", [{\"type\": \"bar\", \"x\": [\"include\", \"file\", \"obtain\", \"apply\", \"made\", \"appear\", \"request\", \"contact\", \"pay\", \"provide\", \"subject\", \"desk\", \"impose\", \"ensure\", \"set\"], \"y\": [18, 16, 11, 10, 10, 10, 10, 9, 8, 6, 6, 6, 5, 5, 5], \"text\": [18, 16, 11, 10, 10, 10, 10, 9, 8, 6, 6, 6, 5, 5, 5], \"textposition\": \"outside\", \"opacity\": 1}], {\"title\": \"<b>Verbs for Department of Administrative Hearings</b><br>\", \"xaxis\": {\"title\": \"\", \"tickfont\": {\"size\": 14, \"color\": \"rgb(107, 107, 107)\"}}, \"yaxis\": {\"title\": \"\", \"titlefont\": {\"size\": 16, \"color\": \"rgb(107, 107, 107)\"}, \"tickfont\": {\"size\": 14, \"color\": \"rgb(107, 107, 107)\"}}}, {\"showLink\": true, \"linkText\": \"Export to plot.ly\"})});</script>"
      ],
      "text/vnd.plotly.v1+html": [
       "<div id=\"213c5f1f-ace1-432e-a31c-adf840bd9fef\" style=\"height: 525px; width: 100%;\" class=\"plotly-graph-div\"></div><script type=\"text/javascript\">require([\"plotly\"], function(Plotly) { window.PLOTLYENV=window.PLOTLYENV || {};window.PLOTLYENV.BASE_URL=\"https://plot.ly\";Plotly.newPlot(\"213c5f1f-ace1-432e-a31c-adf840bd9fef\", [{\"type\": \"bar\", \"x\": [\"include\", \"file\", \"obtain\", \"apply\", \"made\", \"appear\", \"request\", \"contact\", \"pay\", \"provide\", \"subject\", \"desk\", \"impose\", \"ensure\", \"set\"], \"y\": [18, 16, 11, 10, 10, 10, 10, 9, 8, 6, 6, 6, 5, 5, 5], \"text\": [18, 16, 11, 10, 10, 10, 10, 9, 8, 6, 6, 6, 5, 5, 5], \"textposition\": \"outside\", \"opacity\": 1}], {\"title\": \"<b>Verbs for Department of Administrative Hearings</b><br>\", \"xaxis\": {\"title\": \"\", \"tickfont\": {\"size\": 14, \"color\": \"rgb(107, 107, 107)\"}}, \"yaxis\": {\"title\": \"\", \"titlefont\": {\"size\": 16, \"color\": \"rgb(107, 107, 107)\"}, \"tickfont\": {\"size\": 14, \"color\": \"rgb(107, 107, 107)\"}}}, {\"showLink\": true, \"linkText\": \"Export to plot.ly\"})});</script>"
      ]
     },
     "metadata": {},
     "output_type": "display_data"
    },
    {
     "data": {
      "application/vnd.plotly.v1+json": {
       "data": [
        {
         "opacity": 1,
         "text": [
          1,
          1,
          1,
          1,
          1,
          1
         ],
         "textposition": "outside",
         "type": "bar",
         "x": [
          "include",
          "like",
          "present",
          "ensure",
          "enhance",
          "grow"
         ],
         "y": [
          1,
          1,
          1,
          1,
          1,
          1
         ]
        }
       ],
       "layout": {
        "title": "<b>Verbs for Department of Aviation</b><br>",
        "xaxis": {
         "tickfont": {
          "color": "rgb(107, 107, 107)",
          "size": 14
         },
         "title": ""
        },
        "yaxis": {
         "tickfont": {
          "color": "rgb(107, 107, 107)",
          "size": 14
         },
         "title": "",
         "titlefont": {
          "color": "rgb(107, 107, 107)",
          "size": 16
         }
        }
       }
      },
      "text/html": [
       "<div id=\"f438b4b5-60bb-460c-a188-e2a0ed022555\" style=\"height: 525px; width: 100%;\" class=\"plotly-graph-div\"></div><script type=\"text/javascript\">require([\"plotly\"], function(Plotly) { window.PLOTLYENV=window.PLOTLYENV || {};window.PLOTLYENV.BASE_URL=\"https://plot.ly\";Plotly.newPlot(\"f438b4b5-60bb-460c-a188-e2a0ed022555\", [{\"type\": \"bar\", \"x\": [\"include\", \"like\", \"present\", \"ensure\", \"enhance\", \"grow\"], \"y\": [1, 1, 1, 1, 1, 1], \"text\": [1, 1, 1, 1, 1, 1], \"textposition\": \"outside\", \"opacity\": 1}], {\"title\": \"<b>Verbs for Department of Aviation</b><br>\", \"xaxis\": {\"title\": \"\", \"tickfont\": {\"size\": 14, \"color\": \"rgb(107, 107, 107)\"}}, \"yaxis\": {\"title\": \"\", \"titlefont\": {\"size\": 16, \"color\": \"rgb(107, 107, 107)\"}, \"tickfont\": {\"size\": 14, \"color\": \"rgb(107, 107, 107)\"}}}, {\"showLink\": true, \"linkText\": \"Export to plot.ly\"})});</script>"
      ],
      "text/vnd.plotly.v1+html": [
       "<div id=\"f438b4b5-60bb-460c-a188-e2a0ed022555\" style=\"height: 525px; width: 100%;\" class=\"plotly-graph-div\"></div><script type=\"text/javascript\">require([\"plotly\"], function(Plotly) { window.PLOTLYENV=window.PLOTLYENV || {};window.PLOTLYENV.BASE_URL=\"https://plot.ly\";Plotly.newPlot(\"f438b4b5-60bb-460c-a188-e2a0ed022555\", [{\"type\": \"bar\", \"x\": [\"include\", \"like\", \"present\", \"ensure\", \"enhance\", \"grow\"], \"y\": [1, 1, 1, 1, 1, 1], \"text\": [1, 1, 1, 1, 1, 1], \"textposition\": \"outside\", \"opacity\": 1}], {\"title\": \"<b>Verbs for Department of Aviation</b><br>\", \"xaxis\": {\"title\": \"\", \"tickfont\": {\"size\": 14, \"color\": \"rgb(107, 107, 107)\"}}, \"yaxis\": {\"title\": \"\", \"titlefont\": {\"size\": 16, \"color\": \"rgb(107, 107, 107)\"}, \"tickfont\": {\"size\": 14, \"color\": \"rgb(107, 107, 107)\"}}}, {\"showLink\": true, \"linkText\": \"Export to plot.ly\"})});</script>"
      ]
     },
     "metadata": {},
     "output_type": "display_data"
    },
    {
     "data": {
      "application/vnd.plotly.v1+json": {
       "data": [
        {
         "opacity": 1,
         "text": [
          4,
          4,
          3,
          3,
          2,
          2,
          1,
          1,
          1,
          1,
          1,
          1,
          1,
          1,
          1
         ],
         "textposition": "outside",
         "type": "bar",
         "x": [
          "see",
          "pb",
          "nos",
          "blue",
          "add",
          "september",
          "investigate",
          "refer",
          "resolve",
          "deemed",
          "recuse",
          "contact",
          "take",
          "thursday",
          "include"
         ],
         "y": [
          4,
          4,
          3,
          3,
          2,
          2,
          1,
          1,
          1,
          1,
          1,
          1,
          1,
          1,
          1
         ]
        }
       ],
       "layout": {
        "title": "<b>Verbs for Chicago Police Board</b><br>",
        "xaxis": {
         "tickfont": {
          "color": "rgb(107, 107, 107)",
          "size": 14
         },
         "title": ""
        },
        "yaxis": {
         "tickfont": {
          "color": "rgb(107, 107, 107)",
          "size": 14
         },
         "title": "",
         "titlefont": {
          "color": "rgb(107, 107, 107)",
          "size": 16
         }
        }
       }
      },
      "text/html": [
       "<div id=\"c95bbc46-bfc3-46cd-9435-3b95cb786a3a\" style=\"height: 525px; width: 100%;\" class=\"plotly-graph-div\"></div><script type=\"text/javascript\">require([\"plotly\"], function(Plotly) { window.PLOTLYENV=window.PLOTLYENV || {};window.PLOTLYENV.BASE_URL=\"https://plot.ly\";Plotly.newPlot(\"c95bbc46-bfc3-46cd-9435-3b95cb786a3a\", [{\"type\": \"bar\", \"x\": [\"see\", \"pb\", \"nos\", \"blue\", \"add\", \"september\", \"investigate\", \"refer\", \"resolve\", \"deemed\", \"recuse\", \"contact\", \"take\", \"thursday\", \"include\"], \"y\": [4, 4, 3, 3, 2, 2, 1, 1, 1, 1, 1, 1, 1, 1, 1], \"text\": [4, 4, 3, 3, 2, 2, 1, 1, 1, 1, 1, 1, 1, 1, 1], \"textposition\": \"outside\", \"opacity\": 1}], {\"title\": \"<b>Verbs for Chicago Police Board</b><br>\", \"xaxis\": {\"title\": \"\", \"tickfont\": {\"size\": 14, \"color\": \"rgb(107, 107, 107)\"}}, \"yaxis\": {\"title\": \"\", \"titlefont\": {\"size\": 16, \"color\": \"rgb(107, 107, 107)\"}, \"tickfont\": {\"size\": 14, \"color\": \"rgb(107, 107, 107)\"}}}, {\"showLink\": true, \"linkText\": \"Export to plot.ly\"})});</script>"
      ],
      "text/vnd.plotly.v1+html": [
       "<div id=\"c95bbc46-bfc3-46cd-9435-3b95cb786a3a\" style=\"height: 525px; width: 100%;\" class=\"plotly-graph-div\"></div><script type=\"text/javascript\">require([\"plotly\"], function(Plotly) { window.PLOTLYENV=window.PLOTLYENV || {};window.PLOTLYENV.BASE_URL=\"https://plot.ly\";Plotly.newPlot(\"c95bbc46-bfc3-46cd-9435-3b95cb786a3a\", [{\"type\": \"bar\", \"x\": [\"see\", \"pb\", \"nos\", \"blue\", \"add\", \"september\", \"investigate\", \"refer\", \"resolve\", \"deemed\", \"recuse\", \"contact\", \"take\", \"thursday\", \"include\"], \"y\": [4, 4, 3, 3, 2, 2, 1, 1, 1, 1, 1, 1, 1, 1, 1], \"text\": [4, 4, 3, 3, 2, 2, 1, 1, 1, 1, 1, 1, 1, 1, 1], \"textposition\": \"outside\", \"opacity\": 1}], {\"title\": \"<b>Verbs for Chicago Police Board</b><br>\", \"xaxis\": {\"title\": \"\", \"tickfont\": {\"size\": 14, \"color\": \"rgb(107, 107, 107)\"}}, \"yaxis\": {\"title\": \"\", \"titlefont\": {\"size\": 16, \"color\": \"rgb(107, 107, 107)\"}, \"tickfont\": {\"size\": 14, \"color\": \"rgb(107, 107, 107)\"}}}, {\"showLink\": true, \"linkText\": \"Export to plot.ly\"})});</script>"
      ]
     },
     "metadata": {},
     "output_type": "display_data"
    },
    {
     "data": {
      "application/vnd.plotly.v1+json": {
       "data": [
        {
         "opacity": 1,
         "text": [
          1,
          1,
          1,
          1
         ],
         "textposition": "outside",
         "type": "bar",
         "x": [
          "visit",
          "contact",
          "take",
          "improve"
         ],
         "y": [
          1,
          1,
          1,
          1
         ]
        }
       ],
       "layout": {
        "title": "<b>Verbs for City of Chicago TV</b><br>",
        "xaxis": {
         "tickfont": {
          "color": "rgb(107, 107, 107)",
          "size": 14
         },
         "title": ""
        },
        "yaxis": {
         "tickfont": {
          "color": "rgb(107, 107, 107)",
          "size": 14
         },
         "title": "",
         "titlefont": {
          "color": "rgb(107, 107, 107)",
          "size": 16
         }
        }
       }
      },
      "text/html": [
       "<div id=\"eada6fd7-0a19-4089-9449-6230c9e033e2\" style=\"height: 525px; width: 100%;\" class=\"plotly-graph-div\"></div><script type=\"text/javascript\">require([\"plotly\"], function(Plotly) { window.PLOTLYENV=window.PLOTLYENV || {};window.PLOTLYENV.BASE_URL=\"https://plot.ly\";Plotly.newPlot(\"eada6fd7-0a19-4089-9449-6230c9e033e2\", [{\"type\": \"bar\", \"x\": [\"visit\", \"contact\", \"take\", \"improve\"], \"y\": [1, 1, 1, 1], \"text\": [1, 1, 1, 1], \"textposition\": \"outside\", \"opacity\": 1}], {\"title\": \"<b>Verbs for City of Chicago TV</b><br>\", \"xaxis\": {\"title\": \"\", \"tickfont\": {\"size\": 14, \"color\": \"rgb(107, 107, 107)\"}}, \"yaxis\": {\"title\": \"\", \"titlefont\": {\"size\": 16, \"color\": \"rgb(107, 107, 107)\"}, \"tickfont\": {\"size\": 14, \"color\": \"rgb(107, 107, 107)\"}}}, {\"showLink\": true, \"linkText\": \"Export to plot.ly\"})});</script>"
      ],
      "text/vnd.plotly.v1+html": [
       "<div id=\"eada6fd7-0a19-4089-9449-6230c9e033e2\" style=\"height: 525px; width: 100%;\" class=\"plotly-graph-div\"></div><script type=\"text/javascript\">require([\"plotly\"], function(Plotly) { window.PLOTLYENV=window.PLOTLYENV || {};window.PLOTLYENV.BASE_URL=\"https://plot.ly\";Plotly.newPlot(\"eada6fd7-0a19-4089-9449-6230c9e033e2\", [{\"type\": \"bar\", \"x\": [\"visit\", \"contact\", \"take\", \"improve\"], \"y\": [1, 1, 1, 1], \"text\": [1, 1, 1, 1], \"textposition\": \"outside\", \"opacity\": 1}], {\"title\": \"<b>Verbs for City of Chicago TV</b><br>\", \"xaxis\": {\"title\": \"\", \"tickfont\": {\"size\": 14, \"color\": \"rgb(107, 107, 107)\"}}, \"yaxis\": {\"title\": \"\", \"titlefont\": {\"size\": 16, \"color\": \"rgb(107, 107, 107)\"}, \"tickfont\": {\"size\": 14, \"color\": \"rgb(107, 107, 107)\"}}}, {\"showLink\": true, \"linkText\": \"Export to plot.ly\"})});</script>"
      ]
     },
     "metadata": {},
     "output_type": "display_data"
    },
    {
     "data": {
      "application/vnd.plotly.v1+json": {
       "data": [
        {
         "opacity": 1,
         "text": [],
         "textposition": "outside",
         "type": "bar",
         "x": [],
         "y": []
        }
       ],
       "layout": {
        "title": "<b>Verbs for Department of Compliance</b><br>",
        "xaxis": {
         "tickfont": {
          "color": "rgb(107, 107, 107)",
          "size": 14
         },
         "title": ""
        },
        "yaxis": {
         "tickfont": {
          "color": "rgb(107, 107, 107)",
          "size": 14
         },
         "title": "",
         "titlefont": {
          "color": "rgb(107, 107, 107)",
          "size": 16
         }
        }
       }
      },
      "text/html": [
       "<div id=\"56de99f0-3b31-4b63-acb7-14be1eaf0896\" style=\"height: 525px; width: 100%;\" class=\"plotly-graph-div\"></div><script type=\"text/javascript\">require([\"plotly\"], function(Plotly) { window.PLOTLYENV=window.PLOTLYENV || {};window.PLOTLYENV.BASE_URL=\"https://plot.ly\";Plotly.newPlot(\"56de99f0-3b31-4b63-acb7-14be1eaf0896\", [{\"type\": \"bar\", \"x\": [], \"y\": [], \"text\": [], \"textposition\": \"outside\", \"opacity\": 1}], {\"title\": \"<b>Verbs for Department of Compliance</b><br>\", \"xaxis\": {\"title\": \"\", \"tickfont\": {\"size\": 14, \"color\": \"rgb(107, 107, 107)\"}}, \"yaxis\": {\"title\": \"\", \"titlefont\": {\"size\": 16, \"color\": \"rgb(107, 107, 107)\"}, \"tickfont\": {\"size\": 14, \"color\": \"rgb(107, 107, 107)\"}}}, {\"showLink\": true, \"linkText\": \"Export to plot.ly\"})});</script>"
      ],
      "text/vnd.plotly.v1+html": [
       "<div id=\"56de99f0-3b31-4b63-acb7-14be1eaf0896\" style=\"height: 525px; width: 100%;\" class=\"plotly-graph-div\"></div><script type=\"text/javascript\">require([\"plotly\"], function(Plotly) { window.PLOTLYENV=window.PLOTLYENV || {};window.PLOTLYENV.BASE_URL=\"https://plot.ly\";Plotly.newPlot(\"56de99f0-3b31-4b63-acb7-14be1eaf0896\", [{\"type\": \"bar\", \"x\": [], \"y\": [], \"text\": [], \"textposition\": \"outside\", \"opacity\": 1}], {\"title\": \"<b>Verbs for Department of Compliance</b><br>\", \"xaxis\": {\"title\": \"\", \"tickfont\": {\"size\": 14, \"color\": \"rgb(107, 107, 107)\"}}, \"yaxis\": {\"title\": \"\", \"titlefont\": {\"size\": 16, \"color\": \"rgb(107, 107, 107)\"}, \"tickfont\": {\"size\": 14, \"color\": \"rgb(107, 107, 107)\"}}}, {\"showLink\": true, \"linkText\": \"Export to plot.ly\"})});</script>"
      ]
     },
     "metadata": {},
     "output_type": "display_data"
    },
    {
     "data": {
      "application/vnd.plotly.v1+json": {
       "data": [
        {
         "opacity": 1,
         "text": [
          1,
          1,
          1,
          1
         ],
         "textposition": "outside",
         "type": "bar",
         "x": [
          "june",
          "include",
          "like",
          "present"
         ],
         "y": [
          1,
          1,
          1,
          1
         ]
        }
       ],
       "layout": {
        "title": "<b>Verbs for License Appeal Commission</b><br>",
        "xaxis": {
         "tickfont": {
          "color": "rgb(107, 107, 107)",
          "size": 14
         },
         "title": ""
        },
        "yaxis": {
         "tickfont": {
          "color": "rgb(107, 107, 107)",
          "size": 14
         },
         "title": "",
         "titlefont": {
          "color": "rgb(107, 107, 107)",
          "size": 16
         }
        }
       }
      },
      "text/html": [
       "<div id=\"391fe426-53b7-4230-a1df-28305e359f5a\" style=\"height: 525px; width: 100%;\" class=\"plotly-graph-div\"></div><script type=\"text/javascript\">require([\"plotly\"], function(Plotly) { window.PLOTLYENV=window.PLOTLYENV || {};window.PLOTLYENV.BASE_URL=\"https://plot.ly\";Plotly.newPlot(\"391fe426-53b7-4230-a1df-28305e359f5a\", [{\"type\": \"bar\", \"x\": [\"june\", \"include\", \"like\", \"present\"], \"y\": [1, 1, 1, 1], \"text\": [1, 1, 1, 1], \"textposition\": \"outside\", \"opacity\": 1}], {\"title\": \"<b>Verbs for License Appeal Commission</b><br>\", \"xaxis\": {\"title\": \"\", \"tickfont\": {\"size\": 14, \"color\": \"rgb(107, 107, 107)\"}}, \"yaxis\": {\"title\": \"\", \"titlefont\": {\"size\": 16, \"color\": \"rgb(107, 107, 107)\"}, \"tickfont\": {\"size\": 14, \"color\": \"rgb(107, 107, 107)\"}}}, {\"showLink\": true, \"linkText\": \"Export to plot.ly\"})});</script>"
      ],
      "text/vnd.plotly.v1+html": [
       "<div id=\"391fe426-53b7-4230-a1df-28305e359f5a\" style=\"height: 525px; width: 100%;\" class=\"plotly-graph-div\"></div><script type=\"text/javascript\">require([\"plotly\"], function(Plotly) { window.PLOTLYENV=window.PLOTLYENV || {};window.PLOTLYENV.BASE_URL=\"https://plot.ly\";Plotly.newPlot(\"391fe426-53b7-4230-a1df-28305e359f5a\", [{\"type\": \"bar\", \"x\": [\"june\", \"include\", \"like\", \"present\"], \"y\": [1, 1, 1, 1], \"text\": [1, 1, 1, 1], \"textposition\": \"outside\", \"opacity\": 1}], {\"title\": \"<b>Verbs for License Appeal Commission</b><br>\", \"xaxis\": {\"title\": \"\", \"tickfont\": {\"size\": 14, \"color\": \"rgb(107, 107, 107)\"}}, \"yaxis\": {\"title\": \"\", \"titlefont\": {\"size\": 16, \"color\": \"rgb(107, 107, 107)\"}, \"tickfont\": {\"size\": 14, \"color\": \"rgb(107, 107, 107)\"}}}, {\"showLink\": true, \"linkText\": \"Export to plot.ly\"})});</script>"
      ]
     },
     "metadata": {},
     "output_type": "display_data"
    },
    {
     "data": {
      "application/vnd.plotly.v1+json": {
       "data": [
        {
         "opacity": 1,
         "text": [
          3,
          2,
          2,
          2,
          2,
          2,
          2,
          2,
          2,
          2,
          2,
          2,
          2,
          2,
          1
         ],
         "textposition": "outside",
         "type": "bar",
         "x": [
          "ensure",
          "develop",
          "replace",
          "improve",
          "occurred",
          "keep",
          "update",
          "differ",
          "turn",
          "missing",
          "held",
          "approve",
          "affect",
          "include",
          "inform"
         ],
         "y": [
          3,
          2,
          2,
          2,
          2,
          2,
          2,
          2,
          2,
          2,
          2,
          2,
          2,
          2,
          1
         ]
        }
       ],
       "layout": {
        "title": "<b>Verbs for Office of Budget and Management</b><br>",
        "xaxis": {
         "tickfont": {
          "color": "rgb(107, 107, 107)",
          "size": 14
         },
         "title": ""
        },
        "yaxis": {
         "tickfont": {
          "color": "rgb(107, 107, 107)",
          "size": 14
         },
         "title": "",
         "titlefont": {
          "color": "rgb(107, 107, 107)",
          "size": 16
         }
        }
       }
      },
      "text/html": [
       "<div id=\"bf13a14f-9557-4f3d-a5c8-0a1cd0aaab49\" style=\"height: 525px; width: 100%;\" class=\"plotly-graph-div\"></div><script type=\"text/javascript\">require([\"plotly\"], function(Plotly) { window.PLOTLYENV=window.PLOTLYENV || {};window.PLOTLYENV.BASE_URL=\"https://plot.ly\";Plotly.newPlot(\"bf13a14f-9557-4f3d-a5c8-0a1cd0aaab49\", [{\"type\": \"bar\", \"x\": [\"ensure\", \"develop\", \"replace\", \"improve\", \"occurred\", \"keep\", \"update\", \"differ\", \"turn\", \"missing\", \"held\", \"approve\", \"affect\", \"include\", \"inform\"], \"y\": [3, 2, 2, 2, 2, 2, 2, 2, 2, 2, 2, 2, 2, 2, 1], \"text\": [3, 2, 2, 2, 2, 2, 2, 2, 2, 2, 2, 2, 2, 2, 1], \"textposition\": \"outside\", \"opacity\": 1}], {\"title\": \"<b>Verbs for Office of Budget and Management</b><br>\", \"xaxis\": {\"title\": \"\", \"tickfont\": {\"size\": 14, \"color\": \"rgb(107, 107, 107)\"}}, \"yaxis\": {\"title\": \"\", \"titlefont\": {\"size\": 16, \"color\": \"rgb(107, 107, 107)\"}, \"tickfont\": {\"size\": 14, \"color\": \"rgb(107, 107, 107)\"}}}, {\"showLink\": true, \"linkText\": \"Export to plot.ly\"})});</script>"
      ],
      "text/vnd.plotly.v1+html": [
       "<div id=\"bf13a14f-9557-4f3d-a5c8-0a1cd0aaab49\" style=\"height: 525px; width: 100%;\" class=\"plotly-graph-div\"></div><script type=\"text/javascript\">require([\"plotly\"], function(Plotly) { window.PLOTLYENV=window.PLOTLYENV || {};window.PLOTLYENV.BASE_URL=\"https://plot.ly\";Plotly.newPlot(\"bf13a14f-9557-4f3d-a5c8-0a1cd0aaab49\", [{\"type\": \"bar\", \"x\": [\"ensure\", \"develop\", \"replace\", \"improve\", \"occurred\", \"keep\", \"update\", \"differ\", \"turn\", \"missing\", \"held\", \"approve\", \"affect\", \"include\", \"inform\"], \"y\": [3, 2, 2, 2, 2, 2, 2, 2, 2, 2, 2, 2, 2, 2, 1], \"text\": [3, 2, 2, 2, 2, 2, 2, 2, 2, 2, 2, 2, 2, 2, 1], \"textposition\": \"outside\", \"opacity\": 1}], {\"title\": \"<b>Verbs for Office of Budget and Management</b><br>\", \"xaxis\": {\"title\": \"\", \"tickfont\": {\"size\": 14, \"color\": \"rgb(107, 107, 107)\"}}, \"yaxis\": {\"title\": \"\", \"titlefont\": {\"size\": 16, \"color\": \"rgb(107, 107, 107)\"}, \"tickfont\": {\"size\": 14, \"color\": \"rgb(107, 107, 107)\"}}}, {\"showLink\": true, \"linkText\": \"Export to plot.ly\"})});</script>"
      ]
     },
     "metadata": {},
     "output_type": "display_data"
    }
   ],
   "source": []
  },
  {
   "cell_type": "markdown",
   "metadata": {},
   "source": [
    "## Word Clouds"
   ]
  },
  {
   "cell_type": "code",
   "execution_count": 163,
   "metadata": {
    "collapsed": true
   },
   "outputs": [],
   "source": [
    "verbs = [t[0] for t in webpages['stemmatized_tokens_POS'].sum() if t[1].startswith('VBP')]"
   ]
  },
  {
   "cell_type": "code",
   "execution_count": 164,
   "metadata": {},
   "outputs": [
    {
     "data": {
      "image/png": "[encoded data removed]",
      "text/plain": [
       "<matplotlib.figure.Figure at 0x21a9759cf28>"
      ]
     },
     "metadata": {},
     "output_type": "display_data"
    }
   ],
   "source": [
    "wc = wordcloud.WordCloud(background_color=\"white\", max_words=500, width= 1000, height = 1000, mode ='RGBA', scale=.5).generate(' '.join(verbs))\n",
    "plt.imshow(wc)\n",
    "plt.axis(\"off\")\n",
    "plt.savefig(\"verbs_present.png\", format = 'png')"
   ]
  },
  {
   "cell_type": "code",
   "execution_count": 158,
   "metadata": {
    "collapsed": true
   },
   "outputs": [],
   "source": [
    "def make_word_cloud(words, dept, pos, path):\n",
    "    filename = dept + '_' + pos\n",
    "    wc = wordcloud.WordCloud(background_color=\"white\", max_words=500, width= 1000, height = 1000, mode ='RGBA', scale=.5).generate(' '.join(words))\n",
    "    plt.imshow(wc)\n",
    "    plt.axis(\"off\")\n",
    "    plt.savefig(path + 'NORM_' + filename + \".png\", format = 'png')"
   ]
  },
  {
   "cell_type": "code",
   "execution_count": 159,
   "metadata": {
    "collapsed": true
   },
   "outputs": [],
   "source": [
    "def select_words_given_pos(pos, tagged_words):\n",
    "    words = [t[0] for t in tagged_words if t[1].startswith(pos)]\n",
    "    return words"
   ]
  },
  {
   "cell_type": "code",
   "execution_count": 160,
   "metadata": {
    "collapsed": true
   },
   "outputs": [],
   "source": [
    "def tagged_words_by_dept(dept, data):\n",
    "    tagged_words = data['normalized_tokens_POS'][data.dept_name == dept].sum()\n",
    "    return tagged_words"
   ]
  },
  {
   "cell_type": "code",
   "execution_count": 161,
   "metadata": {
    "collapsed": true
   },
   "outputs": [],
   "source": [
    "def word_clouds_for_pos(pos, data, path):\n",
    "    for dept in data.dept_name.unique():\n",
    "        tagged_words = tagged_words_by_dept(dept, data)\n",
    "        words_pos_chosen = select_words_given_pos(pos, tagged_words)\n",
    "        if words_pos_chosen:\n",
    "            make_word_cloud(words_pos_chosen, dept, pos, path)"
   ]
  },
  {
   "cell_type": "code",
   "execution_count": null,
   "metadata": {
    "collapsed": true
   },
   "outputs": [],
   "source": []
  },
  {
   "cell_type": "code",
   "execution_count": 162,
   "metadata": {},
   "outputs": [
    {
     "data": {
      "image/png": "[encoded data removed]",
      "text/plain": [
       "<matplotlib.figure.Figure at 0x21a92e76160>"
      ]
     },
     "metadata": {},
     "output_type": "display_data"
    }
   ],
   "source": [
    "word_clouds_for_pos('VBP', webpages, 'word_clouds/')"
   ]
  },
  {
   "cell_type": "markdown",
   "metadata": {},
   "source": [
    "## MISC"
   ]
  },
  {
   "cell_type": "code",
   "execution_count": 101,
   "metadata": {
    "collapsed": true
   },
   "outputs": [],
   "source": [
    "grams = list(bigrams(webpages['normalized_tokens'].sum()))"
   ]
  },
  {
   "cell_type": "code",
   "execution_count": 44,
   "metadata": {},
   "outputs": [
    {
     "data": {
      "text/html": [
       "<div>\n",
       "<style>\n",
       "    .dataframe thead tr:only-child th {\n",
       "        text-align: right;\n",
       "    }\n",
       "\n",
       "    .dataframe thead th {\n",
       "        text-align: left;\n",
       "    }\n",
       "\n",
       "    .dataframe tbody tr th {\n",
       "        vertical-align: top;\n",
       "    }\n",
       "</style>\n",
       "<table border=\"1\" class=\"dataframe\">\n",
       "  <thead>\n",
       "    <tr style=\"text-align: right;\">\n",
       "      <th></th>\n",
       "      <th>dept</th>\n",
       "      <th>title</th>\n",
       "      <th>url</th>\n",
       "      <th>button</th>\n",
       "      <th>i_want_to</th>\n",
       "      <th>nav</th>\n",
       "      <th>num_email_addresses</th>\n",
       "      <th>email_addresses</th>\n",
       "      <th>pdf_count</th>\n",
       "      <th>pdf_urls</th>\n",
       "      <th>...</th>\n",
       "      <th>ext_links</th>\n",
       "      <th>outside_domain</th>\n",
       "      <th>description_words</th>\n",
       "      <th>services</th>\n",
       "      <th>dept_name</th>\n",
       "      <th>normalized_tokens</th>\n",
       "      <th>stemmatized_tokens</th>\n",
       "      <th>normalized_tokens_POS</th>\n",
       "      <th>stemmatized_tokens_POS</th>\n",
       "      <th>most_frequent_present</th>\n",
       "    </tr>\n",
       "  </thead>\n",
       "  <tbody>\n",
       "    <tr>\n",
       "      <th>0</th>\n",
       "      <td>oem</td>\n",
       "      <td>Report Suspicious Activity</td>\n",
       "      <td>https://www.cityofchicago.org/city/en/depts/oem/supp_info/report-suspicious-activity.html</td>\n",
       "      <td>False</td>\n",
       "      <td>True</td>\n",
       "      <td>True</td>\n",
       "      <td>0</td>\n",
       "      <td></td>\n",
       "      <td>1</td>\n",
       "      <td>https://www.cityofchicago.org/content/dam/city/depts/oemc/supp_info/SeeSomethingSaySomething.pdf</td>\n",
       "      <td>...</td>\n",
       "      <td>http://www.dhs.gov/see-something-say-something</td>\n",
       "      <td>dhs.gov</td>\n",
       "      <td>see; something; say; something; report; suspicious; activitywe; play; role; keeping; communities; safe; se...</td>\n",
       "      <td>False</td>\n",
       "      <td>Emergency Management &amp; Communications</td>\n",
       "      <td>[see, something, say, something, report, suspicious, activitywe, play, role, keeping, communities, safe, s...</td>\n",
       "      <td>[see, someth, say, someth, report, suspici, activityw, play, role, keep, communiti, safe, see, someth, say...</td>\n",
       "      <td>[(see, VB), (something, NN), (say, VBP), (something, NN), (report, NN), (suspicious, JJ), (activitywe, JJ)...</td>\n",
       "      <td>[(see, VB), (someth, NNS), (say, VB), (someth, JJ), (report, NN), (suspici, NN), (activityw, JJ), (play, N...</td>\n",
       "      <td>[(say, 4), (see, 2), (terrorism, 1), (find, 1), (link, 1)]</td>\n",
       "    </tr>\n",
       "    <tr>\n",
       "      <th>1</th>\n",
       "      <td>mayor</td>\n",
       "      <td>Hurricane and Earthquake Disaster Relief</td>\n",
       "      <td>https://www.cityofchicago.org/city/en/depts/mayor/supp_info/harvey-disaster-relief.html</td>\n",
       "      <td>False</td>\n",
       "      <td>True</td>\n",
       "      <td>True</td>\n",
       "      <td>1</td>\n",
       "      <td>mailto:maria1@prfaa.pr.gov</td>\n",
       "      <td>0</td>\n",
       "      <td></td>\n",
       "      <td>...</td>\n",
       "      <td>http://www.chicagosistercities.com/; http://www.mayorscaucus.org/; http://www.worldbusinesschicago.com/; h...</td>\n",
       "      <td>ifrc.org; topos.mx; puertoricanchicago.org; houstonrecovers.org; projectpaz.org; safeandwell.communityos.o...</td>\n",
       "      <td>wake; hurricanes; harvey; irma; maria; recent; earthquakes; mexico; thoughts; victims; families; affected;...</td>\n",
       "      <td>False</td>\n",
       "      <td>Office of the Mayor</td>\n",
       "      <td>[wake, hurricanes, harvey, irma, maria, recent, earthquakes, mexico, thoughts, victims, families, affected...</td>\n",
       "      <td>[wake, hurrican, harvey, irma, maria, recent, earthquak, mexico, thought, victim, famili, affect, natur, d...</td>\n",
       "      <td>[(wake, NN), (hurricanes, NNS), (harvey, VBP), (irma, JJ), (maria, FW), (recent, JJ), (earthquakes, NNS), ...</td>\n",
       "      <td>[(wake, NN), (hurrican, JJ), (harvey, NN), (irma, NN), (maria, FW), (recent, JJ), (earthquak, NN), (mexico...</td>\n",
       "      <td>[(puerto, 5), (donate, 3), (mexico, 2), (rico, 2), (welcome, 2)]</td>\n",
       "    </tr>\n",
       "    <tr>\n",
       "      <th>23</th>\n",
       "      <td>dps</td>\n",
       "      <td>Current Bid Opportunities</td>\n",
       "      <td>https://www.cityofchicago.org/city/en/depts/dps/provdrs/contract/svcs/current_bid_opportunities.html</td>\n",
       "      <td>False</td>\n",
       "      <td>True</td>\n",
       "      <td>True</td>\n",
       "      <td>0</td>\n",
       "      <td></td>\n",
       "      <td>133</td>\n",
       "      <td>https://www.cityofchicago.org/content/dam/city/depts/dps/ContractAdministration/Specs/2018/Spec579313.pdf;...</td>\n",
       "      <td>...</td>\n",
       "      <td>https://webapps1.cityofchicago.org/EDSWeb/appmanager/OnlineEDS/desktop; http://author.cityofchicago.org/co...</td>\n",
       "      <td>webapps1.cityofchicago.org; author.cityofchicago.org</td>\n",
       "      <td>eprocurement; bid; opportunities; solicitations; require; online; response; available; online; available; ...</td>\n",
       "      <td>True</td>\n",
       "      <td>Department of Procurement Services</td>\n",
       "      <td>[eprocurement, bid, opportunities, solicitations, require, online, response, available, online, available,...</td>\n",
       "      <td>[eprocur, bid, opportun, solicit, requir, onlin, respons, avail, onlin, avail, pick, bid, bond, room, woul...</td>\n",
       "      <td>[(eprocurement, JJ), (bid, NN), (opportunities, NNS), (solicitations, NNS), (require, VBP), (online, JJ), ...</td>\n",
       "      <td>[(eprocur, JJ), (bid, NN), (opportun, NN), (solicit, NN), (requir, NN), (onlin, NN), (respons, NNS), (avai...</td>\n",
       "      <td>[(o'hare, 6), (rfq, 4), (architecture, 2), (require, 1), (addenda, 1)]</td>\n",
       "    </tr>\n",
       "    <tr>\n",
       "      <th>27</th>\n",
       "      <td>cdph</td>\n",
       "      <td>Free STI/HIV Testing and STI Treatment</td>\n",
       "      <td>https://www.cityofchicago.org/city/en/depts/cdph/provdrs/health_services/svcs/get_yourself_evaluatedforsti...</td>\n",
       "      <td>False</td>\n",
       "      <td>True</td>\n",
       "      <td>True</td>\n",
       "      <td>0</td>\n",
       "      <td></td>\n",
       "      <td>3</td>\n",
       "      <td>https://www.cityofchicago.org/content/dam/city/depts/cdph/tobacco_alchohol_and_drug_abuse/2016ChicagoOpioi...</td>\n",
       "      <td>...</td>\n",
       "      <td>https://visitor.r20.constantcontact.com/manage/optin/ea?v=001jsw_pnV76tUmSNJOdEkYeA%253D%253D; http://www....</td>\n",
       "      <td>cookcountyclerk.com; stopzikachicago.org; idph.state.il.us; hrsa.gov; who.int; gettestedchicago.com; visit...</td>\n",
       "      <td>cdph; lakeview; sti; clinic; closed; tuesday; february; resume; service; wednesday; february; effective; j...</td>\n",
       "      <td>True</td>\n",
       "      <td>Department of Public Health</td>\n",
       "      <td>[cdph, lakeview, sti, clinic, closed, tuesday, february, resume, service, wednesday, february, effective, ...</td>\n",
       "      <td>[cdph, lakeview, sti, clinic, close, tuesday, februari, resum, servic, wednesday, februari, effect, januar...</td>\n",
       "      <td>[(cdph, NN), (lakeview, NN), (sti, NN), (clinic, NN), (closed, VBD), (tuesday, JJ), (february, JJ), (resum...</td>\n",
       "      <td>[(cdph, NN), (lakeview, NN), (sti, NN), (clinic, NN), (close, NN), (tuesday, NN), (februari, VBD), (resum,...</td>\n",
       "      <td>[(receive, 6), (offer, 2), (love, 1), (roseland, 1), (e., 1)]</td>\n",
       "    </tr>\n",
       "    <tr>\n",
       "      <th>29</th>\n",
       "      <td>mayor</td>\n",
       "      <td>Find Your Ward and Alderman</td>\n",
       "      <td>https://www.cityofchicago.org/city/en/depts/mayor/provdrs/your_ward_and_alderman/svcs/find_my_alderman.html</td>\n",
       "      <td>False</td>\n",
       "      <td>False</td>\n",
       "      <td>True</td>\n",
       "      <td>0</td>\n",
       "      <td></td>\n",
       "      <td>1</td>\n",
       "      <td>https://www.cityofchicago.org/content/dam/city/about/banners/WardsOverviewMap.pdf</td>\n",
       "      <td>...</td>\n",
       "      <td>http://www.chicagosistercities.com/; http://www.mayorscaucus.org/; http://www.worldbusinesschicago.com/; h...</td>\n",
       "      <td>chicagosistercities.com; chicagoelections.com; glslcities.org; mayorscaucus.org; worldbusinesschicago.com;...</td>\n",
       "      <td>information; wards; aldermen; find; ward; alderman; street; address; list; wards; links; ward; site; maps;...</td>\n",
       "      <td>True</td>\n",
       "      <td>Office of the Mayor</td>\n",
       "      <td>[information, wards, aldermen, find, ward, alderman, street, address, list, wards, links, ward, site, maps...</td>\n",
       "      <td>[inform, ward, alderman, find, ward, alderman, street, address, list, ward, link, ward, site, map, ward, p...</td>\n",
       "      <td>[(information, NN), (wards, NNS), (aldermen, NNS), (find, VBP), (ward, JJ), (alderman, JJ), (street, NN), ...</td>\n",
       "      <td>[(inform, VB), (ward, NN), (alderman, NN), (find, VBP), (ward, JJ), (alderman, JJ), (street, NN), (address...</td>\n",
       "      <td>[(find, 1), (pdf, 1), (visit, 1), (website, 1)]</td>\n",
       "    </tr>\n",
       "    <tr>\n",
       "      <th>39</th>\n",
       "      <td>other</td>\n",
       "      <td>Dog Registration</td>\n",
       "      <td>https://www.cityofchicago.org/city/en/depts/other/provdrs/clerk/svcs/dog_registration.html</td>\n",
       "      <td>True</td>\n",
       "      <td>True</td>\n",
       "      <td>True</td>\n",
       "      <td>0</td>\n",
       "      <td></td>\n",
       "      <td>0</td>\n",
       "      <td></td>\n",
       "      <td>...</td>\n",
       "      <td>http://www.chicityclerk.com/licenses/dogs.html; https://webapps1.cityofchicago.org/ezbuy/purchaseDogEmblem.do</td>\n",
       "      <td>chicityclerk.com; webapps1.cityofchicago.org</td>\n",
       "      <td>buying; dog; emblem; online; easy; fast; convenient; vaccination; documentation; ready; go; ez; buy; order...</td>\n",
       "      <td>True</td>\n",
       "      <td>Other</td>\n",
       "      <td>[buying, dog, emblem, online, easy, fast, convenient, vaccination, documentation, ready, go, ez, buy, orde...</td>\n",
       "      <td>[buy, dog, emblem, onlin, easi, fast, conveni, vaccin, document, readi, go, ez, buy, order, onlin, allow, ...</td>\n",
       "      <td>[(buying, VBG), (dog, NN), (emblem, FW), (online, NN), (easy, JJ), (fast, JJ), (convenient, NN), (vaccinat...</td>\n",
       "      <td>[(buy, VB), (dog, NN), (emblem, NN), (onlin, NN), (easi, VBD), (fast, RB), (conveni, JJ), (vaccin, NN), (d...</td>\n",
       "      <td>[(emblem, 2), (go, 1), (receive, 1), (visit, 1)]</td>\n",
       "    </tr>\n",
       "    <tr>\n",
       "      <th>65</th>\n",
       "      <td>mayor</td>\n",
       "      <td>One Good Deed Chicago Volunteer Opportunities</td>\n",
       "      <td>https://www.cityofchicago.org/city/en/depts/mayor/provdrs/special_prog/svcs/one_good_deed_chicago.html</td>\n",
       "      <td>True</td>\n",
       "      <td>False</td>\n",
       "      <td>True</td>\n",
       "      <td>0</td>\n",
       "      <td></td>\n",
       "      <td>0</td>\n",
       "      <td></td>\n",
       "      <td>...</td>\n",
       "      <td>http://www.chicagosistercities.com/; http://www.mayorscaucus.org/; http://www.worldbusinesschicago.com/; h...</td>\n",
       "      <td>chicagosistercities.com; glslcities.org; onegooddeedchicago.org; mayorscaucus.org; worldbusinesschicago.com</td>\n",
       "      <td>one; good; deed; new; initiative; harnesses; power; volunteers; future; home; volunteer; opportunity; sear...</td>\n",
       "      <td>True</td>\n",
       "      <td>Office of the Mayor</td>\n",
       "      <td>[one, good, deed, new, initiative, harnesses, power, volunteers, future, home, volunteer, opportunity, sea...</td>\n",
       "      <td>[one, good, deed, new, initi, har, power, volunt, futur, home, volunt, opportun, search, much, whether, lo...</td>\n",
       "      <td>[(one, CD), (good, JJ), (deed, VB), (new, JJ), (initiative, JJ), (harnesses, NNS), (power, NN), (volunteer...</td>\n",
       "      <td>[(one, CD), (good, JJ), (deed, VB), (new, JJ), (initi, NN), (har, NN), (power, NN), (volunt, NN), (futur, ...</td>\n",
       "      <td>[(website, 1), (make, 1)]</td>\n",
       "    </tr>\n",
       "    <tr>\n",
       "      <th>69</th>\n",
       "      <td>311</td>\n",
       "      <td>Call Center Operations Unit</td>\n",
       "      <td>https://www.cityofchicago.org/city/en/depts/311/provdrs/callops.html</td>\n",
       "      <td>False</td>\n",
       "      <td>False</td>\n",
       "      <td>True</td>\n",
       "      <td>0</td>\n",
       "      <td></td>\n",
       "      <td>0</td>\n",
       "      <td></td>\n",
       "      <td>...</td>\n",
       "      <td>http://www.choosechicago.com/; https://portal.chicagopolice.org/portal/page/portal/ClearPath</td>\n",
       "      <td>portal.chicagopolice.org; choosechicago.com</td>\n",
       "      <td>easy-to-remember; number; put; callers; touch; vast; array; programs; services; offer; operation; availabl...</td>\n",
       "      <td>False</td>\n",
       "      <td>311 City Services</td>\n",
       "      <td>[easy-to-remember, number, put, callers, touch, vast, array, programs, services, offer, operation, availab...</td>\n",
       "      <td>[number, put, caller, touch, vast, array, program, servic, offer, oper, avail, report, servic, need, check...</td>\n",
       "      <td>[(easy-to-remember, JJ), (number, NN), (put, VBD), (callers, NNS), (touch, JJ), (vast, JJ), (array, NN), (...</td>\n",
       "      <td>[(number, NN), (put, VBD), (caller, JJR), (touch, NN), (vast, JJ), (array, JJ), (program, NN), (servic, NN...</td>\n",
       "      <td>[(request, 3), (find, 2), (and/or, 2), (offer, 1), (file, 1)]</td>\n",
       "    </tr>\n",
       "    <tr>\n",
       "      <th>72</th>\n",
       "      <td>311</td>\n",
       "      <td>Chicago 311 History</td>\n",
       "      <td>https://www.cityofchicago.org/city/en/depts/311/supp_info/311hist.html</td>\n",
       "      <td>False</td>\n",
       "      <td>True</td>\n",
       "      <td>True</td>\n",
       "      <td>0</td>\n",
       "      <td></td>\n",
       "      <td>0</td>\n",
       "      <td></td>\n",
       "      <td>...</td>\n",
       "      <td></td>\n",
       "      <td></td>\n",
       "      <td>took; hard; look; residents; requested; services; departments; responded; requests; realized; although; sy...</td>\n",
       "      <td>False</td>\n",
       "      <td>311 City Services</td>\n",
       "      <td>[took, hard, look, residents, requested, services, departments, responded, requests, realized, although, s...</td>\n",
       "      <td>[took, hard, look, resid, request, servic, depart, respond, request, realiz, although, system, consid, one...</td>\n",
       "      <td>[(took, VBD), (hard, JJ), (look, NN), (residents, NNS), (requested, VBD), (services, NNS), (departments, N...</td>\n",
       "      <td>[(took, VBD), (hard, JJ), (look, NN), (resid, NN), (request, NN), (servic, JJ), (depart, NN), (respond, NN...</td>\n",
       "      <td>[(generate, 2), (deliver, 1), (proper, 1), (method, 1), (include, 1)]</td>\n",
       "    </tr>\n",
       "    <tr>\n",
       "      <th>99</th>\n",
       "      <td>bacp</td>\n",
       "      <td>3 Simple Steps to Obtain a Business License</td>\n",
       "      <td>https://www.cityofchicago.org/city/en/depts/bacp/supp_info/3_simple_steps_toobtainabusinesslicense.html</td>\n",
       "      <td>False</td>\n",
       "      <td>True</td>\n",
       "      <td>True</td>\n",
       "      <td>0</td>\n",
       "      <td></td>\n",
       "      <td>1</td>\n",
       "      <td>https://www.cityofchicago.org/content/dam/city/depts/bacp/general/3simplestepstoobtainbuslicf05313.pdf</td>\n",
       "      <td>...</td>\n",
       "      <td></td>\n",
       "      <td></td>\n",
       "      <td>prepare; applying; business; license; must; first; decide; type; business; interested; starting; prepare; ...</td>\n",
       "      <td>False</td>\n",
       "      <td>Department of Business Affairs and Consumer Protection</td>\n",
       "      <td>[prepare, applying, business, license, must, first, decide, type, business, interested, starting, prepare,...</td>\n",
       "      <td>[prepar, appli, busi, licens, must, first, decid, type, busi, interest, start, prepar, busi, plan, suit, s...</td>\n",
       "      <td>[(prepare, NN), (applying, VBG), (business, NN), (license, NN), (must, MD), (first, VB), (decide, VB), (ty...</td>\n",
       "      <td>[(prepar, NN), (appli, NN), (busi, NN), (licens, VBZ), (must, MD), (first, VB), (decid, NN), (type, NN), (...</td>\n",
       "      <td>[]</td>\n",
       "    </tr>\n",
       "    <tr>\n",
       "      <th>106</th>\n",
       "      <td>bacp</td>\n",
       "      <td>Liquor License Inspections</td>\n",
       "      <td>https://www.cityofchicago.org/city/en/depts/bacp/supp_info/liquor_license_inspections.html</td>\n",
       "      <td>False</td>\n",
       "      <td>True</td>\n",
       "      <td>True</td>\n",
       "      <td>0</td>\n",
       "      <td></td>\n",
       "      <td>0</td>\n",
       "      <td></td>\n",
       "      <td>...</td>\n",
       "      <td></td>\n",
       "      <td></td>\n",
       "      <td>initial; license; inspections; free; workshops; available; prepare; inspections; check; monthly; workshop;...</td>\n",
       "      <td>False</td>\n",
       "      <td>Department of Business Affairs and Consumer Protection</td>\n",
       "      <td>[initial, license, inspections, free, workshops, available, prepare, inspections, check, monthly, workshop...</td>\n",
       "      <td>[initi, licens, inspect, free, workshop, avail, prepar, inspect, check, month, workshop, calendar, click, ...</td>\n",
       "      <td>[(initial, JJ), (license, NN), (inspections, NNS), (free, JJ), (workshops, NNS), (available, JJ), (prepare...</td>\n",
       "      <td>[(initi, NN), (licens, NNS), (inspect, VBP), (free, JJ), (workshop, NN), (avail, NN), (prepar, NN), (inspe...</td>\n",
       "      <td>[(check, 1), (determine, 1), (promote, 1), (focus, 1), (visit, 1)]</td>\n",
       "    </tr>\n",
       "    <tr>\n",
       "      <th>108</th>\n",
       "      <td>bacp</td>\n",
       "      <td>Required Documents for Liquor License Applications</td>\n",
       "      <td>https://www.cityofchicago.org/city/en/depts/bacp/supp_info/required_documentsforliquorlicenseapplications....</td>\n",
       "      <td>False</td>\n",
       "      <td>True</td>\n",
       "      <td>True</td>\n",
       "      <td>0</td>\n",
       "      <td></td>\n",
       "      <td>0</td>\n",
       "      <td></td>\n",
       "      <td>...</td>\n",
       "      <td>http://www2.state.il.us/lcc/basset; http://www.revenue.state.il.us/Businesses/register.htm; http://www.irs...</td>\n",
       "      <td>.state.il.us; revenue.state.il.us; irs.gov</td>\n",
       "      <td>following; comprehensive; list; documentation; required; submitted; filing; liquor; license; application; ...</td>\n",
       "      <td>False</td>\n",
       "      <td>Department of Business Affairs and Consumer Protection</td>\n",
       "      <td>[following, comprehensive, list, documentation, required, submitted, filing, liquor, license, application,...</td>\n",
       "      <td>[follow, comprehens, list, document, requir, submit, file, liquor, licens, applic, chang, type, iii, docum...</td>\n",
       "      <td>[(following, VBG), (comprehensive, JJ), (list, JJ), (documentation, NN), (required, VBN), (submitted, VBD)...</td>\n",
       "      <td>[(follow, VB), (comprehens, NNS), (list, JJ), (document, NN), (requir, NN), (submit, NN), (file, NN), (liq...</td>\n",
       "      <td>[(irs, 2), (type, 1), (applicant, 1), (license, 1), (aggregate, 1)]</td>\n",
       "    </tr>\n",
       "    <tr>\n",
       "      <th>128</th>\n",
       "      <td>other</td>\n",
       "      <td>Office of the City Clerk</td>\n",
       "      <td>https://www.cityofchicago.org/city/en/depts/other/provdrs/clerk.html</td>\n",
       "      <td>False</td>\n",
       "      <td>False</td>\n",
       "      <td>True</td>\n",
       "      <td>0</td>\n",
       "      <td></td>\n",
       "      <td>0</td>\n",
       "      <td></td>\n",
       "      <td>...</td>\n",
       "      <td>http://www.chicityclerk.com</td>\n",
       "      <td>chicityclerk.com</td>\n",
       "      <td>buy; vehicle; stickers; residential; parking; permits; guest; passes; clerk; office; also; view; legislati...</td>\n",
       "      <td>False</td>\n",
       "      <td>Other</td>\n",
       "      <td>[buy, vehicle, stickers, residential, parking, permits, guest, passes, clerk, office, also, view, legislat...</td>\n",
       "      <td>[buy, vehicl, sticker, residenti, park, permit, guest, pas, clerk, offic, also, view, legisl, committe, in...</td>\n",
       "      <td>[(buy, VB), (vehicle, NN), (stickers, NNS), (residential, JJ), (parking, VBG), (permits, NNS), (guest, JJS...</td>\n",
       "      <td>[(buy, VB), (vehicl, JJ), (sticker, NN), (residenti, NN), (park, NN), (permit, NN), (guest, JJS), (pas, NN...</td>\n",
       "      <td>[(view, 1), (visit, 1)]</td>\n",
       "    </tr>\n",
       "    <tr>\n",
       "      <th>133</th>\n",
       "      <td>cdph</td>\n",
       "      <td>Household Chemicals &amp; Computer Recycling Facility Accepted Items</td>\n",
       "      <td>https://www.cityofchicago.org/city/en/depts/cdph/supp_info/inspections---permitting/household_chemicalscom...</td>\n",
       "      <td>False</td>\n",
       "      <td>True</td>\n",
       "      <td>True</td>\n",
       "      <td>0</td>\n",
       "      <td></td>\n",
       "      <td>2</td>\n",
       "      <td>https://www.cityofchicago.org/content/dam/city/depts/cdph/tobacco_alchohol_and_drug_abuse/2016ChicagoOpioi...</td>\n",
       "      <td>...</td>\n",
       "      <td>https://visitor.r20.constantcontact.com/manage/optin/ea?v=001jsw_pnV76tUmSNJOdEkYeA%253D%253D; http://www....</td>\n",
       "      <td>cookcountyclerk.com; stopzikachicago.org; visitor.r20.constantcontact.com; earth911.com; servicerequest.ci...</td>\n",
       "      <td>address; n.; north; branch; street; household; chemicals; computer; recycling; facility; accepts; chemical...</td>\n",
       "      <td>False</td>\n",
       "      <td>Department of Public Health</td>\n",
       "      <td>[address, n., north, branch, street, household, chemicals, computer, recycling, facility, accepts, chemica...</td>\n",
       "      <td>[address, north, branch, street, household, chemic, comput, recycl, facil, accept, chemic, household, chem...</td>\n",
       "      <td>[(address, NN), (n., JJ), (north, JJ), (branch, NN), (street, NN), (household, NN), (chemicals, NNS), (com...</td>\n",
       "      <td>[(address, JJ), (north, JJ), (branch, JJ), (street, NN), (household, NN), (chemic, JJ), (comput, NN), (rec...</td>\n",
       "      <td>[(etc, 5), (household, 2), (video, 2), (bleach, 1), (drain, 1)]</td>\n",
       "    </tr>\n",
       "    <tr>\n",
       "      <th>164</th>\n",
       "      <td>dcd</td>\n",
       "      <td>Roof, Porch and Emergency Heating Repair Programs (formerly EHAP)</td>\n",
       "      <td>https://www.cityofchicago.org/city/en/depts/dcd/provdrs/afford_hous/svcs/receive_emergencyhousingassistanc...</td>\n",
       "      <td>False</td>\n",
       "      <td>True</td>\n",
       "      <td>True</td>\n",
       "      <td>0</td>\n",
       "      <td></td>\n",
       "      <td>3</td>\n",
       "      <td>https://www.cityofchicago.org/content/dam/city/depts/dcd/general/housing/Roof_Porch_Selection_List_2018.pd...</td>\n",
       "      <td>...</td>\n",
       "      <td></td>\n",
       "      <td></td>\n",
       "      <td>information; call; roof; porch; repair; program; emergency; heating; repair; program; help; homeowners; ma...</td>\n",
       "      <td>True</td>\n",
       "      <td>Department of Planning and Development</td>\n",
       "      <td>[information, call, roof, porch, repair, program, emergency, heating, repair, program, help, homeowners, m...</td>\n",
       "      <td>[inform, call, roof, porch, repair, program, emerg, heat, repair, program, help, homeown, make, improv, ho...</td>\n",
       "      <td>[(information, NN), (call, NN), (roof, NN), (porch, NN), (repair, NN), (program, NN), (emergency, NN), (he...</td>\n",
       "      <td>[(inform, NN), (call, NN), (roof, NN), (porch, NN), (repair, NN), (program, NN), (emerg, VBZ), (heat, JJ),...</td>\n",
       "      <td>[(make, 2), (roof, 2), (e., 1), (note, 1), (april, 1)]</td>\n",
       "    </tr>\n",
       "    <tr>\n",
       "      <th>187</th>\n",
       "      <td>other</td>\n",
       "      <td>Park District Permits</td>\n",
       "      <td>https://www.cityofchicago.org/city/en/depts/other/provdrs/cpd/svcs/park_district_permits.html</td>\n",
       "      <td>False</td>\n",
       "      <td>True</td>\n",
       "      <td>True</td>\n",
       "      <td>0</td>\n",
       "      <td></td>\n",
       "      <td>0</td>\n",
       "      <td></td>\n",
       "      <td>...</td>\n",
       "      <td>http://www.chicagoparkdistrict.com/permits-and-rentals/</td>\n",
       "      <td>chicagoparkdistrict.com</td>\n",
       "      <td>page; resource; individuals; groups; organizations; interested; hosting; event; parks; would; like; inform...</td>\n",
       "      <td>True</td>\n",
       "      <td>Other</td>\n",
       "      <td>[page, resource, individuals, groups, organizations, interested, hosting, event, parks, would, like, infor...</td>\n",
       "      <td>[page, resourc, individu, group, organ, interest, host, event, park, would, like, inform, soldier, field, ...</td>\n",
       "      <td>[(page, NN), (resource, NN), (individuals, NNS), (groups, NNS), (organizations, NNS), (interested, JJ), (h...</td>\n",
       "      <td>[(page, NN), (resourc, NN), (individu, NN), (group, NN), (organ, JJ), (interest, NN), (host, NN), (event, ...</td>\n",
       "      <td>[(golf, 1), (visit, 1)]</td>\n",
       "    </tr>\n",
       "    <tr>\n",
       "      <th>214</th>\n",
       "      <td>cdph</td>\n",
       "      <td>Underground Storage Tank Permit</td>\n",
       "      <td>https://www.cityofchicago.org/city/en/depts/cdph/provdrs/inspections_and_permitting/svcs/apply_for_an_unde...</td>\n",
       "      <td>False</td>\n",
       "      <td>True</td>\n",
       "      <td>True</td>\n",
       "      <td>0</td>\n",
       "      <td></td>\n",
       "      <td>21</td>\n",
       "      <td>https://www.cityofchicago.org/content/dam/city/depts/cdph/tobacco_alchohol_and_drug_abuse/2016ChicagoOpioi...</td>\n",
       "      <td>...</td>\n",
       "      <td>https://visitor.r20.constantcontact.com/manage/optin/ea?v=001jsw_pnV76tUmSNJOdEkYeA%253D%253D; http://www....</td>\n",
       "      <td>cookcountyclerk.com; stopzikachicago.org; webapps1.sfm.illinois.gov; visitor.r20.constantcontact.com; serv...</td>\n",
       "      <td>overview; underground; storage; tank; system; ust; tank; combination; tanks; connected; piping; least; com...</td>\n",
       "      <td>True</td>\n",
       "      <td>Department of Public Health</td>\n",
       "      <td>[overview, underground, storage, tank, system, ust, tank, combination, tanks, connected, piping, least, co...</td>\n",
       "      <td>[overview, underground, storag, tank, system, ust, tank, combin, tank, connect, pipe, least, combin, volum...</td>\n",
       "      <td>[(overview, NN), (underground, JJ), (storage, NN), (tank, NN), (system, NN), (ust, JJ), (tank, NN), (combi...</td>\n",
       "      <td>[(overview, NN), (underground, IN), (storag, NN), (tank, NN), (system, NN), (ust, JJ), (tank, NN), (combin...</td>\n",
       "      <td>[(permit, 2), (see, 1), (install, 1), (osfm, 1), (help, 1)]</td>\n",
       "    </tr>\n",
       "    <tr>\n",
       "      <th>218</th>\n",
       "      <td>dps</td>\n",
       "      <td>Certification - Veteran Business Enterprise (VBE)</td>\n",
       "      <td>https://www.cityofchicago.org/city/en/depts/dps/provdrs/cert/svcs/Certification_VBE.html</td>\n",
       "      <td>False</td>\n",
       "      <td>True</td>\n",
       "      <td>True</td>\n",
       "      <td>1</td>\n",
       "      <td>mailto:dps.certification@cityofchicago.org</td>\n",
       "      <td>0</td>\n",
       "      <td></td>\n",
       "      <td>...</td>\n",
       "      <td>https://www.google.com/maps/dir/121+N.+LaSalle+St.+%2C+Chicago%2C+IL%2C+60602</td>\n",
       "      <td>google.com</td>\n",
       "      <td>vbe; certification; vbe; certification; awarded; small; local; business; owned; operated; veterans; genera...</td>\n",
       "      <td>True</td>\n",
       "      <td>Department of Procurement Services</td>\n",
       "      <td>[vbe, certification, vbe, certification, awarded, small, local, business, owned, operated, veterans, gener...</td>\n",
       "      <td>[vbe, certif, vbe, certif, award, small, local, busi, own, oper, veteran, general, honor, discharg, take, ...</td>\n",
       "      <td>[(vbe, JJ), (certification, NN), (vbe, NN), (certification, NN), (awarded, VBD), (small, JJ), (local, JJ),...</td>\n",
       "      <td>[(vbe, NN), (certif, NN), (vbe, NN), (certif, VBP), (award, RB), (small, JJ), (local, JJ), (busi, NN), (ow...</td>\n",
       "      <td>[(receive, 2), (cook, 2), (lake, 2), (vbe, 2), (visit, 1)]</td>\n",
       "    </tr>\n",
       "    <tr>\n",
       "      <th>219</th>\n",
       "      <td>streets</td>\n",
       "      <td>Traffic Services (Vehicle Removal/Towing &amp; Special Events Enforcement)</td>\n",
       "      <td>https://www.cityofchicago.org/city/en/depts/streets/provdrs/traffic.html</td>\n",
       "      <td>False</td>\n",
       "      <td>False</td>\n",
       "      <td>True</td>\n",
       "      <td>0</td>\n",
       "      <td></td>\n",
       "      <td>0</td>\n",
       "      <td></td>\n",
       "      <td>...</td>\n",
       "      <td>https://portal.chicagopolice.org/portal/page/portal/ClearPath/Online%20Services/TowSteal%20Search; https:/...</td>\n",
       "      <td>portal.chicagopolice.org; webapps1.cityofchicago.org</td>\n",
       "      <td>bureau; traffic; services; best; known; towing; relocation; vehicles; routinely; provide; critical; suppor...</td>\n",
       "      <td>False</td>\n",
       "      <td>Department of Streets and Sanitation</td>\n",
       "      <td>[bureau, traffic, services, best, known, towing, relocation, vehicles, routinely, provide, critical, suppo...</td>\n",
       "      <td>[bureau, traffic, servic, best, known, tow, reloc, vehicl, routin, provid, critic, support, servic, mani, ...</td>\n",
       "      <td>[(bureau, NN), (traffic, NN), (services, NNS), (best, RB), (known, VBN), (towing, VBG), (relocation, NN), ...</td>\n",
       "      <td>[(bureau, NN), (traffic, NN), (servic, JJ), (best, RBS), (known, VBN), (tow, JJ), (reloc, NN), (vehicl, NN...</td>\n",
       "      <td>[(provide, 1), (result, 1)]</td>\n",
       "    </tr>\n",
       "    <tr>\n",
       "      <th>223</th>\n",
       "      <td>bldgs</td>\n",
       "      <td>Easy Permit Process</td>\n",
       "      <td>https://www.cityofchicago.org/city/en/depts/bldgs/provdrs/permit_proc.html</td>\n",
       "      <td>False</td>\n",
       "      <td>False</td>\n",
       "      <td>True</td>\n",
       "      <td>0</td>\n",
       "      <td></td>\n",
       "      <td>2</td>\n",
       "      <td>https://www.cityofchicago.org/content/dam/city/depts/bldgs/general/EZPERMIT/197998_19_Easy_Permit_acrobat_...</td>\n",
       "      <td>...</td>\n",
       "      <td></td>\n",
       "      <td></td>\n",
       "      <td>easy; permit; process; streamlined; process; small; simple; home; building; improvement; projects; allows;...</td>\n",
       "      <td>False</td>\n",
       "      <td>Department of Buildings</td>\n",
       "      <td>[easy, permit, process, streamlined, process, small, simple, home, building, improvement, projects, allows...</td>\n",
       "      <td>[easi, permit, process, streamlin, process, small, simpl, home, build, improv, project, allow, home, build...</td>\n",
       "      <td>[(easy, JJ), (permit, NN), (process, NN), (streamlined, VBD), (process, RB), (small, JJ), (simple, JJ), (h...</td>\n",
       "      <td>[(easi, JJ), (permit, NN), (process, NN), (streamlin, NN), (process, NN), (small, JJ), (simpl, NN), (home,...</td>\n",
       "      <td>[(use, 1), (violation, 1), (roofs, 1), (online, 1)]</td>\n",
       "    </tr>\n",
       "    <tr>\n",
       "      <th>233</th>\n",
       "      <td>None</td>\n",
       "      <td>Transportation</td>\n",
       "      <td>https://www.cityofchicago.org/city/en/progs/trnsprt.html</td>\n",
       "      <td>False</td>\n",
       "      <td>True</td>\n",
       "      <td>True</td>\n",
       "      <td>0</td>\n",
       "      <td></td>\n",
       "      <td>0</td>\n",
       "      <td></td>\n",
       "      <td>...</td>\n",
       "      <td>http://www.transitchicago.com; http://metrarail.com/metra/en/home.html; http://www.rtachicago.com/; http:/...</td>\n",
       "      <td>metrarail.com; nictd.com; pacebus.com; rtachicago.com; transitchicago.com</td>\n",
       "      <td>vibrant; transportation; network; connects; communities; across; whether; traveling; car; bike; foot; publ...</td>\n",
       "      <td>False</td>\n",
       "      <td>None</td>\n",
       "      <td>[vibrant, transportation, network, connects, communities, across, whether, traveling, car, bike, foot, pub...</td>\n",
       "      <td>[vibrant, transport, network, connect, communiti, across, whether, travel, car, bike, foot, public, transi...</td>\n",
       "      <td>[(vibrant, JJ), (transportation, NN), (network, NN), (connects, NNS), (communities, NNS), (across, IN), (w...</td>\n",
       "      <td>[(vibrant, NN), (transport, NN), (network, NN), (connect, NN), (communiti, NN), (across, IN), (whether, IN...</td>\n",
       "      <td>[(get, 1)]</td>\n",
       "    </tr>\n",
       "    <tr>\n",
       "      <th>259</th>\n",
       "      <td>bacp</td>\n",
       "      <td>Steps in the Liquor License Application Process</td>\n",
       "      <td>https://www.cityofchicago.org/city/en/depts/bacp/supp_info/steps_in_the_liquorlicenseapplicationprocess.html</td>\n",
       "      <td>False</td>\n",
       "      <td>True</td>\n",
       "      <td>True</td>\n",
       "      <td>0</td>\n",
       "      <td></td>\n",
       "      <td>0</td>\n",
       "      <td></td>\n",
       "      <td>...</td>\n",
       "      <td></td>\n",
       "      <td></td>\n",
       "      <td>liquor; license; application; process; outlined; note; business; consultant; assist; guide; application; p...</td>\n",
       "      <td>False</td>\n",
       "      <td>Department of Business Affairs and Consumer Protection</td>\n",
       "      <td>[liquor, license, application, process, outlined, note, business, consultant, assist, guide, application, ...</td>\n",
       "      <td>[liquor, licens, applic, process, outlin, note, busi, consult, assist, guid, applic, process, step, get, s...</td>\n",
       "      <td>[(liquor, NN), (license, NN), (application, NN), (process, NN), (outlined, VBN), (note, NN), (business, NN...</td>\n",
       "      <td>[(liquor, NN), (licens, VBZ), (applic, JJ), (process, NN), (outlin, IN), (note, NN), (busi, NN), (consult,...</td>\n",
       "      <td>[(application, 5), (provide, 4), (submit, 2), (want, 1), (club, 1)]</td>\n",
       "    </tr>\n",
       "    <tr>\n",
       "      <th>270</th>\n",
       "      <td>other</td>\n",
       "      <td>Before and After School Programs</td>\n",
       "      <td>https://www.cityofchicago.org/city/en/depts/other/provdrs/cps/svcs/before_and_afterschoolprograms.html</td>\n",
       "      <td>False</td>\n",
       "      <td>True</td>\n",
       "      <td>True</td>\n",
       "      <td>0</td>\n",
       "      <td></td>\n",
       "      <td>0</td>\n",
       "      <td></td>\n",
       "      <td>...</td>\n",
       "      <td>http://www.cps.edu/Programs/Before_and_after_school/Pages/Beforeandafterschool.aspx</td>\n",
       "      <td>cps.edu</td>\n",
       "      <td>school; programs; provide; safe; fun; environment; students; participate; academic; leisure; recreational;...</td>\n",
       "      <td>True</td>\n",
       "      <td>Other</td>\n",
       "      <td>[school, programs, provide, safe, fun, environment, students, participate, academic, leisure, recreational...</td>\n",
       "      <td>[school, program, provid, safe, fun, environ, student, particip, academ, leisur, recreat, activ, outsid, t...</td>\n",
       "      <td>[(school, NN), (programs, NNS), (provide, VBP), (safe, JJ), (fun, NN), (environment, NN), (students, NNS),...</td>\n",
       "      <td>[(school, NN), (program, NN), (provid, NN), (safe, JJ), (fun, NN), (environ, FW), (student, NN), (particip...</td>\n",
       "      <td>[(provide, 1), (child, 1), (participate, 1), (cps, 1), (offer, 1)]</td>\n",
       "    </tr>\n",
       "    <tr>\n",
       "      <th>280</th>\n",
       "      <td>cpd</td>\n",
       "      <td>CAPS District and Beat Meetings (Chicago Alternative Policing Strategy)</td>\n",
       "      <td>https://www.cityofchicago.org/city/en/depts/cpd/provdrs/police_services/svcs/find_caps_beat_meetings.html</td>\n",
       "      <td>False</td>\n",
       "      <td>True</td>\n",
       "      <td>True</td>\n",
       "      <td>0</td>\n",
       "      <td></td>\n",
       "      <td>0</td>\n",
       "      <td></td>\n",
       "      <td>...</td>\n",
       "      <td>http://home.chicagopolice.org/; http://home.chicagopolice.org/get-involved-with-caps/how-caps-works/; http...</td>\n",
       "      <td>home.chicagopolice.org</td>\n",
       "      <td>visit; police; web; site; find; district; beat; meeting; neighborhood; find; caps; district; beat; beat; m...</td>\n",
       "      <td>True</td>\n",
       "      <td>Chicago Police Department</td>\n",
       "      <td>[visit, police, web, site, find, district, beat, meeting, neighborhood, find, caps, district, beat, beat, ...</td>\n",
       "      <td>[visit, polic, web, site, find, district, beat, meet, neighborhood, find, cap, district, beat, beat, meet]</td>\n",
       "      <td>[(visit, NN), (police, NN), (web, VBD), (site, NN), (find, VB), (district, NN), (beat, NN), (meeting, NN),...</td>\n",
       "      <td>[(visit, NN), (polic, JJ), (web, NN), (site, NN), (find, VBP), (district, NN), (beat, NN), (meet, NN), (ne...</td>\n",
       "      <td>[]</td>\n",
       "    </tr>\n",
       "    <tr>\n",
       "      <th>284</th>\n",
       "      <td>fss</td>\n",
       "      <td>Case Management Services (employment training and placement, education etc.)</td>\n",
       "      <td>https://www.cityofchicago.org/city/en/depts/fss/provdrs/emerg/svcs/supportive_services-casemanagement.html</td>\n",
       "      <td>False</td>\n",
       "      <td>True</td>\n",
       "      <td>True</td>\n",
       "      <td>0</td>\n",
       "      <td></td>\n",
       "      <td>0</td>\n",
       "      <td></td>\n",
       "      <td>...</td>\n",
       "      <td></td>\n",
       "      <td></td>\n",
       "      <td>enough; place; homeless; people; housing; without; providing; services; address; reasons; became; homeless...</td>\n",
       "      <td>True</td>\n",
       "      <td>Department of Family &amp; Support Services</td>\n",
       "      <td>[enough, place, homeless, people, housing, without, providing, services, address, reasons, became, homeles...</td>\n",
       "      <td>[enough, place, homeless, peopl, hous, without, provid, servic, address, reason, becam, homeless, resid, c...</td>\n",
       "      <td>[(enough, JJ), (place, NN), (homeless, NN), (people, NNS), (housing, NN), (without, IN), (providing, VBG),...</td>\n",
       "      <td>[(enough, JJ), (place, NN), (homeless, NN), (peopl, VBP), (hous, JJ), (without, IN), (provid, JJ), (servic...</td>\n",
       "      <td>[(work, 4), (provide, 2), (need, 1), (dfss, 1), (begin, 1)]</td>\n",
       "    </tr>\n",
       "    <tr>\n",
       "      <th>285</th>\n",
       "      <td>other</td>\n",
       "      <td>Chicago Public Schools</td>\n",
       "      <td>https://www.cityofchicago.org/city/en/depts/other/provdrs/cps/svcs/find_a_school.html</td>\n",
       "      <td>False</td>\n",
       "      <td>True</td>\n",
       "      <td>True</td>\n",
       "      <td>0</td>\n",
       "      <td></td>\n",
       "      <td>0</td>\n",
       "      <td></td>\n",
       "      <td>...</td>\n",
       "      <td>http://schoollocator.cps.k12.il.us/; http://www.cps.edu/Schools/Find_a_school/Pages/Findaschool.aspx; http...</td>\n",
       "      <td>cps.edu; schoollocator.cps.k12.il.us</td>\n",
       "      <td>find; public; schools; entering; school; name; zip; code; and/or; selecting; search; options; identify; ne...</td>\n",
       "      <td>True</td>\n",
       "      <td>Other</td>\n",
       "      <td>[find, public, schools, entering, school, name, zip, code, and/or, selecting, search, options, identify, n...</td>\n",
       "      <td>[find, public, school, enter, school, name, zip, code, select, search, option, identifi, neighborhood, sch...</td>\n",
       "      <td>[(find, VB), (public, JJ), (schools, NNS), (entering, VBG), (school, NN), (name, NN), (zip, NN), (code, NN...</td>\n",
       "      <td>[(find, VB), (public, JJ), (school, NN), (enter, NN), (school, NN), (name, NN), (zip, NN), (code, NN), (se...</td>\n",
       "      <td>[(identify, 1), (find, 1)]</td>\n",
       "    </tr>\n",
       "    <tr>\n",
       "      <th>307</th>\n",
       "      <td>fss</td>\n",
       "      <td>Emergency Rental Assistance</td>\n",
       "      <td>https://www.cityofchicago.org/city/en/depts/fss/provdrs/serv/svcs/how_to_find_rentalassistanceinchicago.html</td>\n",
       "      <td>False</td>\n",
       "      <td>True</td>\n",
       "      <td>True</td>\n",
       "      <td>0</td>\n",
       "      <td></td>\n",
       "      <td>0</td>\n",
       "      <td></td>\n",
       "      <td>...</td>\n",
       "      <td></td>\n",
       "      <td></td>\n",
       "      <td>emergency; rental; assistance; available; people; suffering; financial; hardship; due; crisis; loss; job; ...</td>\n",
       "      <td>True</td>\n",
       "      <td>Department of Family &amp; Support Services</td>\n",
       "      <td>[emergency, rental, assistance, available, people, suffering, financial, hardship, due, crisis, loss, job,...</td>\n",
       "      <td>[emerg, rental, assist, avail, peopl, suffer, financi, hardship, due, crisi, loss, job, home, fire, ill, p...</td>\n",
       "      <td>[(emergency, NN), (rental, JJ), (assistance, NN), (available, JJ), (people, NNS), (suffering, VBG), (finan...</td>\n",
       "      <td>[(emerg, JJ), (rental, JJ), (assist, NN), (avail, NN), (peopl, NN), (suffer, VBP), (financi, JJ), (hardshi...</td>\n",
       "      <td>[(maintain, 1), (regain, 1)]</td>\n",
       "    </tr>\n",
       "    <tr>\n",
       "      <th>328</th>\n",
       "      <td>bldgs</td>\n",
       "      <td>Homeowner's Assistance Program</td>\n",
       "      <td>https://www.cityofchicago.org/city/en/depts/bldgs/provdrs/stand_plan/svcs/home_owner_assistance.html</td>\n",
       "      <td>False</td>\n",
       "      <td>True</td>\n",
       "      <td>True</td>\n",
       "      <td>0</td>\n",
       "      <td></td>\n",
       "      <td>6</td>\n",
       "      <td>https://www.cityofchicago.org/content/dam/city/depts/bldgs/general/SPR/HOA_Projectsubmittalchecklist.pdf; ...</td>\n",
       "      <td>...</td>\n",
       "      <td></td>\n",
       "      <td></td>\n",
       "      <td>new; location; hall; room; n.; lasalle; street; new; extended; hours; monday; friday; pm; lunch; break; pm...</td>\n",
       "      <td>True</td>\n",
       "      <td>Department of Buildings</td>\n",
       "      <td>[new, location, hall, room, n., lasalle, street, new, extended, hours, monday, friday, pm, lunch, break, p...</td>\n",
       "      <td>[new, locat, hall, room, lasall, street, new, extend, hour, monday, friday, pm, lunch, break, pm, pm, buil...</td>\n",
       "      <td>[(new, JJ), (location, NN), (hall, NN), (room, NN), (n., IN), (lasalle, NNP), (street, VBD), (new, JJ), (e...</td>\n",
       "      <td>[(new, JJ), (locat, NN), (hall, NN), (room, NN), (lasall, JJ), (street, NN), (new, JJ), (extend, VB), (hou...</td>\n",
       "      <td>[(homeowner, 3), (require, 2), (review, 1), (note, 1), (dormer, 1)]</td>\n",
       "    </tr>\n",
       "    <tr>\n",
       "      <th>330</th>\n",
       "      <td>fss</td>\n",
       "      <td>Information About Illinois and Chicago-area Victims of domestic violence</td>\n",
       "      <td>https://www.cityofchicago.org/city/en/depts/fss/provdrs/dom_violence/svcs/illinois_domesticviolencedataand...</td>\n",
       "      <td>False</td>\n",
       "      <td>True</td>\n",
       "      <td>True</td>\n",
       "      <td>0</td>\n",
       "      <td></td>\n",
       "      <td>0</td>\n",
       "      <td></td>\n",
       "      <td>...</td>\n",
       "      <td>http://www.batteredwomensnetwork.org/</td>\n",
       "      <td>batteredwomensnetwork.org</td>\n",
       "      <td>illinois; domestic; violence; data; information; ildvdi; clearinghouse; provides; access; data; informatio...</td>\n",
       "      <td>True</td>\n",
       "      <td>Department of Family &amp; Support Services</td>\n",
       "      <td>[illinois, domestic, violence, data, information, ildvdi, clearinghouse, provides, access, data, informati...</td>\n",
       "      <td>[illinoi, domest, violenc, data, inform, ildvdi, clearinghous, provid, access, data, inform, illinoi, vict...</td>\n",
       "      <td>[(illinois, NN), (domestic, JJ), (violence, NN), (data, NNS), (information, NN), (ildvdi, NN), (clearingho...</td>\n",
       "      <td>[(illinoi, NN), (domest, JJS), (violenc, NN), (data, NNS), (inform, NN), (ildvdi, VBP), (clearinghous, JJ)...</td>\n",
       "      <td>[(use, 2), (make, 2), (serve, 1), (clearinghouse, 1), (improve, 1)]</td>\n",
       "    </tr>\n",
       "    <tr>\n",
       "      <th>335</th>\n",
       "      <td>other</td>\n",
       "      <td>Information on Delinquent Accounts</td>\n",
       "      <td>https://www.cityofchicago.org/city/en/depts/other/provdrs/ccco/svcs/real_estate_and_taxservices.html</td>\n",
       "      <td>False</td>\n",
       "      <td>True</td>\n",
       "      <td>True</td>\n",
       "      <td>0</td>\n",
       "      <td></td>\n",
       "      <td>0</td>\n",
       "      <td></td>\n",
       "      <td>...</td>\n",
       "      <td></td>\n",
       "      <td></td>\n",
       "      <td>cook; county; clerk; office; variety; property; tax; responsibilities; delinquent; unpaid; taxes; sold; co...</td>\n",
       "      <td>True</td>\n",
       "      <td>Other</td>\n",
       "      <td>[cook, county, clerk, office, variety, property, tax, responsibilities, delinquent, unpaid, taxes, sold, c...</td>\n",
       "      <td>[cook, counti, clerk, offic, varieti, properti, tax, respons, delinqu, unpaid, tax, sold, cook, counti, tr...</td>\n",
       "      <td>[(cook, NN), (county, NN), (clerk, NN), (office, NN), (variety, NN), (property, NN), (tax, NN), (responsib...</td>\n",
       "      <td>[(cook, NN), (counti, NN), (clerk, NN), (offic, JJ), (varieti, NN), (properti, NN), (tax, NN), (respons, N...</td>\n",
       "      <td>[(cook, 1), (redeem, 1)]</td>\n",
       "    </tr>\n",
       "    <tr>\n",
       "      <th>...</th>\n",
       "      <td>...</td>\n",
       "      <td>...</td>\n",
       "      <td>...</td>\n",
       "      <td>...</td>\n",
       "      <td>...</td>\n",
       "      <td>...</td>\n",
       "      <td>...</td>\n",
       "      <td>...</td>\n",
       "      <td>...</td>\n",
       "      <td>...</td>\n",
       "      <td>...</td>\n",
       "      <td>...</td>\n",
       "      <td>...</td>\n",
       "      <td>...</td>\n",
       "      <td>...</td>\n",
       "      <td>...</td>\n",
       "      <td>...</td>\n",
       "      <td>...</td>\n",
       "      <td>...</td>\n",
       "      <td>...</td>\n",
       "      <td>...</td>\n",
       "    </tr>\n",
       "    <tr>\n",
       "      <th>3525</th>\n",
       "      <td>dca</td>\n",
       "      <td>World Music Festival Chicago</td>\n",
       "      <td>https://www.cityofchicago.org/city/en/depts/dca/supp_info/world_music_festival.html</td>\n",
       "      <td>False</td>\n",
       "      <td>True</td>\n",
       "      <td>True</td>\n",
       "      <td>0</td>\n",
       "      <td></td>\n",
       "      <td>0</td>\n",
       "      <td></td>\n",
       "      <td>...</td>\n",
       "      <td>http://www.millenniumpark.org; http://www.millenniumpark.org; http://www.millenniumpark.org; http://www.mi...</td>\n",
       "      <td>millenniumpark.org; twitter.com; chicagoreader.com; youtube.com; instagram.com; chicago.suntimes.com; tran...</td>\n",
       "      <td>september; city-wide; various; locations; free; admission; dcase; homepage; world; music; festival; annual...</td>\n",
       "      <td>False</td>\n",
       "      <td>Department of Cultural Affairs and Special Events</td>\n",
       "      <td>[september, city-wide, various, locations, free, admission, dcase, homepage, world, music, festival, annua...</td>\n",
       "      <td>[septemb, various, locat, free, admiss, dcase, homepag, world, music, festiv, annual, world, music, festiv...</td>\n",
       "      <td>[(september, VB), (city-wide, JJ), (various, JJ), (locations, NNS), (free, JJ), (admission, NN), (dcase, N...</td>\n",
       "      <td>[(septemb, RB), (various, JJ), (locat, NNS), (free, JJ), (admiss, JJ), (dcase, NN), (homepag, NN), (world,...</td>\n",
       "      <td>[(grant, 2), (drive, 1), (check, 1), (www.millenniumgarages.com, 1), (pay, 1)]</td>\n",
       "    </tr>\n",
       "    <tr>\n",
       "      <th>3532</th>\n",
       "      <td>dca</td>\n",
       "      <td>Wright Before the \"Lloyd\"</td>\n",
       "      <td>https://www.cityofchicago.org/city/en/depts/dca/supp_info/Wright.html</td>\n",
       "      <td>False</td>\n",
       "      <td>True</td>\n",
       "      <td>True</td>\n",
       "      <td>0</td>\n",
       "      <td></td>\n",
       "      <td>0</td>\n",
       "      <td></td>\n",
       "      <td>...</td>\n",
       "      <td>http://www.transitchicago.com; https://www.facebook.com/ChicagoCulturalCenter; https://twitter.com/ChiCult...</td>\n",
       "      <td>twitter.com; transitchicago.com; youtube.com; facebook.com</td>\n",
       "      <td>cultural; center; visual; art; program; exhibitions; past; exhibitions; wright; lloyd; mention; name; fran...</td>\n",
       "      <td>False</td>\n",
       "      <td>Department of Cultural Affairs and Special Events</td>\n",
       "      <td>[cultural, center, visual, art, program, exhibitions, past, exhibitions, wright, lloyd, mention, name, fra...</td>\n",
       "      <td>[cultur, center, visual, art, program, exhibit, past, exhibit, wright, lloyd, mention, name, frank, lloyd,...</td>\n",
       "      <td>[(cultural, JJ), (center, NN), (visual, JJ), (art, NN), (program, NN), (exhibitions, NNS), (past, IN), (ex...</td>\n",
       "      <td>[(cultur, NN), (center, NN), (visual, JJ), (art, NN), (program, NN), (exhibit, NN), (past, JJ), (exhibit, ...</td>\n",
       "      <td>[(look, 1), (demonstrate, 1), (april, 1), (saturday?sunday, 1), (e., 1)]</td>\n",
       "    </tr>\n",
       "    <tr>\n",
       "      <th>3541</th>\n",
       "      <td>dca</td>\n",
       "      <td>Year of Public Art Events</td>\n",
       "      <td>https://www.cityofchicago.org/city/en/depts/dca/supp_info/yopa/yopa1.html</td>\n",
       "      <td>False</td>\n",
       "      <td>True</td>\n",
       "      <td>True</td>\n",
       "      <td>0</td>\n",
       "      <td></td>\n",
       "      <td>0</td>\n",
       "      <td></td>\n",
       "      <td>...</td>\n",
       "      <td>http://www.chicagoparksfoundation.org/year-of-public-art/; http://www.chicagoparksfoundation.org/year-of-p...</td>\n",
       "      <td>millenniumpark.org; tinytapp.com; dusablemuseum.org; facebook.com; seechicagodance.com; aprpullmanportermu...</td>\n",
       "      <td>year; public; art; events; click; image; enlarge; upcoming; events; park; district; blog; year; public; ar...</td>\n",
       "      <td>False</td>\n",
       "      <td>Department of Cultural Affairs and Special Events</td>\n",
       "      <td>[year, public, art, events, click, image, enlarge, upcoming, events, park, district, blog, year, public, a...</td>\n",
       "      <td>[year, public, art, event, click, imag, enlarg, upcom, event, park, district, blog, year, public, art, hon...</td>\n",
       "      <td>[(year, NN), (public, JJ), (art, NN), (events, NNS), (click, JJ), (image, NN), (enlarge, NN), (upcoming, V...</td>\n",
       "      <td>[(year, NN), (public, JJ), (art, NN), (event, NN), (click, NN), (imag, NN), (enlarg, NN), (upcom, JJ), (ev...</td>\n",
       "      <td>[(e., 9), (citywide, 7), (park, 5), (lake, 5), (tour, 4)]</td>\n",
       "    </tr>\n",
       "    <tr>\n",
       "      <th>3543</th>\n",
       "      <td>dca</td>\n",
       "      <td>Young People's Concerts, Live Music Now!</td>\n",
       "      <td>https://www.cityofchicago.org/city/en/depts/dca/supp_info/young_people_s_concerts.html</td>\n",
       "      <td>False</td>\n",
       "      <td>True</td>\n",
       "      <td>True</td>\n",
       "      <td>0</td>\n",
       "      <td></td>\n",
       "      <td>0</td>\n",
       "      <td></td>\n",
       "      <td>...</td>\n",
       "      <td>http://imfchicago.org; http://imfchicago.org/programs/live-music-now/young-peoples-concerts-at-the-chicago...</td>\n",
       "      <td>twitter.com; youtube.com; instagram.com; imfchicago.org; visitor.r20.constantcontact.com; facebook.com</td>\n",
       "      <td>thursdays; february; march; april; may; noon; cultural; center; preston; bradley; hall; cultural; center; ...</td>\n",
       "      <td>False</td>\n",
       "      <td>Department of Cultural Affairs and Special Events</td>\n",
       "      <td>[thursdays, february, march, april, may, noon, cultural, center, preston, bradley, hall, cultural, center,...</td>\n",
       "      <td>[thursday, februari, march, april, may, noon, cultur, center, preston, bradley, hall, cultur, center, even...</td>\n",
       "      <td>[(thursdays, NNS), (february, VBP), (march, NN), (april, NN), (may, MD), (noon, VB), (cultural, JJ), (cent...</td>\n",
       "      <td>[(thursday, NN), (februari, VBN), (march, IN), (april, NN), (may, MD), (noon, VB), (cultur, NN), (center, ...</td>\n",
       "      <td>[(february, 1), (concerts, 1), (ages, 1), (imf, 1), (e., 1)]</td>\n",
       "    </tr>\n",
       "    <tr>\n",
       "      <th>3555</th>\n",
       "      <td>bacp</td>\n",
       "      <td>Zoning</td>\n",
       "      <td>https://www.cityofchicago.org/city/en/depts/bacp/sbc/zoning.html</td>\n",
       "      <td>False</td>\n",
       "      <td>True</td>\n",
       "      <td>True</td>\n",
       "      <td>0</td>\n",
       "      <td></td>\n",
       "      <td>1</td>\n",
       "      <td>https://www.cityofchicago.org/content/dam/city/depts/bacp/Small%20Business%20Center/zoningexamplespp071820...</td>\n",
       "      <td>...</td>\n",
       "      <td>https://gisapps.cityofchicago.org/zoning/; http://www.worldbusinesschicago.com/site-selector; http://visit...</td>\n",
       "      <td>worldbusinesschicago.com; amlegal.com; visitor.r20.constantcontact.com; gisapps.cityofchicago.org</td>\n",
       "      <td>every; business; license; location; expansion; change; location; application; needs; reviewed; approved; z...</td>\n",
       "      <td>False</td>\n",
       "      <td>Department of Business Affairs and Consumer Protection</td>\n",
       "      <td>[every, business, license, location, expansion, change, location, application, needs, reviewed, approved, ...</td>\n",
       "      <td>[everi, busi, licens, locat, expans, chang, locat, applic, need, review, approv, zone, busi, licens, appli...</td>\n",
       "      <td>[(every, DT), (business, NN), (license, NN), (location, NN), (expansion, NN), (change, NN), (location, NN)...</td>\n",
       "      <td>[(everi, NN), (busi, NN), (licens, VBZ), (locat, JJ), (expans, NNS), (chang, VBP), (locat, JJ), (applic, J...</td>\n",
       "      <td>[(reflect, 1), (i.e, 1), (assume, 1), (find, 1), (summarize, 1)]</td>\n",
       "    </tr>\n",
       "    <tr>\n",
       "      <th>3648</th>\n",
       "      <td>fss</td>\n",
       "      <td>Case Management Services</td>\n",
       "      <td>https://www.cityofchicago.org/city/en/depts/fss/provdrs/serv/svcs/supportive_services-casemanagement.html</td>\n",
       "      <td>False</td>\n",
       "      <td>True</td>\n",
       "      <td>True</td>\n",
       "      <td>0</td>\n",
       "      <td></td>\n",
       "      <td>0</td>\n",
       "      <td></td>\n",
       "      <td>...</td>\n",
       "      <td></td>\n",
       "      <td></td>\n",
       "      <td>enough; place; homeless; people; housing; without; providing; services; address; reasons; became; homeless...</td>\n",
       "      <td>True</td>\n",
       "      <td>Department of Family &amp; Support Services</td>\n",
       "      <td>[enough, place, homeless, people, housing, without, providing, services, address, reasons, became, homeles...</td>\n",
       "      <td>[enough, place, homeless, peopl, hous, without, provid, servic, address, reason, becam, homeless, resid, c...</td>\n",
       "      <td>[(enough, JJ), (place, NN), (homeless, NN), (people, NNS), (housing, NN), (without, IN), (providing, VBG),...</td>\n",
       "      <td>[(enough, JJ), (place, NN), (homeless, NN), (peopl, VBP), (hous, JJ), (without, IN), (provid, JJ), (servic...</td>\n",
       "      <td>[(work, 4), (provide, 2), (need, 1), (dfss, 1), (begin, 1)]</td>\n",
       "    </tr>\n",
       "    <tr>\n",
       "      <th>3660</th>\n",
       "      <td>streets</td>\n",
       "      <td>Common Towing Questions</td>\n",
       "      <td>https://www.cityofchicago.org/city/en/depts/streets/provdrs/traffic/svcs/common_towing_questions.html</td>\n",
       "      <td>False</td>\n",
       "      <td>True</td>\n",
       "      <td>True</td>\n",
       "      <td>2</td>\n",
       "      <td>mailto:StreetsAndSan@cityofchicago.org; mailto:StreetsAndSan@cityofchicago.org</td>\n",
       "      <td>0</td>\n",
       "      <td></td>\n",
       "      <td>...</td>\n",
       "      <td>https://webapps1.cityofchicago.org/vehicleSearch/; http://maps.yahoo.com/map?q1=400%20E.%20Wacker%20Dr.%20...</td>\n",
       "      <td>chicityclerk.com; webapps1.cityofchicago.org; maps.yahoo.com</td>\n",
       "      <td>q.; find; car; towed; call; go; streets; sanitation; bureau; traffic; services; q.; car; towed; cars; may;...</td>\n",
       "      <td>True</td>\n",
       "      <td>Department of Streets and Sanitation</td>\n",
       "      <td>[q., find, car, towed, call, go, streets, sanitation, bureau, traffic, services, q., car, towed, cars, may...</td>\n",
       "      <td>[find, car, tow, call, go, street, sanit, bureau, traffic, servic, car, tow, car, may, tow, one, sever, re...</td>\n",
       "      <td>[(q., RB), (find, VBP), (car, NN), (towed, VBD), (call, NN), (go, VBP), (streets, NNS), (sanitation, VBP),...</td>\n",
       "      <td>[(find, NN), (car, NN), (tow, NN), (call, NN), (go, VBP), (street, NN), (sanit, NN), (bureau, NN), (traffi...</td>\n",
       "      <td>[(find, 2), (go, 2), (need, 2), (solicitation, 2), (counterfeit, 2)]</td>\n",
       "    </tr>\n",
       "    <tr>\n",
       "      <th>3698</th>\n",
       "      <td>cdot</td>\n",
       "      <td>Title VI</td>\n",
       "      <td>https://www.cityofchicago.org/city/en/depts/cdot/dataset/title-vi.html</td>\n",
       "      <td>False</td>\n",
       "      <td>True</td>\n",
       "      <td>True</td>\n",
       "      <td>1</td>\n",
       "      <td>mailto:michael.claffey@cityofchicago.org</td>\n",
       "      <td>12</td>\n",
       "      <td>https://www.cityofchicago.org/content/dam/city/depts/cdot/TitleVI/TITLE_VI_COMPLAINT_FORM_English.pdf; htt...</td>\n",
       "      <td>...</td>\n",
       "      <td></td>\n",
       "      <td></td>\n",
       "      <td>title; vi; notice; public; transportation; cdot; operates; programs; without; regard; race; color; nationa...</td>\n",
       "      <td>False</td>\n",
       "      <td>Department of Transportation</td>\n",
       "      <td>[title, vi, notice, public, transportation, cdot, operates, programs, without, regard, race, color, nation...</td>\n",
       "      <td>[titl, vi, notic, public, transport, cdot, oper, program, without, regard, race, color, nation, origin, ac...</td>\n",
       "      <td>[(title, NN), (vi, JJ), (notice, JJ), (public, JJ), (transportation, NN), (cdot, NN), (operates, VBZ), (pr...</td>\n",
       "      <td>[(titl, NN), (vi, NN), (notic, JJ), (public, JJ), (transport, NN), (cdot, NN), (oper, IN), (program, NN), ...</td>\n",
       "      <td>[(vi, 1), (file, 1), (claffey, 1), (lasalle, 1), (freedom, 1)]</td>\n",
       "    </tr>\n",
       "    <tr>\n",
       "      <th>3721</th>\n",
       "      <td>other</td>\n",
       "      <td>Make Genealogy Requests Online</td>\n",
       "      <td>https://www.cityofchicago.org/city/en/depts/other/provdrs/ccco/svcs/make_genealogy_requestsonline.html</td>\n",
       "      <td>True</td>\n",
       "      <td>True</td>\n",
       "      <td>True</td>\n",
       "      <td>0</td>\n",
       "      <td></td>\n",
       "      <td>0</td>\n",
       "      <td></td>\n",
       "      <td>...</td>\n",
       "      <td>http://www.cookcountygenealogy.com/</td>\n",
       "      <td>cookcountygenealogy.com</td>\n",
       "      <td>cook; county; genealogy; genealogy; unit; cook; county; clerk; bureau; vital; records; provides; non-certi...</td>\n",
       "      <td>True</td>\n",
       "      <td>Other</td>\n",
       "      <td>[cook, county, genealogy, genealogy, unit, cook, county, clerk, bureau, vital, records, provides, non-cert...</td>\n",
       "      <td>[cook, counti, genealog, genealog, unit, cook, counti, clerk, bureau, vital, record, provid, version, birt...</td>\n",
       "      <td>[(cook, NN), (county, NN), (genealogy, NN), (genealogy, NN), (unit, NN), (cook, VBD), (county, NN), (clerk...</td>\n",
       "      <td>[(cook, NN), (counti, NN), (genealog, NN), (genealog, NN), (unit, NN), (cook, NN), (counti, NN), (clerk, N...</td>\n",
       "      <td>[]</td>\n",
       "    </tr>\n",
       "    <tr>\n",
       "      <th>3729</th>\n",
       "      <td>doit</td>\n",
       "      <td>Connect Chicago Locations</td>\n",
       "      <td>https://www.cityofchicago.org/city/en/depts/doit/dataset/public_technologyresources.html</td>\n",
       "      <td>False</td>\n",
       "      <td>True</td>\n",
       "      <td>True</td>\n",
       "      <td>0</td>\n",
       "      <td></td>\n",
       "      <td>0</td>\n",
       "      <td></td>\n",
       "      <td>...</td>\n",
       "      <td>http://weconnectchicago.org; https://data.cityofchicago.org/Education/Connect-Chicago-Locations/bmus-hp7e</td>\n",
       "      <td>data.cityofchicago.org; weconnectchicago.org</td>\n",
       "      <td>sites; offer; free; affordable; technology; resources; services; like; computers; internet; access; wi-fi;...</td>\n",
       "      <td>False</td>\n",
       "      <td>Department of Innovation and Technology</td>\n",
       "      <td>[sites, offer, free, affordable, technology, resources, services, like, computers, internet, access, wi-fi...</td>\n",
       "      <td>[site, offer, free, afford, technolog, resourc, servic, like, comput, internet, access, hotspot, technolog...</td>\n",
       "      <td>[(sites, NNS), (offer, VBP), (free, JJ), (affordable, JJ), (technology, NN), (resources, NNS), (services, ...</td>\n",
       "      <td>[(site, NN), (offer, VBP), (free, JJ), (afford, NN), (technolog, NN), (resourc, VBP), (servic, NNS), (like...</td>\n",
       "      <td>[(offer, 1)]</td>\n",
       "    </tr>\n",
       "    <tr>\n",
       "      <th>3770</th>\n",
       "      <td>cdot</td>\n",
       "      <td>Bike Planning</td>\n",
       "      <td>https://www.cityofchicago.org/city/en/depts/cdot/provdrs/bike/svcs/bike_planning.html</td>\n",
       "      <td>False</td>\n",
       "      <td>True</td>\n",
       "      <td>True</td>\n",
       "      <td>0</td>\n",
       "      <td></td>\n",
       "      <td>2</td>\n",
       "      <td>https://www.cityofchicago.org/content/dam/city/depts/cdot/bicycling/publications/best_practices_report_199...</td>\n",
       "      <td>...</td>\n",
       "      <td>http://www.bike2015plan.org/; http://chicagocompletestreets.org/your-streets/mayors-advisory-councils/; ht...</td>\n",
       "      <td>bike2015plan.org; chicagocompletestreets.org; apbp.org</td>\n",
       "      <td>streets; cycling; plan; building; city-wide; bike; network; streets; cycling; plan; bike; plan; bike; plan...</td>\n",
       "      <td>True</td>\n",
       "      <td>Department of Transportation</td>\n",
       "      <td>[streets, cycling, plan, building, city-wide, bike, network, streets, cycling, plan, bike, plan, bike, pla...</td>\n",
       "      <td>[street, cycl, plan, build, bike, network, street, cycl, plan, bike, plan, bike, plan, vision, make, bicyc...</td>\n",
       "      <td>[(streets, NNS), (cycling, VBG), (plan, NN), (building, VBG), (city-wide, JJ), (bike, NN), (network, NN), ...</td>\n",
       "      <td>[(street, NN), (cycl, NN), (plan, NN), (build, VBP), (bike, NN), (network, NN), (street, NN), (cycl, NN), ...</td>\n",
       "      <td>[(website, 2), (bicycle, 2), (make, 1), (encourage, 1), (read, 1)]</td>\n",
       "    </tr>\n",
       "    <tr>\n",
       "      <th>3771</th>\n",
       "      <td>cdot</td>\n",
       "      <td>Bikes and Transit</td>\n",
       "      <td>https://www.cityofchicago.org/city/en/depts/cdot/provdrs/bike/svcs/bikes_and_transit.html</td>\n",
       "      <td>False</td>\n",
       "      <td>True</td>\n",
       "      <td>True</td>\n",
       "      <td>0</td>\n",
       "      <td></td>\n",
       "      <td>2</td>\n",
       "      <td>https://www.cityofchicago.org/content/dam/city/depts/cdot/bicycling/transit/cta_bike_transit_2009.pdf; htt...</td>\n",
       "      <td>...</td>\n",
       "      <td>http://www.transitchicago.com/riding_cta/bike_and_ride.aspx; http://www.pacebus.com/sub/bus_system/bicycle...</td>\n",
       "      <td>transitchicago.com; youtube.com; pacebus.com</td>\n",
       "      <td>bringing; bike; train; bus; easy; important; rules; follow; cta; metra; pace; put; rules; place; customers...</td>\n",
       "      <td>True</td>\n",
       "      <td>Department of Transportation</td>\n",
       "      <td>[bringing, bike, train, bus, easy, important, rules, follow, cta, metra, pace, put, rules, place, customer...</td>\n",
       "      <td>[bring, bike, train, bus, easi, import, rule, follow, cta, metra, pace, put, rule, place, custom, safeti, ...</td>\n",
       "      <td>[(bringing, VBG), (bike, NN), (train, NN), (bus, NN), (easy, JJ), (important, JJ), (rules, NNS), (follow, ...</td>\n",
       "      <td>[(bring, NN), (bike, NN), (train, NN), (bus, NN), (easi, NN), (import, NN), (rule, NN), (follow, VBP), (ct...</td>\n",
       "      <td>[(find, 2), (watch, 2), (follow, 1), (respective, 1), (visit, 1)]</td>\n",
       "    </tr>\n",
       "    <tr>\n",
       "      <th>3774</th>\n",
       "      <td>streets</td>\n",
       "      <td>Grid Garbage Collection</td>\n",
       "      <td>https://www.cityofchicago.org/city/en/depts/streets/provdrs/streets_san/svcs/grid-garbage-collection.html</td>\n",
       "      <td>True</td>\n",
       "      <td>True</td>\n",
       "      <td>True</td>\n",
       "      <td>0</td>\n",
       "      <td></td>\n",
       "      <td>5</td>\n",
       "      <td>https://www.cityofchicago.org/content/dam/city/depts/streets/supp_info/Grid%20Garbage%20Collection/Grid%20...</td>\n",
       "      <td>...</td>\n",
       "      <td>https://servicerequest.cityofchicago.org/web_intake_chic/Controller?op=locform&amp;invSRType=SIE&amp;invSRDesc=Gar...</td>\n",
       "      <td>servicerequest.cityofchicago.org</td>\n",
       "      <td>streets; sanitation; dss; finalized; implementation; efficient; citywide; grid; garbage; collection; syste...</td>\n",
       "      <td>True</td>\n",
       "      <td>Department of Streets and Sanitation</td>\n",
       "      <td>[streets, sanitation, dss, finalized, implementation, efficient, citywide, grid, garbage, collection, syst...</td>\n",
       "      <td>[street, sanit, ds, final, implement, effici, citywid, grid, garbag, collect, system, ds, collect, garbag,...</td>\n",
       "      <td>[(streets, NNS), (sanitation, VBP), (dss, RB), (finalized, VBN), (implementation, NN), (efficient, JJ), (c...</td>\n",
       "      <td>[(street, NN), (sanit, JJ), (ds, JJ), (final, JJ), (implement, NN), (effici, NN), (citywid, NN), (grid, JJ...</td>\n",
       "      <td>[(sanitation, 3), (garbage, 1), (grid, 1), (collection, 1), (improve, 1)]</td>\n",
       "    </tr>\n",
       "    <tr>\n",
       "      <th>3778</th>\n",
       "      <td>cacc</td>\n",
       "      <td>Dog Registration</td>\n",
       "      <td>https://www.cityofchicago.org/city/en/depts/cacc/provdrs/care/svcs/dog_registration.html</td>\n",
       "      <td>False</td>\n",
       "      <td>True</td>\n",
       "      <td>True</td>\n",
       "      <td>0</td>\n",
       "      <td></td>\n",
       "      <td>0</td>\n",
       "      <td></td>\n",
       "      <td>...</td>\n",
       "      <td>http://www.chicityclerk.com/community-affairs/dog-registration</td>\n",
       "      <td>chicityclerk.com</td>\n",
       "      <td>dog; license; applications; accepted; clerk; satellite; facilities; licensing; dogs; provides; real; benef...</td>\n",
       "      <td>True</td>\n",
       "      <td>Department of Animal Care and Control</td>\n",
       "      <td>[dog, license, applications, accepted, clerk, satellite, facilities, licensing, dogs, provides, real, bene...</td>\n",
       "      <td>[dog, licens, applic, accept, clerk, satellit, facil, licens, dog, provid, real, benefit, help, assist, pu...</td>\n",
       "      <td>[(dog, NN), (license, NN), (applications, NNS), (accepted, VBD), (clerk, NN), (satellite, NN), (facilities...</td>\n",
       "      <td>[(dog, NN), (licens, VBZ), (applic, JJ), (accept, IN), (clerk, NN), (satellit, NN), (facil, NN), (licens, ...</td>\n",
       "      <td>[(inoculation, 1)]</td>\n",
       "    </tr>\n",
       "    <tr>\n",
       "      <th>3805</th>\n",
       "      <td>dca</td>\n",
       "      <td>Clarke House Museum</td>\n",
       "      <td>https://www.cityofchicago.org/city/en/depts/dca/supp_info/clarke_house_museum.html/</td>\n",
       "      <td>True</td>\n",
       "      <td>True</td>\n",
       "      <td>True</td>\n",
       "      <td>1</td>\n",
       "      <td>mailto:clarkehousemuseum@cityofchicago.org</td>\n",
       "      <td>0</td>\n",
       "      <td></td>\n",
       "      <td>...</td>\n",
       "      <td>http://www.transitchicago.com/; http://www.dames-il.org; http://www.dames-il.org; https://www.facebook.com...</td>\n",
       "      <td>dames-il.org; twitter.com; youtube.com; instagram.com; transitchicago.com; facebook.com</td>\n",
       "      <td>dcase; homepage; clarke; house; museum; weekly; tours; upcoming; events; clarkes; history; clarke; house; ...</td>\n",
       "      <td>False</td>\n",
       "      <td>Department of Cultural Affairs and Special Events</td>\n",
       "      <td>[dcase, homepage, clarke, house, museum, weekly, tours, upcoming, events, clarkes, history, clarke, house,...</td>\n",
       "      <td>[dcase, homepag, clark, hous, museum, week, tour, upcom, event, clark, histori, clark, hous, architectur, ...</td>\n",
       "      <td>[(dcase, NN), (homepage, NN), (clarke, NN), (house, NN), (museum, NN), (weekly, JJ), (tours, NNS), (upcomi...</td>\n",
       "      <td>[(dcase, NN), (homepag, NN), (clark, NN), (hous, JJ), (museum, NN), (week, NN), (tour, VBP), (upcom, JJ), ...</td>\n",
       "      <td>[(park, 1), (learn, 1), (visit, 1), (wednesdays, 1), (contact, 1)]</td>\n",
       "    </tr>\n",
       "    <tr>\n",
       "      <th>3810</th>\n",
       "      <td>dca</td>\n",
       "      <td>Maxwell Street Market</td>\n",
       "      <td>https://www.cityofchicago.org/city/en/depts/dca/supp_info/maxwell_street_market.html/</td>\n",
       "      <td>False</td>\n",
       "      <td>True</td>\n",
       "      <td>True</td>\n",
       "      <td>1</td>\n",
       "      <td>mailto:maxwellstreet@cityofchicago.org</td>\n",
       "      <td>0</td>\n",
       "      <td></td>\n",
       "      <td>...</td>\n",
       "      <td>http://www.maxwellstreetmarket.us; http://bit.ly/1zznTDD; http://bit.ly/1EJ1YKr; http://www.transitchicago...</td>\n",
       "      <td>maxwellstreetmarket.us; twitter.com; youtube.com; instagram.com; transitchicago.com; bit.ly; visitor.r20.c...</td>\n",
       "      <td>every; sunday; year-round; free; admission; dcase; homepage; maxwell; street; market; markets; maxwell; st...</td>\n",
       "      <td>False</td>\n",
       "      <td>Department of Cultural Affairs and Special Events</td>\n",
       "      <td>[every, sunday, year-round, free, admission, dcase, homepage, maxwell, street, market, markets, maxwell, s...</td>\n",
       "      <td>[everi, sunday, free, admiss, dcase, homepag, maxwel, street, market, market, maxwel, street, market, trad...</td>\n",
       "      <td>[(every, DT), (sunday, JJ), (year-round, JJ), (free, JJ), (admission, NN), (dcase, NN), (homepage, NN), (m...</td>\n",
       "      <td>[(everi, NN), (sunday, JJ), (free, JJ), (admiss, JJ), (dcase, NN), (homepag, NN), (maxwel, JJ), (street, N...</td>\n",
       "      <td>[(maxwell, 3), (collectibles?and, 1), (polk, 1), (reminder, 1), (include, 1)]</td>\n",
       "    </tr>\n",
       "    <tr>\n",
       "      <th>3896</th>\n",
       "      <td>dps</td>\n",
       "      <td>DPS Workshop Descriptions &amp; PowerPoints</td>\n",
       "      <td>https://www.cityofchicago.org/city/en/depts/dps/provdrs/events/svcs/DPSWorkshopDescriptionPowerPoints.html</td>\n",
       "      <td>False</td>\n",
       "      <td>True</td>\n",
       "      <td>True</td>\n",
       "      <td>0</td>\n",
       "      <td></td>\n",
       "      <td>7</td>\n",
       "      <td>https://www.cityofchicago.org/content/dam/city/depts/dps/Outreach/DPSDoingBusinessWiththeCityofChicago.pdf...</td>\n",
       "      <td>...</td>\n",
       "      <td></td>\n",
       "      <td></td>\n",
       "      <td>information; register; click; new; complete; online; economic; disclosure; statement; eds; economic; discl...</td>\n",
       "      <td>True</td>\n",
       "      <td>Department of Procurement Services</td>\n",
       "      <td>[information, register, click, new, complete, online, economic, disclosure, statement, eds, economic, disc...</td>\n",
       "      <td>[inform, regist, click, new, complet, onlin, econom, disclosur, statement, ed, econom, disclosur, statemen...</td>\n",
       "      <td>[(information, NN), (register, NN), (click, VBP), (new, JJ), (complete, JJ), (online, JJ), (economic, JJ),...</td>\n",
       "      <td>[(inform, JJ), (regist, NN), (click, JJ), (new, JJ), (complet, NN), (onlin, NN), (econom, NN), (disclosur,...</td>\n",
       "      <td>[(workshop, 9), (march, 4), (learn, 3), (certify, 2), (assist, 2)]</td>\n",
       "    </tr>\n",
       "    <tr>\n",
       "      <th>3906</th>\n",
       "      <td>streets</td>\n",
       "      <td>Illegal ('Fly') Dumping</td>\n",
       "      <td>https://www.cityofchicago.org/city/en/depts/streets/provdrs/street/svcs/illegal_fly_dumping.html</td>\n",
       "      <td>True</td>\n",
       "      <td>True</td>\n",
       "      <td>True</td>\n",
       "      <td>0</td>\n",
       "      <td></td>\n",
       "      <td>0</td>\n",
       "      <td></td>\n",
       "      <td>...</td>\n",
       "      <td>https://servicerequest.cityofchicago.org/web_intake_chic/Controller?op=locform&amp;invSRType=SDR&amp;invSRDesc=Fly...</td>\n",
       "      <td>servicerequest.cityofchicago.org</td>\n",
       "      <td>illegal; dumping; fly; dumping; dumping; waste; material; public; private; property; without; permit; publ...</td>\n",
       "      <td>True</td>\n",
       "      <td>Department of Streets and Sanitation</td>\n",
       "      <td>[illegal, dumping, fly, dumping, dumping, waste, material, public, private, property, without, permit, pub...</td>\n",
       "      <td>[illeg, dump, fli, dump, dump, wast, materi, public, privat, properti, without, permit, public, health, cp...</td>\n",
       "      <td>[(illegal, JJ), (dumping, VBG), (fly, NN), (dumping, VBG), (dumping, VBG), (waste, NN), (material, JJ), (p...</td>\n",
       "      <td>[(illeg, JJ), (dump, NN), (fli, NN), (dump, NN), (dump, NN), (wast, NN), (materi, JJ), (public, JJ), (priv...</td>\n",
       "      <td>[(waste, 1), (capture, 1), (carry, 1), (play, 1), (see, 1)]</td>\n",
       "    </tr>\n",
       "    <tr>\n",
       "      <th>3909</th>\n",
       "      <td>fin</td>\n",
       "      <td>FAQs on Camera Violation Review Notice</td>\n",
       "      <td>https://www.cityofchicago.org/city/en/depts/fin/provdrs/parking_and_redlightcitationadministration/alerts/...</td>\n",
       "      <td>False</td>\n",
       "      <td>True</td>\n",
       "      <td>True</td>\n",
       "      <td>0</td>\n",
       "      <td></td>\n",
       "      <td>0</td>\n",
       "      <td></td>\n",
       "      <td>...</td>\n",
       "      <td>http://library.amlegal.com/nxt/gateway.dll/Illinois/chicago_il/municipalcodeofchicago?f=templates$fn=defau...</td>\n",
       "      <td>library.amlegal.com</td>\n",
       "      <td>frequently; asked; question; guide; assist; motorists; answering; questions; recently; mailed; camera; vio...</td>\n",
       "      <td>False</td>\n",
       "      <td>Department of Finance</td>\n",
       "      <td>[frequently, asked, question, guide, assist, motorists, answering, questions, recently, mailed, camera, vi...</td>\n",
       "      <td>[frequent, ask, question, guid, assist, motorist, answer, question, recent, mail, camera, violat, review, ...</td>\n",
       "      <td>[(frequently, RB), (asked, VBN), (question, NN), (guide, NN), (assist, NN), (motorists, NNS), (answering, ...</td>\n",
       "      <td>[(frequent, JJ), (ask, JJ), (question, NN), (guid, NN), (assist, JJ), (motorist, NN), (answer, NN), (quest...</td>\n",
       "      <td>[(want, 4), (receive, 3), (challenge, 3), (need, 3), (see, 2)]</td>\n",
       "    </tr>\n",
       "    <tr>\n",
       "      <th>3911</th>\n",
       "      <td>cdot</td>\n",
       "      <td>The Chicago Conservation Corps</td>\n",
       "      <td>https://www.cityofchicago.org/city/en/depts/cdot/provdrs/conservation_outreachgreenprograms/svcs/volunteer...</td>\n",
       "      <td>False</td>\n",
       "      <td>True</td>\n",
       "      <td>True</td>\n",
       "      <td>1</td>\n",
       "      <td>mailto:chicagoconservationcorps@naturemuseum.org</td>\n",
       "      <td>0</td>\n",
       "      <td></td>\n",
       "      <td>...</td>\n",
       "      <td>https://www.facebook.com/ChicagoConservation/</td>\n",
       "      <td>facebook.com</td>\n",
       "      <td>conservation; corps; c3; recruits; trains; supports; network; volunteers; work; together; improve; quality...</td>\n",
       "      <td>True</td>\n",
       "      <td>Department of Transportation</td>\n",
       "      <td>[conservation, corps, c3, recruits, trains, supports, network, volunteers, work, together, improve, qualit...</td>\n",
       "      <td>[conserv, corp, recruit, train, support, network, volunt, work, togeth, improv, qualiti, life, neighborhoo...</td>\n",
       "      <td>[(conservation, NN), (corps, NN), (c3, NN), (recruits, VBZ), (trains, NNS), (supports, NNS), (network, NN)...</td>\n",
       "      <td>[(conserv, NN), (corp, NN), (recruit, NN), (train, NN), (support, NN), (network, NN), (volunt, NN), (work,...</td>\n",
       "      <td>[(apply, 2), (email, 2), (work, 1), (make, 1), (get, 1)]</td>\n",
       "    </tr>\n",
       "    <tr>\n",
       "      <th>3919</th>\n",
       "      <td>cdot</td>\n",
       "      <td>Safe Routes Ambassadors</td>\n",
       "      <td>https://www.cityofchicago.org/city/en/depts/cdot/provdrs/ped/svcs/safe_routes_ambassadors.html</td>\n",
       "      <td>False</td>\n",
       "      <td>True</td>\n",
       "      <td>True</td>\n",
       "      <td>0</td>\n",
       "      <td></td>\n",
       "      <td>0</td>\n",
       "      <td></td>\n",
       "      <td>...</td>\n",
       "      <td>http://www.scribd.com/collections/4305300/Lesson-Plans-Active-and-Safe-Transportation; http://chicagocompl...</td>\n",
       "      <td>chicagocompletestreets.org; scribd.com</td>\n",
       "      <td>safe; routes; ambassadors; pedestrian; bicycle; safety; outreach; team; meet; thousands; students; year; t...</td>\n",
       "      <td>True</td>\n",
       "      <td>Department of Transportation</td>\n",
       "      <td>[safe, routes, ambassadors, pedestrian, bicycle, safety, outreach, team, meet, thousands, students, year, ...</td>\n",
       "      <td>[safe, rout, ambassador, pedestrian, bicycl, safeti, outreach, team, meet, thousand, student, year, teach,...</td>\n",
       "      <td>[(safe, JJ), (routes, VBZ), (ambassadors, NNS), (pedestrian, JJ), (bicycle, NN), (safety, NN), (outreach, ...</td>\n",
       "      <td>[(safe, JJ), (rout, NN), (ambassador, NN), (pedestrian, JJ), (bicycl, NN), (safeti, NN), (outreach, VBP), ...</td>\n",
       "      <td>[(request, 3), (involve, 2), (page, 2), (workshops, 2), (outreach, 1)]</td>\n",
       "    </tr>\n",
       "    <tr>\n",
       "      <th>3936</th>\n",
       "      <td>cdot</td>\n",
       "      <td>Traffic Patterns will Change as Western/Belmont/Clybourn Project Progresses</td>\n",
       "      <td>https://www.cityofchicago.org/city/en/depts/cdot/provdrs/street/alerts/2016/august/traffic-patterns-will-c...</td>\n",
       "      <td>False</td>\n",
       "      <td>True</td>\n",
       "      <td>True</td>\n",
       "      <td>0</td>\n",
       "      <td></td>\n",
       "      <td>0</td>\n",
       "      <td></td>\n",
       "      <td>...</td>\n",
       "      <td>http://www.transitchicago.com/travel_information/systemalerts.aspx?source_quicklinks=1</td>\n",
       "      <td>transitchicago.com</td>\n",
       "      <td>transportation; cdot; announced; part; larger; reconstruction; western; avenue; traffic; western; bridge; ...</td>\n",
       "      <td>False</td>\n",
       "      <td>Department of Transportation</td>\n",
       "      <td>[transportation, cdot, announced, part, larger, reconstruction, western, avenue, traffic, western, bridge,...</td>\n",
       "      <td>[transport, cdot, announc, part, larger, reconstruct, western, avenu, traffic, western, bridg, river, redu...</td>\n",
       "      <td>[(transportation, NN), (cdot, NN), (announced, VBD), (part, NN), (larger, JJR), (reconstruction, NN), (wes...</td>\n",
       "      <td>[(transport, NN), (cdot, NN), (announc, IN), (part, NN), (larger, JJR), (reconstruct, NN), (western, JJ), ...</td>\n",
       "      <td>[(august, 1), (change, 1), (cta, 1), (visit, 1), (follow, 1)]</td>\n",
       "    </tr>\n",
       "    <tr>\n",
       "      <th>3949</th>\n",
       "      <td>dca</td>\n",
       "      <td>Chicago Cultural Center</td>\n",
       "      <td>https://www.cityofchicago.org/city/en/depts/dca/supp_info/chicago_culturalcenter.html/</td>\n",
       "      <td>False</td>\n",
       "      <td>True</td>\n",
       "      <td>True</td>\n",
       "      <td>1</td>\n",
       "      <td>mailto:dcase@cityofchicago.org</td>\n",
       "      <td>0</td>\n",
       "      <td></td>\n",
       "      <td>...</td>\n",
       "      <td>https://www.facebook.com/ChicagoCulturalCenter; https://twitter.com/ChiCulturCenter; http://www.youtube.co...</td>\n",
       "      <td>twitter.com; youtube.com; instagram.com; maggiedaleypark.com; facebook.com</td>\n",
       "      <td>dcase; homepage; cultural; center; drawn; beauty; fabulous; free; public; events; hundreds; thousands; vis...</td>\n",
       "      <td>False</td>\n",
       "      <td>Department of Cultural Affairs and Special Events</td>\n",
       "      <td>[dcase, homepage, cultural, center, drawn, beauty, fabulous, free, public, events, hundreds, thousands, vi...</td>\n",
       "      <td>[dcase, homepag, cultur, center, drawn, beauti, fabul, free, public, event, hundr, thousand, visitor, come...</td>\n",
       "      <td>[(dcase, NN), (homepage, NN), (cultural, JJ), (center, NN), (drawn, VBN), (beauty, NN), (fabulous, JJ), (f...</td>\n",
       "      <td>[(dcase, NN), (homepag, NN), (cultur, NN), (center, NN), (drawn, NN), (beauti, NN), (fabul, JJ), (free, JJ...</td>\n",
       "      <td>[(come, 1), (art, 1), (read, 1), (palace, 1), (include, 1)]</td>\n",
       "    </tr>\n",
       "    <tr>\n",
       "      <th>3977</th>\n",
       "      <td>dca</td>\n",
       "      <td>Fashion Focus Chicago</td>\n",
       "      <td>https://www.cityofchicago.org/city/en/depts/dca/supp_info/fashion_focus_chicago0.html</td>\n",
       "      <td>False</td>\n",
       "      <td>True</td>\n",
       "      <td>True</td>\n",
       "      <td>1</td>\n",
       "      <td>mailto:fashion@cityofchicago.org</td>\n",
       "      <td>0</td>\n",
       "      <td></td>\n",
       "      <td>...</td>\n",
       "      <td>http://www.lakefxchicago.org; http://www.lakefxchicago.org; https://www.facebook.com/FashionFocusChicago; ...</td>\n",
       "      <td>twitter.com; youtube.com; lakefxchicago.org; facebook.com</td>\n",
       "      <td>dcase; homepage; fashion; focus; click; images; enlarge; fashion; focus; fashion; focus; community; resour...</td>\n",
       "      <td>False</td>\n",
       "      <td>Department of Cultural Affairs and Special Events</td>\n",
       "      <td>[dcase, homepage, fashion, focus, click, images, enlarge, fashion, focus, fashion, focus, community, resou...</td>\n",
       "      <td>[dcase, homepag, fashion, focus, click, imag, enlarg, fashion, focus, fashion, focus, communiti, resourc, ...</td>\n",
       "      <td>[(dcase, NN), (homepage, NN), (fashion, NN), (focus, NN), (click, NN), (images, NNS), (enlarge, VBP), (fas...</td>\n",
       "      <td>[(dcase, NN), (homepag, JJ), (fashion, NN), (focus, NN), (click, NN), (imag, NN), (enlarg, JJ), (fashion, ...</td>\n",
       "      <td>[(enlarge, 1), (see, 1), (email, 1), (cityofchicago.org, 1), (lake, 1)]</td>\n",
       "    </tr>\n",
       "    <tr>\n",
       "      <th>3979</th>\n",
       "      <td>bacp</td>\n",
       "      <td>Loading Zones</td>\n",
       "      <td>https://www.cityofchicago.org/city/en/depts/bacp/sbc/loading_zones.html?cq_ck=1377202367846</td>\n",
       "      <td>False</td>\n",
       "      <td>True</td>\n",
       "      <td>True</td>\n",
       "      <td>0</td>\n",
       "      <td></td>\n",
       "      <td>0</td>\n",
       "      <td></td>\n",
       "      <td>...</td>\n",
       "      <td>http://www.amlegal.com/nxt/gateway.dll/Illinois/chicago_il/title4businessesoccupationsandconsumerpr/chapte...</td>\n",
       "      <td>worldbusinesschicago.com; amlegal.com; visitor.r20.constantcontact.com</td>\n",
       "      <td>loading; zones; commercial; vehicles; making; deliveries; businesses; loading; zones; designated; areas; p...</td>\n",
       "      <td>False</td>\n",
       "      <td>Department of Business Affairs and Consumer Protection</td>\n",
       "      <td>[loading, zones, commercial, vehicles, making, deliveries, businesses, loading, zones, designated, areas, ...</td>\n",
       "      <td>[load, zone, commerci, vehicl, make, deliveri, busi, load, zone, design, area, park, lane, load, unload, d...</td>\n",
       "      <td>[(loading, VBG), (zones, NNS), (commercial, JJ), (vehicles, NNS), (making, VBG), (deliveries, NNS), (busin...</td>\n",
       "      <td>[(load, NN), (zone, NN), (commerci, NN), (vehicl, NNS), (make, VBP), (deliveri, JJ), (busi, NN), (load, NN...</td>\n",
       "      <td>[(zones, 1), (use, 1), (help, 1), (street, 1), (require, 1)]</td>\n",
       "    </tr>\n",
       "    <tr>\n",
       "      <th>3983</th>\n",
       "      <td>bacp</td>\n",
       "      <td>FAQs for the 2017-2018 NBDC and NBDC Specialty Advisor RFP</td>\n",
       "      <td>https://www.cityofchicago.org/city/en/depts/bacp/provdrs/edu/alerts/2016/may/nbdcrfp201718.html</td>\n",
       "      <td>False</td>\n",
       "      <td>True</td>\n",
       "      <td>True</td>\n",
       "      <td>0</td>\n",
       "      <td></td>\n",
       "      <td>1</td>\n",
       "      <td>https://www.cityofchicago.org/content/dam/city/depts/bacp/Small%20Business%20Center/20172018nbdcspecialtya...</td>\n",
       "      <td>...</td>\n",
       "      <td></td>\n",
       "      <td></td>\n",
       "      <td>issued; rfp; community; development; grant; cdga; applications; include; nbdc; nbdc; specialty; advisor; r...</td>\n",
       "      <td>False</td>\n",
       "      <td>Department of Business Affairs and Consumer Protection</td>\n",
       "      <td>[issued, rfp, community, development, grant, cdga, applications, include, nbdc, nbdc, specialty, advisor, ...</td>\n",
       "      <td>[issu, rfp, communiti, develop, grant, cdga, applic, includ, nbdc, nbdc, specialti, advisor, rfps, close, ...</td>\n",
       "      <td>[(issued, VBN), (rfp, JJ), (community, NN), (development, NN), (grant, NN), (cdga, NN), (applications, NNS...</td>\n",
       "      <td>[(issu, NN), (rfp, NN), (communiti, NN), (develop, VB), (grant, JJ), (cdga, NN), (applic, JJ), (includ, NN...</td>\n",
       "      <td>[(include, 1), (visit, 1)]</td>\n",
       "    </tr>\n",
       "    <tr>\n",
       "      <th>3991</th>\n",
       "      <td>cdot</td>\n",
       "      <td>Roadway Construction Moratoriums</td>\n",
       "      <td>https://www.cityofchicago.org/city/en/depts/cdot/provdrs/construction_information/svcs/roadway_constructio...</td>\n",
       "      <td>False</td>\n",
       "      <td>True</td>\n",
       "      <td>True</td>\n",
       "      <td>0</td>\n",
       "      <td></td>\n",
       "      <td>0</td>\n",
       "      <td></td>\n",
       "      <td>...</td>\n",
       "      <td>https://webapps1.cityofchicago.org/StreetClosure/org/cityofchicago/streetclosure/cdot/ward.jsp</td>\n",
       "      <td>webapps1.cityofchicago.org</td>\n",
       "      <td>moratoriums; established; transportation; method; protecting; reconstructed; repaved; roadways; within; bo...</td>\n",
       "      <td>True</td>\n",
       "      <td>Department of Transportation</td>\n",
       "      <td>[moratoriums, established, transportation, method, protecting, reconstructed, repaved, roadways, within, b...</td>\n",
       "      <td>[moratorium, establish, transport, method, protect, reconstruct, repav, roadway, within, boundari, access,...</td>\n",
       "      <td>[(moratoriums, NNS), (established, VBN), (transportation, NN), (method, NN), (protecting, VBG), (reconstru...</td>\n",
       "      <td>[(moratorium, NN), (establish, VB), (transport, NN), (method, NN), (protect, VBP), (reconstruct, NN), (rep...</td>\n",
       "      <td>[(require, 1), (plan, 1), (roadway, 1), (exist, 1), (fee, 1)]</td>\n",
       "    </tr>\n",
       "    <tr>\n",
       "      <th>3999</th>\n",
       "      <td>cdot</td>\n",
       "      <td>Safe Routes Ambassadors</td>\n",
       "      <td>https://www.cityofchicago.org/city/en/depts/cdot/provdrs/ped/svcs/mayor_daley_s_saferoutesambassadors.html</td>\n",
       "      <td>False</td>\n",
       "      <td>True</td>\n",
       "      <td>True</td>\n",
       "      <td>0</td>\n",
       "      <td></td>\n",
       "      <td>4</td>\n",
       "      <td>https://www.cityofchicago.org/content/dam/city/depts/cdot/SRAbkgnd_ESP.pdf; https://www.cityofchicago.org/...</td>\n",
       "      <td>...</td>\n",
       "      <td>http://chicagocompletestreets.org/wp-content/uploads/2013/08/SRA-Fact-Sheet-2013-2014-ES.pdf</td>\n",
       "      <td>chicagocompletestreets.org</td>\n",
       "      <td>safe; routes; ambassadors; pedestrian; bicycle; safety; outreach; team; ambassadors; meet; thousands; chil...</td>\n",
       "      <td>True</td>\n",
       "      <td>Department of Transportation</td>\n",
       "      <td>[safe, routes, ambassadors, pedestrian, bicycle, safety, outreach, team, ambassadors, meet, thousands, chi...</td>\n",
       "      <td>[safe, rout, ambassador, pedestrian, bicycl, safeti, outreach, team, ambassador, meet, thousand, child, ye...</td>\n",
       "      <td>[(safe, JJ), (routes, VBZ), (ambassadors, NNS), (pedestrian, JJ), (bicycle, NN), (safety, NN), (outreach, ...</td>\n",
       "      <td>[(safe, JJ), (rout, NN), (ambassador, NN), (pedestrian, JJ), (bicycl, NN), (safeti, NN), (outreach, NN), (...</td>\n",
       "      <td>[(outreach, 1), (teach, 1), (bicycle, 1), (realize, 1), (outdoor, 1)]</td>\n",
       "    </tr>\n",
       "    <tr>\n",
       "      <th>4006</th>\n",
       "      <td>mayor</td>\n",
       "      <td>Greetings from the Mayor!</td>\n",
       "      <td>https://www.cityofchicago.org/city/en/depts/mayor/supp_info/mayoralgreeting.html</td>\n",
       "      <td>False</td>\n",
       "      <td>True</td>\n",
       "      <td>True</td>\n",
       "      <td>0</td>\n",
       "      <td></td>\n",
       "      <td>0</td>\n",
       "      <td></td>\n",
       "      <td>...</td>\n",
       "      <td>http://www.chicagosistercities.com/; http://www.mayorscaucus.org/; http://www.worldbusinesschicago.com/; h...</td>\n",
       "      <td>chicagosistercities.com; ChooseChicago.com; glslcities.org; mayorscaucus.org; worldbusinesschicago.com; ch...</td>\n",
       "      <td>thank; visiting; website; find; everything; need; whether; fast; convenient; access; services; departments...</td>\n",
       "      <td>False</td>\n",
       "      <td>Office of the Mayor</td>\n",
       "      <td>[thank, visiting, website, find, everything, need, whether, fast, convenient, access, services, department...</td>\n",
       "      <td>[thank, visit, websit, find, everyth, need, whether, fast, conveni, access, servic, depart, inform, histor...</td>\n",
       "      <td>[(thank, NN), (visiting, VBG), (website, JJ), (find, VBP), (everything, NN), (need, VBP), (whether, IN), (...</td>\n",
       "      <td>[(thank, JJ), (visit, NN), (websit, NN), (find, VBP), (everyth, JJ), (need, VBP), (whether, IN), (fast, JJ...</td>\n",
       "      <td>[(find, 2), (need, 1), (make, 1), (convenience, 1), (know, 1)]</td>\n",
       "    </tr>\n",
       "    <tr>\n",
       "      <th>4020</th>\n",
       "      <td>dca</td>\n",
       "      <td>City Markets</td>\n",
       "      <td>https://www.cityofchicago.org/city/en/depts/dca/supp_info/farmers_market.html</td>\n",
       "      <td>False</td>\n",
       "      <td>True</td>\n",
       "      <td>True</td>\n",
       "      <td>0</td>\n",
       "      <td></td>\n",
       "      <td>2</td>\n",
       "      <td>https://www.cityofchicago.org/content/dam/city/depts/dca/city_markets/citymarketsaddins2018.pdf; https://w...</td>\n",
       "      <td>...</td>\n",
       "      <td>http://www.maxwellstreetmarket.us; http://presentingcbs.com/view/mail?iID=kXphzqJMrxRGrTfNWV47; http://pre...</td>\n",
       "      <td>wlsam.com; 947trueoldies.com; maxwellstreetmarket.us; chicagotribune.com; countryfinancial.com; twitter.co...</td>\n",
       "      <td>like; markets; dcase; also; operates; maxwell; street; market; s.; desplaines; st.; tradition; bargains; b...</td>\n",
       "      <td>False</td>\n",
       "      <td>Department of Cultural Affairs and Special Events</td>\n",
       "      <td>[like, markets, dcase, also, operates, maxwell, street, market, s., desplaines, st., tradition, bargains, ...</td>\n",
       "      <td>[like, market, dcase, also, oper, maxwel, street, market, desplain, tradit, bargain, bargain, intern, flav...</td>\n",
       "      <td>[(like, IN), (markets, NNS), (dcase, VBP), (also, RB), (operates, VBZ), (maxwell, RB), (street, JJ), (mark...</td>\n",
       "      <td>[(like, IN), (market, NN), (dcase, NN), (also, RB), (oper, VBZ), (maxwel, JJ), (street, NN), (market, NN),...</td>\n",
       "      <td>[(dcase, 1)]</td>\n",
       "    </tr>\n",
       "  </tbody>\n",
       "</table>\n",
       "<p>406 rows × 21 columns</p>\n",
       "</div>"
      ],
      "text/plain": [
       "         dept  \\\n",
       "0         oem   \n",
       "1       mayor   \n",
       "23        dps   \n",
       "27       cdph   \n",
       "29      mayor   \n",
       "39      other   \n",
       "65      mayor   \n",
       "69        311   \n",
       "72        311   \n",
       "99       bacp   \n",
       "106      bacp   \n",
       "108      bacp   \n",
       "128     other   \n",
       "133      cdph   \n",
       "164       dcd   \n",
       "187     other   \n",
       "214      cdph   \n",
       "218       dps   \n",
       "219   streets   \n",
       "223     bldgs   \n",
       "233      None   \n",
       "259      bacp   \n",
       "270     other   \n",
       "280       cpd   \n",
       "284       fss   \n",
       "285     other   \n",
       "307       fss   \n",
       "328     bldgs   \n",
       "330       fss   \n",
       "335     other   \n",
       "...       ...   \n",
       "3525      dca   \n",
       "3532      dca   \n",
       "3541      dca   \n",
       "3543      dca   \n",
       "3555     bacp   \n",
       "3648      fss   \n",
       "3660  streets   \n",
       "3698     cdot   \n",
       "3721    other   \n",
       "3729     doit   \n",
       "3770     cdot   \n",
       "3771     cdot   \n",
       "3774  streets   \n",
       "3778     cacc   \n",
       "3805      dca   \n",
       "3810      dca   \n",
       "3896      dps   \n",
       "3906  streets   \n",
       "3909      fin   \n",
       "3911     cdot   \n",
       "3919     cdot   \n",
       "3936     cdot   \n",
       "3949      dca   \n",
       "3977      dca   \n",
       "3979     bacp   \n",
       "3983     bacp   \n",
       "3991     cdot   \n",
       "3999     cdot   \n",
       "4006    mayor   \n",
       "4020      dca   \n",
       "\n",
       "                                                                             title  \\\n",
       "0                                                       Report Suspicious Activity   \n",
       "1                                         Hurricane and Earthquake Disaster Relief   \n",
       "23                                                       Current Bid Opportunities   \n",
       "27                                          Free STI/HIV Testing and STI Treatment   \n",
       "29                                                     Find Your Ward and Alderman   \n",
       "39                                                                Dog Registration   \n",
       "65                                   One Good Deed Chicago Volunteer Opportunities   \n",
       "69                                                     Call Center Operations Unit   \n",
       "72                                                             Chicago 311 History   \n",
       "99                                     3 Simple Steps to Obtain a Business License   \n",
       "106                                                     Liquor License Inspections   \n",
       "108                             Required Documents for Liquor License Applications   \n",
       "128                                                       Office of the City Clerk   \n",
       "133               Household Chemicals & Computer Recycling Facility Accepted Items   \n",
       "164              Roof, Porch and Emergency Heating Repair Programs (formerly EHAP)   \n",
       "187                                                          Park District Permits   \n",
       "214                                                Underground Storage Tank Permit   \n",
       "218                              Certification - Veteran Business Enterprise (VBE)   \n",
       "219         Traffic Services (Vehicle Removal/Towing & Special Events Enforcement)   \n",
       "223                                                            Easy Permit Process   \n",
       "233                                                                 Transportation   \n",
       "259                                Steps in the Liquor License Application Process   \n",
       "270                                               Before and After School Programs   \n",
       "280        CAPS District and Beat Meetings (Chicago Alternative Policing Strategy)   \n",
       "284   Case Management Services (employment training and placement, education etc.)   \n",
       "285                                                         Chicago Public Schools   \n",
       "307                                                    Emergency Rental Assistance   \n",
       "328                                                 Homeowner's Assistance Program   \n",
       "330       Information About Illinois and Chicago-area Victims of domestic violence   \n",
       "335                                             Information on Delinquent Accounts   \n",
       "...                                                                            ...   \n",
       "3525                                                  World Music Festival Chicago   \n",
       "3532                                                     Wright Before the \"Lloyd\"   \n",
       "3541                                                     Year of Public Art Events   \n",
       "3543                                      Young People's Concerts, Live Music Now!   \n",
       "3555                                                                        Zoning   \n",
       "3648                                                      Case Management Services   \n",
       "3660                                                       Common Towing Questions   \n",
       "3698                                                                      Title VI   \n",
       "3721                                                Make Genealogy Requests Online   \n",
       "3729                                                     Connect Chicago Locations   \n",
       "3770                                                                 Bike Planning   \n",
       "3771                                                             Bikes and Transit   \n",
       "3774                                                       Grid Garbage Collection   \n",
       "3778                                                              Dog Registration   \n",
       "3805                                                           Clarke House Museum   \n",
       "3810                                                         Maxwell Street Market   \n",
       "3896                                       DPS Workshop Descriptions & PowerPoints   \n",
       "3906                                                       Illegal ('Fly') Dumping   \n",
       "3909                                        FAQs on Camera Violation Review Notice   \n",
       "3911                                                The Chicago Conservation Corps   \n",
       "3919                                                       Safe Routes Ambassadors   \n",
       "3936   Traffic Patterns will Change as Western/Belmont/Clybourn Project Progresses   \n",
       "3949                                                       Chicago Cultural Center   \n",
       "3977                                                         Fashion Focus Chicago   \n",
       "3979                                                                 Loading Zones   \n",
       "3983                    FAQs for the 2017-2018 NBDC and NBDC Specialty Advisor RFP   \n",
       "3991                                              Roadway Construction Moratoriums   \n",
       "3999                                                       Safe Routes Ambassadors   \n",
       "4006                                                     Greetings from the Mayor!   \n",
       "4020                                                                  City Markets   \n",
       "\n",
       "                                                                                                                url  \\\n",
       "0                         https://www.cityofchicago.org/city/en/depts/oem/supp_info/report-suspicious-activity.html   \n",
       "1                           https://www.cityofchicago.org/city/en/depts/mayor/supp_info/harvey-disaster-relief.html   \n",
       "23             https://www.cityofchicago.org/city/en/depts/dps/provdrs/contract/svcs/current_bid_opportunities.html   \n",
       "27    https://www.cityofchicago.org/city/en/depts/cdph/provdrs/health_services/svcs/get_yourself_evaluatedforsti...   \n",
       "29      https://www.cityofchicago.org/city/en/depts/mayor/provdrs/your_ward_and_alderman/svcs/find_my_alderman.html   \n",
       "39                       https://www.cityofchicago.org/city/en/depts/other/provdrs/clerk/svcs/dog_registration.html   \n",
       "65           https://www.cityofchicago.org/city/en/depts/mayor/provdrs/special_prog/svcs/one_good_deed_chicago.html   \n",
       "69                                             https://www.cityofchicago.org/city/en/depts/311/provdrs/callops.html   \n",
       "72                                           https://www.cityofchicago.org/city/en/depts/311/supp_info/311hist.html   \n",
       "99          https://www.cityofchicago.org/city/en/depts/bacp/supp_info/3_simple_steps_toobtainabusinesslicense.html   \n",
       "106                      https://www.cityofchicago.org/city/en/depts/bacp/supp_info/liquor_license_inspections.html   \n",
       "108   https://www.cityofchicago.org/city/en/depts/bacp/supp_info/required_documentsforliquorlicenseapplications....   \n",
       "128                                            https://www.cityofchicago.org/city/en/depts/other/provdrs/clerk.html   \n",
       "133   https://www.cityofchicago.org/city/en/depts/cdph/supp_info/inspections---permitting/household_chemicalscom...   \n",
       "164   https://www.cityofchicago.org/city/en/depts/dcd/provdrs/afford_hous/svcs/receive_emergencyhousingassistanc...   \n",
       "187                   https://www.cityofchicago.org/city/en/depts/other/provdrs/cpd/svcs/park_district_permits.html   \n",
       "214   https://www.cityofchicago.org/city/en/depts/cdph/provdrs/inspections_and_permitting/svcs/apply_for_an_unde...   \n",
       "218                        https://www.cityofchicago.org/city/en/depts/dps/provdrs/cert/svcs/Certification_VBE.html   \n",
       "219                                        https://www.cityofchicago.org/city/en/depts/streets/provdrs/traffic.html   \n",
       "223                                      https://www.cityofchicago.org/city/en/depts/bldgs/provdrs/permit_proc.html   \n",
       "233                                                        https://www.cityofchicago.org/city/en/progs/trnsprt.html   \n",
       "259    https://www.cityofchicago.org/city/en/depts/bacp/supp_info/steps_in_the_liquorlicenseapplicationprocess.html   \n",
       "270          https://www.cityofchicago.org/city/en/depts/other/provdrs/cps/svcs/before_and_afterschoolprograms.html   \n",
       "280       https://www.cityofchicago.org/city/en/depts/cpd/provdrs/police_services/svcs/find_caps_beat_meetings.html   \n",
       "284      https://www.cityofchicago.org/city/en/depts/fss/provdrs/emerg/svcs/supportive_services-casemanagement.html   \n",
       "285                           https://www.cityofchicago.org/city/en/depts/other/provdrs/cps/svcs/find_a_school.html   \n",
       "307    https://www.cityofchicago.org/city/en/depts/fss/provdrs/serv/svcs/how_to_find_rentalassistanceinchicago.html   \n",
       "328            https://www.cityofchicago.org/city/en/depts/bldgs/provdrs/stand_plan/svcs/home_owner_assistance.html   \n",
       "330   https://www.cityofchicago.org/city/en/depts/fss/provdrs/dom_violence/svcs/illinois_domesticviolencedataand...   \n",
       "335            https://www.cityofchicago.org/city/en/depts/other/provdrs/ccco/svcs/real_estate_and_taxservices.html   \n",
       "...                                                                                                             ...   \n",
       "3525                            https://www.cityofchicago.org/city/en/depts/dca/supp_info/world_music_festival.html   \n",
       "3532                                          https://www.cityofchicago.org/city/en/depts/dca/supp_info/Wright.html   \n",
       "3541                                      https://www.cityofchicago.org/city/en/depts/dca/supp_info/yopa/yopa1.html   \n",
       "3543                         https://www.cityofchicago.org/city/en/depts/dca/supp_info/young_people_s_concerts.html   \n",
       "3555                                               https://www.cityofchicago.org/city/en/depts/bacp/sbc/zoning.html   \n",
       "3648      https://www.cityofchicago.org/city/en/depts/fss/provdrs/serv/svcs/supportive_services-casemanagement.html   \n",
       "3660          https://www.cityofchicago.org/city/en/depts/streets/provdrs/traffic/svcs/common_towing_questions.html   \n",
       "3698                                         https://www.cityofchicago.org/city/en/depts/cdot/dataset/title-vi.html   \n",
       "3721         https://www.cityofchicago.org/city/en/depts/other/provdrs/ccco/svcs/make_genealogy_requestsonline.html   \n",
       "3729                       https://www.cityofchicago.org/city/en/depts/doit/dataset/public_technologyresources.html   \n",
       "3770                          https://www.cityofchicago.org/city/en/depts/cdot/provdrs/bike/svcs/bike_planning.html   \n",
       "3771                      https://www.cityofchicago.org/city/en/depts/cdot/provdrs/bike/svcs/bikes_and_transit.html   \n",
       "3774      https://www.cityofchicago.org/city/en/depts/streets/provdrs/streets_san/svcs/grid-garbage-collection.html   \n",
       "3778                       https://www.cityofchicago.org/city/en/depts/cacc/provdrs/care/svcs/dog_registration.html   \n",
       "3805                            https://www.cityofchicago.org/city/en/depts/dca/supp_info/clarke_house_museum.html/   \n",
       "3810                          https://www.cityofchicago.org/city/en/depts/dca/supp_info/maxwell_street_market.html/   \n",
       "3896     https://www.cityofchicago.org/city/en/depts/dps/provdrs/events/svcs/DPSWorkshopDescriptionPowerPoints.html   \n",
       "3906               https://www.cityofchicago.org/city/en/depts/streets/provdrs/street/svcs/illegal_fly_dumping.html   \n",
       "3909  https://www.cityofchicago.org/city/en/depts/fin/provdrs/parking_and_redlightcitationadministration/alerts/...   \n",
       "3911  https://www.cityofchicago.org/city/en/depts/cdot/provdrs/conservation_outreachgreenprograms/svcs/volunteer...   \n",
       "3919                 https://www.cityofchicago.org/city/en/depts/cdot/provdrs/ped/svcs/safe_routes_ambassadors.html   \n",
       "3936  https://www.cityofchicago.org/city/en/depts/cdot/provdrs/street/alerts/2016/august/traffic-patterns-will-c...   \n",
       "3949                         https://www.cityofchicago.org/city/en/depts/dca/supp_info/chicago_culturalcenter.html/   \n",
       "3977                          https://www.cityofchicago.org/city/en/depts/dca/supp_info/fashion_focus_chicago0.html   \n",
       "3979                    https://www.cityofchicago.org/city/en/depts/bacp/sbc/loading_zones.html?cq_ck=1377202367846   \n",
       "3983                https://www.cityofchicago.org/city/en/depts/bacp/provdrs/edu/alerts/2016/may/nbdcrfp201718.html   \n",
       "3991  https://www.cityofchicago.org/city/en/depts/cdot/provdrs/construction_information/svcs/roadway_constructio...   \n",
       "3999     https://www.cityofchicago.org/city/en/depts/cdot/provdrs/ped/svcs/mayor_daley_s_saferoutesambassadors.html   \n",
       "4006                               https://www.cityofchicago.org/city/en/depts/mayor/supp_info/mayoralgreeting.html   \n",
       "4020                                  https://www.cityofchicago.org/city/en/depts/dca/supp_info/farmers_market.html   \n",
       "\n",
       "      button  i_want_to   nav  num_email_addresses  \\\n",
       "0      False       True  True                    0   \n",
       "1      False       True  True                    1   \n",
       "23     False       True  True                    0   \n",
       "27     False       True  True                    0   \n",
       "29     False      False  True                    0   \n",
       "39      True       True  True                    0   \n",
       "65      True      False  True                    0   \n",
       "69     False      False  True                    0   \n",
       "72     False       True  True                    0   \n",
       "99     False       True  True                    0   \n",
       "106    False       True  True                    0   \n",
       "108    False       True  True                    0   \n",
       "128    False      False  True                    0   \n",
       "133    False       True  True                    0   \n",
       "164    False       True  True                    0   \n",
       "187    False       True  True                    0   \n",
       "214    False       True  True                    0   \n",
       "218    False       True  True                    1   \n",
       "219    False      False  True                    0   \n",
       "223    False      False  True                    0   \n",
       "233    False       True  True                    0   \n",
       "259    False       True  True                    0   \n",
       "270    False       True  True                    0   \n",
       "280    False       True  True                    0   \n",
       "284    False       True  True                    0   \n",
       "285    False       True  True                    0   \n",
       "307    False       True  True                    0   \n",
       "328    False       True  True                    0   \n",
       "330    False       True  True                    0   \n",
       "335    False       True  True                    0   \n",
       "...      ...        ...   ...                  ...   \n",
       "3525   False       True  True                    0   \n",
       "3532   False       True  True                    0   \n",
       "3541   False       True  True                    0   \n",
       "3543   False       True  True                    0   \n",
       "3555   False       True  True                    0   \n",
       "3648   False       True  True                    0   \n",
       "3660   False       True  True                    2   \n",
       "3698   False       True  True                    1   \n",
       "3721    True       True  True                    0   \n",
       "3729   False       True  True                    0   \n",
       "3770   False       True  True                    0   \n",
       "3771   False       True  True                    0   \n",
       "3774    True       True  True                    0   \n",
       "3778   False       True  True                    0   \n",
       "3805    True       True  True                    1   \n",
       "3810   False       True  True                    1   \n",
       "3896   False       True  True                    0   \n",
       "3906    True       True  True                    0   \n",
       "3909   False       True  True                    0   \n",
       "3911   False       True  True                    1   \n",
       "3919   False       True  True                    0   \n",
       "3936   False       True  True                    0   \n",
       "3949   False       True  True                    1   \n",
       "3977   False       True  True                    1   \n",
       "3979   False       True  True                    0   \n",
       "3983   False       True  True                    0   \n",
       "3991   False       True  True                    0   \n",
       "3999   False       True  True                    0   \n",
       "4006   False       True  True                    0   \n",
       "4020   False       True  True                    0   \n",
       "\n",
       "                                                                     email_addresses  \\\n",
       "0                                                                                      \n",
       "1                                                         mailto:maria1@prfaa.pr.gov   \n",
       "23                                                                                     \n",
       "27                                                                                     \n",
       "29                                                                                     \n",
       "39                                                                                     \n",
       "65                                                                                     \n",
       "69                                                                                     \n",
       "72                                                                                     \n",
       "99                                                                                     \n",
       "106                                                                                    \n",
       "108                                                                                    \n",
       "128                                                                                    \n",
       "133                                                                                    \n",
       "164                                                                                    \n",
       "187                                                                                    \n",
       "214                                                                                    \n",
       "218                                       mailto:dps.certification@cityofchicago.org   \n",
       "219                                                                                    \n",
       "223                                                                                    \n",
       "233                                                                                    \n",
       "259                                                                                    \n",
       "270                                                                                    \n",
       "280                                                                                    \n",
       "284                                                                                    \n",
       "285                                                                                    \n",
       "307                                                                                    \n",
       "328                                                                                    \n",
       "330                                                                                    \n",
       "335                                                                                    \n",
       "...                                                                              ...   \n",
       "3525                                                                                   \n",
       "3532                                                                                   \n",
       "3541                                                                                   \n",
       "3543                                                                                   \n",
       "3555                                                                                   \n",
       "3648                                                                                   \n",
       "3660  mailto:StreetsAndSan@cityofchicago.org; mailto:StreetsAndSan@cityofchicago.org   \n",
       "3698                                        mailto:michael.claffey@cityofchicago.org   \n",
       "3721                                                                                   \n",
       "3729                                                                                   \n",
       "3770                                                                                   \n",
       "3771                                                                                   \n",
       "3774                                                                                   \n",
       "3778                                                                                   \n",
       "3805                                      mailto:clarkehousemuseum@cityofchicago.org   \n",
       "3810                                          mailto:maxwellstreet@cityofchicago.org   \n",
       "3896                                                                                   \n",
       "3906                                                                                   \n",
       "3909                                                                                   \n",
       "3911                               mailto:chicagoconservationcorps@naturemuseum.org    \n",
       "3919                                                                                   \n",
       "3936                                                                                   \n",
       "3949                                                  mailto:dcase@cityofchicago.org   \n",
       "3977                                                mailto:fashion@cityofchicago.org   \n",
       "3979                                                                                   \n",
       "3983                                                                                   \n",
       "3991                                                                                   \n",
       "3999                                                                                   \n",
       "4006                                                                                   \n",
       "4020                                                                                   \n",
       "\n",
       "      pdf_count  \\\n",
       "0             1   \n",
       "1             0   \n",
       "23          133   \n",
       "27            3   \n",
       "29            1   \n",
       "39            0   \n",
       "65            0   \n",
       "69            0   \n",
       "72            0   \n",
       "99            1   \n",
       "106           0   \n",
       "108           0   \n",
       "128           0   \n",
       "133           2   \n",
       "164           3   \n",
       "187           0   \n",
       "214          21   \n",
       "218           0   \n",
       "219           0   \n",
       "223           2   \n",
       "233           0   \n",
       "259           0   \n",
       "270           0   \n",
       "280           0   \n",
       "284           0   \n",
       "285           0   \n",
       "307           0   \n",
       "328           6   \n",
       "330           0   \n",
       "335           0   \n",
       "...         ...   \n",
       "3525          0   \n",
       "3532          0   \n",
       "3541          0   \n",
       "3543          0   \n",
       "3555          1   \n",
       "3648          0   \n",
       "3660          0   \n",
       "3698         12   \n",
       "3721          0   \n",
       "3729          0   \n",
       "3770          2   \n",
       "3771          2   \n",
       "3774          5   \n",
       "3778          0   \n",
       "3805          0   \n",
       "3810          0   \n",
       "3896          7   \n",
       "3906          0   \n",
       "3909          0   \n",
       "3911          0   \n",
       "3919          0   \n",
       "3936          0   \n",
       "3949          0   \n",
       "3977          0   \n",
       "3979          0   \n",
       "3983          1   \n",
       "3991          0   \n",
       "3999          4   \n",
       "4006          0   \n",
       "4020          2   \n",
       "\n",
       "                                                                                                           pdf_urls  \\\n",
       "0                  https://www.cityofchicago.org/content/dam/city/depts/oemc/supp_info/SeeSomethingSaySomething.pdf   \n",
       "1                                                                                                                     \n",
       "23    https://www.cityofchicago.org/content/dam/city/depts/dps/ContractAdministration/Specs/2018/Spec579313.pdf;...   \n",
       "27    https://www.cityofchicago.org/content/dam/city/depts/cdph/tobacco_alchohol_and_drug_abuse/2016ChicagoOpioi...   \n",
       "29                                https://www.cityofchicago.org/content/dam/city/about/banners/WardsOverviewMap.pdf   \n",
       "39                                                                                                                    \n",
       "65                                                                                                                    \n",
       "69                                                                                                                    \n",
       "72                                                                                                                    \n",
       "99           https://www.cityofchicago.org/content/dam/city/depts/bacp/general/3simplestepstoobtainbuslicf05313.pdf   \n",
       "106                                                                                                                   \n",
       "108                                                                                                                   \n",
       "128                                                                                                                   \n",
       "133   https://www.cityofchicago.org/content/dam/city/depts/cdph/tobacco_alchohol_and_drug_abuse/2016ChicagoOpioi...   \n",
       "164   https://www.cityofchicago.org/content/dam/city/depts/dcd/general/housing/Roof_Porch_Selection_List_2018.pd...   \n",
       "187                                                                                                                   \n",
       "214   https://www.cityofchicago.org/content/dam/city/depts/cdph/tobacco_alchohol_and_drug_abuse/2016ChicagoOpioi...   \n",
       "218                                                                                                                   \n",
       "219                                                                                                                   \n",
       "223   https://www.cityofchicago.org/content/dam/city/depts/bldgs/general/EZPERMIT/197998_19_Easy_Permit_acrobat_...   \n",
       "233                                                                                                                   \n",
       "259                                                                                                                   \n",
       "270                                                                                                                   \n",
       "280                                                                                                                   \n",
       "284                                                                                                                   \n",
       "285                                                                                                                   \n",
       "307                                                                                                                   \n",
       "328   https://www.cityofchicago.org/content/dam/city/depts/bldgs/general/SPR/HOA_Projectsubmittalchecklist.pdf; ...   \n",
       "330                                                                                                                   \n",
       "335                                                                                                                   \n",
       "...                                                                                                             ...   \n",
       "3525                                                                                                                  \n",
       "3532                                                                                                                  \n",
       "3541                                                                                                                  \n",
       "3543                                                                                                                  \n",
       "3555  https://www.cityofchicago.org/content/dam/city/depts/bacp/Small%20Business%20Center/zoningexamplespp071820...   \n",
       "3648                                                                                                                  \n",
       "3660                                                                                                                  \n",
       "3698  https://www.cityofchicago.org/content/dam/city/depts/cdot/TitleVI/TITLE_VI_COMPLAINT_FORM_English.pdf; htt...   \n",
       "3721                                                                                                                  \n",
       "3729                                                                                                                  \n",
       "3770  https://www.cityofchicago.org/content/dam/city/depts/cdot/bicycling/publications/best_practices_report_199...   \n",
       "3771  https://www.cityofchicago.org/content/dam/city/depts/cdot/bicycling/transit/cta_bike_transit_2009.pdf; htt...   \n",
       "3774  https://www.cityofchicago.org/content/dam/city/depts/streets/supp_info/Grid%20Garbage%20Collection/Grid%20...   \n",
       "3778                                                                                                                  \n",
       "3805                                                                                                                  \n",
       "3810                                                                                                                  \n",
       "3896  https://www.cityofchicago.org/content/dam/city/depts/dps/Outreach/DPSDoingBusinessWiththeCityofChicago.pdf...   \n",
       "3906                                                                                                                  \n",
       "3909                                                                                                                  \n",
       "3911                                                                                                                  \n",
       "3919                                                                                                                  \n",
       "3936                                                                                                                  \n",
       "3949                                                                                                                  \n",
       "3977                                                                                                                  \n",
       "3979                                                                                                                  \n",
       "3983  https://www.cityofchicago.org/content/dam/city/depts/bacp/Small%20Business%20Center/20172018nbdcspecialtya...   \n",
       "3991                                                                                                                  \n",
       "3999  https://www.cityofchicago.org/content/dam/city/depts/cdot/SRAbkgnd_ESP.pdf; https://www.cityofchicago.org/...   \n",
       "4006                                                                                                                  \n",
       "4020  https://www.cityofchicago.org/content/dam/city/depts/dca/city_markets/citymarketsaddins2018.pdf; https://w...   \n",
       "\n",
       "                                           ...                                        \\\n",
       "0                                          ...                                         \n",
       "1                                          ...                                         \n",
       "23                                         ...                                         \n",
       "27                                         ...                                         \n",
       "29                                         ...                                         \n",
       "39                                         ...                                         \n",
       "65                                         ...                                         \n",
       "69                                         ...                                         \n",
       "72                                         ...                                         \n",
       "99                                         ...                                         \n",
       "106                                        ...                                         \n",
       "108                                        ...                                         \n",
       "128                                        ...                                         \n",
       "133                                        ...                                         \n",
       "164                                        ...                                         \n",
       "187                                        ...                                         \n",
       "214                                        ...                                         \n",
       "218                                        ...                                         \n",
       "219                                        ...                                         \n",
       "223                                        ...                                         \n",
       "233                                        ...                                         \n",
       "259                                        ...                                         \n",
       "270                                        ...                                         \n",
       "280                                        ...                                         \n",
       "284                                        ...                                         \n",
       "285                                        ...                                         \n",
       "307                                        ...                                         \n",
       "328                                        ...                                         \n",
       "330                                        ...                                         \n",
       "335                                        ...                                         \n",
       "...                                        ...                                         \n",
       "3525                                       ...                                         \n",
       "3532                                       ...                                         \n",
       "3541                                       ...                                         \n",
       "3543                                       ...                                         \n",
       "3555                                       ...                                         \n",
       "3648                                       ...                                         \n",
       "3660                                       ...                                         \n",
       "3698                                       ...                                         \n",
       "3721                                       ...                                         \n",
       "3729                                       ...                                         \n",
       "3770                                       ...                                         \n",
       "3771                                       ...                                         \n",
       "3774                                       ...                                         \n",
       "3778                                       ...                                         \n",
       "3805                                       ...                                         \n",
       "3810                                       ...                                         \n",
       "3896                                       ...                                         \n",
       "3906                                       ...                                         \n",
       "3909                                       ...                                         \n",
       "3911                                       ...                                         \n",
       "3919                                       ...                                         \n",
       "3936                                       ...                                         \n",
       "3949                                       ...                                         \n",
       "3977                                       ...                                         \n",
       "3979                                       ...                                         \n",
       "3983                                       ...                                         \n",
       "3991                                       ...                                         \n",
       "3999                                       ...                                         \n",
       "4006                                       ...                                         \n",
       "4020                                       ...                                         \n",
       "\n",
       "                                                                                                          ext_links  \\\n",
       "0                                                                    http://www.dhs.gov/see-something-say-something   \n",
       "1     http://www.chicagosistercities.com/; http://www.mayorscaucus.org/; http://www.worldbusinesschicago.com/; h...   \n",
       "23    https://webapps1.cityofchicago.org/EDSWeb/appmanager/OnlineEDS/desktop; http://author.cityofchicago.org/co...   \n",
       "27    https://visitor.r20.constantcontact.com/manage/optin/ea?v=001jsw_pnV76tUmSNJOdEkYeA%253D%253D; http://www....   \n",
       "29    http://www.chicagosistercities.com/; http://www.mayorscaucus.org/; http://www.worldbusinesschicago.com/; h...   \n",
       "39    http://www.chicityclerk.com/licenses/dogs.html; https://webapps1.cityofchicago.org/ezbuy/purchaseDogEmblem.do   \n",
       "65    http://www.chicagosistercities.com/; http://www.mayorscaucus.org/; http://www.worldbusinesschicago.com/; h...   \n",
       "69                     http://www.choosechicago.com/; https://portal.chicagopolice.org/portal/page/portal/ClearPath   \n",
       "72                                                                                                                    \n",
       "99                                                                                                                    \n",
       "106                                                                                                                   \n",
       "108   http://www2.state.il.us/lcc/basset; http://www.revenue.state.il.us/Businesses/register.htm; http://www.irs...   \n",
       "128                                                                                     http://www.chicityclerk.com   \n",
       "133   https://visitor.r20.constantcontact.com/manage/optin/ea?v=001jsw_pnV76tUmSNJOdEkYeA%253D%253D; http://www....   \n",
       "164                                                                                                                   \n",
       "187                                                         http://www.chicagoparkdistrict.com/permits-and-rentals/   \n",
       "214   https://visitor.r20.constantcontact.com/manage/optin/ea?v=001jsw_pnV76tUmSNJOdEkYeA%253D%253D; http://www....   \n",
       "218                                   https://www.google.com/maps/dir/121+N.+LaSalle+St.+%2C+Chicago%2C+IL%2C+60602   \n",
       "219   https://portal.chicagopolice.org/portal/page/portal/ClearPath/Online%20Services/TowSteal%20Search; https:/...   \n",
       "223                                                                                                                   \n",
       "233   http://www.transitchicago.com; http://metrarail.com/metra/en/home.html; http://www.rtachicago.com/; http:/...   \n",
       "259                                                                                                                   \n",
       "270                             http://www.cps.edu/Programs/Before_and_after_school/Pages/Beforeandafterschool.aspx   \n",
       "280   http://home.chicagopolice.org/; http://home.chicagopolice.org/get-involved-with-caps/how-caps-works/; http...   \n",
       "284                                                                                                                   \n",
       "285   http://schoollocator.cps.k12.il.us/; http://www.cps.edu/Schools/Find_a_school/Pages/Findaschool.aspx; http...   \n",
       "307                                                                                                                   \n",
       "328                                                                                                                   \n",
       "330                                                                           http://www.batteredwomensnetwork.org/   \n",
       "335                                                                                                                   \n",
       "...                                                                                                             ...   \n",
       "3525  http://www.millenniumpark.org; http://www.millenniumpark.org; http://www.millenniumpark.org; http://www.mi...   \n",
       "3532  http://www.transitchicago.com; https://www.facebook.com/ChicagoCulturalCenter; https://twitter.com/ChiCult...   \n",
       "3541  http://www.chicagoparksfoundation.org/year-of-public-art/; http://www.chicagoparksfoundation.org/year-of-p...   \n",
       "3543  http://imfchicago.org; http://imfchicago.org/programs/live-music-now/young-peoples-concerts-at-the-chicago...   \n",
       "3555  https://gisapps.cityofchicago.org/zoning/; http://www.worldbusinesschicago.com/site-selector; http://visit...   \n",
       "3648                                                                                                                  \n",
       "3660  https://webapps1.cityofchicago.org/vehicleSearch/; http://maps.yahoo.com/map?q1=400%20E.%20Wacker%20Dr.%20...   \n",
       "3698                                                                                                                  \n",
       "3721                                                                            http://www.cookcountygenealogy.com/   \n",
       "3729      http://weconnectchicago.org; https://data.cityofchicago.org/Education/Connect-Chicago-Locations/bmus-hp7e   \n",
       "3770  http://www.bike2015plan.org/; http://chicagocompletestreets.org/your-streets/mayors-advisory-councils/; ht...   \n",
       "3771  http://www.transitchicago.com/riding_cta/bike_and_ride.aspx; http://www.pacebus.com/sub/bus_system/bicycle...   \n",
       "3774  https://servicerequest.cityofchicago.org/web_intake_chic/Controller?op=locform&invSRType=SIE&invSRDesc=Gar...   \n",
       "3778                                                 http://www.chicityclerk.com/community-affairs/dog-registration   \n",
       "3805  http://www.transitchicago.com/; http://www.dames-il.org; http://www.dames-il.org; https://www.facebook.com...   \n",
       "3810  http://www.maxwellstreetmarket.us; http://bit.ly/1zznTDD; http://bit.ly/1EJ1YKr; http://www.transitchicago...   \n",
       "3896                                                                                                                  \n",
       "3906  https://servicerequest.cityofchicago.org/web_intake_chic/Controller?op=locform&invSRType=SDR&invSRDesc=Fly...   \n",
       "3909  http://library.amlegal.com/nxt/gateway.dll/Illinois/chicago_il/municipalcodeofchicago?f=templates$fn=defau...   \n",
       "3911                                                                  https://www.facebook.com/ChicagoConservation/   \n",
       "3919  http://www.scribd.com/collections/4305300/Lesson-Plans-Active-and-Safe-Transportation; http://chicagocompl...   \n",
       "3936                         http://www.transitchicago.com/travel_information/systemalerts.aspx?source_quicklinks=1   \n",
       "3949  https://www.facebook.com/ChicagoCulturalCenter; https://twitter.com/ChiCulturCenter; http://www.youtube.co...   \n",
       "3977  http://www.lakefxchicago.org; http://www.lakefxchicago.org; https://www.facebook.com/FashionFocusChicago; ...   \n",
       "3979  http://www.amlegal.com/nxt/gateway.dll/Illinois/chicago_il/title4businessesoccupationsandconsumerpr/chapte...   \n",
       "3983                                                                                                                  \n",
       "3991                 https://webapps1.cityofchicago.org/StreetClosure/org/cityofchicago/streetclosure/cdot/ward.jsp   \n",
       "3999                   http://chicagocompletestreets.org/wp-content/uploads/2013/08/SRA-Fact-Sheet-2013-2014-ES.pdf   \n",
       "4006  http://www.chicagosistercities.com/; http://www.mayorscaucus.org/; http://www.worldbusinesschicago.com/; h...   \n",
       "4020  http://www.maxwellstreetmarket.us; http://presentingcbs.com/view/mail?iID=kXphzqJMrxRGrTfNWV47; http://pre...   \n",
       "\n",
       "                                                                                                     outside_domain  \\\n",
       "0                                                                                                           dhs.gov   \n",
       "1     ifrc.org; topos.mx; puertoricanchicago.org; houstonrecovers.org; projectpaz.org; safeandwell.communityos.o...   \n",
       "23                                                             webapps1.cityofchicago.org; author.cityofchicago.org   \n",
       "27    cookcountyclerk.com; stopzikachicago.org; idph.state.il.us; hrsa.gov; who.int; gettestedchicago.com; visit...   \n",
       "29    chicagosistercities.com; chicagoelections.com; glslcities.org; mayorscaucus.org; worldbusinesschicago.com;...   \n",
       "39                                                                     chicityclerk.com; webapps1.cityofchicago.org   \n",
       "65      chicagosistercities.com; glslcities.org; onegooddeedchicago.org; mayorscaucus.org; worldbusinesschicago.com   \n",
       "69                                                                      portal.chicagopolice.org; choosechicago.com   \n",
       "72                                                                                                                    \n",
       "99                                                                                                                    \n",
       "106                                                                                                                   \n",
       "108                                                                      .state.il.us; revenue.state.il.us; irs.gov   \n",
       "128                                                                                                chicityclerk.com   \n",
       "133   cookcountyclerk.com; stopzikachicago.org; visitor.r20.constantcontact.com; earth911.com; servicerequest.ci...   \n",
       "164                                                                                                                   \n",
       "187                                                                                         chicagoparkdistrict.com   \n",
       "214   cookcountyclerk.com; stopzikachicago.org; webapps1.sfm.illinois.gov; visitor.r20.constantcontact.com; serv...   \n",
       "218                                                                                                      google.com   \n",
       "219                                                            portal.chicagopolice.org; webapps1.cityofchicago.org   \n",
       "223                                                                                                                   \n",
       "233                                       metrarail.com; nictd.com; pacebus.com; rtachicago.com; transitchicago.com   \n",
       "259                                                                                                                   \n",
       "270                                                                                                         cps.edu   \n",
       "280                                                                                          home.chicagopolice.org   \n",
       "284                                                                                                                   \n",
       "285                                                                            cps.edu; schoollocator.cps.k12.il.us   \n",
       "307                                                                                                                   \n",
       "328                                                                                                                   \n",
       "330                                                                                       batteredwomensnetwork.org   \n",
       "335                                                                                                                   \n",
       "...                                                                                                             ...   \n",
       "3525  millenniumpark.org; twitter.com; chicagoreader.com; youtube.com; instagram.com; chicago.suntimes.com; tran...   \n",
       "3532                                                     twitter.com; transitchicago.com; youtube.com; facebook.com   \n",
       "3541  millenniumpark.org; tinytapp.com; dusablemuseum.org; facebook.com; seechicagodance.com; aprpullmanportermu...   \n",
       "3543         twitter.com; youtube.com; instagram.com; imfchicago.org; visitor.r20.constantcontact.com; facebook.com   \n",
       "3555              worldbusinesschicago.com; amlegal.com; visitor.r20.constantcontact.com; gisapps.cityofchicago.org   \n",
       "3648                                                                                                                  \n",
       "3660                                                   chicityclerk.com; webapps1.cityofchicago.org; maps.yahoo.com   \n",
       "3698                                                                                                                  \n",
       "3721                                                                                        cookcountygenealogy.com   \n",
       "3729                                                                   data.cityofchicago.org; weconnectchicago.org   \n",
       "3770                                                         bike2015plan.org; chicagocompletestreets.org; apbp.org   \n",
       "3771                                                                   transitchicago.com; youtube.com; pacebus.com   \n",
       "3774                                                                               servicerequest.cityofchicago.org   \n",
       "3778                                                                                               chicityclerk.com   \n",
       "3805                        dames-il.org; twitter.com; youtube.com; instagram.com; transitchicago.com; facebook.com   \n",
       "3810  maxwellstreetmarket.us; twitter.com; youtube.com; instagram.com; transitchicago.com; bit.ly; visitor.r20.c...   \n",
       "3896                                                                                                                  \n",
       "3906                                                                               servicerequest.cityofchicago.org   \n",
       "3909                                                                                            library.amlegal.com   \n",
       "3911                                                                                                   facebook.com   \n",
       "3919                                                                         chicagocompletestreets.org; scribd.com   \n",
       "3936                                                                                             transitchicago.com   \n",
       "3949                                     twitter.com; youtube.com; instagram.com; maggiedaleypark.com; facebook.com   \n",
       "3977                                                      twitter.com; youtube.com; lakefxchicago.org; facebook.com   \n",
       "3979                                         worldbusinesschicago.com; amlegal.com; visitor.r20.constantcontact.com   \n",
       "3983                                                                                                                  \n",
       "3991                                                                                     webapps1.cityofchicago.org   \n",
       "3999                                                                                     chicagocompletestreets.org   \n",
       "4006  chicagosistercities.com; ChooseChicago.com; glslcities.org; mayorscaucus.org; worldbusinesschicago.com; ch...   \n",
       "4020  wlsam.com; 947trueoldies.com; maxwellstreetmarket.us; chicagotribune.com; countryfinancial.com; twitter.co...   \n",
       "\n",
       "                                                                                                  description_words  \\\n",
       "0     see; something; say; something; report; suspicious; activitywe; play; role; keeping; communities; safe; se...   \n",
       "1     wake; hurricanes; harvey; irma; maria; recent; earthquakes; mexico; thoughts; victims; families; affected;...   \n",
       "23    eprocurement; bid; opportunities; solicitations; require; online; response; available; online; available; ...   \n",
       "27    cdph; lakeview; sti; clinic; closed; tuesday; february; resume; service; wednesday; february; effective; j...   \n",
       "29    information; wards; aldermen; find; ward; alderman; street; address; list; wards; links; ward; site; maps;...   \n",
       "39    buying; dog; emblem; online; easy; fast; convenient; vaccination; documentation; ready; go; ez; buy; order...   \n",
       "65    one; good; deed; new; initiative; harnesses; power; volunteers; future; home; volunteer; opportunity; sear...   \n",
       "69    easy-to-remember; number; put; callers; touch; vast; array; programs; services; offer; operation; availabl...   \n",
       "72    took; hard; look; residents; requested; services; departments; responded; requests; realized; although; sy...   \n",
       "99    prepare; applying; business; license; must; first; decide; type; business; interested; starting; prepare; ...   \n",
       "106   initial; license; inspections; free; workshops; available; prepare; inspections; check; monthly; workshop;...   \n",
       "108   following; comprehensive; list; documentation; required; submitted; filing; liquor; license; application; ...   \n",
       "128   buy; vehicle; stickers; residential; parking; permits; guest; passes; clerk; office; also; view; legislati...   \n",
       "133   address; n.; north; branch; street; household; chemicals; computer; recycling; facility; accepts; chemical...   \n",
       "164   information; call; roof; porch; repair; program; emergency; heating; repair; program; help; homeowners; ma...   \n",
       "187   page; resource; individuals; groups; organizations; interested; hosting; event; parks; would; like; inform...   \n",
       "214   overview; underground; storage; tank; system; ust; tank; combination; tanks; connected; piping; least; com...   \n",
       "218   vbe; certification; vbe; certification; awarded; small; local; business; owned; operated; veterans; genera...   \n",
       "219   bureau; traffic; services; best; known; towing; relocation; vehicles; routinely; provide; critical; suppor...   \n",
       "223   easy; permit; process; streamlined; process; small; simple; home; building; improvement; projects; allows;...   \n",
       "233   vibrant; transportation; network; connects; communities; across; whether; traveling; car; bike; foot; publ...   \n",
       "259   liquor; license; application; process; outlined; note; business; consultant; assist; guide; application; p...   \n",
       "270   school; programs; provide; safe; fun; environment; students; participate; academic; leisure; recreational;...   \n",
       "280   visit; police; web; site; find; district; beat; meeting; neighborhood; find; caps; district; beat; beat; m...   \n",
       "284   enough; place; homeless; people; housing; without; providing; services; address; reasons; became; homeless...   \n",
       "285   find; public; schools; entering; school; name; zip; code; and/or; selecting; search; options; identify; ne...   \n",
       "307   emergency; rental; assistance; available; people; suffering; financial; hardship; due; crisis; loss; job; ...   \n",
       "328   new; location; hall; room; n.; lasalle; street; new; extended; hours; monday; friday; pm; lunch; break; pm...   \n",
       "330   illinois; domestic; violence; data; information; ildvdi; clearinghouse; provides; access; data; informatio...   \n",
       "335   cook; county; clerk; office; variety; property; tax; responsibilities; delinquent; unpaid; taxes; sold; co...   \n",
       "...                                                                                                             ...   \n",
       "3525  september; city-wide; various; locations; free; admission; dcase; homepage; world; music; festival; annual...   \n",
       "3532  cultural; center; visual; art; program; exhibitions; past; exhibitions; wright; lloyd; mention; name; fran...   \n",
       "3541  year; public; art; events; click; image; enlarge; upcoming; events; park; district; blog; year; public; ar...   \n",
       "3543  thursdays; february; march; april; may; noon; cultural; center; preston; bradley; hall; cultural; center; ...   \n",
       "3555  every; business; license; location; expansion; change; location; application; needs; reviewed; approved; z...   \n",
       "3648  enough; place; homeless; people; housing; without; providing; services; address; reasons; became; homeless...   \n",
       "3660  q.; find; car; towed; call; go; streets; sanitation; bureau; traffic; services; q.; car; towed; cars; may;...   \n",
       "3698  title; vi; notice; public; transportation; cdot; operates; programs; without; regard; race; color; nationa...   \n",
       "3721  cook; county; genealogy; genealogy; unit; cook; county; clerk; bureau; vital; records; provides; non-certi...   \n",
       "3729  sites; offer; free; affordable; technology; resources; services; like; computers; internet; access; wi-fi;...   \n",
       "3770  streets; cycling; plan; building; city-wide; bike; network; streets; cycling; plan; bike; plan; bike; plan...   \n",
       "3771  bringing; bike; train; bus; easy; important; rules; follow; cta; metra; pace; put; rules; place; customers...   \n",
       "3774  streets; sanitation; dss; finalized; implementation; efficient; citywide; grid; garbage; collection; syste...   \n",
       "3778  dog; license; applications; accepted; clerk; satellite; facilities; licensing; dogs; provides; real; benef...   \n",
       "3805  dcase; homepage; clarke; house; museum; weekly; tours; upcoming; events; clarkes; history; clarke; house; ...   \n",
       "3810  every; sunday; year-round; free; admission; dcase; homepage; maxwell; street; market; markets; maxwell; st...   \n",
       "3896  information; register; click; new; complete; online; economic; disclosure; statement; eds; economic; discl...   \n",
       "3906  illegal; dumping; fly; dumping; dumping; waste; material; public; private; property; without; permit; publ...   \n",
       "3909  frequently; asked; question; guide; assist; motorists; answering; questions; recently; mailed; camera; vio...   \n",
       "3911  conservation; corps; c3; recruits; trains; supports; network; volunteers; work; together; improve; quality...   \n",
       "3919  safe; routes; ambassadors; pedestrian; bicycle; safety; outreach; team; meet; thousands; students; year; t...   \n",
       "3936  transportation; cdot; announced; part; larger; reconstruction; western; avenue; traffic; western; bridge; ...   \n",
       "3949  dcase; homepage; cultural; center; drawn; beauty; fabulous; free; public; events; hundreds; thousands; vis...   \n",
       "3977  dcase; homepage; fashion; focus; click; images; enlarge; fashion; focus; fashion; focus; community; resour...   \n",
       "3979  loading; zones; commercial; vehicles; making; deliveries; businesses; loading; zones; designated; areas; p...   \n",
       "3983  issued; rfp; community; development; grant; cdga; applications; include; nbdc; nbdc; specialty; advisor; r...   \n",
       "3991  moratoriums; established; transportation; method; protecting; reconstructed; repaved; roadways; within; bo...   \n",
       "3999  safe; routes; ambassadors; pedestrian; bicycle; safety; outreach; team; ambassadors; meet; thousands; chil...   \n",
       "4006  thank; visiting; website; find; everything; need; whether; fast; convenient; access; services; departments...   \n",
       "4020  like; markets; dcase; also; operates; maxwell; street; market; s.; desplaines; st.; tradition; bargains; b...   \n",
       "\n",
       "     services                                               dept_name  \\\n",
       "0       False                   Emergency Management & Communications   \n",
       "1       False                                     Office of the Mayor   \n",
       "23       True                      Department of Procurement Services   \n",
       "27       True                             Department of Public Health   \n",
       "29       True                                     Office of the Mayor   \n",
       "39       True                                                   Other   \n",
       "65       True                                     Office of the Mayor   \n",
       "69      False                                       311 City Services   \n",
       "72      False                                       311 City Services   \n",
       "99      False  Department of Business Affairs and Consumer Protection   \n",
       "106     False  Department of Business Affairs and Consumer Protection   \n",
       "108     False  Department of Business Affairs and Consumer Protection   \n",
       "128     False                                                   Other   \n",
       "133     False                             Department of Public Health   \n",
       "164      True                  Department of Planning and Development   \n",
       "187      True                                                   Other   \n",
       "214      True                             Department of Public Health   \n",
       "218      True                      Department of Procurement Services   \n",
       "219     False                    Department of Streets and Sanitation   \n",
       "223     False                                 Department of Buildings   \n",
       "233     False                                                    None   \n",
       "259     False  Department of Business Affairs and Consumer Protection   \n",
       "270      True                                                   Other   \n",
       "280      True                               Chicago Police Department   \n",
       "284      True                 Department of Family & Support Services   \n",
       "285      True                                                   Other   \n",
       "307      True                 Department of Family & Support Services   \n",
       "328      True                                 Department of Buildings   \n",
       "330      True                 Department of Family & Support Services   \n",
       "335      True                                                   Other   \n",
       "...       ...                                                     ...   \n",
       "3525    False       Department of Cultural Affairs and Special Events   \n",
       "3532    False       Department of Cultural Affairs and Special Events   \n",
       "3541    False       Department of Cultural Affairs and Special Events   \n",
       "3543    False       Department of Cultural Affairs and Special Events   \n",
       "3555    False  Department of Business Affairs and Consumer Protection   \n",
       "3648     True                 Department of Family & Support Services   \n",
       "3660     True                    Department of Streets and Sanitation   \n",
       "3698    False                            Department of Transportation   \n",
       "3721     True                                                   Other   \n",
       "3729    False                 Department of Innovation and Technology   \n",
       "3770     True                            Department of Transportation   \n",
       "3771     True                            Department of Transportation   \n",
       "3774     True                    Department of Streets and Sanitation   \n",
       "3778     True                   Department of Animal Care and Control   \n",
       "3805    False       Department of Cultural Affairs and Special Events   \n",
       "3810    False       Department of Cultural Affairs and Special Events   \n",
       "3896     True                      Department of Procurement Services   \n",
       "3906     True                    Department of Streets and Sanitation   \n",
       "3909    False                                   Department of Finance   \n",
       "3911     True                            Department of Transportation   \n",
       "3919     True                            Department of Transportation   \n",
       "3936    False                            Department of Transportation   \n",
       "3949    False       Department of Cultural Affairs and Special Events   \n",
       "3977    False       Department of Cultural Affairs and Special Events   \n",
       "3979    False  Department of Business Affairs and Consumer Protection   \n",
       "3983    False  Department of Business Affairs and Consumer Protection   \n",
       "3991     True                            Department of Transportation   \n",
       "3999     True                            Department of Transportation   \n",
       "4006    False                                     Office of the Mayor   \n",
       "4020    False       Department of Cultural Affairs and Special Events   \n",
       "\n",
       "                                                                                                  normalized_tokens  \\\n",
       "0     [see, something, say, something, report, suspicious, activitywe, play, role, keeping, communities, safe, s...   \n",
       "1     [wake, hurricanes, harvey, irma, maria, recent, earthquakes, mexico, thoughts, victims, families, affected...   \n",
       "23    [eprocurement, bid, opportunities, solicitations, require, online, response, available, online, available,...   \n",
       "27    [cdph, lakeview, sti, clinic, closed, tuesday, february, resume, service, wednesday, february, effective, ...   \n",
       "29    [information, wards, aldermen, find, ward, alderman, street, address, list, wards, links, ward, site, maps...   \n",
       "39    [buying, dog, emblem, online, easy, fast, convenient, vaccination, documentation, ready, go, ez, buy, orde...   \n",
       "65    [one, good, deed, new, initiative, harnesses, power, volunteers, future, home, volunteer, opportunity, sea...   \n",
       "69    [easy-to-remember, number, put, callers, touch, vast, array, programs, services, offer, operation, availab...   \n",
       "72    [took, hard, look, residents, requested, services, departments, responded, requests, realized, although, s...   \n",
       "99    [prepare, applying, business, license, must, first, decide, type, business, interested, starting, prepare,...   \n",
       "106   [initial, license, inspections, free, workshops, available, prepare, inspections, check, monthly, workshop...   \n",
       "108   [following, comprehensive, list, documentation, required, submitted, filing, liquor, license, application,...   \n",
       "128   [buy, vehicle, stickers, residential, parking, permits, guest, passes, clerk, office, also, view, legislat...   \n",
       "133   [address, n., north, branch, street, household, chemicals, computer, recycling, facility, accepts, chemica...   \n",
       "164   [information, call, roof, porch, repair, program, emergency, heating, repair, program, help, homeowners, m...   \n",
       "187   [page, resource, individuals, groups, organizations, interested, hosting, event, parks, would, like, infor...   \n",
       "214   [overview, underground, storage, tank, system, ust, tank, combination, tanks, connected, piping, least, co...   \n",
       "218   [vbe, certification, vbe, certification, awarded, small, local, business, owned, operated, veterans, gener...   \n",
       "219   [bureau, traffic, services, best, known, towing, relocation, vehicles, routinely, provide, critical, suppo...   \n",
       "223   [easy, permit, process, streamlined, process, small, simple, home, building, improvement, projects, allows...   \n",
       "233   [vibrant, transportation, network, connects, communities, across, whether, traveling, car, bike, foot, pub...   \n",
       "259   [liquor, license, application, process, outlined, note, business, consultant, assist, guide, application, ...   \n",
       "270   [school, programs, provide, safe, fun, environment, students, participate, academic, leisure, recreational...   \n",
       "280   [visit, police, web, site, find, district, beat, meeting, neighborhood, find, caps, district, beat, beat, ...   \n",
       "284   [enough, place, homeless, people, housing, without, providing, services, address, reasons, became, homeles...   \n",
       "285   [find, public, schools, entering, school, name, zip, code, and/or, selecting, search, options, identify, n...   \n",
       "307   [emergency, rental, assistance, available, people, suffering, financial, hardship, due, crisis, loss, job,...   \n",
       "328   [new, location, hall, room, n., lasalle, street, new, extended, hours, monday, friday, pm, lunch, break, p...   \n",
       "330   [illinois, domestic, violence, data, information, ildvdi, clearinghouse, provides, access, data, informati...   \n",
       "335   [cook, county, clerk, office, variety, property, tax, responsibilities, delinquent, unpaid, taxes, sold, c...   \n",
       "...                                                                                                             ...   \n",
       "3525  [september, city-wide, various, locations, free, admission, dcase, homepage, world, music, festival, annua...   \n",
       "3532  [cultural, center, visual, art, program, exhibitions, past, exhibitions, wright, lloyd, mention, name, fra...   \n",
       "3541  [year, public, art, events, click, image, enlarge, upcoming, events, park, district, blog, year, public, a...   \n",
       "3543  [thursdays, february, march, april, may, noon, cultural, center, preston, bradley, hall, cultural, center,...   \n",
       "3555  [every, business, license, location, expansion, change, location, application, needs, reviewed, approved, ...   \n",
       "3648  [enough, place, homeless, people, housing, without, providing, services, address, reasons, became, homeles...   \n",
       "3660  [q., find, car, towed, call, go, streets, sanitation, bureau, traffic, services, q., car, towed, cars, may...   \n",
       "3698  [title, vi, notice, public, transportation, cdot, operates, programs, without, regard, race, color, nation...   \n",
       "3721  [cook, county, genealogy, genealogy, unit, cook, county, clerk, bureau, vital, records, provides, non-cert...   \n",
       "3729  [sites, offer, free, affordable, technology, resources, services, like, computers, internet, access, wi-fi...   \n",
       "3770  [streets, cycling, plan, building, city-wide, bike, network, streets, cycling, plan, bike, plan, bike, pla...   \n",
       "3771  [bringing, bike, train, bus, easy, important, rules, follow, cta, metra, pace, put, rules, place, customer...   \n",
       "3774  [streets, sanitation, dss, finalized, implementation, efficient, citywide, grid, garbage, collection, syst...   \n",
       "3778  [dog, license, applications, accepted, clerk, satellite, facilities, licensing, dogs, provides, real, bene...   \n",
       "3805  [dcase, homepage, clarke, house, museum, weekly, tours, upcoming, events, clarkes, history, clarke, house,...   \n",
       "3810  [every, sunday, year-round, free, admission, dcase, homepage, maxwell, street, market, markets, maxwell, s...   \n",
       "3896  [information, register, click, new, complete, online, economic, disclosure, statement, eds, economic, disc...   \n",
       "3906  [illegal, dumping, fly, dumping, dumping, waste, material, public, private, property, without, permit, pub...   \n",
       "3909  [frequently, asked, question, guide, assist, motorists, answering, questions, recently, mailed, camera, vi...   \n",
       "3911  [conservation, corps, c3, recruits, trains, supports, network, volunteers, work, together, improve, qualit...   \n",
       "3919  [safe, routes, ambassadors, pedestrian, bicycle, safety, outreach, team, meet, thousands, students, year, ...   \n",
       "3936  [transportation, cdot, announced, part, larger, reconstruction, western, avenue, traffic, western, bridge,...   \n",
       "3949  [dcase, homepage, cultural, center, drawn, beauty, fabulous, free, public, events, hundreds, thousands, vi...   \n",
       "3977  [dcase, homepage, fashion, focus, click, images, enlarge, fashion, focus, fashion, focus, community, resou...   \n",
       "3979  [loading, zones, commercial, vehicles, making, deliveries, businesses, loading, zones, designated, areas, ...   \n",
       "3983  [issued, rfp, community, development, grant, cdga, applications, include, nbdc, nbdc, specialty, advisor, ...   \n",
       "3991  [moratoriums, established, transportation, method, protecting, reconstructed, repaved, roadways, within, b...   \n",
       "3999  [safe, routes, ambassadors, pedestrian, bicycle, safety, outreach, team, ambassadors, meet, thousands, chi...   \n",
       "4006  [thank, visiting, website, find, everything, need, whether, fast, convenient, access, services, department...   \n",
       "4020  [like, markets, dcase, also, operates, maxwell, street, market, s., desplaines, st., tradition, bargains, ...   \n",
       "\n",
       "                                                                                                 stemmatized_tokens  \\\n",
       "0     [see, someth, say, someth, report, suspici, activityw, play, role, keep, communiti, safe, see, someth, say...   \n",
       "1     [wake, hurrican, harvey, irma, maria, recent, earthquak, mexico, thought, victim, famili, affect, natur, d...   \n",
       "23    [eprocur, bid, opportun, solicit, requir, onlin, respons, avail, onlin, avail, pick, bid, bond, room, woul...   \n",
       "27    [cdph, lakeview, sti, clinic, close, tuesday, februari, resum, servic, wednesday, februari, effect, januar...   \n",
       "29    [inform, ward, alderman, find, ward, alderman, street, address, list, ward, link, ward, site, map, ward, p...   \n",
       "39    [buy, dog, emblem, onlin, easi, fast, conveni, vaccin, document, readi, go, ez, buy, order, onlin, allow, ...   \n",
       "65    [one, good, deed, new, initi, har, power, volunt, futur, home, volunt, opportun, search, much, whether, lo...   \n",
       "69    [number, put, caller, touch, vast, array, program, servic, offer, oper, avail, report, servic, need, check...   \n",
       "72    [took, hard, look, resid, request, servic, depart, respond, request, realiz, although, system, consid, one...   \n",
       "99    [prepar, appli, busi, licens, must, first, decid, type, busi, interest, start, prepar, busi, plan, suit, s...   \n",
       "106   [initi, licens, inspect, free, workshop, avail, prepar, inspect, check, month, workshop, calendar, click, ...   \n",
       "108   [follow, comprehens, list, document, requir, submit, file, liquor, licens, applic, chang, type, iii, docum...   \n",
       "128   [buy, vehicl, sticker, residenti, park, permit, guest, pas, clerk, offic, also, view, legisl, committe, in...   \n",
       "133   [address, north, branch, street, household, chemic, comput, recycl, facil, accept, chemic, household, chem...   \n",
       "164   [inform, call, roof, porch, repair, program, emerg, heat, repair, program, help, homeown, make, improv, ho...   \n",
       "187   [page, resourc, individu, group, organ, interest, host, event, park, would, like, inform, soldier, field, ...   \n",
       "214   [overview, underground, storag, tank, system, ust, tank, combin, tank, connect, pipe, least, combin, volum...   \n",
       "218   [vbe, certif, vbe, certif, award, small, local, busi, own, oper, veteran, general, honor, discharg, take, ...   \n",
       "219   [bureau, traffic, servic, best, known, tow, reloc, vehicl, routin, provid, critic, support, servic, mani, ...   \n",
       "223   [easi, permit, process, streamlin, process, small, simpl, home, build, improv, project, allow, home, build...   \n",
       "233   [vibrant, transport, network, connect, communiti, across, whether, travel, car, bike, foot, public, transi...   \n",
       "259   [liquor, licens, applic, process, outlin, note, busi, consult, assist, guid, applic, process, step, get, s...   \n",
       "270   [school, program, provid, safe, fun, environ, student, particip, academ, leisur, recreat, activ, outsid, t...   \n",
       "280      [visit, polic, web, site, find, district, beat, meet, neighborhood, find, cap, district, beat, beat, meet]   \n",
       "284   [enough, place, homeless, peopl, hous, without, provid, servic, address, reason, becam, homeless, resid, c...   \n",
       "285   [find, public, school, enter, school, name, zip, code, select, search, option, identifi, neighborhood, sch...   \n",
       "307   [emerg, rental, assist, avail, peopl, suffer, financi, hardship, due, crisi, loss, job, home, fire, ill, p...   \n",
       "328   [new, locat, hall, room, lasall, street, new, extend, hour, monday, friday, pm, lunch, break, pm, pm, buil...   \n",
       "330   [illinoi, domest, violenc, data, inform, ildvdi, clearinghous, provid, access, data, inform, illinoi, vict...   \n",
       "335   [cook, counti, clerk, offic, varieti, properti, tax, respons, delinqu, unpaid, tax, sold, cook, counti, tr...   \n",
       "...                                                                                                             ...   \n",
       "3525  [septemb, various, locat, free, admiss, dcase, homepag, world, music, festiv, annual, world, music, festiv...   \n",
       "3532  [cultur, center, visual, art, program, exhibit, past, exhibit, wright, lloyd, mention, name, frank, lloyd,...   \n",
       "3541  [year, public, art, event, click, imag, enlarg, upcom, event, park, district, blog, year, public, art, hon...   \n",
       "3543  [thursday, februari, march, april, may, noon, cultur, center, preston, bradley, hall, cultur, center, even...   \n",
       "3555  [everi, busi, licens, locat, expans, chang, locat, applic, need, review, approv, zone, busi, licens, appli...   \n",
       "3648  [enough, place, homeless, peopl, hous, without, provid, servic, address, reason, becam, homeless, resid, c...   \n",
       "3660  [find, car, tow, call, go, street, sanit, bureau, traffic, servic, car, tow, car, may, tow, one, sever, re...   \n",
       "3698  [titl, vi, notic, public, transport, cdot, oper, program, without, regard, race, color, nation, origin, ac...   \n",
       "3721  [cook, counti, genealog, genealog, unit, cook, counti, clerk, bureau, vital, record, provid, version, birt...   \n",
       "3729  [site, offer, free, afford, technolog, resourc, servic, like, comput, internet, access, hotspot, technolog...   \n",
       "3770  [street, cycl, plan, build, bike, network, street, cycl, plan, bike, plan, bike, plan, vision, make, bicyc...   \n",
       "3771  [bring, bike, train, bus, easi, import, rule, follow, cta, metra, pace, put, rule, place, custom, safeti, ...   \n",
       "3774  [street, sanit, ds, final, implement, effici, citywid, grid, garbag, collect, system, ds, collect, garbag,...   \n",
       "3778  [dog, licens, applic, accept, clerk, satellit, facil, licens, dog, provid, real, benefit, help, assist, pu...   \n",
       "3805  [dcase, homepag, clark, hous, museum, week, tour, upcom, event, clark, histori, clark, hous, architectur, ...   \n",
       "3810  [everi, sunday, free, admiss, dcase, homepag, maxwel, street, market, market, maxwel, street, market, trad...   \n",
       "3896  [inform, regist, click, new, complet, onlin, econom, disclosur, statement, ed, econom, disclosur, statemen...   \n",
       "3906  [illeg, dump, fli, dump, dump, wast, materi, public, privat, properti, without, permit, public, health, cp...   \n",
       "3909  [frequent, ask, question, guid, assist, motorist, answer, question, recent, mail, camera, violat, review, ...   \n",
       "3911  [conserv, corp, recruit, train, support, network, volunt, work, togeth, improv, qualiti, life, neighborhoo...   \n",
       "3919  [safe, rout, ambassador, pedestrian, bicycl, safeti, outreach, team, meet, thousand, student, year, teach,...   \n",
       "3936  [transport, cdot, announc, part, larger, reconstruct, western, avenu, traffic, western, bridg, river, redu...   \n",
       "3949  [dcase, homepag, cultur, center, drawn, beauti, fabul, free, public, event, hundr, thousand, visitor, come...   \n",
       "3977  [dcase, homepag, fashion, focus, click, imag, enlarg, fashion, focus, fashion, focus, communiti, resourc, ...   \n",
       "3979  [load, zone, commerci, vehicl, make, deliveri, busi, load, zone, design, area, park, lane, load, unload, d...   \n",
       "3983  [issu, rfp, communiti, develop, grant, cdga, applic, includ, nbdc, nbdc, specialti, advisor, rfps, close, ...   \n",
       "3991  [moratorium, establish, transport, method, protect, reconstruct, repav, roadway, within, boundari, access,...   \n",
       "3999  [safe, rout, ambassador, pedestrian, bicycl, safeti, outreach, team, ambassador, meet, thousand, child, ye...   \n",
       "4006  [thank, visit, websit, find, everyth, need, whether, fast, conveni, access, servic, depart, inform, histor...   \n",
       "4020  [like, market, dcase, also, oper, maxwel, street, market, desplain, tradit, bargain, bargain, intern, flav...   \n",
       "\n",
       "                                                                                              normalized_tokens_POS  \\\n",
       "0     [(see, VB), (something, NN), (say, VBP), (something, NN), (report, NN), (suspicious, JJ), (activitywe, JJ)...   \n",
       "1     [(wake, NN), (hurricanes, NNS), (harvey, VBP), (irma, JJ), (maria, FW), (recent, JJ), (earthquakes, NNS), ...   \n",
       "23    [(eprocurement, JJ), (bid, NN), (opportunities, NNS), (solicitations, NNS), (require, VBP), (online, JJ), ...   \n",
       "27    [(cdph, NN), (lakeview, NN), (sti, NN), (clinic, NN), (closed, VBD), (tuesday, JJ), (february, JJ), (resum...   \n",
       "29    [(information, NN), (wards, NNS), (aldermen, NNS), (find, VBP), (ward, JJ), (alderman, JJ), (street, NN), ...   \n",
       "39    [(buying, VBG), (dog, NN), (emblem, FW), (online, NN), (easy, JJ), (fast, JJ), (convenient, NN), (vaccinat...   \n",
       "65    [(one, CD), (good, JJ), (deed, VB), (new, JJ), (initiative, JJ), (harnesses, NNS), (power, NN), (volunteer...   \n",
       "69    [(easy-to-remember, JJ), (number, NN), (put, VBD), (callers, NNS), (touch, JJ), (vast, JJ), (array, NN), (...   \n",
       "72    [(took, VBD), (hard, JJ), (look, NN), (residents, NNS), (requested, VBD), (services, NNS), (departments, N...   \n",
       "99    [(prepare, NN), (applying, VBG), (business, NN), (license, NN), (must, MD), (first, VB), (decide, VB), (ty...   \n",
       "106   [(initial, JJ), (license, NN), (inspections, NNS), (free, JJ), (workshops, NNS), (available, JJ), (prepare...   \n",
       "108   [(following, VBG), (comprehensive, JJ), (list, JJ), (documentation, NN), (required, VBN), (submitted, VBD)...   \n",
       "128   [(buy, VB), (vehicle, NN), (stickers, NNS), (residential, JJ), (parking, VBG), (permits, NNS), (guest, JJS...   \n",
       "133   [(address, NN), (n., JJ), (north, JJ), (branch, NN), (street, NN), (household, NN), (chemicals, NNS), (com...   \n",
       "164   [(information, NN), (call, NN), (roof, NN), (porch, NN), (repair, NN), (program, NN), (emergency, NN), (he...   \n",
       "187   [(page, NN), (resource, NN), (individuals, NNS), (groups, NNS), (organizations, NNS), (interested, JJ), (h...   \n",
       "214   [(overview, NN), (underground, JJ), (storage, NN), (tank, NN), (system, NN), (ust, JJ), (tank, NN), (combi...   \n",
       "218   [(vbe, JJ), (certification, NN), (vbe, NN), (certification, NN), (awarded, VBD), (small, JJ), (local, JJ),...   \n",
       "219   [(bureau, NN), (traffic, NN), (services, NNS), (best, RB), (known, VBN), (towing, VBG), (relocation, NN), ...   \n",
       "223   [(easy, JJ), (permit, NN), (process, NN), (streamlined, VBD), (process, RB), (small, JJ), (simple, JJ), (h...   \n",
       "233   [(vibrant, JJ), (transportation, NN), (network, NN), (connects, NNS), (communities, NNS), (across, IN), (w...   \n",
       "259   [(liquor, NN), (license, NN), (application, NN), (process, NN), (outlined, VBN), (note, NN), (business, NN...   \n",
       "270   [(school, NN), (programs, NNS), (provide, VBP), (safe, JJ), (fun, NN), (environment, NN), (students, NNS),...   \n",
       "280   [(visit, NN), (police, NN), (web, VBD), (site, NN), (find, VB), (district, NN), (beat, NN), (meeting, NN),...   \n",
       "284   [(enough, JJ), (place, NN), (homeless, NN), (people, NNS), (housing, NN), (without, IN), (providing, VBG),...   \n",
       "285   [(find, VB), (public, JJ), (schools, NNS), (entering, VBG), (school, NN), (name, NN), (zip, NN), (code, NN...   \n",
       "307   [(emergency, NN), (rental, JJ), (assistance, NN), (available, JJ), (people, NNS), (suffering, VBG), (finan...   \n",
       "328   [(new, JJ), (location, NN), (hall, NN), (room, NN), (n., IN), (lasalle, NNP), (street, VBD), (new, JJ), (e...   \n",
       "330   [(illinois, NN), (domestic, JJ), (violence, NN), (data, NNS), (information, NN), (ildvdi, NN), (clearingho...   \n",
       "335   [(cook, NN), (county, NN), (clerk, NN), (office, NN), (variety, NN), (property, NN), (tax, NN), (responsib...   \n",
       "...                                                                                                             ...   \n",
       "3525  [(september, VB), (city-wide, JJ), (various, JJ), (locations, NNS), (free, JJ), (admission, NN), (dcase, N...   \n",
       "3532  [(cultural, JJ), (center, NN), (visual, JJ), (art, NN), (program, NN), (exhibitions, NNS), (past, IN), (ex...   \n",
       "3541  [(year, NN), (public, JJ), (art, NN), (events, NNS), (click, JJ), (image, NN), (enlarge, NN), (upcoming, V...   \n",
       "3543  [(thursdays, NNS), (february, VBP), (march, NN), (april, NN), (may, MD), (noon, VB), (cultural, JJ), (cent...   \n",
       "3555  [(every, DT), (business, NN), (license, NN), (location, NN), (expansion, NN), (change, NN), (location, NN)...   \n",
       "3648  [(enough, JJ), (place, NN), (homeless, NN), (people, NNS), (housing, NN), (without, IN), (providing, VBG),...   \n",
       "3660  [(q., RB), (find, VBP), (car, NN), (towed, VBD), (call, NN), (go, VBP), (streets, NNS), (sanitation, VBP),...   \n",
       "3698  [(title, NN), (vi, JJ), (notice, JJ), (public, JJ), (transportation, NN), (cdot, NN), (operates, VBZ), (pr...   \n",
       "3721  [(cook, NN), (county, NN), (genealogy, NN), (genealogy, NN), (unit, NN), (cook, VBD), (county, NN), (clerk...   \n",
       "3729  [(sites, NNS), (offer, VBP), (free, JJ), (affordable, JJ), (technology, NN), (resources, NNS), (services, ...   \n",
       "3770  [(streets, NNS), (cycling, VBG), (plan, NN), (building, VBG), (city-wide, JJ), (bike, NN), (network, NN), ...   \n",
       "3771  [(bringing, VBG), (bike, NN), (train, NN), (bus, NN), (easy, JJ), (important, JJ), (rules, NNS), (follow, ...   \n",
       "3774  [(streets, NNS), (sanitation, VBP), (dss, RB), (finalized, VBN), (implementation, NN), (efficient, JJ), (c...   \n",
       "3778  [(dog, NN), (license, NN), (applications, NNS), (accepted, VBD), (clerk, NN), (satellite, NN), (facilities...   \n",
       "3805  [(dcase, NN), (homepage, NN), (clarke, NN), (house, NN), (museum, NN), (weekly, JJ), (tours, NNS), (upcomi...   \n",
       "3810  [(every, DT), (sunday, JJ), (year-round, JJ), (free, JJ), (admission, NN), (dcase, NN), (homepage, NN), (m...   \n",
       "3896  [(information, NN), (register, NN), (click, VBP), (new, JJ), (complete, JJ), (online, JJ), (economic, JJ),...   \n",
       "3906  [(illegal, JJ), (dumping, VBG), (fly, NN), (dumping, VBG), (dumping, VBG), (waste, NN), (material, JJ), (p...   \n",
       "3909  [(frequently, RB), (asked, VBN), (question, NN), (guide, NN), (assist, NN), (motorists, NNS), (answering, ...   \n",
       "3911  [(conservation, NN), (corps, NN), (c3, NN), (recruits, VBZ), (trains, NNS), (supports, NNS), (network, NN)...   \n",
       "3919  [(safe, JJ), (routes, VBZ), (ambassadors, NNS), (pedestrian, JJ), (bicycle, NN), (safety, NN), (outreach, ...   \n",
       "3936  [(transportation, NN), (cdot, NN), (announced, VBD), (part, NN), (larger, JJR), (reconstruction, NN), (wes...   \n",
       "3949  [(dcase, NN), (homepage, NN), (cultural, JJ), (center, NN), (drawn, VBN), (beauty, NN), (fabulous, JJ), (f...   \n",
       "3977  [(dcase, NN), (homepage, NN), (fashion, NN), (focus, NN), (click, NN), (images, NNS), (enlarge, VBP), (fas...   \n",
       "3979  [(loading, VBG), (zones, NNS), (commercial, JJ), (vehicles, NNS), (making, VBG), (deliveries, NNS), (busin...   \n",
       "3983  [(issued, VBN), (rfp, JJ), (community, NN), (development, NN), (grant, NN), (cdga, NN), (applications, NNS...   \n",
       "3991  [(moratoriums, NNS), (established, VBN), (transportation, NN), (method, NN), (protecting, VBG), (reconstru...   \n",
       "3999  [(safe, JJ), (routes, VBZ), (ambassadors, NNS), (pedestrian, JJ), (bicycle, NN), (safety, NN), (outreach, ...   \n",
       "4006  [(thank, NN), (visiting, VBG), (website, JJ), (find, VBP), (everything, NN), (need, VBP), (whether, IN), (...   \n",
       "4020  [(like, IN), (markets, NNS), (dcase, VBP), (also, RB), (operates, VBZ), (maxwell, RB), (street, JJ), (mark...   \n",
       "\n",
       "                                                                                             stemmatized_tokens_POS  \\\n",
       "0     [(see, VB), (someth, NNS), (say, VB), (someth, JJ), (report, NN), (suspici, NN), (activityw, JJ), (play, N...   \n",
       "1     [(wake, NN), (hurrican, JJ), (harvey, NN), (irma, NN), (maria, FW), (recent, JJ), (earthquak, NN), (mexico...   \n",
       "23    [(eprocur, JJ), (bid, NN), (opportun, NN), (solicit, NN), (requir, NN), (onlin, NN), (respons, NNS), (avai...   \n",
       "27    [(cdph, NN), (lakeview, NN), (sti, NN), (clinic, NN), (close, NN), (tuesday, NN), (februari, VBD), (resum,...   \n",
       "29    [(inform, VB), (ward, NN), (alderman, NN), (find, VBP), (ward, JJ), (alderman, JJ), (street, NN), (address...   \n",
       "39    [(buy, VB), (dog, NN), (emblem, NN), (onlin, NN), (easi, VBD), (fast, RB), (conveni, JJ), (vaccin, NN), (d...   \n",
       "65    [(one, CD), (good, JJ), (deed, VB), (new, JJ), (initi, NN), (har, NN), (power, NN), (volunt, NN), (futur, ...   \n",
       "69    [(number, NN), (put, VBD), (caller, JJR), (touch, NN), (vast, JJ), (array, JJ), (program, NN), (servic, NN...   \n",
       "72    [(took, VBD), (hard, JJ), (look, NN), (resid, NN), (request, NN), (servic, JJ), (depart, NN), (respond, NN...   \n",
       "99    [(prepar, NN), (appli, NN), (busi, NN), (licens, VBZ), (must, MD), (first, VB), (decid, NN), (type, NN), (...   \n",
       "106   [(initi, NN), (licens, NNS), (inspect, VBP), (free, JJ), (workshop, NN), (avail, NN), (prepar, NN), (inspe...   \n",
       "108   [(follow, VB), (comprehens, NNS), (list, JJ), (document, NN), (requir, NN), (submit, NN), (file, NN), (liq...   \n",
       "128   [(buy, VB), (vehicl, JJ), (sticker, NN), (residenti, NN), (park, NN), (permit, NN), (guest, JJS), (pas, NN...   \n",
       "133   [(address, JJ), (north, JJ), (branch, JJ), (street, NN), (household, NN), (chemic, JJ), (comput, NN), (rec...   \n",
       "164   [(inform, NN), (call, NN), (roof, NN), (porch, NN), (repair, NN), (program, NN), (emerg, VBZ), (heat, JJ),...   \n",
       "187   [(page, NN), (resourc, NN), (individu, NN), (group, NN), (organ, JJ), (interest, NN), (host, NN), (event, ...   \n",
       "214   [(overview, NN), (underground, IN), (storag, NN), (tank, NN), (system, NN), (ust, JJ), (tank, NN), (combin...   \n",
       "218   [(vbe, NN), (certif, NN), (vbe, NN), (certif, VBP), (award, RB), (small, JJ), (local, JJ), (busi, NN), (ow...   \n",
       "219   [(bureau, NN), (traffic, NN), (servic, JJ), (best, RBS), (known, VBN), (tow, JJ), (reloc, NN), (vehicl, NN...   \n",
       "223   [(easi, JJ), (permit, NN), (process, NN), (streamlin, NN), (process, NN), (small, JJ), (simpl, NN), (home,...   \n",
       "233   [(vibrant, NN), (transport, NN), (network, NN), (connect, NN), (communiti, NN), (across, IN), (whether, IN...   \n",
       "259   [(liquor, NN), (licens, VBZ), (applic, JJ), (process, NN), (outlin, IN), (note, NN), (busi, NN), (consult,...   \n",
       "270   [(school, NN), (program, NN), (provid, NN), (safe, JJ), (fun, NN), (environ, FW), (student, NN), (particip...   \n",
       "280   [(visit, NN), (polic, JJ), (web, NN), (site, NN), (find, VBP), (district, NN), (beat, NN), (meet, NN), (ne...   \n",
       "284   [(enough, JJ), (place, NN), (homeless, NN), (peopl, VBP), (hous, JJ), (without, IN), (provid, JJ), (servic...   \n",
       "285   [(find, VB), (public, JJ), (school, NN), (enter, NN), (school, NN), (name, NN), (zip, NN), (code, NN), (se...   \n",
       "307   [(emerg, JJ), (rental, JJ), (assist, NN), (avail, NN), (peopl, NN), (suffer, VBP), (financi, JJ), (hardshi...   \n",
       "328   [(new, JJ), (locat, NN), (hall, NN), (room, NN), (lasall, JJ), (street, NN), (new, JJ), (extend, VB), (hou...   \n",
       "330   [(illinoi, NN), (domest, JJS), (violenc, NN), (data, NNS), (inform, NN), (ildvdi, VBP), (clearinghous, JJ)...   \n",
       "335   [(cook, NN), (counti, NN), (clerk, NN), (offic, JJ), (varieti, NN), (properti, NN), (tax, NN), (respons, N...   \n",
       "...                                                                                                             ...   \n",
       "3525  [(septemb, RB), (various, JJ), (locat, NNS), (free, JJ), (admiss, JJ), (dcase, NN), (homepag, NN), (world,...   \n",
       "3532  [(cultur, NN), (center, NN), (visual, JJ), (art, NN), (program, NN), (exhibit, NN), (past, JJ), (exhibit, ...   \n",
       "3541  [(year, NN), (public, JJ), (art, NN), (event, NN), (click, NN), (imag, NN), (enlarg, NN), (upcom, JJ), (ev...   \n",
       "3543  [(thursday, NN), (februari, VBN), (march, IN), (april, NN), (may, MD), (noon, VB), (cultur, NN), (center, ...   \n",
       "3555  [(everi, NN), (busi, NN), (licens, VBZ), (locat, JJ), (expans, NNS), (chang, VBP), (locat, JJ), (applic, J...   \n",
       "3648  [(enough, JJ), (place, NN), (homeless, NN), (peopl, VBP), (hous, JJ), (without, IN), (provid, JJ), (servic...   \n",
       "3660  [(find, NN), (car, NN), (tow, NN), (call, NN), (go, VBP), (street, NN), (sanit, NN), (bureau, NN), (traffi...   \n",
       "3698  [(titl, NN), (vi, NN), (notic, JJ), (public, JJ), (transport, NN), (cdot, NN), (oper, IN), (program, NN), ...   \n",
       "3721  [(cook, NN), (counti, NN), (genealog, NN), (genealog, NN), (unit, NN), (cook, NN), (counti, NN), (clerk, N...   \n",
       "3729  [(site, NN), (offer, VBP), (free, JJ), (afford, NN), (technolog, NN), (resourc, VBP), (servic, NNS), (like...   \n",
       "3770  [(street, NN), (cycl, NN), (plan, NN), (build, VBP), (bike, NN), (network, NN), (street, NN), (cycl, NN), ...   \n",
       "3771  [(bring, NN), (bike, NN), (train, NN), (bus, NN), (easi, NN), (import, NN), (rule, NN), (follow, VBP), (ct...   \n",
       "3774  [(street, NN), (sanit, JJ), (ds, JJ), (final, JJ), (implement, NN), (effici, NN), (citywid, NN), (grid, JJ...   \n",
       "3778  [(dog, NN), (licens, VBZ), (applic, JJ), (accept, IN), (clerk, NN), (satellit, NN), (facil, NN), (licens, ...   \n",
       "3805  [(dcase, NN), (homepag, NN), (clark, NN), (hous, JJ), (museum, NN), (week, NN), (tour, VBP), (upcom, JJ), ...   \n",
       "3810  [(everi, NN), (sunday, JJ), (free, JJ), (admiss, JJ), (dcase, NN), (homepag, NN), (maxwel, JJ), (street, N...   \n",
       "3896  [(inform, JJ), (regist, NN), (click, JJ), (new, JJ), (complet, NN), (onlin, NN), (econom, NN), (disclosur,...   \n",
       "3906  [(illeg, JJ), (dump, NN), (fli, NN), (dump, NN), (dump, NN), (wast, NN), (materi, JJ), (public, JJ), (priv...   \n",
       "3909  [(frequent, JJ), (ask, JJ), (question, NN), (guid, NN), (assist, JJ), (motorist, NN), (answer, NN), (quest...   \n",
       "3911  [(conserv, NN), (corp, NN), (recruit, NN), (train, NN), (support, NN), (network, NN), (volunt, NN), (work,...   \n",
       "3919  [(safe, JJ), (rout, NN), (ambassador, NN), (pedestrian, JJ), (bicycl, NN), (safeti, NN), (outreach, VBP), ...   \n",
       "3936  [(transport, NN), (cdot, NN), (announc, IN), (part, NN), (larger, JJR), (reconstruct, NN), (western, JJ), ...   \n",
       "3949  [(dcase, NN), (homepag, NN), (cultur, NN), (center, NN), (drawn, NN), (beauti, NN), (fabul, JJ), (free, JJ...   \n",
       "3977  [(dcase, NN), (homepag, JJ), (fashion, NN), (focus, NN), (click, NN), (imag, NN), (enlarg, JJ), (fashion, ...   \n",
       "3979  [(load, NN), (zone, NN), (commerci, NN), (vehicl, NNS), (make, VBP), (deliveri, JJ), (busi, NN), (load, NN...   \n",
       "3983  [(issu, NN), (rfp, NN), (communiti, NN), (develop, VB), (grant, JJ), (cdga, NN), (applic, JJ), (includ, NN...   \n",
       "3991  [(moratorium, NN), (establish, VB), (transport, NN), (method, NN), (protect, VBP), (reconstruct, NN), (rep...   \n",
       "3999  [(safe, JJ), (rout, NN), (ambassador, NN), (pedestrian, JJ), (bicycl, NN), (safeti, NN), (outreach, NN), (...   \n",
       "4006  [(thank, JJ), (visit, NN), (websit, NN), (find, VBP), (everyth, JJ), (need, VBP), (whether, IN), (fast, JJ...   \n",
       "4020  [(like, IN), (market, NN), (dcase, NN), (also, RB), (oper, VBZ), (maxwel, JJ), (street, NN), (market, NN),...   \n",
       "\n",
       "                                                               most_frequent_present  \n",
       "0                         [(say, 4), (see, 2), (terrorism, 1), (find, 1), (link, 1)]  \n",
       "1                   [(puerto, 5), (donate, 3), (mexico, 2), (rico, 2), (welcome, 2)]  \n",
       "23            [(o'hare, 6), (rfq, 4), (architecture, 2), (require, 1), (addenda, 1)]  \n",
       "27                     [(receive, 6), (offer, 2), (love, 1), (roseland, 1), (e., 1)]  \n",
       "29                                   [(find, 1), (pdf, 1), (visit, 1), (website, 1)]  \n",
       "39                                  [(emblem, 2), (go, 1), (receive, 1), (visit, 1)]  \n",
       "65                                                         [(website, 1), (make, 1)]  \n",
       "69                     [(request, 3), (find, 2), (and/or, 2), (offer, 1), (file, 1)]  \n",
       "72             [(generate, 2), (deliver, 1), (proper, 1), (method, 1), (include, 1)]  \n",
       "99                                                                                []  \n",
       "106               [(check, 1), (determine, 1), (promote, 1), (focus, 1), (visit, 1)]  \n",
       "108              [(irs, 2), (type, 1), (applicant, 1), (license, 1), (aggregate, 1)]  \n",
       "128                                                          [(view, 1), (visit, 1)]  \n",
       "133                  [(etc, 5), (household, 2), (video, 2), (bleach, 1), (drain, 1)]  \n",
       "164                           [(make, 2), (roof, 2), (e., 1), (note, 1), (april, 1)]  \n",
       "187                                                          [(golf, 1), (visit, 1)]  \n",
       "214                      [(permit, 2), (see, 1), (install, 1), (osfm, 1), (help, 1)]  \n",
       "218                       [(receive, 2), (cook, 2), (lake, 2), (vbe, 2), (visit, 1)]  \n",
       "219                                                      [(provide, 1), (result, 1)]  \n",
       "223                              [(use, 1), (violation, 1), (roofs, 1), (online, 1)]  \n",
       "233                                                                       [(get, 1)]  \n",
       "259              [(application, 5), (provide, 4), (submit, 2), (want, 1), (club, 1)]  \n",
       "270               [(provide, 1), (child, 1), (participate, 1), (cps, 1), (offer, 1)]  \n",
       "280                                                                               []  \n",
       "284                      [(work, 4), (provide, 2), (need, 1), (dfss, 1), (begin, 1)]  \n",
       "285                                                       [(identify, 1), (find, 1)]  \n",
       "307                                                     [(maintain, 1), (regain, 1)]  \n",
       "328              [(homeowner, 3), (require, 2), (review, 1), (note, 1), (dormer, 1)]  \n",
       "330              [(use, 2), (make, 2), (serve, 1), (clearinghouse, 1), (improve, 1)]  \n",
       "335                                                         [(cook, 1), (redeem, 1)]  \n",
       "...                                                                              ...  \n",
       "3525  [(grant, 2), (drive, 1), (check, 1), (www.millenniumgarages.com, 1), (pay, 1)]  \n",
       "3532        [(look, 1), (demonstrate, 1), (april, 1), (saturday?sunday, 1), (e., 1)]  \n",
       "3541                       [(e., 9), (citywide, 7), (park, 5), (lake, 5), (tour, 4)]  \n",
       "3543                    [(february, 1), (concerts, 1), (ages, 1), (imf, 1), (e., 1)]  \n",
       "3555                [(reflect, 1), (i.e, 1), (assume, 1), (find, 1), (summarize, 1)]  \n",
       "3648                     [(work, 4), (provide, 2), (need, 1), (dfss, 1), (begin, 1)]  \n",
       "3660            [(find, 2), (go, 2), (need, 2), (solicitation, 2), (counterfeit, 2)]  \n",
       "3698                  [(vi, 1), (file, 1), (claffey, 1), (lasalle, 1), (freedom, 1)]  \n",
       "3721                                                                              []  \n",
       "3729                                                                    [(offer, 1)]  \n",
       "3770              [(website, 2), (bicycle, 2), (make, 1), (encourage, 1), (read, 1)]  \n",
       "3771               [(find, 2), (watch, 2), (follow, 1), (respective, 1), (visit, 1)]  \n",
       "3774       [(sanitation, 3), (garbage, 1), (grid, 1), (collection, 1), (improve, 1)]  \n",
       "3778                                                              [(inoculation, 1)]  \n",
       "3805              [(park, 1), (learn, 1), (visit, 1), (wednesdays, 1), (contact, 1)]  \n",
       "3810   [(maxwell, 3), (collectibles?and, 1), (polk, 1), (reminder, 1), (include, 1)]  \n",
       "3896              [(workshop, 9), (march, 4), (learn, 3), (certify, 2), (assist, 2)]  \n",
       "3906                     [(waste, 1), (capture, 1), (carry, 1), (play, 1), (see, 1)]  \n",
       "3909                  [(want, 4), (receive, 3), (challenge, 3), (need, 3), (see, 2)]  \n",
       "3911                        [(apply, 2), (email, 2), (work, 1), (make, 1), (get, 1)]  \n",
       "3919          [(request, 3), (involve, 2), (page, 2), (workshops, 2), (outreach, 1)]  \n",
       "3936                   [(august, 1), (change, 1), (cta, 1), (visit, 1), (follow, 1)]  \n",
       "3949                     [(come, 1), (art, 1), (read, 1), (palace, 1), (include, 1)]  \n",
       "3977         [(enlarge, 1), (see, 1), (email, 1), (cityofchicago.org, 1), (lake, 1)]  \n",
       "3979                    [(zones, 1), (use, 1), (help, 1), (street, 1), (require, 1)]  \n",
       "3983                                                      [(include, 1), (visit, 1)]  \n",
       "3991                   [(require, 1), (plan, 1), (roadway, 1), (exist, 1), (fee, 1)]  \n",
       "3999           [(outreach, 1), (teach, 1), (bicycle, 1), (realize, 1), (outdoor, 1)]  \n",
       "4006                  [(find, 2), (need, 1), (make, 1), (convenience, 1), (know, 1)]  \n",
       "4020                                                                    [(dcase, 1)]  \n",
       "\n",
       "[406 rows x 21 columns]"
      ]
     },
     "execution_count": 44,
     "metadata": {},
     "output_type": "execute_result"
    }
   ],
   "source": [
    "webpages[webpages['normalized_tokens'].apply(lambda x: 'visit' in x)]"
   ]
  },
  {
   "cell_type": "code",
   "execution_count": 40,
   "metadata": {
    "collapsed": true
   },
   "outputs": [],
   "source": []
  },
  {
   "cell_type": "code",
   "execution_count": 43,
   "metadata": {
    "collapsed": true
   },
   "outputs": [],
   "source": []
  },
  {
   "cell_type": "code",
   "execution_count": 64,
   "metadata": {},
   "outputs": [
    {
     "data": {
      "text/html": [
       "<div>\n",
       "<style>\n",
       "    .dataframe thead tr:only-child th {\n",
       "        text-align: right;\n",
       "    }\n",
       "\n",
       "    .dataframe thead th {\n",
       "        text-align: left;\n",
       "    }\n",
       "\n",
       "    .dataframe tbody tr th {\n",
       "        vertical-align: top;\n",
       "    }\n",
       "</style>\n",
       "<table border=\"1\" class=\"dataframe\">\n",
       "  <thead>\n",
       "    <tr style=\"text-align: right;\">\n",
       "      <th></th>\n",
       "      <th>dept</th>\n",
       "      <th>title</th>\n",
       "      <th>url</th>\n",
       "      <th>button</th>\n",
       "      <th>i_want_to</th>\n",
       "      <th>nav</th>\n",
       "      <th>num_email_addresses</th>\n",
       "      <th>email_addresses</th>\n",
       "      <th>pdf_count</th>\n",
       "      <th>pdf_urls</th>\n",
       "      <th>...</th>\n",
       "      <th>ext_links</th>\n",
       "      <th>outside_domain</th>\n",
       "      <th>description_words</th>\n",
       "      <th>services</th>\n",
       "      <th>dept_name</th>\n",
       "      <th>normalized_tokens</th>\n",
       "      <th>stemmatized_tokens</th>\n",
       "      <th>normalized_tokens_POS</th>\n",
       "      <th>stemmatized_tokens_POS</th>\n",
       "      <th>most_frequent_present</th>\n",
       "    </tr>\n",
       "  </thead>\n",
       "  <tbody>\n",
       "    <tr>\n",
       "      <th>24</th>\n",
       "      <td>bacp</td>\n",
       "      <td>Business License Look-up</td>\n",
       "      <td>https://www.cityofchicago.org/city/en/depts/bacp/provdrs/bus/svcs/business_licenselook-up.html</td>\n",
       "      <td>True</td>\n",
       "      <td>True</td>\n",
       "      <td>True</td>\n",
       "      <td>0</td>\n",
       "      <td></td>\n",
       "      <td>1</td>\n",
       "      <td>https://www.cityofchicago.org/content/dam/city/depts/bacp/general/flyerdataportal20150325.pdf</td>\n",
       "      <td>...</td>\n",
       "      <td>https://data.cityofchicago.org/Community-Economic-Development/Business-Licenses-Current-Active/uupf-x98q</td>\n",
       "      <td>data.cityofchicago.org</td>\n",
       "      <td>interactive; website; allows; users; search; businesses; area; current; business; license; users; search; ...</td>\n",
       "      <td>True</td>\n",
       "      <td>Department of Business Affairs and Consumer Protection</td>\n",
       "      <td>[interactive, website, allows, users, search, businesses, area, current, business, license, users, search,...</td>\n",
       "      <td>[interact, websit, allow, user, search, busi, area, current, busi, licens, user, search, address, busi, na...</td>\n",
       "      <td>[(interactive, JJ), (website, NN), (allows, VBZ), (users, NNS), (search, VBP), (businesses, NNS), (area, N...</td>\n",
       "      <td>[(interact, JJ), (websit, NN), (allow, IN), (user, JJ), (search, NN), (busi, IN), (area, NN), (current, JJ...</td>\n",
       "      <td>[(search, 2)]</td>\n",
       "    </tr>\n",
       "    <tr>\n",
       "      <th>31</th>\n",
       "      <td>bacp</td>\n",
       "      <td>Business License Renewal</td>\n",
       "      <td>https://www.cityofchicago.org/city/en/depts/bacp/provdrs/bus/svcs/renew_your_businesslicenseonline.html</td>\n",
       "      <td>True</td>\n",
       "      <td>True</td>\n",
       "      <td>True</td>\n",
       "      <td>0</td>\n",
       "      <td></td>\n",
       "      <td>1</td>\n",
       "      <td>https://www.cityofchicago.org/content/dam/city/depts/bacp/onlinerenewal/SampleOnlineBusinessLicenseRenewal...</td>\n",
       "      <td>...</td>\n",
       "      <td>https://webapps1.cityofchicago.org/LicenseRenewalWeb/home.do</td>\n",
       "      <td>webapps1.cityofchicago.org</td>\n",
       "      <td>online; license; weighing; measuring; device; renewal; system; use; online; application; renew; business; ...</td>\n",
       "      <td>True</td>\n",
       "      <td>Department of Business Affairs and Consumer Protection</td>\n",
       "      <td>[online, license, weighing, measuring, device, renewal, system, use, online, application, renew, business,...</td>\n",
       "      <td>[onlin, licens, weigh, measur, devic, renew, system, use, onlin, applic, renew, busi, licens, weigh, measu...</td>\n",
       "      <td>[(online, JJ), (license, NN), (weighing, VBG), (measuring, VBG), (device, NN), (renewal, NN), (system, NN)...</td>\n",
       "      <td>[(onlin, NN), (licens, VBZ), (weigh, JJ), (measur, NN), (devic, VB), (renew, NN), (system, NN), (use, VBP)...</td>\n",
       "      <td>[(need, 2), (use, 1), (keep, 1), (contact, 1), (make, 1)]</td>\n",
       "    </tr>\n",
       "    <tr>\n",
       "      <th>5</th>\n",
       "      <td>bacp</td>\n",
       "      <td>Business Licenses</td>\n",
       "      <td>https://www.cityofchicago.org/city/en/depts/bacp/provdrs/bus/svcs/apply_for_a_businesslicenseonline.html</td>\n",
       "      <td>True</td>\n",
       "      <td>True</td>\n",
       "      <td>True</td>\n",
       "      <td>0</td>\n",
       "      <td></td>\n",
       "      <td>0</td>\n",
       "      <td></td>\n",
       "      <td>...</td>\n",
       "      <td>https://webapps1.cityofchicago.org/IRISWeb/login.jsp</td>\n",
       "      <td>webapps1.cityofchicago.org</td>\n",
       "      <td>small; business; center; sbc; issues; business; licenses; regulates; business; activities; industries; div...</td>\n",
       "      <td>True</td>\n",
       "      <td>Department of Business Affairs and Consumer Protection</td>\n",
       "      <td>[small, business, center, sbc, issues, business, licenses, regulates, business, activities, industries, di...</td>\n",
       "      <td>[small, busi, center, sbc, issu, busi, licens, regul, busi, activ, industri, diver, retail, food, liquor, ...</td>\n",
       "      <td>[(small, JJ), (business, NN), (center, NN), (sbc, NN), (issues, NNS), (business, NN), (licenses, VBZ), (re...</td>\n",
       "      <td>[(small, JJ), (busi, NN), (center, NN), (sbc, NN), (issu, NN), (busi, NN), (licens, VBZ), (regul, JJ), (bu...</td>\n",
       "      <td>[(diverse, 1), (go, 1), (click, 1)]</td>\n",
       "    </tr>\n",
       "    <tr>\n",
       "      <th>47</th>\n",
       "      <td>bacp</td>\n",
       "      <td>Cab Feedback</td>\n",
       "      <td>https://www.cityofchicago.org/city/en/depts/bacp/provdrs/consumer/svcs/consumer_cab_complaint.html</td>\n",
       "      <td>True</td>\n",
       "      <td>True</td>\n",
       "      <td>True</td>\n",
       "      <td>0</td>\n",
       "      <td></td>\n",
       "      <td>0</td>\n",
       "      <td></td>\n",
       "      <td>...</td>\n",
       "      <td>https://servicerequest.cityofchicago.org/web_intake_chic/Controller?op=locform&amp;invSRType=CSC&amp;invSRDesc=Cab...</td>\n",
       "      <td>servicerequest.cityofchicago.org</td>\n",
       "      <td>service; request; used; report; problems; taxicab; related; problems; complaints; investigated; condition;...</td>\n",
       "      <td>True</td>\n",
       "      <td>Department of Business Affairs and Consumer Protection</td>\n",
       "      <td>[service, request, used, report, problems, taxicab, related, problems, complaints, investigated, condition...</td>\n",
       "      <td>[servic, request, use, report, problem, taxicab, relat, problem, complaint, investig, condit, safeti, cab,...</td>\n",
       "      <td>[(service, NN), (request, NN), (used, VBN), (report, NN), (problems, NNS), (taxicab, VBP), (related, VBN),...</td>\n",
       "      <td>[(servic, NN), (request, NN), (use, NN), (report, NN), (problem, NN), (taxicab, NN), (relat, NN), (problem...</td>\n",
       "      <td>[(taxicab, 1), (fellow, 1), (click, 1)]</td>\n",
       "    </tr>\n",
       "    <tr>\n",
       "      <th>462</th>\n",
       "      <td>bacp</td>\n",
       "      <td>Cable TV Complaint</td>\n",
       "      <td>https://www.cityofchicago.org/city/en/depts/bacp/provdrs/cable_comm/svcs/cable_televisioncomplaint.html</td>\n",
       "      <td>True</td>\n",
       "      <td>True</td>\n",
       "      <td>True</td>\n",
       "      <td>0</td>\n",
       "      <td></td>\n",
       "      <td>1</td>\n",
       "      <td>https://www.cityofchicago.org/content/dam/city/depts/bacp/cablecommunications/cableandvideocustomerprotect...</td>\n",
       "      <td>...</td>\n",
       "      <td>https://servicerequest.cityofchicago.org/web_intake_chic/Controller?op=locform&amp;invSRType=OCC&amp;invSRDesc=Cab...</td>\n",
       "      <td>servicerequest.cityofchicago.org</td>\n",
       "      <td>service; request; used; report; billing; service; problems; cable; television; companies; operate; cable; ...</td>\n",
       "      <td>True</td>\n",
       "      <td>Department of Business Affairs and Consumer Protection</td>\n",
       "      <td>[service, request, used, report, billing, service, problems, cable, television, companies, operate, cable,...</td>\n",
       "      <td>[servic, request, use, report, bill, servic, problem, cabl, televis, compani, oper, cabl, franchis, agreem...</td>\n",
       "      <td>[(service, NN), (request, NN), (used, VBN), (report, NN), (billing, VBG), (service, NN), (problems, NNS), ...</td>\n",
       "      <td>[(servic, NN), (request, NN), (use, NN), (report, NN), (bill, NN), (servic, VBN), (problem, NN), (cabl, NN...</td>\n",
       "      <td>[(operate, 1)]</td>\n",
       "    </tr>\n",
       "    <tr>\n",
       "      <th>49</th>\n",
       "      <td>bacp</td>\n",
       "      <td>Consumer Complaint Online</td>\n",
       "      <td>https://www.cityofchicago.org/city/en/depts/bacp/provdrs/pros_adj/svcs/file_a_citizen_complaintonline.html</td>\n",
       "      <td>True</td>\n",
       "      <td>True</td>\n",
       "      <td>True</td>\n",
       "      <td>0</td>\n",
       "      <td></td>\n",
       "      <td>0</td>\n",
       "      <td></td>\n",
       "      <td>...</td>\n",
       "      <td>https://servicerequest.cityofchicago.org/web_intake_chic/Controller</td>\n",
       "      <td>servicerequest.cityofchicago.org</td>\n",
       "      <td>community; member; may; voice; complaints; existing; businesses; new; license; applicants; though; citizen...</td>\n",
       "      <td>True</td>\n",
       "      <td>Department of Business Affairs and Consumer Protection</td>\n",
       "      <td>[community, member, may, voice, complaints, existing, businesses, new, license, applicants, though, citize...</td>\n",
       "      <td>[communiti, member, may, voic, complaint, exist, busi, new, licens, applic, though, citizen, complaint, fo...</td>\n",
       "      <td>[(community, NN), (member, NN), (may, MD), (voice, VB), (complaints, NNS), (existing, VBG), (businesses, N...</td>\n",
       "      <td>[(communiti, JJ), (member, NN), (may, MD), (voic, VB), (complaint, NN), (exist, VB), (busi, IN), (new, JJ)...</td>\n",
       "      <td>[(file, 1), (accept, 1), (help, 1)]</td>\n",
       "    </tr>\n",
       "    <tr>\n",
       "      <th>466</th>\n",
       "      <td>bacp</td>\n",
       "      <td>Consumer Fraud Complaint</td>\n",
       "      <td>https://www.cityofchicago.org/city/en/depts/bacp/provdrs/consumer/svcs/consumer_fraud_complaint.html</td>\n",
       "      <td>True</td>\n",
       "      <td>True</td>\n",
       "      <td>True</td>\n",
       "      <td>0</td>\n",
       "      <td></td>\n",
       "      <td>0</td>\n",
       "      <td></td>\n",
       "      <td>...</td>\n",
       "      <td>https://servicerequest.cityofchicago.org/web_intake_chic/Controller?op=locform&amp;invSRType=CSF&amp;invSRDesc=Con...</td>\n",
       "      <td>servicerequest.cityofchicago.org</td>\n",
       "      <td>service; request; used; report; unscrupulous; possible; illegal; practices; business; located; home; repai...</td>\n",
       "      <td>True</td>\n",
       "      <td>Department of Business Affairs and Consumer Protection</td>\n",
       "      <td>[service, request, used, report, unscrupulous, possible, illegal, practices, business, located, home, repa...</td>\n",
       "      <td>[servic, request, use, report, unscrupul, possibl, illeg, practic, busi, locat, home, repair, work, done, ...</td>\n",
       "      <td>[(service, NN), (request, NN), (used, VBN), (report, NN), (unscrupulous, JJ), (possible, JJ), (illegal, JJ...</td>\n",
       "      <td>[(servic, NN), (request, NN), (use, NN), (report, NN), (unscrupul, JJ), (possibl, NN), (illeg, NN), (pract...</td>\n",
       "      <td>[]</td>\n",
       "    </tr>\n",
       "    <tr>\n",
       "      <th>3755</th>\n",
       "      <td>bacp</td>\n",
       "      <td>Consumer Retail Complaint</td>\n",
       "      <td>https://www.cityofchicago.org/city/en/depts/bacp/provdrs/consumer/svcs/consumer_retail_complaint.html</td>\n",
       "      <td>True</td>\n",
       "      <td>True</td>\n",
       "      <td>True</td>\n",
       "      <td>0</td>\n",
       "      <td></td>\n",
       "      <td>0</td>\n",
       "      <td></td>\n",
       "      <td>...</td>\n",
       "      <td>https://servicerequest.cityofchicago.org/web_intake_chic/Controller?op=locform&amp;invSRType=CST&amp;invSRDesc=Con...</td>\n",
       "      <td>servicerequest.cityofchicago.org</td>\n",
       "      <td>service; request; used; report; problems; complaints; stores; retail; businesses</td>\n",
       "      <td>True</td>\n",
       "      <td>Department of Business Affairs and Consumer Protection</td>\n",
       "      <td>[service, request, used, report, problems, complaints, stores, retail, businesses]</td>\n",
       "      <td>[servic, request, use, report, problem, complaint, store, retail, busi]</td>\n",
       "      <td>[(service, NN), (request, NN), (used, VBN), (report, NN), (problems, NNS), (complaints, NNS), (stores, NNS...</td>\n",
       "      <td>[(servic, NN), (request, NN), (use, NN), (report, NN), (problem, NN), (complaint, NN), (store, NN), (retai...</td>\n",
       "      <td>[]</td>\n",
       "    </tr>\n",
       "    <tr>\n",
       "      <th>477</th>\n",
       "      <td>bacp</td>\n",
       "      <td>Liquor License Violation Complaint</td>\n",
       "      <td>https://www.cityofchicago.org/city/en/depts/bacp/provdrs/pros_adj/svcs/liquor_license_violationcomplaint.html</td>\n",
       "      <td>True</td>\n",
       "      <td>True</td>\n",
       "      <td>True</td>\n",
       "      <td>0</td>\n",
       "      <td></td>\n",
       "      <td>1</td>\n",
       "      <td>https://www.cityofchicago.org/content/dam/city/depts/bacp/adjudication/liquorcomplaintform.pdf</td>\n",
       "      <td>...</td>\n",
       "      <td>https://servicerequest.cityofchicago.org/web_intake_chic/Controller?op=locform&amp;invSRType=LIQUORCO&amp;invSRDes...</td>\n",
       "      <td>servicerequest.cityofchicago.org</td>\n",
       "      <td>click; liquor; license; complaint; form; click; online; service; request; report; liquor; license; holder;...</td>\n",
       "      <td>True</td>\n",
       "      <td>Department of Business Affairs and Consumer Protection</td>\n",
       "      <td>[click, liquor, license, complaint, form, click, online, service, request, report, liquor, license, holder...</td>\n",
       "      <td>[click, liquor, licens, complaint, form, click, onlin, servic, request, report, liquor, licens, holder, vi...</td>\n",
       "      <td>[(click, NN), (liquor, NN), (license, NN), (complaint, NN), (form, NN), (click, NN), (online, NN), (servic...</td>\n",
       "      <td>[(click, NN), (liquor, NN), (licens, VBZ), (complaint, JJ), (form, NN), (click, NN), (onlin, NN), (servic,...</td>\n",
       "      <td>[(request, 1)]</td>\n",
       "    </tr>\n",
       "    <tr>\n",
       "      <th>247</th>\n",
       "      <td>bacp</td>\n",
       "      <td>Liquor Moratorium / Vote Dry Area</td>\n",
       "      <td>https://www.cityofchicago.org/city/en/depts/bacp/provdrs/bus/svcs/liquor_moratoriumvotedryarealook-up.html</td>\n",
       "      <td>True</td>\n",
       "      <td>True</td>\n",
       "      <td>True</td>\n",
       "      <td>0</td>\n",
       "      <td></td>\n",
       "      <td>0</td>\n",
       "      <td></td>\n",
       "      <td>...</td>\n",
       "      <td>https://gisapps.cityofchicago.org/mapchicago/?layers=liquor</td>\n",
       "      <td>gisapps.cityofchicago.org</td>\n",
       "      <td>liquor; moratorium; vote; dry; information; possibly; affecting; specific; address; follow; steps; click; ...</td>\n",
       "      <td>True</td>\n",
       "      <td>Department of Business Affairs and Consumer Protection</td>\n",
       "      <td>[liquor, moratorium, vote, dry, information, possibly, affecting, specific, address, follow, steps, click,...</td>\n",
       "      <td>[liquor, moratorium, vote, dri, inform, possibl, affect, specif, address, follow, step, click, link, type,...</td>\n",
       "      <td>[(liquor, NN), (moratorium, NN), (vote, NN), (dry, JJ), (information, NN), (possibly, RB), (affecting, VBG...</td>\n",
       "      <td>[(liquor, NN), (moratorium, NN), (vote, NN), (dri, NN), (inform, NN), (possibl, NN), (affect, VBP), (speci...</td>\n",
       "      <td>[(link, 1), (follow, 1)]</td>\n",
       "    </tr>\n",
       "    <tr>\n",
       "      <th>43</th>\n",
       "      <td>bacp</td>\n",
       "      <td>MPEA Airport Departure Tax, Ground Transportation Tax &amp; TNP Vehicle Online Registration</td>\n",
       "      <td>https://www.cityofchicago.org/city/en/depts/bacp/provdrs/vehic/svcs/mpea_online_permitapplicationform.html</td>\n",
       "      <td>True</td>\n",
       "      <td>True</td>\n",
       "      <td>True</td>\n",
       "      <td>0</td>\n",
       "      <td></td>\n",
       "      <td>0</td>\n",
       "      <td></td>\n",
       "      <td>...</td>\n",
       "      <td>http://webapps1.cityofchicago.org/mpea/intro.html</td>\n",
       "      <td>webapps1.cityofchicago.org</td>\n",
       "      <td>online; vehicle; registration; mpea; airport; departure; tax; ground; transportation; tax; tnp; vehicles; ...</td>\n",
       "      <td>True</td>\n",
       "      <td>Department of Business Affairs and Consumer Protection</td>\n",
       "      <td>[online, vehicle, registration, mpea, airport, departure, tax, ground, transportation, tax, tnp, vehicles,...</td>\n",
       "      <td>[onlin, vehicl, registr, mpea, airport, departur, tax, ground, transport, tax, tnp, vehicl, onlin, tnp, ch...</td>\n",
       "      <td>[(online, JJ), (vehicle, NN), (registration, NN), (mpea, NN), (airport, NN), (departure, NN), (tax, NN), (...</td>\n",
       "      <td>[(onlin, NN), (vehicl, NN), (registr, NN), (mpea, NN), (airport, NN), (departur, JJ), (tax, NN), (ground, ...</td>\n",
       "      <td>[(online, 1), (expire, 1), (print, 1), (emblem, 1)]</td>\n",
       "    </tr>\n",
       "    <tr>\n",
       "      <th>353</th>\n",
       "      <td>bacp</td>\n",
       "      <td>New Liquor License Applications</td>\n",
       "      <td>https://www.cityofchicago.org/city/en/depts/bacp/provdrs/bus/svcs/new_liquor_licenseapplications.html</td>\n",
       "      <td>True</td>\n",
       "      <td>True</td>\n",
       "      <td>True</td>\n",
       "      <td>0</td>\n",
       "      <td></td>\n",
       "      <td>0</td>\n",
       "      <td></td>\n",
       "      <td>...</td>\n",
       "      <td>https://webapps1.cityofchicago.org/NewLiquorLicenseWeb/</td>\n",
       "      <td>webapps1.cityofchicago.org</td>\n",
       "      <td>see; new; liquor; license; applications; received; last; weeks</td>\n",
       "      <td>True</td>\n",
       "      <td>Department of Business Affairs and Consumer Protection</td>\n",
       "      <td>[see, new, liquor, license, applications, received, last, weeks]</td>\n",
       "      <td>[see, new, liquor, licens, applic, receiv, last, week]</td>\n",
       "      <td>[(see, VB), (new, JJ), (liquor, NN), (license, NN), (applications, NNS), (received, VBD), (last, JJ), (wee...</td>\n",
       "      <td>[(see, VB), (new, JJ), (liquor, NN), (licens, VBZ), (applic, JJ), (receiv, NN), (last, JJ), (week, NN)]</td>\n",
       "      <td>[]</td>\n",
       "    </tr>\n",
       "    <tr>\n",
       "      <th>195</th>\n",
       "      <td>bacp</td>\n",
       "      <td>Public Vehicle Advertising</td>\n",
       "      <td>https://www.cityofchicago.org/city/en/depts/bacp/provdrs/vehic/svcs/application_for_publicvehicleadvertisi...</td>\n",
       "      <td>True</td>\n",
       "      <td>True</td>\n",
       "      <td>True</td>\n",
       "      <td>0</td>\n",
       "      <td></td>\n",
       "      <td>0</td>\n",
       "      <td></td>\n",
       "      <td>...</td>\n",
       "      <td>https://webapps1.cityofchicago.org/pva/login.htm</td>\n",
       "      <td>webapps1.cityofchicago.org</td>\n",
       "      <td>welcome; application; public; vehicle; advertising; web; site; using; web; site; able; submit; application...</td>\n",
       "      <td>True</td>\n",
       "      <td>Department of Business Affairs and Consumer Protection</td>\n",
       "      <td>[welcome, application, public, vehicle, advertising, web, site, using, web, site, able, submit, applicatio...</td>\n",
       "      <td>[welcom, applic, public, vehicl, advertis, web, site, use, web, site, abl, submit, applic, make, payment, ...</td>\n",
       "      <td>[(welcome, JJ), (application, NN), (public, JJ), (vehicle, NN), (advertising, NN), (web, NN), (site, NN), ...</td>\n",
       "      <td>[(welcom, JJ), (applic, JJ), (public, JJ), (vehicl, NN), (advertis, NN), (web, NN), (site, NN), (use, NN),...</td>\n",
       "      <td>[(make, 1), (submit, 1)]</td>\n",
       "    </tr>\n",
       "    <tr>\n",
       "      <th>488</th>\n",
       "      <td>bacp</td>\n",
       "      <td>Restaurant Complaint</td>\n",
       "      <td>https://www.cityofchicago.org/city/en/depts/bacp/provdrs/consumer/svcs/restaurant_complaint.html</td>\n",
       "      <td>True</td>\n",
       "      <td>True</td>\n",
       "      <td>True</td>\n",
       "      <td>0</td>\n",
       "      <td></td>\n",
       "      <td>0</td>\n",
       "      <td></td>\n",
       "      <td>...</td>\n",
       "      <td>http://311request.cityofchicago.org/reports/new?service_id=4fd6e4ece750840569000019</td>\n",
       "      <td>311request.cityofchicago.org</td>\n",
       "      <td>service; request; used; report; problems; related; food; safety; restaurants; use; type; report; problems;...</td>\n",
       "      <td>True</td>\n",
       "      <td>Department of Business Affairs and Consumer Protection</td>\n",
       "      <td>[service, request, used, report, problems, related, food, safety, restaurants, use, type, report, problems...</td>\n",
       "      <td>[servic, request, use, report, problem, relat, food, safeti, restaur, use, type, report, problem, relat, p...</td>\n",
       "      <td>[(service, NN), (request, NN), (used, VBN), (report, NN), (problems, NNS), (related, VBN), (food, NN), (sa...</td>\n",
       "      <td>[(servic, NN), (request, NN), (use, NN), (report, NN), (problem, NN), (relat, JJ), (food, NN), (safeti, NN...</td>\n",
       "      <td>[(use, 1)]</td>\n",
       "    </tr>\n",
       "    <tr>\n",
       "      <th>411</th>\n",
       "      <td>bacp</td>\n",
       "      <td>Schedule An Appointment With A Business Consultant</td>\n",
       "      <td>https://www.cityofchicago.org/city/en/depts/bacp/provdrs/bus/svcs/schedule_an_appointmentwithabusinesscons...</td>\n",
       "      <td>True</td>\n",
       "      <td>True</td>\n",
       "      <td>True</td>\n",
       "      <td>0</td>\n",
       "      <td></td>\n",
       "      <td>0</td>\n",
       "      <td></td>\n",
       "      <td>...</td>\n",
       "      <td>https://webapps1.cityofchicago.org/eforms/org/cityofchicago/busExpRequest/index.jsp</td>\n",
       "      <td>webapps1.cityofchicago.org</td>\n",
       "      <td>waste; time; standing; line; schedule; appointment; see; business; consultant; business; affairs; consumer...</td>\n",
       "      <td>True</td>\n",
       "      <td>Department of Business Affairs and Consumer Protection</td>\n",
       "      <td>[waste, time, standing, line, schedule, appointment, see, business, consultant, business, affairs, consume...</td>\n",
       "      <td>[wast, time, stand, line, schedul, appoint, see, busi, consult, busi, affair, consum, protect, bacp, effor...</td>\n",
       "      <td>[(waste, NN), (time, NN), (standing, VBG), (line, NN), (schedule, NN), (appointment, NN), (see, NN), (busi...</td>\n",
       "      <td>[(wast, JJ), (time, NN), (stand, VBP), (line, NN), (schedul, NN), (appoint, NN), (see, VBP), (busi, JJ), (...</td>\n",
       "      <td>[(bacp, 2), (assist, 1), (schedule, 1), (contact, 1), (coordinate, 1)]</td>\n",
       "    </tr>\n",
       "    <tr>\n",
       "      <th>248</th>\n",
       "      <td>bacp</td>\n",
       "      <td>Status of Retail Food, Hospitality, and Amusement License Application Inspections</td>\n",
       "      <td>https://www.cityofchicago.org/city/en/depts/bacp/provdrs/bus/svcs/restaurant_licenseinspectionstatus.html</td>\n",
       "      <td>True</td>\n",
       "      <td>True</td>\n",
       "      <td>True</td>\n",
       "      <td>0</td>\n",
       "      <td></td>\n",
       "      <td>0</td>\n",
       "      <td></td>\n",
       "      <td>...</td>\n",
       "      <td>https://webapps1.cityofchicago.org/RestaurantSearchWeb/</td>\n",
       "      <td>webapps1.cityofchicago.org</td>\n",
       "      <td>applied; new; retail; food; liquor; public; place; amusement; license; type; may; view; status; license; i...</td>\n",
       "      <td>True</td>\n",
       "      <td>Department of Business Affairs and Consumer Protection</td>\n",
       "      <td>[applied, new, retail, food, liquor, public, place, amusement, license, type, may, view, status, license, ...</td>\n",
       "      <td>[appli, new, retail, food, liquor, public, place, amus, licens, type, may, view, status, licens, inspect, ...</td>\n",
       "      <td>[(applied, VBN), (new, JJ), (retail, JJ), (food, NN), (liquor, NN), (public, JJ), (place, NN), (amusement,...</td>\n",
       "      <td>[(appli, RB), (new, JJ), (retail, JJ), (food, NN), (liquor, NN), (public, JJ), (place, NN), (amus, NN), (l...</td>\n",
       "      <td>[(contact, 1)]</td>\n",
       "    </tr>\n",
       "    <tr>\n",
       "      <th>391</th>\n",
       "      <td>bacp</td>\n",
       "      <td>Third Party/Expediter Database</td>\n",
       "      <td>https://www.cityofchicago.org/city/en/depts/bacp/provdrs/bus/svcs/ThirdPartyExpediterDatabase.html</td>\n",
       "      <td>True</td>\n",
       "      <td>True</td>\n",
       "      <td>True</td>\n",
       "      <td>0</td>\n",
       "      <td></td>\n",
       "      <td>0</td>\n",
       "      <td></td>\n",
       "      <td>...</td>\n",
       "      <td>https://webapps1.cityofchicago.org/Expediter/org/cityofchicago/expediter/controller/register/begin.do</td>\n",
       "      <td>webapps1.cityofchicago.org</td>\n",
       "      <td>third; party/expediter; database; detailed; report; third; party; processors; licensed; expediters; includ...</td>\n",
       "      <td>True</td>\n",
       "      <td>Department of Business Affairs and Consumer Protection</td>\n",
       "      <td>[third, party/expediter, database, detailed, report, third, party, processors, licensed, expediters, inclu...</td>\n",
       "      <td>[third, databas, detail, report, third, parti, processor, licens, expedit, includ, inform, histori, violat...</td>\n",
       "      <td>[(third, JJ), (party/expediter, NN), (database, NN), (detailed, JJ), (report, NN), (third, JJ), (party, NN...</td>\n",
       "      <td>[(third, JJ), (databas, JJ), (detail, NN), (report, NN), (third, JJ), (parti, NN), (processor, NN), (licen...</td>\n",
       "      <td>[(sign, 1)]</td>\n",
       "    </tr>\n",
       "  </tbody>\n",
       "</table>\n",
       "<p>17 rows × 21 columns</p>\n",
       "</div>"
      ],
      "text/plain": [
       "      dept  \\\n",
       "24    bacp   \n",
       "31    bacp   \n",
       "5     bacp   \n",
       "47    bacp   \n",
       "462   bacp   \n",
       "49    bacp   \n",
       "466   bacp   \n",
       "3755  bacp   \n",
       "477   bacp   \n",
       "247   bacp   \n",
       "43    bacp   \n",
       "353   bacp   \n",
       "195   bacp   \n",
       "488   bacp   \n",
       "411   bacp   \n",
       "248   bacp   \n",
       "391   bacp   \n",
       "\n",
       "                                                                                        title  \\\n",
       "24                                                                   Business License Look-up   \n",
       "31                                                                   Business License Renewal   \n",
       "5                                                                           Business Licenses   \n",
       "47                                                                               Cab Feedback   \n",
       "462                                                                        Cable TV Complaint   \n",
       "49                                                                  Consumer Complaint Online   \n",
       "466                                                                  Consumer Fraud Complaint   \n",
       "3755                                                                Consumer Retail Complaint   \n",
       "477                                                        Liquor License Violation Complaint   \n",
       "247                                                         Liquor Moratorium / Vote Dry Area   \n",
       "43    MPEA Airport Departure Tax, Ground Transportation Tax & TNP Vehicle Online Registration   \n",
       "353                                                           New Liquor License Applications   \n",
       "195                                                                Public Vehicle Advertising   \n",
       "488                                                                      Restaurant Complaint   \n",
       "411                                        Schedule An Appointment With A Business Consultant   \n",
       "248         Status of Retail Food, Hospitality, and Amusement License Application Inspections   \n",
       "391                                                            Third Party/Expediter Database   \n",
       "\n",
       "                                                                                                                url  \\\n",
       "24                   https://www.cityofchicago.org/city/en/depts/bacp/provdrs/bus/svcs/business_licenselook-up.html   \n",
       "31          https://www.cityofchicago.org/city/en/depts/bacp/provdrs/bus/svcs/renew_your_businesslicenseonline.html   \n",
       "5          https://www.cityofchicago.org/city/en/depts/bacp/provdrs/bus/svcs/apply_for_a_businesslicenseonline.html   \n",
       "47               https://www.cityofchicago.org/city/en/depts/bacp/provdrs/consumer/svcs/consumer_cab_complaint.html   \n",
       "462         https://www.cityofchicago.org/city/en/depts/bacp/provdrs/cable_comm/svcs/cable_televisioncomplaint.html   \n",
       "49       https://www.cityofchicago.org/city/en/depts/bacp/provdrs/pros_adj/svcs/file_a_citizen_complaintonline.html   \n",
       "466            https://www.cityofchicago.org/city/en/depts/bacp/provdrs/consumer/svcs/consumer_fraud_complaint.html   \n",
       "3755          https://www.cityofchicago.org/city/en/depts/bacp/provdrs/consumer/svcs/consumer_retail_complaint.html   \n",
       "477   https://www.cityofchicago.org/city/en/depts/bacp/provdrs/pros_adj/svcs/liquor_license_violationcomplaint.html   \n",
       "247      https://www.cityofchicago.org/city/en/depts/bacp/provdrs/bus/svcs/liquor_moratoriumvotedryarealook-up.html   \n",
       "43       https://www.cityofchicago.org/city/en/depts/bacp/provdrs/vehic/svcs/mpea_online_permitapplicationform.html   \n",
       "353           https://www.cityofchicago.org/city/en/depts/bacp/provdrs/bus/svcs/new_liquor_licenseapplications.html   \n",
       "195   https://www.cityofchicago.org/city/en/depts/bacp/provdrs/vehic/svcs/application_for_publicvehicleadvertisi...   \n",
       "488                https://www.cityofchicago.org/city/en/depts/bacp/provdrs/consumer/svcs/restaurant_complaint.html   \n",
       "411   https://www.cityofchicago.org/city/en/depts/bacp/provdrs/bus/svcs/schedule_an_appointmentwithabusinesscons...   \n",
       "248       https://www.cityofchicago.org/city/en/depts/bacp/provdrs/bus/svcs/restaurant_licenseinspectionstatus.html   \n",
       "391              https://www.cityofchicago.org/city/en/depts/bacp/provdrs/bus/svcs/ThirdPartyExpediterDatabase.html   \n",
       "\n",
       "      button  i_want_to   nav  num_email_addresses email_addresses  pdf_count  \\\n",
       "24      True       True  True                    0                          1   \n",
       "31      True       True  True                    0                          1   \n",
       "5       True       True  True                    0                          0   \n",
       "47      True       True  True                    0                          0   \n",
       "462     True       True  True                    0                          1   \n",
       "49      True       True  True                    0                          0   \n",
       "466     True       True  True                    0                          0   \n",
       "3755    True       True  True                    0                          0   \n",
       "477     True       True  True                    0                          1   \n",
       "247     True       True  True                    0                          0   \n",
       "43      True       True  True                    0                          0   \n",
       "353     True       True  True                    0                          0   \n",
       "195     True       True  True                    0                          0   \n",
       "488     True       True  True                    0                          0   \n",
       "411     True       True  True                    0                          0   \n",
       "248     True       True  True                    0                          0   \n",
       "391     True       True  True                    0                          0   \n",
       "\n",
       "                                                                                                           pdf_urls  \\\n",
       "24                    https://www.cityofchicago.org/content/dam/city/depts/bacp/general/flyerdataportal20150325.pdf   \n",
       "31    https://www.cityofchicago.org/content/dam/city/depts/bacp/onlinerenewal/SampleOnlineBusinessLicenseRenewal...   \n",
       "5                                                                                                                     \n",
       "47                                                                                                                    \n",
       "462   https://www.cityofchicago.org/content/dam/city/depts/bacp/cablecommunications/cableandvideocustomerprotect...   \n",
       "49                                                                                                                    \n",
       "466                                                                                                                   \n",
       "3755                                                                                                                  \n",
       "477                  https://www.cityofchicago.org/content/dam/city/depts/bacp/adjudication/liquorcomplaintform.pdf   \n",
       "247                                                                                                                   \n",
       "43                                                                                                                    \n",
       "353                                                                                                                   \n",
       "195                                                                                                                   \n",
       "488                                                                                                                   \n",
       "411                                                                                                                   \n",
       "248                                                                                                                   \n",
       "391                                                                                                                   \n",
       "\n",
       "                                       ...                                    \\\n",
       "24                                     ...                                     \n",
       "31                                     ...                                     \n",
       "5                                      ...                                     \n",
       "47                                     ...                                     \n",
       "462                                    ...                                     \n",
       "49                                     ...                                     \n",
       "466                                    ...                                     \n",
       "3755                                   ...                                     \n",
       "477                                    ...                                     \n",
       "247                                    ...                                     \n",
       "43                                     ...                                     \n",
       "353                                    ...                                     \n",
       "195                                    ...                                     \n",
       "488                                    ...                                     \n",
       "411                                    ...                                     \n",
       "248                                    ...                                     \n",
       "391                                    ...                                     \n",
       "\n",
       "                                                                                                          ext_links  \\\n",
       "24         https://data.cityofchicago.org/Community-Economic-Development/Business-Licenses-Current-Active/uupf-x98q   \n",
       "31                                                     https://webapps1.cityofchicago.org/LicenseRenewalWeb/home.do   \n",
       "5                                                              https://webapps1.cityofchicago.org/IRISWeb/login.jsp   \n",
       "47    https://servicerequest.cityofchicago.org/web_intake_chic/Controller?op=locform&invSRType=CSC&invSRDesc=Cab...   \n",
       "462   https://servicerequest.cityofchicago.org/web_intake_chic/Controller?op=locform&invSRType=OCC&invSRDesc=Cab...   \n",
       "49                                              https://servicerequest.cityofchicago.org/web_intake_chic/Controller   \n",
       "466   https://servicerequest.cityofchicago.org/web_intake_chic/Controller?op=locform&invSRType=CSF&invSRDesc=Con...   \n",
       "3755  https://servicerequest.cityofchicago.org/web_intake_chic/Controller?op=locform&invSRType=CST&invSRDesc=Con...   \n",
       "477   https://servicerequest.cityofchicago.org/web_intake_chic/Controller?op=locform&invSRType=LIQUORCO&invSRDes...   \n",
       "247                                                     https://gisapps.cityofchicago.org/mapchicago/?layers=liquor   \n",
       "43                                                                http://webapps1.cityofchicago.org/mpea/intro.html   \n",
       "353                                                         https://webapps1.cityofchicago.org/NewLiquorLicenseWeb/   \n",
       "195                                                                https://webapps1.cityofchicago.org/pva/login.htm   \n",
       "488                             http://311request.cityofchicago.org/reports/new?service_id=4fd6e4ece750840569000019   \n",
       "411                             https://webapps1.cityofchicago.org/eforms/org/cityofchicago/busExpRequest/index.jsp   \n",
       "248                                                         https://webapps1.cityofchicago.org/RestaurantSearchWeb/   \n",
       "391           https://webapps1.cityofchicago.org/Expediter/org/cityofchicago/expediter/controller/register/begin.do   \n",
       "\n",
       "                        outside_domain  \\\n",
       "24              data.cityofchicago.org   \n",
       "31          webapps1.cityofchicago.org   \n",
       "5           webapps1.cityofchicago.org   \n",
       "47    servicerequest.cityofchicago.org   \n",
       "462   servicerequest.cityofchicago.org   \n",
       "49    servicerequest.cityofchicago.org   \n",
       "466   servicerequest.cityofchicago.org   \n",
       "3755  servicerequest.cityofchicago.org   \n",
       "477   servicerequest.cityofchicago.org   \n",
       "247          gisapps.cityofchicago.org   \n",
       "43          webapps1.cityofchicago.org   \n",
       "353         webapps1.cityofchicago.org   \n",
       "195         webapps1.cityofchicago.org   \n",
       "488       311request.cityofchicago.org   \n",
       "411         webapps1.cityofchicago.org   \n",
       "248         webapps1.cityofchicago.org   \n",
       "391         webapps1.cityofchicago.org   \n",
       "\n",
       "                                                                                                  description_words  \\\n",
       "24    interactive; website; allows; users; search; businesses; area; current; business; license; users; search; ...   \n",
       "31    online; license; weighing; measuring; device; renewal; system; use; online; application; renew; business; ...   \n",
       "5     small; business; center; sbc; issues; business; licenses; regulates; business; activities; industries; div...   \n",
       "47    service; request; used; report; problems; taxicab; related; problems; complaints; investigated; condition;...   \n",
       "462   service; request; used; report; billing; service; problems; cable; television; companies; operate; cable; ...   \n",
       "49    community; member; may; voice; complaints; existing; businesses; new; license; applicants; though; citizen...   \n",
       "466   service; request; used; report; unscrupulous; possible; illegal; practices; business; located; home; repai...   \n",
       "3755                               service; request; used; report; problems; complaints; stores; retail; businesses   \n",
       "477   click; liquor; license; complaint; form; click; online; service; request; report; liquor; license; holder;...   \n",
       "247   liquor; moratorium; vote; dry; information; possibly; affecting; specific; address; follow; steps; click; ...   \n",
       "43    online; vehicle; registration; mpea; airport; departure; tax; ground; transportation; tax; tnp; vehicles; ...   \n",
       "353                                                  see; new; liquor; license; applications; received; last; weeks   \n",
       "195   welcome; application; public; vehicle; advertising; web; site; using; web; site; able; submit; application...   \n",
       "488   service; request; used; report; problems; related; food; safety; restaurants; use; type; report; problems;...   \n",
       "411   waste; time; standing; line; schedule; appointment; see; business; consultant; business; affairs; consumer...   \n",
       "248   applied; new; retail; food; liquor; public; place; amusement; license; type; may; view; status; license; i...   \n",
       "391   third; party/expediter; database; detailed; report; third; party; processors; licensed; expediters; includ...   \n",
       "\n",
       "     services                                               dept_name  \\\n",
       "24       True  Department of Business Affairs and Consumer Protection   \n",
       "31       True  Department of Business Affairs and Consumer Protection   \n",
       "5        True  Department of Business Affairs and Consumer Protection   \n",
       "47       True  Department of Business Affairs and Consumer Protection   \n",
       "462      True  Department of Business Affairs and Consumer Protection   \n",
       "49       True  Department of Business Affairs and Consumer Protection   \n",
       "466      True  Department of Business Affairs and Consumer Protection   \n",
       "3755     True  Department of Business Affairs and Consumer Protection   \n",
       "477      True  Department of Business Affairs and Consumer Protection   \n",
       "247      True  Department of Business Affairs and Consumer Protection   \n",
       "43       True  Department of Business Affairs and Consumer Protection   \n",
       "353      True  Department of Business Affairs and Consumer Protection   \n",
       "195      True  Department of Business Affairs and Consumer Protection   \n",
       "488      True  Department of Business Affairs and Consumer Protection   \n",
       "411      True  Department of Business Affairs and Consumer Protection   \n",
       "248      True  Department of Business Affairs and Consumer Protection   \n",
       "391      True  Department of Business Affairs and Consumer Protection   \n",
       "\n",
       "                                                                                                  normalized_tokens  \\\n",
       "24    [interactive, website, allows, users, search, businesses, area, current, business, license, users, search,...   \n",
       "31    [online, license, weighing, measuring, device, renewal, system, use, online, application, renew, business,...   \n",
       "5     [small, business, center, sbc, issues, business, licenses, regulates, business, activities, industries, di...   \n",
       "47    [service, request, used, report, problems, taxicab, related, problems, complaints, investigated, condition...   \n",
       "462   [service, request, used, report, billing, service, problems, cable, television, companies, operate, cable,...   \n",
       "49    [community, member, may, voice, complaints, existing, businesses, new, license, applicants, though, citize...   \n",
       "466   [service, request, used, report, unscrupulous, possible, illegal, practices, business, located, home, repa...   \n",
       "3755                             [service, request, used, report, problems, complaints, stores, retail, businesses]   \n",
       "477   [click, liquor, license, complaint, form, click, online, service, request, report, liquor, license, holder...   \n",
       "247   [liquor, moratorium, vote, dry, information, possibly, affecting, specific, address, follow, steps, click,...   \n",
       "43    [online, vehicle, registration, mpea, airport, departure, tax, ground, transportation, tax, tnp, vehicles,...   \n",
       "353                                                [see, new, liquor, license, applications, received, last, weeks]   \n",
       "195   [welcome, application, public, vehicle, advertising, web, site, using, web, site, able, submit, applicatio...   \n",
       "488   [service, request, used, report, problems, related, food, safety, restaurants, use, type, report, problems...   \n",
       "411   [waste, time, standing, line, schedule, appointment, see, business, consultant, business, affairs, consume...   \n",
       "248   [applied, new, retail, food, liquor, public, place, amusement, license, type, may, view, status, license, ...   \n",
       "391   [third, party/expediter, database, detailed, report, third, party, processors, licensed, expediters, inclu...   \n",
       "\n",
       "                                                                                                 stemmatized_tokens  \\\n",
       "24    [interact, websit, allow, user, search, busi, area, current, busi, licens, user, search, address, busi, na...   \n",
       "31    [onlin, licens, weigh, measur, devic, renew, system, use, onlin, applic, renew, busi, licens, weigh, measu...   \n",
       "5     [small, busi, center, sbc, issu, busi, licens, regul, busi, activ, industri, diver, retail, food, liquor, ...   \n",
       "47    [servic, request, use, report, problem, taxicab, relat, problem, complaint, investig, condit, safeti, cab,...   \n",
       "462   [servic, request, use, report, bill, servic, problem, cabl, televis, compani, oper, cabl, franchis, agreem...   \n",
       "49    [communiti, member, may, voic, complaint, exist, busi, new, licens, applic, though, citizen, complaint, fo...   \n",
       "466   [servic, request, use, report, unscrupul, possibl, illeg, practic, busi, locat, home, repair, work, done, ...   \n",
       "3755                                        [servic, request, use, report, problem, complaint, store, retail, busi]   \n",
       "477   [click, liquor, licens, complaint, form, click, onlin, servic, request, report, liquor, licens, holder, vi...   \n",
       "247   [liquor, moratorium, vote, dri, inform, possibl, affect, specif, address, follow, step, click, link, type,...   \n",
       "43    [onlin, vehicl, registr, mpea, airport, departur, tax, ground, transport, tax, tnp, vehicl, onlin, tnp, ch...   \n",
       "353                                                          [see, new, liquor, licens, applic, receiv, last, week]   \n",
       "195   [welcom, applic, public, vehicl, advertis, web, site, use, web, site, abl, submit, applic, make, payment, ...   \n",
       "488   [servic, request, use, report, problem, relat, food, safeti, restaur, use, type, report, problem, relat, p...   \n",
       "411   [wast, time, stand, line, schedul, appoint, see, busi, consult, busi, affair, consum, protect, bacp, effor...   \n",
       "248   [appli, new, retail, food, liquor, public, place, amus, licens, type, may, view, status, licens, inspect, ...   \n",
       "391   [third, databas, detail, report, third, parti, processor, licens, expedit, includ, inform, histori, violat...   \n",
       "\n",
       "                                                                                              normalized_tokens_POS  \\\n",
       "24    [(interactive, JJ), (website, NN), (allows, VBZ), (users, NNS), (search, VBP), (businesses, NNS), (area, N...   \n",
       "31    [(online, JJ), (license, NN), (weighing, VBG), (measuring, VBG), (device, NN), (renewal, NN), (system, NN)...   \n",
       "5     [(small, JJ), (business, NN), (center, NN), (sbc, NN), (issues, NNS), (business, NN), (licenses, VBZ), (re...   \n",
       "47    [(service, NN), (request, NN), (used, VBN), (report, NN), (problems, NNS), (taxicab, VBP), (related, VBN),...   \n",
       "462   [(service, NN), (request, NN), (used, VBN), (report, NN), (billing, VBG), (service, NN), (problems, NNS), ...   \n",
       "49    [(community, NN), (member, NN), (may, MD), (voice, VB), (complaints, NNS), (existing, VBG), (businesses, N...   \n",
       "466   [(service, NN), (request, NN), (used, VBN), (report, NN), (unscrupulous, JJ), (possible, JJ), (illegal, JJ...   \n",
       "3755  [(service, NN), (request, NN), (used, VBN), (report, NN), (problems, NNS), (complaints, NNS), (stores, NNS...   \n",
       "477   [(click, NN), (liquor, NN), (license, NN), (complaint, NN), (form, NN), (click, NN), (online, NN), (servic...   \n",
       "247   [(liquor, NN), (moratorium, NN), (vote, NN), (dry, JJ), (information, NN), (possibly, RB), (affecting, VBG...   \n",
       "43    [(online, JJ), (vehicle, NN), (registration, NN), (mpea, NN), (airport, NN), (departure, NN), (tax, NN), (...   \n",
       "353   [(see, VB), (new, JJ), (liquor, NN), (license, NN), (applications, NNS), (received, VBD), (last, JJ), (wee...   \n",
       "195   [(welcome, JJ), (application, NN), (public, JJ), (vehicle, NN), (advertising, NN), (web, NN), (site, NN), ...   \n",
       "488   [(service, NN), (request, NN), (used, VBN), (report, NN), (problems, NNS), (related, VBN), (food, NN), (sa...   \n",
       "411   [(waste, NN), (time, NN), (standing, VBG), (line, NN), (schedule, NN), (appointment, NN), (see, NN), (busi...   \n",
       "248   [(applied, VBN), (new, JJ), (retail, JJ), (food, NN), (liquor, NN), (public, JJ), (place, NN), (amusement,...   \n",
       "391   [(third, JJ), (party/expediter, NN), (database, NN), (detailed, JJ), (report, NN), (third, JJ), (party, NN...   \n",
       "\n",
       "                                                                                             stemmatized_tokens_POS  \\\n",
       "24    [(interact, JJ), (websit, NN), (allow, IN), (user, JJ), (search, NN), (busi, IN), (area, NN), (current, JJ...   \n",
       "31    [(onlin, NN), (licens, VBZ), (weigh, JJ), (measur, NN), (devic, VB), (renew, NN), (system, NN), (use, VBP)...   \n",
       "5     [(small, JJ), (busi, NN), (center, NN), (sbc, NN), (issu, NN), (busi, NN), (licens, VBZ), (regul, JJ), (bu...   \n",
       "47    [(servic, NN), (request, NN), (use, NN), (report, NN), (problem, NN), (taxicab, NN), (relat, NN), (problem...   \n",
       "462   [(servic, NN), (request, NN), (use, NN), (report, NN), (bill, NN), (servic, VBN), (problem, NN), (cabl, NN...   \n",
       "49    [(communiti, JJ), (member, NN), (may, MD), (voic, VB), (complaint, NN), (exist, VB), (busi, IN), (new, JJ)...   \n",
       "466   [(servic, NN), (request, NN), (use, NN), (report, NN), (unscrupul, JJ), (possibl, NN), (illeg, NN), (pract...   \n",
       "3755  [(servic, NN), (request, NN), (use, NN), (report, NN), (problem, NN), (complaint, NN), (store, NN), (retai...   \n",
       "477   [(click, NN), (liquor, NN), (licens, VBZ), (complaint, JJ), (form, NN), (click, NN), (onlin, NN), (servic,...   \n",
       "247   [(liquor, NN), (moratorium, NN), (vote, NN), (dri, NN), (inform, NN), (possibl, NN), (affect, VBP), (speci...   \n",
       "43    [(onlin, NN), (vehicl, NN), (registr, NN), (mpea, NN), (airport, NN), (departur, JJ), (tax, NN), (ground, ...   \n",
       "353         [(see, VB), (new, JJ), (liquor, NN), (licens, VBZ), (applic, JJ), (receiv, NN), (last, JJ), (week, NN)]   \n",
       "195   [(welcom, JJ), (applic, JJ), (public, JJ), (vehicl, NN), (advertis, NN), (web, NN), (site, NN), (use, NN),...   \n",
       "488   [(servic, NN), (request, NN), (use, NN), (report, NN), (problem, NN), (relat, JJ), (food, NN), (safeti, NN...   \n",
       "411   [(wast, JJ), (time, NN), (stand, VBP), (line, NN), (schedul, NN), (appoint, NN), (see, VBP), (busi, JJ), (...   \n",
       "248   [(appli, RB), (new, JJ), (retail, JJ), (food, NN), (liquor, NN), (public, JJ), (place, NN), (amus, NN), (l...   \n",
       "391   [(third, JJ), (databas, JJ), (detail, NN), (report, NN), (third, JJ), (parti, NN), (processor, NN), (licen...   \n",
       "\n",
       "                                                       most_frequent_present  \n",
       "24                                                             [(search, 2)]  \n",
       "31                 [(need, 2), (use, 1), (keep, 1), (contact, 1), (make, 1)]  \n",
       "5                                        [(diverse, 1), (go, 1), (click, 1)]  \n",
       "47                                   [(taxicab, 1), (fellow, 1), (click, 1)]  \n",
       "462                                                           [(operate, 1)]  \n",
       "49                                       [(file, 1), (accept, 1), (help, 1)]  \n",
       "466                                                                       []  \n",
       "3755                                                                      []  \n",
       "477                                                           [(request, 1)]  \n",
       "247                                                 [(link, 1), (follow, 1)]  \n",
       "43                       [(online, 1), (expire, 1), (print, 1), (emblem, 1)]  \n",
       "353                                                                       []  \n",
       "195                                                 [(make, 1), (submit, 1)]  \n",
       "488                                                               [(use, 1)]  \n",
       "411   [(bacp, 2), (assist, 1), (schedule, 1), (contact, 1), (coordinate, 1)]  \n",
       "248                                                           [(contact, 1)]  \n",
       "391                                                              [(sign, 1)]  \n",
       "\n",
       "[17 rows x 21 columns]"
      ]
     },
     "execution_count": 64,
     "metadata": {},
     "output_type": "execute_result"
    }
   ],
   "source": [
    "webpages[(webpages.dept_name == 'Department of Business Affairs and Consumer Protection') & (webpages.button == True)].sort_values(by='title')"
   ]
  },
  {
   "cell_type": "code",
   "execution_count": 50,
   "metadata": {},
   "outputs": [
    {
     "data": {
      "text/plain": [
       "dept_name\n",
       "None                                                      1585\n",
       "Department of Cultural Affairs and Special Events          600\n",
       "Department of Planning and Development                     546\n",
       "Department of Finance                                      311\n",
       "Department of Procurement Services                         299\n",
       "Department of Business Affairs and Consumer Protection     294\n",
       "Department of Public Health                                288\n",
       "Department of Family & Support Services                    198\n",
       "Department of Transportation                               196\n",
       "Office of the Mayor                                        186\n",
       "Department of Buildings                                    175\n",
       "Department of Law                                          161\n",
       "Department of Streets and Sanitation                       158\n",
       "Department of Water Management                             149\n",
       "Board of Ethics                                            137\n",
       "Department of Human Resources                              126\n",
       "Department of Innovation and Technology                    100\n",
       "Emergency Management & Communications                       96\n",
       "Mayor's Office for People with Disabilities                 92\n",
       "Other                                                       72\n",
       "Office of Budget and Management                             70\n",
       "Commission on Human Relations                               59\n",
       "Department of Administrative Hearings                       57\n",
       "Chicago Fire Department                                     54\n",
       "Department of Animal Care and Control                       49\n",
       "Department of Fleet and Facility Management                 45\n",
       "311 City Services                                           27\n",
       "License Appeal Commission                                   24\n",
       "Chicago Police Board                                        20\n",
       "Chicago Police Department                                   19\n",
       "Chicago Public Library                                      16\n",
       "City of Chicago TV                                          12\n",
       "Office of the Inspector General                             12\n",
       "Department of Aviation                                      11\n",
       "Civilian Office of Police Accountability                     9\n",
       "Department of Compliance                                     1\n",
       "dtype: int64"
      ]
     },
     "execution_count": 50,
     "metadata": {},
     "output_type": "execute_result"
    }
   ],
   "source": [
    "data.groupby('dept_name').size().sort_values(ascending=False)"
   ]
  },
  {
   "cell_type": "code",
   "execution_count": null,
   "metadata": {
    "collapsed": true
   },
   "outputs": [],
   "source": []
  }
 ],
 "metadata": {
  "kernelspec": {
   "display_name": "Python 3",
   "language": "python",
   "name": "python3"
  },
  "language_info": {
   "codemirror_mode": {
    "name": "ipython",
    "version": 3
   },
   "file_extension": ".py",
   "mimetype": "text/x-python",
   "name": "python",
   "nbconvert_exporter": "python",
   "pygments_lexer": "ipython3",
   "version": "3.6.3"
  }
 },
 "nbformat": 4,
 "nbformat_minor": 2
}
