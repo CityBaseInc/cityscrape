{
 "cells": [
  {
   "cell_type": "code",
   "execution_count": 555,
   "metadata": {},
   "outputs": [
    {
     "data": {
      "text/html": [
       "<script>requirejs.config({paths: { 'plotly': ['https://cdn.plot.ly/plotly-latest.min']},});if(!window.Plotly) {{require(['plotly'],function(plotly) {window.Plotly=plotly;});}}</script>"
      ],
      "text/vnd.plotly.v1+html": [
       "<script>requirejs.config({paths: { 'plotly': ['https://cdn.plot.ly/plotly-latest.min']},});if(!window.Plotly) {{require(['plotly'],function(plotly) {window.Plotly=plotly;});}}</script>"
      ]
     },
     "metadata": {},
     "output_type": "display_data"
    }
   ],
   "source": [
    "import pandas as pd\n",
    "import re\n",
    "import matplotlib.pyplot as plt\n",
    "%matplotlib inline\n",
    "import plotly.plotly as py\n",
    "import plotly.graph_objs as go\n",
    "from plotly import __version__\n",
    "from plotly.offline import download_plotlyjs, init_notebook_mode, plot, iplot\n",
    "init_notebook_mode(connected=True)\n",
    "\n",
    "\n",
    "def bar_chart(labels, values, title, xaxis = '', yaxis = '', xsize = 14, subtitle=''):\n",
    "    d = [go.Bar(\n",
    "            x=labels,\n",
    "            y=values,\n",
    "            text=values,\n",
    "            textposition = 'outside',\n",
    "            opacity=1)]\n",
    "\n",
    "    layout = go.Layout(\n",
    "        title='<b>'+title+'</b><br>'+subtitle,\n",
    "        xaxis=dict(\n",
    "            title=xaxis,\n",
    "            tickfont=dict(\n",
    "                size=xsize,\n",
    "                color='rgb(107, 107, 107)'\n",
    "            )\n",
    "        ),\n",
    "        yaxis=dict(\n",
    "            title=yaxis,\n",
    "            titlefont=dict(\n",
    "                size=16,\n",
    "                color='rgb(107, 107, 107)'\n",
    "            ),\n",
    "            tickfont=dict(\n",
    "                size=14,\n",
    "                color='rgb(107, 107, 107)'\n",
    "            )\n",
    "        ),\n",
    "    )\n",
    "\n",
    "    fig = go.Figure(data=d, layout=layout)\n",
    "    iplot(fig, filename='color-bar')\n",
    "    \n",
    "def viz(groupby_df, title = '', xaxis = '', yaxis = '', xsize = 14, subtitle=''):\n",
    "    labels = list(groupby_df.index)\n",
    "    values = list(groupby_df.values)\n",
    "    \n",
    "    d = [go.Bar(\n",
    "            x=labels,\n",
    "            y=values,\n",
    "            text=values,\n",
    "            textposition = 'outside',\n",
    "            opacity=1)]\n",
    "\n",
    "    layout = go.Layout(\n",
    "        title='<b>'+title+'</b><br>'+subtitle,\n",
    "        xaxis=dict(\n",
    "            title=xaxis,\n",
    "            tickfont=dict(\n",
    "                size=xsize,\n",
    "                color='rgb(107, 107, 107)'\n",
    "            )\n",
    "        ),\n",
    "        yaxis=dict(\n",
    "            title=yaxis,\n",
    "            titlefont=dict(\n",
    "                size=16,\n",
    "                color='rgb(107, 107, 107)'\n",
    "            ),\n",
    "            tickfont=dict(\n",
    "                size=14,\n",
    "                color='rgb(107, 107, 107)'\n",
    "            )\n",
    "        ),\n",
    "    )\n",
    "\n",
    "    fig = go.Figure(data=d, layout=layout)\n",
    "    iplot(fig, filename='color-bar')"
   ]
  },
  {
   "cell_type": "code",
   "execution_count": 568,
   "metadata": {
    "collapsed": true
   },
   "outputs": [],
   "source": [
    "data = pd.read_excel('CoC__Departments_Research_TK_030918_Edits.xlsx', encoding = 'iso-8859-1')"
   ]
  },
  {
   "cell_type": "code",
   "execution_count": 487,
   "metadata": {},
   "outputs": [
    {
     "data": {
      "text/plain": [
       "Index(['index', 'City Department', 'Webpage Title', 'URL', 'Persona', 'Verb',\n",
       "       'SVC in URL?', 'Button Present?', 'i_want_to', 'nav',\n",
       "       'No. of E-mail Addresses', 'E-mail Address ', 'PDF Count',\n",
       "       'External Link Count', 'External Link URL(s)', 'Top Words'],\n",
       "      dtype='object')"
      ]
     },
     "execution_count": 487,
     "metadata": {},
     "output_type": "execute_result"
    }
   ],
   "source": [
    "data.columns"
   ]
  },
  {
   "cell_type": "code",
   "execution_count": 488,
   "metadata": {},
   "outputs": [],
   "source": [
    "columns = ['index', 'dept', 'title', 'url', 'persona', 'verb',\n",
    "       'service', 'button', 'i_want_to', 'nav',\n",
    "       'email_count', 'emails', 'pdf_count',\n",
    "       'external_count', 'external_urls', 'top_words']\n",
    "data.columns = columns"
   ]
  },
  {
   "cell_type": "code",
   "execution_count": 489,
   "metadata": {},
   "outputs": [],
   "source": [
    "data1 = data[(data['dept'] == 'Department of Business Affairs and Consumer Protection') | (data['dept'] == 'Department of Finance')].set_index(keys='index').reset_index(drop=True)\n",
    "data1 = data1.fillna('NA')\n",
    "data1['verb'] = data1.verb.apply(lambda x: x.strip())"
   ]
  },
  {
   "cell_type": "code",
   "execution_count": 490,
   "metadata": {},
   "outputs": [
    {
     "data": {
      "text/plain": [
       "array(['Apply', 'Obtain', 'Enroll', 'File', 'Find', 'Learn', 'Multiple',\n",
       "       'NA', 'Pay', 'Register', 'Report', 'Request', 'View', 'Other'], dtype=object)"
      ]
     },
     "execution_count": 490,
     "metadata": {},
     "output_type": "execute_result"
    }
   ],
   "source": [
    "data1.verb.unique()"
   ]
  },
  {
   "cell_type": "code",
   "execution_count": 491,
   "metadata": {},
   "outputs": [
    {
     "data": {
      "text/plain": [
       "{'Apply',\n",
       " 'Enroll',\n",
       " 'File',\n",
       " 'Find',\n",
       " 'Learn',\n",
       " 'Multiple',\n",
       " 'NA',\n",
       " 'Obtain',\n",
       " 'Other',\n",
       " 'Pay',\n",
       " 'Register',\n",
       " 'Report',\n",
       " 'Request',\n",
       " 'View'}"
      ]
     },
     "execution_count": 491,
     "metadata": {},
     "output_type": "execute_result"
    }
   ],
   "source": [
    "verbs = set()\n",
    "for words in data1.verb.unique():\n",
    "    for wor in re.split('W+ |;', words):\n",
    "        verbs.add(wor.strip())\n",
    "verbs"
   ]
  },
  {
   "cell_type": "code",
   "execution_count": 492,
   "metadata": {},
   "outputs": [],
   "source": [
    "data1['verb_list'] = data1.verb.apply(lambda x: re.split('W+ | ;|; |,|;',x.strip()))"
   ]
  },
  {
   "cell_type": "code",
   "execution_count": 493,
   "metadata": {},
   "outputs": [],
   "source": [
    "data1['verb_cnt'] = data1.verb_list.apply(lambda x: len(x))"
   ]
  },
  {
   "cell_type": "code",
   "execution_count": 494,
   "metadata": {},
   "outputs": [
    {
     "data": {
      "text/plain": [
       "verb_cnt\n",
       "1    604\n",
       "dtype: int64"
      ]
     },
     "execution_count": 494,
     "metadata": {},
     "output_type": "execute_result"
    }
   ],
   "source": [
    "data1.groupby('verb_cnt').size()"
   ]
  },
  {
   "cell_type": "code",
   "execution_count": 565,
   "metadata": {},
   "outputs": [
    {
     "data": {
      "application/vnd.plotly.v1+json": {
       "data": [
        {
         "opacity": 1,
         "text": [
          230,
          16,
          12,
          11,
          5,
          5,
          4,
          3,
          3,
          3,
          1
         ],
         "textposition": "outside",
         "type": "bar",
         "x": [
          "Learn",
          "File",
          "View",
          "Apply",
          "NA",
          "Multiple",
          "Obtain",
          "Request",
          "Register",
          "Find",
          "Other"
         ],
         "y": [
          230,
          16,
          12,
          11,
          5,
          5,
          4,
          3,
          3,
          3,
          1
         ]
        }
       ],
       "layout": {
        "title": "<b>Number of Webpages by Verb for Department of Business Affairs and Consumer Protection</b><br>",
        "xaxis": {
         "tickfont": {
          "color": "rgb(107, 107, 107)",
          "size": 14
         },
         "title": "Verb"
        },
        "yaxis": {
         "tickfont": {
          "color": "rgb(107, 107, 107)",
          "size": 14
         },
         "title": "Number of Webpages",
         "titlefont": {
          "color": "rgb(107, 107, 107)",
          "size": 16
         }
        }
       }
      },
      "text/html": [
       "<div id=\"eb9dbb5e-4a61-45f2-bcd8-12c8e8fd0ad8\" style=\"height: 525px; width: 100%;\" class=\"plotly-graph-div\"></div><script type=\"text/javascript\">require([\"plotly\"], function(Plotly) { window.PLOTLYENV=window.PLOTLYENV || {};window.PLOTLYENV.BASE_URL=\"https://plot.ly\";Plotly.newPlot(\"eb9dbb5e-4a61-45f2-bcd8-12c8e8fd0ad8\", [{\"type\": \"bar\", \"x\": [\"Learn\", \"File\", \"View\", \"Apply\", \"NA\", \"Multiple\", \"Obtain\", \"Request\", \"Register\", \"Find\", \"Other\"], \"y\": [230, 16, 12, 11, 5, 5, 4, 3, 3, 3, 1], \"text\": [230, 16, 12, 11, 5, 5, 4, 3, 3, 3, 1], \"textposition\": \"outside\", \"opacity\": 1}], {\"title\": \"<b>Number of Webpages by Verb for Department of Business Affairs and Consumer Protection</b><br>\", \"xaxis\": {\"title\": \"Verb\", \"tickfont\": {\"size\": 14, \"color\": \"rgb(107, 107, 107)\"}}, \"yaxis\": {\"title\": \"Number of Webpages\", \"titlefont\": {\"size\": 16, \"color\": \"rgb(107, 107, 107)\"}, \"tickfont\": {\"size\": 14, \"color\": \"rgb(107, 107, 107)\"}}}, {\"showLink\": true, \"linkText\": \"Export to plot.ly\"})});</script>"
      ],
      "text/vnd.plotly.v1+html": [
       "<div id=\"eb9dbb5e-4a61-45f2-bcd8-12c8e8fd0ad8\" style=\"height: 525px; width: 100%;\" class=\"plotly-graph-div\"></div><script type=\"text/javascript\">require([\"plotly\"], function(Plotly) { window.PLOTLYENV=window.PLOTLYENV || {};window.PLOTLYENV.BASE_URL=\"https://plot.ly\";Plotly.newPlot(\"eb9dbb5e-4a61-45f2-bcd8-12c8e8fd0ad8\", [{\"type\": \"bar\", \"x\": [\"Learn\", \"File\", \"View\", \"Apply\", \"NA\", \"Multiple\", \"Obtain\", \"Request\", \"Register\", \"Find\", \"Other\"], \"y\": [230, 16, 12, 11, 5, 5, 4, 3, 3, 3, 1], \"text\": [230, 16, 12, 11, 5, 5, 4, 3, 3, 3, 1], \"textposition\": \"outside\", \"opacity\": 1}], {\"title\": \"<b>Number of Webpages by Verb for Department of Business Affairs and Consumer Protection</b><br>\", \"xaxis\": {\"title\": \"Verb\", \"tickfont\": {\"size\": 14, \"color\": \"rgb(107, 107, 107)\"}}, \"yaxis\": {\"title\": \"Number of Webpages\", \"titlefont\": {\"size\": 16, \"color\": \"rgb(107, 107, 107)\"}, \"tickfont\": {\"size\": 14, \"color\": \"rgb(107, 107, 107)\"}}}, {\"showLink\": true, \"linkText\": \"Export to plot.ly\"})});</script>"
      ]
     },
     "metadata": {},
     "output_type": "display_data"
    },
    {
     "name": "stdout",
     "output_type": "stream",
     "text": [
      "Based on manual categorization, BACP pages were categorized into the above verb categories.\n"
     ]
    },
    {
     "data": {
      "application/vnd.plotly.v1+json": {
       "data": [
        {
         "opacity": 1,
         "text": [
          183,
          34,
          21,
          21,
          16,
          14,
          5,
          4,
          4,
          4,
          3,
          2
         ],
         "textposition": "outside",
         "type": "bar",
         "x": [
          "Learn",
          "Obtain",
          "View",
          "NA",
          "File",
          "Apply",
          "Enroll",
          "Request",
          "Pay",
          "Find",
          "Report",
          "Multiple"
         ],
         "y": [
          183,
          34,
          21,
          21,
          16,
          14,
          5,
          4,
          4,
          4,
          3,
          2
         ]
        }
       ],
       "layout": {
        "title": "<b><b>Number of Webpages by Verb for Department of Finance</b><br>",
        "xaxis": {
         "tickfont": {
          "color": "rgb(107, 107, 107)",
          "size": 12
         },
         "title": "Verb"
        },
        "yaxis": {
         "tickfont": {
          "color": "rgb(107, 107, 107)",
          "size": 14
         },
         "title": "Number of Webpages",
         "titlefont": {
          "color": "rgb(107, 107, 107)",
          "size": 16
         }
        }
       }
      },
      "text/html": [
       "<div id=\"52f7432a-0d45-44fe-8a51-1ef62d4b8a29\" style=\"height: 525px; width: 100%;\" class=\"plotly-graph-div\"></div><script type=\"text/javascript\">require([\"plotly\"], function(Plotly) { window.PLOTLYENV=window.PLOTLYENV || {};window.PLOTLYENV.BASE_URL=\"https://plot.ly\";Plotly.newPlot(\"52f7432a-0d45-44fe-8a51-1ef62d4b8a29\", [{\"type\": \"bar\", \"x\": [\"Learn\", \"Obtain\", \"View\", \"NA\", \"File\", \"Apply\", \"Enroll\", \"Request\", \"Pay\", \"Find\", \"Report\", \"Multiple\"], \"y\": [183, 34, 21, 21, 16, 14, 5, 4, 4, 4, 3, 2], \"text\": [183, 34, 21, 21, 16, 14, 5, 4, 4, 4, 3, 2], \"textposition\": \"outside\", \"opacity\": 1}], {\"title\": \"<b><b>Number of Webpages by Verb for Department of Finance</b><br>\", \"xaxis\": {\"title\": \"Verb\", \"tickfont\": {\"size\": 12, \"color\": \"rgb(107, 107, 107)\"}}, \"yaxis\": {\"title\": \"Number of Webpages\", \"titlefont\": {\"size\": 16, \"color\": \"rgb(107, 107, 107)\"}, \"tickfont\": {\"size\": 14, \"color\": \"rgb(107, 107, 107)\"}}}, {\"showLink\": true, \"linkText\": \"Export to plot.ly\"})});</script>"
      ],
      "text/vnd.plotly.v1+html": [
       "<div id=\"52f7432a-0d45-44fe-8a51-1ef62d4b8a29\" style=\"height: 525px; width: 100%;\" class=\"plotly-graph-div\"></div><script type=\"text/javascript\">require([\"plotly\"], function(Plotly) { window.PLOTLYENV=window.PLOTLYENV || {};window.PLOTLYENV.BASE_URL=\"https://plot.ly\";Plotly.newPlot(\"52f7432a-0d45-44fe-8a51-1ef62d4b8a29\", [{\"type\": \"bar\", \"x\": [\"Learn\", \"Obtain\", \"View\", \"NA\", \"File\", \"Apply\", \"Enroll\", \"Request\", \"Pay\", \"Find\", \"Report\", \"Multiple\"], \"y\": [183, 34, 21, 21, 16, 14, 5, 4, 4, 4, 3, 2], \"text\": [183, 34, 21, 21, 16, 14, 5, 4, 4, 4, 3, 2], \"textposition\": \"outside\", \"opacity\": 1}], {\"title\": \"<b><b>Number of Webpages by Verb for Department of Finance</b><br>\", \"xaxis\": {\"title\": \"Verb\", \"tickfont\": {\"size\": 12, \"color\": \"rgb(107, 107, 107)\"}}, \"yaxis\": {\"title\": \"Number of Webpages\", \"titlefont\": {\"size\": 16, \"color\": \"rgb(107, 107, 107)\"}, \"tickfont\": {\"size\": 14, \"color\": \"rgb(107, 107, 107)\"}}}, {\"showLink\": true, \"linkText\": \"Export to plot.ly\"})});</script>"
      ]
     },
     "metadata": {},
     "output_type": "display_data"
    },
    {
     "name": "stdout",
     "output_type": "stream",
     "text": [
      "Based on manual categorization, DoF pages were categorized into the above verb categories.\n"
     ]
    }
   ],
   "source": [
    "data_single = data1[data1['verb_cnt'] == 1]\n",
    "business = data_single[data_single.dept == 'Department of Business Affairs and Consumer Protection']\n",
    "finance = data_single[data_single.dept == 'Department of Finance']\n",
    "business_df = business.groupby('verb').size().sort_values(ascending=False)\n",
    "finance_df = finance.groupby('verb').size().sort_values(ascending=False)\n",
    "viz(business_df,'Number of Webpages by Verb for Department of Business Affairs and Consumer Protection','Verb','Number of Webpages')\n",
    "print('Based on manual categorization, BACP pages were categorized into the above verb categories.')\n",
    "viz(finance_df,'<b>Number of Webpages by Verb for Department of Finance', 'Verb', 'Number of Webpages',12)\n",
    "print('Based on manual categorization, DoF pages were categorized into the above verb categories.')"
   ]
  },
  {
   "cell_type": "code",
   "execution_count": null,
   "metadata": {},
   "outputs": [],
   "source": []
  },
  {
   "cell_type": "code",
   "execution_count": null,
   "metadata": {},
   "outputs": [],
   "source": []
  },
  {
   "cell_type": "markdown",
   "metadata": {},
   "source": [
    "## Webpages Per Agency"
   ]
  },
  {
   "cell_type": "code",
   "execution_count": 407,
   "metadata": {
    "scrolled": false
   },
   "outputs": [],
   "source": [
    "web_per_dept = data.groupby('dept').size().sort_values(ascending=False)\n",
    "values = list(web_per_dept.values)\n",
    "depts = list(web_per_dept.index)"
   ]
  },
  {
   "cell_type": "code",
   "execution_count": 554,
   "metadata": {},
   "outputs": [
    {
     "data": {
      "application/vnd.plotly.v1+json": {
       "data": [
        {
         "opacity": 1,
         "text": [
          600,
          546,
          311,
          299,
          294,
          288,
          198,
          196,
          186,
          175,
          161,
          158,
          149,
          137,
          126,
          100,
          96,
          92,
          72,
          70,
          59,
          57,
          54,
          49,
          45,
          27,
          24,
          20,
          19,
          16,
          12,
          12,
          11,
          9,
          1
         ],
         "textposition": "outside",
         "type": "bar",
         "x": [
          "Department of Cultural Affairs and Special Events",
          "Department of Planning and Development",
          "Department of Finance",
          "Department of Procurement Services",
          "Department of Business Affairs and Consumer Protection",
          "Department of Public Health",
          "Department of Family & Support Services",
          "Department of Transportation",
          "Office of the Mayor",
          "Department of Buildings",
          "Department of Law",
          "Department of Streets and Sanitation",
          "Department of Water Management",
          "Board of Ethics",
          "Department of Human Resources",
          "Department of Innovation and Technology",
          "Emergency Management & Communications",
          "Mayor's Office for People with Disabilities",
          "Other",
          "Office of Budget and Management",
          "Commission on Human Relations",
          "Department of Administrative Hearings",
          "Chicago Fire Department",
          "Department of Animal Care and Control",
          "Department of Fleet and Facility Management",
          "311 City Services",
          "License Appeal Commission",
          "Chicago Police Board",
          "Chicago Police Department",
          "Chicago Public Library",
          "City of Chicago TV",
          "Office of the Inspector General",
          "Department of Aviation",
          "Civilian Office of Police Accountability",
          "Department of Compliance"
         ],
         "y": [
          600,
          546,
          311,
          299,
          294,
          288,
          198,
          196,
          186,
          175,
          161,
          158,
          149,
          137,
          126,
          100,
          96,
          92,
          72,
          70,
          59,
          57,
          54,
          49,
          45,
          27,
          24,
          20,
          19,
          16,
          12,
          12,
          11,
          9,
          1
         ]
        }
       ],
       "layout": {
        "title": "<b>Webpages per Department</b><br>",
        "xaxis": {
         "tickfont": {
          "color": "rgb(107, 107, 107)",
          "size": 8
         },
         "title": "Department"
        },
        "yaxis": {
         "tickfont": {
          "color": "rgb(107, 107, 107)",
          "size": 14
         },
         "title": "Number of Webpages",
         "titlefont": {
          "color": "rgb(107, 107, 107)",
          "size": 16
         }
        }
       }
      },
      "text/html": [
       "<div id=\"76fe13d9-b46f-4c20-a738-c5a17edeae29\" style=\"height: 525px; width: 100%;\" class=\"plotly-graph-div\"></div><script type=\"text/javascript\">require([\"plotly\"], function(Plotly) { window.PLOTLYENV=window.PLOTLYENV || {};window.PLOTLYENV.BASE_URL=\"https://plot.ly\";Plotly.newPlot(\"76fe13d9-b46f-4c20-a738-c5a17edeae29\", [{\"type\": \"bar\", \"x\": [\"Department of Cultural Affairs and Special Events\", \"Department of Planning and Development\", \"Department of Finance\", \"Department of Procurement Services\", \"Department of Business Affairs and Consumer Protection\", \"Department of Public Health\", \"Department of Family & Support Services\", \"Department of Transportation\", \"Office of the Mayor\", \"Department of Buildings\", \"Department of Law\", \"Department of Streets and Sanitation\", \"Department of Water Management\", \"Board of Ethics\", \"Department of Human Resources\", \"Department of Innovation and Technology\", \"Emergency Management & Communications\", \"Mayor's Office for People with Disabilities\", \"Other\", \"Office of Budget and Management\", \"Commission on Human Relations\", \"Department of Administrative Hearings\", \"Chicago Fire Department\", \"Department of Animal Care and Control\", \"Department of Fleet and Facility Management\", \"311 City Services\", \"License Appeal Commission\", \"Chicago Police Board\", \"Chicago Police Department\", \"Chicago Public Library\", \"City of Chicago TV\", \"Office of the Inspector General\", \"Department of Aviation\", \"Civilian Office of Police Accountability\", \"Department of Compliance\"], \"y\": [600, 546, 311, 299, 294, 288, 198, 196, 186, 175, 161, 158, 149, 137, 126, 100, 96, 92, 72, 70, 59, 57, 54, 49, 45, 27, 24, 20, 19, 16, 12, 12, 11, 9, 1], \"text\": [600, 546, 311, 299, 294, 288, 198, 196, 186, 175, 161, 158, 149, 137, 126, 100, 96, 92, 72, 70, 59, 57, 54, 49, 45, 27, 24, 20, 19, 16, 12, 12, 11, 9, 1], \"textposition\": \"outside\", \"opacity\": 1}], {\"title\": \"<b>Webpages per Department</b><br>\", \"xaxis\": {\"title\": \"Department\", \"tickfont\": {\"size\": 8, \"color\": \"rgb(107, 107, 107)\"}}, \"yaxis\": {\"title\": \"Number of Webpages\", \"titlefont\": {\"size\": 16, \"color\": \"rgb(107, 107, 107)\"}, \"tickfont\": {\"size\": 14, \"color\": \"rgb(107, 107, 107)\"}}}, {\"showLink\": true, \"linkText\": \"Export to plot.ly\"})});</script>"
      ],
      "text/vnd.plotly.v1+html": [
       "<div id=\"76fe13d9-b46f-4c20-a738-c5a17edeae29\" style=\"height: 525px; width: 100%;\" class=\"plotly-graph-div\"></div><script type=\"text/javascript\">require([\"plotly\"], function(Plotly) { window.PLOTLYENV=window.PLOTLYENV || {};window.PLOTLYENV.BASE_URL=\"https://plot.ly\";Plotly.newPlot(\"76fe13d9-b46f-4c20-a738-c5a17edeae29\", [{\"type\": \"bar\", \"x\": [\"Department of Cultural Affairs and Special Events\", \"Department of Planning and Development\", \"Department of Finance\", \"Department of Procurement Services\", \"Department of Business Affairs and Consumer Protection\", \"Department of Public Health\", \"Department of Family & Support Services\", \"Department of Transportation\", \"Office of the Mayor\", \"Department of Buildings\", \"Department of Law\", \"Department of Streets and Sanitation\", \"Department of Water Management\", \"Board of Ethics\", \"Department of Human Resources\", \"Department of Innovation and Technology\", \"Emergency Management & Communications\", \"Mayor's Office for People with Disabilities\", \"Other\", \"Office of Budget and Management\", \"Commission on Human Relations\", \"Department of Administrative Hearings\", \"Chicago Fire Department\", \"Department of Animal Care and Control\", \"Department of Fleet and Facility Management\", \"311 City Services\", \"License Appeal Commission\", \"Chicago Police Board\", \"Chicago Police Department\", \"Chicago Public Library\", \"City of Chicago TV\", \"Office of the Inspector General\", \"Department of Aviation\", \"Civilian Office of Police Accountability\", \"Department of Compliance\"], \"y\": [600, 546, 311, 299, 294, 288, 198, 196, 186, 175, 161, 158, 149, 137, 126, 100, 96, 92, 72, 70, 59, 57, 54, 49, 45, 27, 24, 20, 19, 16, 12, 12, 11, 9, 1], \"text\": [600, 546, 311, 299, 294, 288, 198, 196, 186, 175, 161, 158, 149, 137, 126, 100, 96, 92, 72, 70, 59, 57, 54, 49, 45, 27, 24, 20, 19, 16, 12, 12, 11, 9, 1], \"textposition\": \"outside\", \"opacity\": 1}], {\"title\": \"<b>Webpages per Department</b><br>\", \"xaxis\": {\"title\": \"Department\", \"tickfont\": {\"size\": 8, \"color\": \"rgb(107, 107, 107)\"}}, \"yaxis\": {\"title\": \"Number of Webpages\", \"titlefont\": {\"size\": 16, \"color\": \"rgb(107, 107, 107)\"}, \"tickfont\": {\"size\": 14, \"color\": \"rgb(107, 107, 107)\"}}}, {\"showLink\": true, \"linkText\": \"Export to plot.ly\"})});</script>"
      ]
     },
     "metadata": {},
     "output_type": "display_data"
    }
   ],
   "source": [
    "bar_chart(depts[1:], values[1:], 'Webpages per Department','Department', 'Number of Webpages',8)"
   ]
  },
  {
   "cell_type": "markdown",
   "metadata": {},
   "source": [
    "## Personas"
   ]
  },
  {
   "cell_type": "code",
   "execution_count": 537,
   "metadata": {},
   "outputs": [],
   "source": [
    "b_personas = {}\n",
    "for row in business.persona.apply(lambda x: re.split(';',x)):\n",
    "    for persona in row:\n",
    "        if persona not in b_personas:\n",
    "            b_personas[persona] = 1\n",
    "        else:\n",
    "            b_personas[persona] += 1\n",
    "f_personas = {}    \n",
    "for row in finance.persona.apply(lambda x: re.split(';',x)):\n",
    "    for persona in row:\n",
    "        if persona not in f_personas:\n",
    "            f_personas[persona] = 1\n",
    "        else:\n",
    "            f_personas[persona] += 1"
   ]
  },
  {
   "cell_type": "code",
   "execution_count": 566,
   "metadata": {},
   "outputs": [
    {
     "data": {
      "application/vnd.plotly.v1+json": {
       "data": [
        {
         "opacity": 1,
         "text": [
          79,
          29,
          22,
          17,
          17,
          14,
          14,
          13,
          13,
          12,
          12,
          11,
          11,
          9,
          9,
          8,
          8,
          8,
          7,
          5
         ],
         "textposition": "outside",
         "type": "bar",
         "x": [
          "Constituent",
          "City Employee",
          "General",
          "Business",
          "Business Owner",
          "Red Light Ticket Recipient",
          "Property Owner",
          "Vehicle Owner",
          "Parking Ticket Recipient",
          "NA",
          "Motorist",
          "Consumer",
          "Automated Speed Enforcement Ticket Recipient",
          "tax collector",
          "Government Official",
          "Motorists",
          "Tax payer",
          "Retailer",
          "Drivers",
          "N/A - Rollup"
         ],
         "y": [
          79,
          29,
          22,
          17,
          17,
          14,
          14,
          13,
          13,
          12,
          12,
          11,
          11,
          9,
          9,
          8,
          8,
          8,
          7,
          5
         ]
        }
       ],
       "layout": {
        "title": "<b>Dept. of Finance Persona Appearances</b><br>",
        "xaxis": {
         "tickfont": {
          "color": "rgb(107, 107, 107)",
          "size": 11
         },
         "title": ""
        },
        "yaxis": {
         "tickfont": {
          "color": "rgb(107, 107, 107)",
          "size": 14
         },
         "title": "",
         "titlefont": {
          "color": "rgb(107, 107, 107)",
          "size": 16
         }
        }
       }
      },
      "text/html": [
       "<div id=\"23ce662c-dc7b-4937-9ead-348bc95649ab\" style=\"height: 525px; width: 100%;\" class=\"plotly-graph-div\"></div><script type=\"text/javascript\">require([\"plotly\"], function(Plotly) { window.PLOTLYENV=window.PLOTLYENV || {};window.PLOTLYENV.BASE_URL=\"https://plot.ly\";Plotly.newPlot(\"23ce662c-dc7b-4937-9ead-348bc95649ab\", [{\"type\": \"bar\", \"x\": [\"Constituent\", \"City Employee\", \"General\", \"Business\", \"Business Owner\", \"Red Light Ticket Recipient\", \"Property Owner\", \"Vehicle Owner\", \"Parking Ticket Recipient\", \"NA\", \"Motorist\", \"Consumer\", \"Automated Speed Enforcement Ticket Recipient\", \"tax collector\", \"Government Official\", \"Motorists\", \"Tax payer\", \"Retailer\", \"Drivers\", \"N/A - Rollup\"], \"y\": [79, 29, 22, 17, 17, 14, 14, 13, 13, 12, 12, 11, 11, 9, 9, 8, 8, 8, 7, 5], \"text\": [79, 29, 22, 17, 17, 14, 14, 13, 13, 12, 12, 11, 11, 9, 9, 8, 8, 8, 7, 5], \"textposition\": \"outside\", \"opacity\": 1}], {\"title\": \"<b>Dept. of Finance Persona Appearances</b><br>\", \"xaxis\": {\"title\": \"\", \"tickfont\": {\"size\": 11, \"color\": \"rgb(107, 107, 107)\"}}, \"yaxis\": {\"title\": \"\", \"titlefont\": {\"size\": 16, \"color\": \"rgb(107, 107, 107)\"}, \"tickfont\": {\"size\": 14, \"color\": \"rgb(107, 107, 107)\"}}}, {\"showLink\": true, \"linkText\": \"Export to plot.ly\"})});</script>"
      ],
      "text/vnd.plotly.v1+html": [
       "<div id=\"23ce662c-dc7b-4937-9ead-348bc95649ab\" style=\"height: 525px; width: 100%;\" class=\"plotly-graph-div\"></div><script type=\"text/javascript\">require([\"plotly\"], function(Plotly) { window.PLOTLYENV=window.PLOTLYENV || {};window.PLOTLYENV.BASE_URL=\"https://plot.ly\";Plotly.newPlot(\"23ce662c-dc7b-4937-9ead-348bc95649ab\", [{\"type\": \"bar\", \"x\": [\"Constituent\", \"City Employee\", \"General\", \"Business\", \"Business Owner\", \"Red Light Ticket Recipient\", \"Property Owner\", \"Vehicle Owner\", \"Parking Ticket Recipient\", \"NA\", \"Motorist\", \"Consumer\", \"Automated Speed Enforcement Ticket Recipient\", \"tax collector\", \"Government Official\", \"Motorists\", \"Tax payer\", \"Retailer\", \"Drivers\", \"N/A - Rollup\"], \"y\": [79, 29, 22, 17, 17, 14, 14, 13, 13, 12, 12, 11, 11, 9, 9, 8, 8, 8, 7, 5], \"text\": [79, 29, 22, 17, 17, 14, 14, 13, 13, 12, 12, 11, 11, 9, 9, 8, 8, 8, 7, 5], \"textposition\": \"outside\", \"opacity\": 1}], {\"title\": \"<b>Dept. of Finance Persona Appearances</b><br>\", \"xaxis\": {\"title\": \"\", \"tickfont\": {\"size\": 11, \"color\": \"rgb(107, 107, 107)\"}}, \"yaxis\": {\"title\": \"\", \"titlefont\": {\"size\": 16, \"color\": \"rgb(107, 107, 107)\"}, \"tickfont\": {\"size\": 14, \"color\": \"rgb(107, 107, 107)\"}}}, {\"showLink\": true, \"linkText\": \"Export to plot.ly\"})});</script>"
      ]
     },
     "metadata": {},
     "output_type": "display_data"
    },
    {
     "data": {
      "application/vnd.plotly.v1+json": {
       "data": [
        {
         "opacity": 1,
         "text": [
          126,
          101,
          84,
          45,
          31,
          9,
          8,
          5,
          4,
          4,
          4,
          3,
          3,
          3,
          3,
          3,
          2,
          2,
          2,
          2
         ],
         "textposition": "outside",
         "type": "bar",
         "x": [
          "Business Owner",
          "Constituent",
          "Consumer",
          "Bilingual Business Owner",
          "Potential Business Owner",
          "Tourist",
          "Visitor",
          "Business Owners",
          "Employer",
          "Shared Housing Unit Operator",
          "Short Term Rental Intermediary",
          "Employee",
          "Restaurant Owner",
          "Shared Housing Host",
          "City Resident",
          "Home Owner",
          "NA",
          "NBDC Special Advisor Applicant",
          "Tobacco Retailer",
          "Parent"
         ],
         "y": [
          126,
          101,
          84,
          45,
          31,
          9,
          8,
          5,
          4,
          4,
          4,
          3,
          3,
          3,
          3,
          3,
          2,
          2,
          2,
          2
         ]
        }
       ],
       "layout": {
        "title": "<b>Dept. of Business Affairs and Consumer<br>Protection Persona Appearances</b><br>",
        "xaxis": {
         "tickfont": {
          "color": "rgb(107, 107, 107)",
          "size": 11
         },
         "title": ""
        },
        "yaxis": {
         "tickfont": {
          "color": "rgb(107, 107, 107)",
          "size": 14
         },
         "title": "",
         "titlefont": {
          "color": "rgb(107, 107, 107)",
          "size": 16
         }
        }
       }
      },
      "text/html": [
       "<div id=\"166196fb-ca47-45a3-ac4a-e646908e0f65\" style=\"height: 525px; width: 100%;\" class=\"plotly-graph-div\"></div><script type=\"text/javascript\">require([\"plotly\"], function(Plotly) { window.PLOTLYENV=window.PLOTLYENV || {};window.PLOTLYENV.BASE_URL=\"https://plot.ly\";Plotly.newPlot(\"166196fb-ca47-45a3-ac4a-e646908e0f65\", [{\"type\": \"bar\", \"x\": [\"Business Owner\", \"Constituent\", \"Consumer\", \"Bilingual Business Owner\", \"Potential Business Owner\", \"Tourist\", \"Visitor\", \"Business Owners\", \"Employer\", \"Shared Housing Unit Operator\", \"Short Term Rental Intermediary\", \"Employee\", \"Restaurant Owner\", \"Shared Housing Host\", \"City Resident\", \"Home Owner\", \"NA\", \"NBDC Special Advisor Applicant\", \"Tobacco Retailer\", \"Parent\"], \"y\": [126, 101, 84, 45, 31, 9, 8, 5, 4, 4, 4, 3, 3, 3, 3, 3, 2, 2, 2, 2], \"text\": [126, 101, 84, 45, 31, 9, 8, 5, 4, 4, 4, 3, 3, 3, 3, 3, 2, 2, 2, 2], \"textposition\": \"outside\", \"opacity\": 1}], {\"title\": \"<b>Dept. of Business Affairs and Consumer<br>Protection Persona Appearances</b><br>\", \"xaxis\": {\"title\": \"\", \"tickfont\": {\"size\": 11, \"color\": \"rgb(107, 107, 107)\"}}, \"yaxis\": {\"title\": \"\", \"titlefont\": {\"size\": 16, \"color\": \"rgb(107, 107, 107)\"}, \"tickfont\": {\"size\": 14, \"color\": \"rgb(107, 107, 107)\"}}}, {\"showLink\": true, \"linkText\": \"Export to plot.ly\"})});</script>"
      ],
      "text/vnd.plotly.v1+html": [
       "<div id=\"166196fb-ca47-45a3-ac4a-e646908e0f65\" style=\"height: 525px; width: 100%;\" class=\"plotly-graph-div\"></div><script type=\"text/javascript\">require([\"plotly\"], function(Plotly) { window.PLOTLYENV=window.PLOTLYENV || {};window.PLOTLYENV.BASE_URL=\"https://plot.ly\";Plotly.newPlot(\"166196fb-ca47-45a3-ac4a-e646908e0f65\", [{\"type\": \"bar\", \"x\": [\"Business Owner\", \"Constituent\", \"Consumer\", \"Bilingual Business Owner\", \"Potential Business Owner\", \"Tourist\", \"Visitor\", \"Business Owners\", \"Employer\", \"Shared Housing Unit Operator\", \"Short Term Rental Intermediary\", \"Employee\", \"Restaurant Owner\", \"Shared Housing Host\", \"City Resident\", \"Home Owner\", \"NA\", \"NBDC Special Advisor Applicant\", \"Tobacco Retailer\", \"Parent\"], \"y\": [126, 101, 84, 45, 31, 9, 8, 5, 4, 4, 4, 3, 3, 3, 3, 3, 2, 2, 2, 2], \"text\": [126, 101, 84, 45, 31, 9, 8, 5, 4, 4, 4, 3, 3, 3, 3, 3, 2, 2, 2, 2], \"textposition\": \"outside\", \"opacity\": 1}], {\"title\": \"<b>Dept. of Business Affairs and Consumer<br>Protection Persona Appearances</b><br>\", \"xaxis\": {\"title\": \"\", \"tickfont\": {\"size\": 11, \"color\": \"rgb(107, 107, 107)\"}}, \"yaxis\": {\"title\": \"\", \"titlefont\": {\"size\": 16, \"color\": \"rgb(107, 107, 107)\"}, \"tickfont\": {\"size\": 14, \"color\": \"rgb(107, 107, 107)\"}}}, {\"showLink\": true, \"linkText\": \"Export to plot.ly\"})});</script>"
      ]
     },
     "metadata": {},
     "output_type": "display_data"
    }
   ],
   "source": [
    "f_list = list(f_personas.items())\n",
    "b_list = list(b_personas.items())\n",
    "f_list.sort(key=lambda x: x[1])\n",
    "f_list = f_list[::-1]\n",
    "b_list.sort(key=lambda x: x[1])\n",
    "b_list = b_list[::-1]\n",
    "f_persona_list = [x for x,y in f_list]\n",
    "f_count_list = [y for x,y in f_list]\n",
    "b_persona_list = [x for x,y in b_list]\n",
    "b_count_list = [y for x,y in b_list]\n",
    "bar_chart(f_persona_list[:20],f_count_list[:20],\"Dept. of Finance Persona Appearances\",xsize=11)\n",
    "bar_chart(b_persona_list[:20],b_count_list[:20],\"Dept. of Business Affairs and Consumer<br>Protection Persona Appearances\",xsize=11)"
   ]
  },
  {
   "cell_type": "code",
   "execution_count": null,
   "metadata": {},
   "outputs": [],
   "source": []
  },
  {
   "cell_type": "code",
   "execution_count": null,
   "metadata": {},
   "outputs": [],
   "source": []
  },
  {
   "cell_type": "code",
   "execution_count": null,
   "metadata": {},
   "outputs": [],
   "source": []
  },
  {
   "cell_type": "code",
   "execution_count": null,
   "metadata": {
    "collapsed": true
   },
   "outputs": [],
   "source": []
  },
  {
   "cell_type": "code",
   "execution_count": null,
   "metadata": {
    "collapsed": true
   },
   "outputs": [],
   "source": []
  }
 ],
 "metadata": {
  "kernelspec": {
   "display_name": "Python 3",
   "language": "python",
   "name": "python3"
  },
  "language_info": {
   "codemirror_mode": {
    "name": "ipython",
    "version": 3
   },
   "file_extension": ".py",
   "mimetype": "text/x-python",
   "name": "python",
   "nbconvert_exporter": "python",
   "pygments_lexer": "ipython3",
   "version": "3.6.3"
  }
 },
 "nbformat": 4,
 "nbformat_minor": 2
}
